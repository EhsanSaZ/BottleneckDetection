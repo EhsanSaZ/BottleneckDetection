{
 "cells": [
  {
   "cell_type": "code",
   "execution_count": 33,
   "metadata": {
    "collapsed": true
   },
   "outputs": [],
   "source": [
    "import sys\n",
    "import time\n",
    "\n",
    "if not sys.warnoptions:\n",
    "    import warnings\n",
    "    warnings.simplefilter(\"ignore\")\n",
    "import pandas as pd\n",
    "import numpy as np\n",
    "from sklearn.ensemble import RandomForestClassifier\n",
    "from imblearn.under_sampling import RandomUnderSampler\n",
    "from imblearn.over_sampling import RandomOverSampler\n",
    "from sklearn.model_selection import train_test_split\n",
    "from sklearn import metrics\n",
    "from sklearn.metrics import ConfusionMatrixDisplay\n",
    "# import seaborn as sns\n",
    "# sns.set()\n",
    "from sklearn import tree\n",
    "from collections import Counter\n",
    "import matplotlib.pyplot as plt\n",
    "from sklearn.pipeline import make_pipeline\n",
    "from sklearn.preprocessing import StandardScaler, MinMaxScaler, PowerTransformer\n",
    "from sklearn.model_selection import cross_val_score\n",
    "from sklearn.tree import DecisionTreeClassifier\n",
    "from sklearn import svm\n",
    "from sklearn.neural_network import MLPClassifier\n",
    "from sklearn.neighbors import KNeighborsClassifier\n",
    "from xgboost import XGBClassifier\n",
    "import seaborn as sns\n",
    "from fuzzytree import FuzzyDecisionTreeClassifier"
   ]
  },
  {
   "cell_type": "code",
   "execution_count": 34,
   "metadata": {
    "pycharm": {
     "name": "#%%\n"
    }
   },
   "outputs": [],
   "source": [
    "filenames = {\n",
    "    \"emulab_hdd_merged\": \"emulab_d460_10Gbps_hdd_merged_V2.csv\",\n",
    "    \"emulab_hdd_unmerged\": \"emulab_d460_10Gbps_hdd_unmerged_V2.csv\",\n",
    "\n",
    "    \"utah_ssd_merged\": \"utah_c6525-25g_25Gbps_ssd_merged_V2.csv\",\n",
    "    \"utah_ssd_unmerged\": \"utah_c6525-25g_25Gbps_ssd_unmerged_V2.csv\",\n",
    "\n",
    "    \"wisconsin_ssd_merged\": \"wisconsin_c220g1-10Gbps_ssd_merged_V2.csv\",\n",
    "    \"wisconsin_ssd_unmerged\": \"wisconsin_c220g1-10Gbps_ssd_unmerged_V2.csv\",\n",
    "\n",
    "    \"utah_ssd_merged_1g\": \"utah_c6525-25g_1Gbps_ssd_merged_V2.csv\",\n",
    "    \"utah_ssd_unmerged_1g\": \"utah_c6525-25g_1Gbps_ssd_unmerged_V2.csv\",\n",
    "\n",
    "    \"wisconsin_hdd_ssd_merged\": \"wisconsin_c220g1-10Gbps_hdd_ssd_merged_V2.csv\",\n",
    "    \"wisconsin_hdd-ssd_unmerged\": \"wisconsin_c220g1-10Gbps_hdd_ssd_unmerged_V2.csv\",\n",
    "\n",
    "    \"utah_22_unmerged\": \"22_utah_c6525-25g_25Gbps_ssd_merged_V2.csv\",\n",
    "    \"utah_22_merged\": \"22_utah_c6525-25g_25Gbps_ssd_unmerged_V2.csv\"\n",
    "\n",
    "}"
   ]
  },
  {
   "cell_type": "code",
   "execution_count": 35,
   "metadata": {
    "pycharm": {
     "name": "#%%\n"
    }
   },
   "outputs": [],
   "source": [
    "utah_ssd_merged = pd.read_csv(filenames.get('utah_ssd_merged')).drop(['time_stamp', 'through_put'], axis=1)\n",
    "utah_ssd_merged_1g = pd.read_csv(filenames.get('utah_ssd_merged_1g')).drop(['time_stamp', 'through_put'], axis=1)\n",
    "utah_22_merged = pd.read_csv(filenames.get('utah_22_merged')).drop(['time_stamp', 'through_put'], axis=1)\n",
    "emulab_hdd_merged = pd.read_csv(filenames.get('emulab_hdd_merged')).drop(['time_stamp', 'through_put'], axis=1)\n",
    "wisconsin_ssd_merged = pd.read_csv(filenames.get('wisconsin_ssd_merged')).drop(['time_stamp', 'through_put'], axis=1)\n",
    "wisconsin_ssd_unmerged = pd.read_csv(filenames.get('wisconsin_ssd_unmerged')).drop(['time_stamp', 'through_put'], axis=1)\n",
    "wisconsin_hdd_ssd_merged = pd.read_csv(filenames.get('wisconsin_hdd_ssd_merged')).drop(['time_stamp', 'through_put'], axis=1)\n",
    "utah_ssd_merged_1g = pd.read_csv(filenames.get('utah_ssd_merged_1g')).drop(['time_stamp', 'through_put'], axis=1)"
   ]
  },
  {
   "cell_type": "code",
   "execution_count": null,
   "metadata": {
    "pycharm": {
     "name": "#%%\n"
    }
   },
   "outputs": [],
   "source": [
    "# features = ['sender_avg_rtt_value', 'sender_cwnd_rate', 'sender_retrans', 'sender_ssthresh_value', 'sender_segs_in', 'sender_avg_send_value', 'sender_tcp_snd_buffer_min', 'sender_tcp_snd_buffer_max', 'sender_req_active', 'sender_write_bytes', 'sender_avg_waittime_md', 'sender_system_cpu_percent', 'sender_remote_ost_write_bytes', 'receiver_seg_out', 'receiver_segs_in', 'receiver_req_waittime', 'receiver_req_active', 'receiver_write_bytes', 'receiver_ost_write', 'receiver_avg_waittime_md', 'receiver_system_cpu_percent', 'receiver_system_memory_percent', 'receiver_remote_ost_read_bytes', 'receiver_remote_ost_write_bytes']\n",
    "#*\n",
    "# features = ['sender_avg_rtt_value', 'sender_retrans','sender_segs_in', 'sender_seg_out', 'sender_req_waittime', 'sender_read_bytes', 'sender_write_bytes', 'sender_avg_waittime_md', 'sender_ost_read' , 'sender_ost_write','sender_remote_ost_read_bytes', 'sender_remote_ost_write_bytes','receiver_segs_in','receiver_seg_out', 'receiver_req_waittime', 'receiver_read_bytes', 'receiver_write_bytes', 'receiver_ost_read', 'receiver_ost_write', 'receiver_avg_waittime_md', 'receiver_remote_ost_read_bytes', 'receiver_remote_ost_write_bytes']\n",
    "\n",
    "# features = ['sender_avg_rtt_value', 'sender_cwnd_rate', 'sender_retrans', 'sender_ssthresh_value', 'sender_segs_in', 'sender_req_active', 'sender_write_bytes', 'sender_remote_ost_write_bytes',\n",
    "#             'receiver_seg_out', 'receiver_segs_in', 'receiver_req_waittime', 'receiver_req_active', 'receiver_write_bytes', 'receiver_ost_write' , 'receiver_remote_ost_read_bytes', 'receiver_remote_ost_write_bytes']\n",
    "\n",
    "# features = ['sender_seg_out', \"sender_retrans\", 'sender_avg_waittime_md', 'receiver_segs_in', 'receiver_avg_waittime_md' ,'receiver_write_bytes',]\n",
    "\n",
    "# features =['sender_avg_rtt_value', 'sender_cwnd_rate', 'sender_seg_out', 'sender_ssthresh_value', 'sender_segs_in', 'sender_avg_send_value', 'sender_vsize', 'sender_rss', 'sender_mem_usage_percentage', 'sender_avg_waittime_md', 'sender_system_cpu_percent', 'receiver_seg_out', 'receiver_segs_in', 'receiver_read_bytes_io', 'receiver_vsize', 'receiver_rss', 'receiver_mem_usage_percentage', 'receiver_req_active', 'receiver_avg_waittime_md', 'receiver_system_cpu_percent']\n",
    "\n",
    "# features = ['sender_avg_rtt_value', 'sender_pacing_rate', 'sender_cwnd_rate', 'sender_byte_ack', 'sender_seg_out', 'sender_retrans', 'sender_ssthresh_value', 'sender_segs_in', 'sender_avg_send_value', 'sender_unacked_value', 'sender_send_buffer_value', 'sender_cpu_usage_percentage', 'sender_tcp_snd_buffer_min', 'sender_tcp_snd_buffer_max', 'sender_req_waittime', 'sender_req_active', 'sender_read_bytes', 'sender_write_bytes', 'sender_ost_read', 'sender_ost_write', 'sender_pending_read_pages', 'sender_read_RPCs_in_flight', 'sender_avg_waittime_md', 'sender_system_cpu_percent', 'sender_system_memory_percent', 'sender_remote_ost_read_bytes', 'sender_remote_ost_write_bytes', 'receiver_avg_retransmission_timeout_value', 'receiver_seg_out', 'receiver_segs_in', 'receiver_wchar', 'receiver_syscw', 'receiver_read_bytes_io', 'receiver_cpu_usage_percentage', 'receiver_req_waittime', 'receiver_req_active', 'receiver_read_bytes', 'receiver_write_bytes', 'receiver_ost_read', 'receiver_ost_write', 'receiver_pending_read_pages', 'receiver_read_RPCs_in_flight', 'receiver_avg_waittime_md', 'receiver_req_waittime_md', 'receiver_system_cpu_percent', 'receiver_system_memory_percent', 'receiver_remote_ost_read_bytes', 'receiver_remote_ost_write_bytes']\n",
    "\n",
    "#19 features\n",
    "# features = ['sender_seg_out', 'sender_segs_in', 'sender_avg_send_value', 'sender_send_buffer_value', 'sender_tcp_snd_buffer_min', 'sender_tcp_snd_buffer_max', 'sender_req_active', 'sender_read_bytes', 'sender_ost_read', 'sender_remote_ost_read_bytes', 'sender_remote_ost_write_bytes', 'receiver_seg_out', 'receiver_segs_in', 'receiver_read_bytes_io', 'receiver_req_active', 'receiver_write_bytes', 'receiver_ost_write', 'receiver_remote_ost_read_bytes', 'receiver_remote_ost_write_bytes']\n",
    "\n",
    "# 14 features\n",
    "# features = ['sender_seg_out', 'sender_avg_send_value', 'sender_tcp_snd_buffer_max', 'sender_read_bytes', 'sender_ost_read', 'sender_remote_ost_read_bytes', 'sender_remote_ost_write_bytes', 'receiver_seg_out', 'receiver_segs_in', 'receiver_read_bytes_io', 'receiver_write_bytes', 'receiver_ost_write', 'receiver_remote_ost_read_bytes', 'receiver_remote_ost_write_bytes']\n",
    "\n",
    "# features = ['sender_seg_out', 'sender_avg_send_value', 'sender_tcp_snd_buffer_max', 'sender_read_bytes', 'sender_ost_read', 'sender_remote_ost_read_bytes', 'sender_remote_ost_write_bytes', 'receiver_write_bytes', 'receiver_ost_write', 'receiver_remote_ost_read_bytes', 'receiver_remote_ost_write_bytes']\n",
    "\n",
    "# # #16 features\n",
    "# features = ['sender_seg_out', 'sender_avg_send_value', 'sender_read_bytes_io', 'sender_write_bytes_io', 'sender_ost_read', 'sender_ost_write', 'sender_pending_read_pages', 'sender_read_RPCs_in_flight', 'sender_remote_ost_read_bytes', 'sender_remote_ost_write_bytes', 'receiver_segs_in', 'receiver_write_bytes_io', 'receiver_ost_write', 'receiver_remote_ost_read_bytes', 'receiver_remote_ost_write_bytes', 'sender_read_bytes', 'receiver_write_bytes'] #, 'sender_read_bytes', 'receiver_write_bytes', sender_tcp_snd_buffer_max\n",
    "\n",
    "# features = ['sender_seg_out', 'sender_avg_send_value', 'sender_read_bytes_io', 'sender_write_bytes_io', 'sender_ost_read', 'sender_ost_write', 'sender_pending_read_pages', 'sender_read_RPCs_in_flight', 'sender_remote_ost_read_bytes', 'sender_remote_ost_write_bytes', 'receiver_segs_in', 'receiver_write_bytes_io', 'receiver_ost_write', 'receiver_remote_ost_read_bytes', 'receiver_remote_ost_write_bytes', 'sender_read_bytes', 'receiver_write_bytes']\n",
    "\n",
    "# features = ['sender_seg_out', 'sender_avg_send_value', 'sender_read_bytes_io', 'sender_write_bytes_io', 'sender_ost_read', 'sender_ost_write', 'sender_remote_ost_read_bytes', 'sender_remote_ost_write_bytes', 'receiver_segs_in', 'receiver_write_bytes_io', 'receiver_ost_write', 'receiver_remote_ost_read_bytes', 'receiver_remote_ost_write_bytes', 'sender_read_bytes', 'receiver_write_bytes',\n",
    "#                 'sender_pending_read_pages', 'sender_read_RPCs_in_flight',\n",
    "#                 'sender_send_buffer_value', 'sender_req_active', 'receiver_req_active',\n",
    "#                 #'sender_segs_in',\n",
    "#                 'sender_retrans', 'sender_cwnd_rate']\n",
    "\n",
    "# features = ['sender_seg_out', 'sender_avg_send_value', 'sender_read_bytes_io', 'sender_write_bytes_io', 'sender_ost_read', 'sender_ost_write', 'sender_remote_ost_read_bytes', 'sender_remote_ost_write_bytes', 'receiver_write_bytes_io', 'receiver_ost_write', 'receiver_remote_ost_read_bytes', 'receiver_remote_ost_write_bytes', 'sender_read_bytes', 'receiver_write_bytes',\n",
    "#                 'receiver_segs_in',\n",
    "#                 'sender_pending_read_pages', 'sender_read_RPCs_in_flight',\n",
    "#                 'sender_send_buffer_value', 'sender_req_active', 'receiver_req_active',\n",
    "#                 #'sender_segs_in',\n",
    "#                 'sender_retrans', 'sender_cwnd_rate',\n",
    "#                 'receiver_tcp_rcv_buffer_max',\n",
    "#                 # 'sender_tcp_snd_buffer_max',\n",
    "#                 #'sender_tcp_snd_buffer_min'\n",
    "#                 ]\n",
    "\n",
    "features = ['sender_seg_out', 'sender_avg_send_value', 'sender_read_bytes_io', 'sender_write_bytes_io', 'sender_ost_read', 'sender_ost_write', 'sender_remote_ost_read_bytes', 'sender_remote_ost_write_bytes', 'receiver_write_bytes_io', 'receiver_ost_write', 'receiver_remote_ost_read_bytes', 'receiver_remote_ost_write_bytes', 'sender_read_bytes', 'receiver_write_bytes',\n",
    "                'receiver_segs_in',\n",
    "                'sender_pending_read_pages', 'sender_read_RPCs_in_flight',\n",
    "                'sender_send_buffer_value', 'sender_req_active', 'receiver_req_active',\n",
    "                #'sender_segs_in',\n",
    "                'sender_retrans', 'sender_cwnd_rate',\n",
    "                'receiver_tcp_rcv_buffer_max',\n",
    "                #------------\n",
    "                #'sender_tcp_snd_buffer_max',\n",
    "                #'sender_tcp_snd_buffer_min',\n",
    "                'receiver_read_bytes_io',\n",
    "                'receiver_ost_read',\n",
    "\n",
    "                # 'sender_write_bytes',\n",
    "                # 'receiver_read_bytes',\n",
    "                ]"
   ]
  },
  {
   "cell_type": "code",
   "execution_count": null,
   "outputs": [],
   "source": [
    "#[ 'sender_tcp_snd_buffer_max','receiver_seg_out', 'receiver_read_bytes_io'] # 'sender_req_active', 'sender_segs_in', 'sender_send_buffer_value', 'sender_tcp_snd_buffer_min', 'receiver_req_active'\n",
    " ['sender_tcp_snd_buffer_max', 'sender_pending_read_pages', 'sender_read_RPCs_in_flight']"
   ],
   "metadata": {
    "collapsed": false,
    "pycharm": {
     "name": "#%%\n"
    }
   }
  },
  {
   "cell_type": "code",
   "execution_count": 32,
   "outputs": [
    {
     "name": "stdout",
     "output_type": "stream",
     "text": [
      "{109: 82, 110: 83, 111: 84, 112: 85, 113: 86, 114: 87, 115: 88, 116: 89, 117: 90, 118: 91, 119: 92, 120: 93, 121: 94, 122: 95, 123: 96, 124: 97, 125: 98, 126: 99, 127: 100, 128: 101, 129: 102, 130: 103, 131: 104, 132: 105, 133: 106, 134: 107, 135: 108, 136: 109, 137: 110, 138: 111, 139: 112, 140: 113, 141: 114, 142: 115, 143: 116, 144: 117, 145: 118, 146: 119, 147: 120, 148: 121, 149: 122, 150: 123, 151: 124, 152: 125, 153: 126, 154: 127, 155: 128, 156: 129, 157: 130, 158: 131, 159: 132, 160: 133}\n"
     ]
    }
   ],
   "source": [
    "##[ 91, 100, 46]\n",
    "d = {}\n",
    "for i in range(109,161):\n",
    "    d[i]=i-27\n",
    "print(d)"
   ],
   "metadata": {
    "collapsed": false,
    "pycharm": {
     "name": "#%%\n"
    }
   }
  },
  {
   "cell_type": "code",
   "execution_count": 58,
   "outputs": [
    {
     "name": "stdout",
     "output_type": "stream",
     "text": [
      "dict_keys([4194304, 8192, 4096, 2048, 2097152, 524288, 1048576])\n"
     ]
    }
   ],
   "source": [
    "utah_ssd_unmerged = pd.read_csv(filenames.get('utah_ssd_unmerged'))\n",
    "feature = 'sender_tcp_snd_buffer_max'\n",
    "# feature = 'receiver_tcp_rcv_buffer_max'\n",
    "# print(Counter(emulab_hdd_merged[feature]).keys())\n",
    "print(Counter(utah_ssd_unmerged[feature]).keys())\n",
    "# print(Counter(wisconsin_ssd_merged[feature]).keys())\n",
    "# print(Counter(utah_ssd_merged_1g[feature]).keys())\n",
    "# print(Counter(wisconsin_hdd_ssd_merged[feature]).keys())\n",
    "# utah_ssd_merged_1g['sender_avg_rtt_value'] * ( 1 * 1000000)"
   ],
   "metadata": {
    "collapsed": false,
    "pycharm": {
     "name": "#%%\n"
    }
   }
  },
  {
   "cell_type": "code",
   "execution_count": 75,
   "outputs": [
    {
     "name": "stdout",
     "output_type": "stream",
     "text": [
      "3.320449953550821\n"
     ]
    },
    {
     "data": {
      "text/plain": "       sender_tcp_snd_buffer_max  through_put\n24860                       2048     1.270772\n24861                       2048     2.350014\n24862                       2048     1.977701\n24863                       2048     2.882284\n24864                       2048     3.935919\n...                          ...          ...\n25037                       2048     4.084983\n25038                       2048     4.059717\n25039                       2048     3.813379\n25040                       2048     4.019482\n25041                       2048     4.269639\n\n[182 rows x 2 columns]",
      "text/html": "<div>\n<style scoped>\n    .dataframe tbody tr th:only-of-type {\n        vertical-align: middle;\n    }\n\n    .dataframe tbody tr th {\n        vertical-align: top;\n    }\n\n    .dataframe thead th {\n        text-align: right;\n    }\n</style>\n<table border=\"1\" class=\"dataframe\">\n  <thead>\n    <tr style=\"text-align: right;\">\n      <th></th>\n      <th>sender_tcp_snd_buffer_max</th>\n      <th>through_put</th>\n    </tr>\n  </thead>\n  <tbody>\n    <tr>\n      <th>24860</th>\n      <td>2048</td>\n      <td>1.270772</td>\n    </tr>\n    <tr>\n      <th>24861</th>\n      <td>2048</td>\n      <td>2.350014</td>\n    </tr>\n    <tr>\n      <th>24862</th>\n      <td>2048</td>\n      <td>1.977701</td>\n    </tr>\n    <tr>\n      <th>24863</th>\n      <td>2048</td>\n      <td>2.882284</td>\n    </tr>\n    <tr>\n      <th>24864</th>\n      <td>2048</td>\n      <td>3.935919</td>\n    </tr>\n    <tr>\n      <th>...</th>\n      <td>...</td>\n      <td>...</td>\n    </tr>\n    <tr>\n      <th>25037</th>\n      <td>2048</td>\n      <td>4.084983</td>\n    </tr>\n    <tr>\n      <th>25038</th>\n      <td>2048</td>\n      <td>4.059717</td>\n    </tr>\n    <tr>\n      <th>25039</th>\n      <td>2048</td>\n      <td>3.813379</td>\n    </tr>\n    <tr>\n      <th>25040</th>\n      <td>2048</td>\n      <td>4.019482</td>\n    </tr>\n    <tr>\n      <th>25041</th>\n      <td>2048</td>\n      <td>4.269639</td>\n    </tr>\n  </tbody>\n</table>\n<p>182 rows × 2 columns</p>\n</div>"
     },
     "execution_count": 75,
     "metadata": {},
     "output_type": "execute_result"
    }
   ],
   "source": [
    "feature = 'sender_tcp_snd_buffer_max'\n",
    "label = 150\n",
    "print(utah_ssd_unmerged[utah_ssd_unmerged.label_value==label].through_put.mean())\n",
    "utah_ssd_unmerged[utah_ssd_unmerged.label_value==label][['sender_tcp_snd_buffer_max', 'through_put']]"
   ],
   "metadata": {
    "collapsed": false,
    "pycharm": {
     "name": "#%%\n"
    }
   }
  },
  {
   "cell_type": "code",
   "execution_count": 51,
   "outputs": [
    {
     "data": {
      "text/plain": "0.8386956521739131"
     },
     "execution_count": 51,
     "metadata": {},
     "output_type": "execute_result"
    }
   ],
   "source": [
    "# emulab_hdd_merged.drop(columns=['label_value'])\n",
    "# emulab_hdd_merged.sender_seg_out\n",
    "emulab_hdd_merged.loc[emulab_hdd_merged.sender_seg_out==0, 'sender_seg_out']= 1\n",
    "emulab_hdd_merged.sender_seg_out\n",
    "emulab_hdd_merged[emulab_hdd_merged.label_value ==0]['sender_avg_rtt_value'].mean()\n",
    "\n",
    "#np.round(emulab_hdd_merged[emulab_hdd_merged.label_value ==0]['sender_avg_rtt_value'].mean(), 2)\n",
    "#10 * (10 ** 9) * 0.84 * (10** -3) / 8"
   ],
   "metadata": {
    "collapsed": false,
    "pycharm": {
     "name": "#%%\n"
    }
   }
  },
  {
   "cell_type": "code",
   "execution_count": null,
   "outputs": [],
   "source": [
    "# 142\n",
    "emulab_hdd_merged.receiver_tcp_rcv_buffer_max\n",
    "emulab_hdd_merged.groupby('label_value').sender_tcp_snd_buffer_max.mean()\n",
    "# emulab_hdd_merged.receiver_send_buffer_value\n",
    "# emulab_hdd_merged[\"sender_segs_in\"] = emulab_hdd_merged.sender_segs_in / emulab_hdd_merged[emulab_hdd_merged.label_value == 0].receiver_seg_out.mean()\n",
    "# emulab_hdd_merged.sender_segs_in.mean()\n",
    "# emulab_hdd_merged[\"sender_retrans\"] = emulab_hdd_merged.sender_retrans / emulab_hdd_merged.sender_seg_out\n",
    "# emulab_hdd_merged.sender_retrans.mean()\n",
    "# emulab_hdd_merged[\"sender_send_buffer_value\"] = emulab_hdd_merged[\"sender_send_buffer_value\"] / emulab_hdd_merged[emulab_hdd_merged.label_value == 0].sender_send_buffer_value.mean()\n",
    "# emulab_hdd_merged[emulab_hdd_merged.label_value == 0].sender_ost_read\n",
    "# print(emulab_hdd_merged[['sender_ssthresh_value','sender_cwnd_rate']])\n",
    "# print(emulab_hdd_merged.sender_ssthresh_value / emulab_hdd_merged.sender_cwnd_rate)"
   ],
   "metadata": {
    "collapsed": false,
    "pycharm": {
     "name": "#%%\n"
    }
   }
  },
  {
   "cell_type": "code",
   "execution_count": null,
   "outputs": [],
   "source": [
    "# wisconsin_ssd_merged.receiver_write_bytes.mean()/410\n",
    "wisconsin_ssd_merged[\"sender_segs_in\"] = wisconsin_ssd_merged.sender_segs_in / wisconsin_ssd_merged[wisconsin_ssd_merged.label_value == 0].receiver_seg_out.mean()\n",
    "wisconsin_ssd_merged.sender_segs_in.mean()\n",
    "# wisconsin_ssd_merged[\"sender_retrans\"] = wisconsin_ssd_merged[\"sender_retrans\"] / wisconsin_ssd_merged[wisconsin_ssd_merged.label_value == 0].sender_retrans.mean()\n",
    "# wisconsin_ssd_merged[\"sender_retrans\"] = wisconsin_ssd_merged.sender_retrans / wisconsin_ssd_merged.sender_seg_out\n",
    "# utah_ssd_merged_1g.groupby('label_value').sender_retrans.mean()\n",
    "# wisconsin_ssd_merged.sender_retrans.mean()\n",
    "\n",
    "\n",
    "# wisconsin_ssd_merged[\"sender_send_buffer_value\"] = wisconsin_ssd_merged[\"sender_send_buffer_value\"] / wisconsin_ssd_merged[wisconsin_ssd_merged.label_value == 0].sender_send_buffer_value.mean()"
   ],
   "metadata": {
    "collapsed": false,
    "pycharm": {
     "name": "#%%\n"
    }
   }
  },
  {
   "cell_type": "code",
   "execution_count": null,
   "outputs": [],
   "source": [
    "# df1 =\n",
    "df1 = wisconsin_ssd_merged.copy()\n",
    "df2 = emulab_hdd_merged.copy()\n",
    "feature_name = 'sender_seg_out'\n",
    "\n",
    "# print(df1.receiver_remote_ost_read_bytes.describe().mean)\n",
    "# print(df2.receiver_remote_ost_read_bytes.describe())\n",
    "print(df1[feature_name].mean()/df2[feature_name].mean())\n",
    "\n",
    "df1 = normalize_df(df1)\n",
    "df2 = normalize_df(df2)\n",
    "\n",
    "# print(df1.receiver_remote_ost_read_bytes.describe().mean)\n",
    "# print(df2.receiver_remote_ost_read_bytes.describe())\n",
    "print(df1[feature_name].mean()/df2[feature_name].mean())\n"
   ],
   "metadata": {
    "collapsed": false,
    "pycharm": {
     "name": "#%%\n"
    }
   }
  },
  {
   "cell_type": "code",
   "execution_count": null,
   "outputs": [],
   "source": [
    "def normalize_df(df):\n",
    "    df['sender_retrans'] = df['sender_retrans'] / df[df.label_value == 0].sender_seg_out.mean()\n",
    "    # TODO: CORRECT THIS\n",
    "    # df[\"sender_remote_ost_write_bytes\"] = df[\"sender_remote_ost_write_bytes\"] / df[df.label_value == 0].receiver_remote_ost_write_bytes.mean()\n",
    "    # TODO: CORRECT THIS\n",
    "    # df[\"receiver_remote_ost_read_bytes\"] = df[\"receiver_remote_ost_read_bytes\"] / df[df.label_value == 0].sender_remote_ost_read_bytes.mean()\n",
    "    # TODO CORRECT THIS\n",
    "    # df[\"sender_ost_write\"] = df[\"sender_ost_write\"] / df[df.label_value == 0].receiver_ost_write.mean()\n",
    "\n",
    "\n",
    "    df[\"sender_seg_out\"] = df[\"sender_seg_out\"] / df[df.label_value == 0].sender_seg_out.mean()\n",
    "    # df[\"sender_avg_send_value\"] = df[\"sender_avg_send_value\"] / df[df.label_value == 0].sender_avg_send_value.mean()\n",
    "    # df[\"sender_ost_read\"] = df[\"sender_ost_read\"] / df[df.label_value == 0].sender_ost_read.mean()\n",
    "    df[\"sender_read_bytes\"] = df[\"sender_read_bytes\"] / df[df.label_value == 0].sender_read_bytes.mean()\n",
    "    df[\"sender_remote_ost_read_bytes\"] =df[\"sender_remote_ost_read_bytes\"] / df[df.label_value == 0].sender_remote_ost_read_bytes.mean()\n",
    "    df[\"receiver_segs_in\"] = df[\"receiver_segs_in\"] / df[df.label_value == 0].receiver_segs_in.mean()\n",
    "    df[\"receiver_write_bytes\"] = df[\"receiver_write_bytes\"] / df[df.label_value == 0].receiver_write_bytes.mean()\n",
    "    # df[\"receiver_ost_write\"] = df[\"receiver_ost_write\"] / df[df.label_value == 0].receiver_ost_write.mean()\n",
    "    df[\"receiver_remote_ost_write_bytes\"] = df[\"receiver_remote_ost_write_bytes\"] / df[df.label_value == 0].receiver_remote_ost_write_bytes.mean()\n",
    "\n",
    "    # df[\"sender_write_bytes_io\"] = df[\"sender_write_bytes_io\"] / df[df.label_value == 0].sender_write_bytes_io.mean()\n",
    "    # df[\"sender_read_bytes_io\"] = df[\"sender_read_bytes_io\"] / df[df.label_value == 0].sender_read_bytes_io.mean()\n",
    "    # df[\"receiver_write_bytes_io\"] = df[\"receiver_write_bytes_io\"] / df[df.label_value == 0].receiver_write_bytes_io.mean()\n",
    "\n",
    "    # df[\"sender_ssthresh_value\"] = df.sender_ssthresh_value / df.sender_cwnd_rate\n",
    "    # df['sender_retrans'] = df['sender_retrans'] / df[df.label_value == 0].sender_seg_out.mean()\n",
    "\n",
    "    return df\n",
    "\n"
   ],
   "metadata": {
    "collapsed": false,
    "pycharm": {
     "name": "#%%\n"
    }
   }
  },
  {
   "cell_type": "code",
   "execution_count": null,
   "outputs": [],
   "source": [
    "def remove_labels_in_df(df, labels_values):\n",
    "    for lbl in labels_values:\n",
    "        df = df.drop(df[df.label_value == lbl].index)\n",
    "    return df"
   ],
   "metadata": {
    "collapsed": false,
    "pycharm": {
     "name": "#%%\n"
    }
   }
  },
  {
   "cell_type": "code",
   "execution_count": null,
   "metadata": {
    "pycharm": {
     "name": "#%%\n"
    }
   },
   "outputs": [],
   "source": [
    "# df = emulab_hdd_merged.copy()\n",
    "# df = wisconsin_ssd_merged.copy()\n",
    "# df = wisconsin_ssd_unmerged.copy()\n",
    "df = utah_ssd_merged_1g.copy()\n",
    "remove_labels = [ 91, 100, 46] #[]#[ 91, 100, 46]\n",
    "df = remove_labels_in_df(df, remove_labels)\n",
    "df = normalize_df(df)\n",
    "df = grouped_to_5_cat(df,161)\n",
    "# # df = utah_ssd_merged.copy()\n",
    "# df = wisconsin_ssd_unmerged.copy()\n",
    "# print(df.groupby('label_value').size())\n",
    "# print(df.shape)\n",
    "# df.loc[df.label_value != 0, \"label_value\"] = 1\n",
    "test_df = df.groupby('label_value').sample(0)\n",
    "# test_df = df.loc[df['label_value']==0].sample(75)\n",
    "# print(test_df.groupby('label_value').size())\n",
    "# print(test_df.shape)\n",
    "# test_df\n",
    "\n",
    "# train_df = df.drop(test_df.index)\n",
    "\n",
    "train_df = df\n",
    "# print(train_df.shape)\n",
    "\n",
    "y = train_df.label_value\n",
    "X = train_df[features] #.drop(columns=[\"label_value\", \"receiver_avg_waittime_md\", \"sender_avg_waittime_md\", \"sender_req_waittime\", \"sender_system_cpu_percent\", \"sender_cpu_usage_percentage\", \"sender_system_memory_percent\",\"receiver_cpu_usage_percentage\", \"receiver_req_waittime\", \"receiver_system_cpu_percent\", \"receiver_system_memory_percent\",'sender_avg_rtt_value', 'sender_cwnd_rate', 'sender_byte_ack', 'sender_retrans', 'sender_ssthresh_value','sender_pacing_rate', 'sender_avg_retransmission_timeout_value', 'sender_unacked_value', 'receiver_syscw', 'receiver_req_waittime_md', 'receiver_avg_retransmission_timeout_value', 'sender_segs_in', 'sender_tcp_snd_buffer_min','receiver_seg_out', 'receiver_read_bytes_io', 'sender_send_buffer_value','sender_req_active','sender_mem_usage_percentage','sender_req_waittime_md', 'sender_mds_close_md', 'receiver_req_active', 'receiver_mds_close_md', 'sender_rchar', 'sender_syscr', 'receiver_rchar', 'receiver_wchar', 'receiver_mds_getattr_lock_md', 'receiver_ldlm_cancel_md', 'sender_vsize', 'receiver_syscr', 'sender_rss',  'receiver_vsize', 'receiver_rss', 'sender_mds_getattr_lock_md', 'receiver_mem_usage_percentage', 'sender_read_bytes', 'sender_write_bytes', 'receiver_write_bytes'])#.drop(columns=\"label_value\")\n",
    "X_train, X_test, y_train, y_test = train_test_split(X,y)\n",
    "print(X_train.shape)\n",
    "# X_train, y_train = RandomUnderSampler(sampling_strategy=\"all\").fit_resample(X_train, y_train)\n",
    "X_train, y_train = RandomOverSampler(sampling_strategy=\"all\").fit_resample(X_train, y_train)\n",
    "\n",
    "print(X_train.shape)\n",
    "# clf = RandomForestClassifier(n_estimators=100)\n",
    "# clf = make_pipeline(StandardScaler(), RandomForestClassifier(n_estimators=100))\n",
    "# clf = make_pipeline(StandardScaler(), tree.DecisionTreeClassifier())\n",
    "# clf = make_pipeline(StandardScaler(), FuzzyDecisionTreeClassifier())\n",
    "clf = tree.DecisionTreeClassifier(max_depth=9)\n",
    "# clf = FuzzyDecisionTreeClassifier()\n",
    "# clf = SVC()\n",
    "clf.fit(X_train, y_train)\n",
    "y_pred = clf.predict(X_test)\n",
    "print(np.round(metrics.accuracy_score(y_test, y_pred) * 100, 2))\n",
    "\n",
    "# y_pred\n",
    "# y_pred_5cat = change_labels_5(y_pred, 21) #change_labels_21(y_pred, 161)\n",
    "# y_test_5cat = change_labels_5(y_test, 21) #change_labels_21(y_test, 161)\n",
    "# print(np.round(metrics.accuracy_score(y_test_5cat, y_pred_5cat) * 100, 2))\n",
    "# y_pred_5cat[y_pred_5cat[:]==55]\n",
    "# y_pred_5cat\n",
    "# Counter(y_pred_5cat)"
   ]
  },
  {
   "cell_type": "code",
   "execution_count": null,
   "outputs": [],
   "source": [
    "score = np.round(clf.feature_importances_, 2)\n",
    "\n",
    "# print(sorted(list(score), reverse=True))\n",
    "print(\"Cummulative Importance Score: \\n\", np.cumsum(sorted(list(score), reverse=True)))\n",
    "print(Counter(score))\n",
    "features = []\n",
    "for i in range(len(score)):\n",
    "    if score[i] >= 0.02:\n",
    "        features.append(X.columns[i])\n",
    "        # print(df.columns[i])\n",
    "print(features)\n",
    "print(len(features))\n"
   ],
   "metadata": {
    "collapsed": false,
    "pycharm": {
     "name": "#%%\n"
    }
   }
  },
  {
   "cell_type": "code",
   "execution_count": null,
   "outputs": [],
   "source": [
    "# utah_ssd_merged = pd.read_csv(filenames.get('utah_ssd_merged')).drop(['time_stamp', 'through_put'], axis=1)\n",
    "df_2 = emulab_hdd_merged.copy() # wisconsin_hdd_ssd_merged.copy()#utah_ssd_merged.copy()# wisconsin_ssd_merged.copy() #utah_ssd_merged_1g.copy() #wisconsin_ssd_merged.copy() #\n",
    "remove_labels = [ 91, 100, 46]\n",
    "df_2 = remove_labels_in_df(df_2, remove_labels)\n",
    "df_2 = normalize_df(df_2)\n",
    "df_2 = grouped_to_5_cat(df_2,161)\n",
    "# df_2 = wisconsin_ssd_merged.copy() #utah_ssd_merged.copy()#\n",
    "y_test = df_2.label_value\n",
    "X_test = df_2[features] #.drop(columns=\"label_value\")##[features] #.drop(columns=\"label_value\")\n",
    "# X_train, X_test, y_train, y_test = train_test_split(X,y)\n",
    "y_pred = clf.predict(X_test)\n",
    "print(np.round(metrics.accuracy_score(y_test, y_pred) * 100, 2))\n",
    "\n",
    "# y_pred_5cat = change_labels_5(y_pred, 21)#change_labels_21(y_pred, 161)\n",
    "# y_test_5cat = change_labels_5(y_test, 21)#change_labels_21(y_test, 161)\n",
    "# print(np.round(metrics.accuracy_score(y_test_5cat, y_pred_5cat) * 100, 2))"
   ],
   "metadata": {
    "collapsed": false,
    "pycharm": {
     "name": "#%%\n"
    }
   }
  },
  {
   "cell_type": "code",
   "execution_count": null,
   "outputs": [],
   "source": [
    "def change_labels_5(y, total_possible_labels):\n",
    "    aggregated_labels = {}\n",
    "    for i in range(total_possible_labels + 1):\n",
    "        aggregated_labels[i] = i\n",
    "    # 0 is normal and is one group itself\n",
    "    # # group read together\n",
    "    for i in range(1, 55):\n",
    "        aggregated_labels.update({i: 1})\n",
    "\n",
    "    # group write together\n",
    "    for i in range(55, 109):\n",
    "        aggregated_labels.update({i: 55})\n",
    "    # group networks together\n",
    "    for i in range(109, 145):\n",
    "        aggregated_labels.update({i: 109})\n",
    "    # group tcp configs together\n",
    "    for i in range(145, 157):\n",
    "        aggregated_labels.update({i: 145})\n",
    "    # group with networks together\n",
    "    for i in range(157, 161):\n",
    "        aggregated_labels.update({i: 109})\n",
    "    y_new = np.array([aggregated_labels[int(i)] for i in y])\n",
    "    return y_new\n",
    "\n",
    "def change_labels_21(y, total_possible_labels):\n",
    "    aggregated_labels = {}\n",
    "    for i in range(total_possible_labels + 1):\n",
    "        aggregated_labels[i] = i\n",
    "    # 0 is normal and is one group itself\n",
    "    # group read_congestion_by_sender_sender_ost read levels together\n",
    "    for i in range(1, 10):\n",
    "        aggregated_labels.update({i: 1})\n",
    "    # group read_congestion_by_clients_on_sender_ost read levels together\n",
    "    for i in range(10, 19):\n",
    "        aggregated_labels.update({i: 10})\n",
    "    # group read_congestion_by_receiver_on_receiver_ost read levels together\n",
    "    for i in range(19, 28):\n",
    "        aggregated_labels.update({i: 19})\n",
    "    # group read_congestion_by_clients_on_receiver_ost read levels together\n",
    "    for i in range(28, 37):\n",
    "        aggregated_labels.update({i: 28})\n",
    "    # group read_congestion_by_sender_on_other_ost read levels together\n",
    "    for i in range(37, 46):\n",
    "        aggregated_labels.update({i: 37})\n",
    "    # group read_congestion_by_writer_on_other_ost read levels together\n",
    "    for i in range(46, 55):\n",
    "        aggregated_labels.update({i: 46})\n",
    "    # group write_congestion_by_sender_on_sender_ost read levels together\n",
    "    for i in range(55, 64):\n",
    "        aggregated_labels.update({i: 55})\n",
    "    # group write_congestion_by_clients_on_sender_ost read levels together\n",
    "    for i in range(64, 73):\n",
    "        aggregated_labels.update({i: 64})\n",
    "    # group write_congestion_by_receiver_on_receiver read levels together\n",
    "    for i in range(73, 82):\n",
    "        aggregated_labels.update({i: 73})\n",
    "    # group write_congestion_by_clients_on_receiver read levels together\n",
    "    for i in range(82, 91):\n",
    "        aggregated_labels.update({i: 82})\n",
    "    # group write_congestion_by_sender_on_other_ost read levels together\n",
    "    for i in range(91, 100):\n",
    "        aggregated_labels.update({i: 91})\n",
    "    # group write_congestion_by_receiver_on_other_ost read levels together\n",
    "    for i in range(100, 109):\n",
    "        aggregated_labels.update({i: 100})\n",
    "    # group network_anomaly_network_loss read levels together\n",
    "    for i in range(109, 113):\n",
    "        aggregated_labels.update({i: 109})\n",
    "    # group network_anomaly_network_delay read levels together\n",
    "    for i in range(113, 117):\n",
    "        aggregated_labels.update({i: 113})\n",
    "    # group network_anomaly_network_duplicate read levels together\n",
    "    for i in range(117, 129):\n",
    "        aggregated_labels.update({i: 117})\n",
    "    # group network_anomaly_network_corrupt read levels together\n",
    "    for i in range(129, 133):\n",
    "        aggregated_labels.update({i: 129})\n",
    "    # group network_anomaly_network_reorder read levels together\n",
    "    for i in range(133, 145):\n",
    "        aggregated_labels.update({i: 133})\n",
    "    # group sys_config_tcp_send read levels together\n",
    "    for i in range(145, 151):\n",
    "        aggregated_labels.update({i: 145})\n",
    "    # group sys_config_tcp_receive_buffer read levels together\n",
    "    for i in range(151, 157):\n",
    "        aggregated_labels.update({i: 151})\n",
    "    for i in range(157, 161):\n",
    "        aggregated_labels.update({i: 157})\n",
    "    y_new = np.array([aggregated_labels[int(i)] for i in y])\n",
    "    return y_new"
   ],
   "metadata": {
    "collapsed": false,
    "pycharm": {
     "name": "#%%\n"
    }
   }
  },
  {
   "cell_type": "code",
   "execution_count": null,
   "outputs": [],
   "source": [],
   "metadata": {
    "collapsed": false,
    "pycharm": {
     "name": "#%%\n"
    }
   }
  },
  {
   "cell_type": "code",
   "execution_count": null,
   "metadata": {
    "pycharm": {
     "name": "#%%\n"
    }
   },
   "outputs": [],
   "source": [
    "score = np.round(clf.feature_importances_, 2)\n",
    "\n",
    "# print(sorted(list(score), reverse=True))\n",
    "print(\"Cummulative Importance Score: \\n\", np.cumsum(sorted(list(score), reverse=True)))\n",
    "print(Counter(score))\n",
    "features = []\n",
    "for i in range(len(score)):\n",
    "    if score[i] >= 0.02:\n",
    "        features.append(X.columns[i])\n",
    "        # print(df.columns[i])\n",
    "print(features)\n",
    "print(len(features))\n"
   ]
  },
  {
   "cell_type": "code",
   "execution_count": null,
   "metadata": {
    "pycharm": {
     "name": "#%%\n"
    }
   },
   "outputs": [],
   "source": [
    "y_test = test_df.label_value\n",
    "X_test = test_df[features] #.drop(columns=\"label_value\")\n",
    "print(X_test.shape)\n",
    "y_pred = clf.predict(X_test)\n",
    "print(np.round(metrics.accuracy_score(y_test, y_pred) * 100, 2))\n",
    "# Counter(y_pred)\n",
    "y_pred_5cat = change_labels_5(y_pred, 21)#change_labels_21(y_pred, 161)\n",
    "y_test_5cat = change_labels_5(y_test, 21)#change_labels_21(y_test, 161)\n",
    "print(np.round(metrics.accuracy_score(y_test_5cat, y_pred_5cat) * 100, 2))\n",
    "# y_pred_5cat[y_pred_5cat[:]==55]\n",
    "# y_pred_5cat\n",
    "# Counter(y_pred_5cat)"
   ]
  },
  {
   "cell_type": "code",
   "execution_count": null,
   "metadata": {
    "pycharm": {
     "name": "#%%\n"
    }
   },
   "outputs": [],
   "source": [
    "new_df = pd.read_csv('./montage_analysis/normal.csv').drop(['time_stamp', 'through_put'], axis=1)\n",
    "# new_df = pd.read_csv('./montage_analysis/montage_5_instance.csv').drop(['time_stamp', 'through_put'], axis=1)\n",
    "new_df = normalize_df(new_df)\n",
    "y_test = new_df.label_value\n",
    "X_test = new_df[features] #.drop(columns=\"label_value\")#[features] #.drop(columns=\"label_value\")\n",
    "print(X_test.shape)\n",
    "y_pred = clf.predict(X_test)\n",
    "print(np.round(metrics.accuracy_score(y_test, y_pred) * 100, 2))\n",
    "print(Counter(y_pred))\n",
    "# print(y_test)\n",
    "\n",
    "y_pred_5cat = change_labels_5(y_pred, 21)#change_labels_21(y_pred, 161)\n",
    "y_test_5cat = change_labels_5(y_test, 21)#change_labels(y_test, 161)\n",
    "print(np.round(metrics.accuracy_score(y_test_5cat, y_pred_5cat) * 100, 2))\n",
    "print(Counter(y_pred_5cat))\n",
    "# Counter(y_pred_5cat)\n",
    "# # new_df.loc[new_df['label_value']==0]\n",
    "# np.round(X_test.mean(), 2)\n",
    "# np.round(train_df[train_df.label_value == 0][features].std(), 2) / np.round(X_test.std(), 2)\n",
    "# train_df.groupby(\"label_value\").receiver_avg_waittime_md.mean()"
   ]
  },
  {
   "cell_type": "code",
   "execution_count": null,
   "outputs": [],
   "source": [
    "emulab_hdd_merged\n"
   ],
   "metadata": {
    "collapsed": false,
    "pycharm": {
     "name": "#%%\n"
    }
   }
  },
  {
   "cell_type": "code",
   "execution_count": null,
   "outputs": [],
   "source": [
    "df = utah_ssd_merged_1g.copy()\n",
    "df = normalize_df(df)\n",
    "df = grouped_to_5_cat(df,161)\n",
    "# df[df.label_value==0][features]\n",
    "# df[features]\n",
    "df[df.label_value==1][features].describe()"
   ],
   "metadata": {
    "collapsed": false,
    "pycharm": {
     "name": "#%%\n"
    }
   }
  },
  {
   "cell_type": "code",
   "execution_count": null,
   "outputs": [],
   "source": [
    "df = utah_ssd_merged.copy()\n",
    "# df.sender_send_buffer_value = df.sender_send_buffer_value/df.sender_avg_rtt_value\n",
    "df.groupby('label_value').sender_send_buffer_value.mean()\n",
    "# df = normalize_df(df)\n",
    "# df = grouped_to_5_cat(df,161)\n",
    "# df[(df.label_value==1) & (df.sender_cwnd_rate <= 1105.5) & (df.sender_retrans <= 1.5)\n",
    "#    & (df.sender_req_active <= 565.5) & (df.sender_avg_send_value <= 0.1)][features]\n",
    "# df[df.label_value==1][features].describe()\n",
    "# df[df.sender_write_bytes>0].groupby('label_value').mean()"
   ],
   "metadata": {
    "collapsed": false,
    "pycharm": {
     "name": "#%%\n"
    }
   }
  },
  {
   "cell_type": "code",
   "execution_count": null,
   "outputs": [],
   "source": [
    "df = utah_ssd_merged_1g.copy()\n",
    "# df.sender_send_buffer_value = df.sender_send_buffer_value/df.sender_avg_rtt_value\n",
    "df.groupby('label_value').sender_send_buffer_value.mean()"
   ],
   "metadata": {
    "collapsed": false,
    "pycharm": {
     "name": "#%%\n"
    }
   }
  },
  {
   "cell_type": "code",
   "execution_count": null,
   "outputs": [],
   "source": [
    "df = utah_ssd_merged.copy()\n",
    "df = normalize_df(df)\n",
    "df = grouped_to_5_cat(df,161)\n",
    "# df[(df.label_value==1) & (df.sender_cwnd_rate <= 1105.5) & (df.sender_retrans <= 1.5)\n",
    "#    & (df.sender_req_active <= 565.5) & (df.sender_avg_send_value <= 0.1)][features]\n",
    "df[df.label_value==1][features].describe()"
   ],
   "metadata": {
    "collapsed": false,
    "pycharm": {
     "name": "#%%\n"
    }
   }
  },
  {
   "cell_type": "code",
   "execution_count": null,
   "outputs": [],
   "source": [
    "df = wisconsin_ssd_merged.copy()\n",
    "df = normalize_df(df)\n",
    "df = grouped_to_5_cat(df,161)\n",
    "df[df.label_value==0][features]"
   ],
   "metadata": {
    "collapsed": false,
    "pycharm": {
     "name": "#%%\n"
    }
   }
  },
  {
   "cell_type": "code",
   "execution_count": null,
   "outputs": [],
   "source": [
    "df[df.label_value==0][features]"
   ],
   "metadata": {
    "collapsed": false,
    "pycharm": {
     "name": "#%%\n"
    }
   }
  },
  {
   "cell_type": "code",
   "execution_count": null,
   "metadata": {
    "pycharm": {
     "name": "#%%\n"
    }
   },
   "outputs": [],
   "source": [
    "new_df[new_df.receiver_write_bytes <= 310378496.].receiver_write_bytes\n",
    "# new_df[new_df.sender_cwnd_rate <= 330.].sender_cwnd_rate"
   ]
  },
  {
   "cell_type": "code",
   "execution_count": null,
   "metadata": {
    "pycharm": {
     "name": "#%%\n"
    }
   },
   "outputs": [],
   "source": [
    "train_df[train_df.label_value == 0][features]"
   ]
  },
  {
   "cell_type": "code",
   "execution_count": null,
   "outputs": [],
   "source": [
    "# df = emulab_hdd_merged.copy()\n",
    "# df = wisconsin_ssd_merged.copy()\n",
    "# df = wisconsin_ssd_unmerged.copy()\n",
    "df = utah_ssd_merged_1g.copy()\n",
    "remove_labels = [ 91, 100, 46] #[]#[ 91, 100, 46]\n",
    "df = remove_labels_in_df(df, remove_labels)\n",
    "df = normalize_df(df)\n",
    "df = grouped_to_5_cat(df,161)\n",
    "\n",
    "train_df = df\n",
    "# print(train_df.shape)\n",
    "\n",
    "y = train_df.label_value\n",
    "X = train_df[features]\n",
    "X_train, X_test, y_train, y_test = train_test_split(X,y)\n",
    "print(X_train.shape)\n",
    "# X_train, y_train = RandomUnderSampler(sampling_strategy=\"all\").fit_resample(X_train, y_train)\n",
    "X_train, y_train = RandomOverSampler(sampling_strategy=\"all\").fit_resample(X_train, y_train)\n",
    "\n",
    "print(X_train.shape)\n",
    "# clf = RandomForestClassifier(n_estimators=100)\n",
    "clf = tree.DecisionTreeClassifier(max_depth=10)\n",
    "\n",
    "clf.fit(X_train, y_train)\n",
    "y_pred = clf.predict(X_test)\n",
    "print(np.round(metrics.accuracy_score(y_test, y_pred) * 100, 2))\n"
   ],
   "metadata": {
    "collapsed": false,
    "pycharm": {
     "name": "#%%\n"
    }
   }
  },
  {
   "cell_type": "code",
   "execution_count": null,
   "metadata": {
    "pycharm": {
     "name": "#%%\n"
    }
   },
   "outputs": [],
   "source": [
    "class_names = [str(lbl) for lbl in sorted(Counter(train_df.label_value).keys())]\n",
    "class_names"
   ]
  },
  {
   "cell_type": "code",
   "execution_count": null,
   "metadata": {
    "pycharm": {
     "name": "#%%\n"
    }
   },
   "outputs": [],
   "source": [
    "# fn=['sepal length (cm)','sepal width (cm)','petal length (cm)','petal width (cm)']\n",
    "# cn=['setosa', 'versicolor', 'virginica']\n",
    "fig, axes = plt.subplots(nrows = 1,ncols = 1,figsize = (100,25), dpi=10)\n",
    "tree.plot_tree(clf, feature_names = features,\n",
    "               class_names=class_names,\n",
    "               filled = True,\n",
    "               fontsize=12);\n",
    "fig.savefig('tree_10.pdf')\n",
    "\n",
    "# tree.plot_tree(clf, feature_names=features, fontsize=12)"
   ]
  },
  {
   "cell_type": "code",
   "execution_count": null,
   "outputs": [],
   "source": [
    "df_2 = emulab_hdd_merged.copy()\n",
    "remove_labels = [ 91, 100, 46]\n",
    "df_2 = remove_labels_in_df(df_2, remove_labels)\n",
    "df_2 = normalize_df(df_2)\n",
    "df_2 = grouped_to_5_cat(df_2,161)\n",
    "target_label = 145\n",
    "df_2 = df_2[df_2.label_value == target_label]\n",
    "\n",
    "# y_test = df_2.label_value.loc[2:3]\n",
    "# X_test = df_2[features].loc[2:3,:]\n",
    "y_test = df_2.label_value\n",
    "X_test = df_2[features]\n",
    "y_pred = clf.predict(X_test)\n",
    "print(np.round(metrics.f1_score(y_test, y_pred, average='weighted') * 100, 2))"
   ],
   "metadata": {
    "collapsed": false,
    "pycharm": {
     "name": "#%%\n"
    }
   }
  },
  {
   "cell_type": "code",
   "execution_count": null,
   "outputs": [],
   "source": [
    "\n",
    "\n",
    "decision_path = clf.decision_path(X_test.iloc[np.where(y_pred!=target_label)])\n",
    "# print(decision_path)\n",
    "\n",
    "fig, axes = plt.subplots(nrows = 1,ncols = 1,figsize = (100,25), dpi=10)\n",
    "class_names = [str(lbl) for lbl in sorted(Counter(train_df.label_value).keys())]\n",
    "model_tree = tree.plot_tree(clf, feature_names = features,\n",
    "               class_names=class_names,\n",
    "               filled = True,\n",
    "               fontsize=12);\n",
    "\n",
    "for i in range(0,len(model_tree)):\n",
    "     if i not in decision_path.indices:\n",
    "         plt.setp(model_tree[i],visible=False)\n",
    "fig.savefig('path_10.pdf')\n",
    "plt.show()\n"
   ],
   "metadata": {
    "collapsed": false,
    "pycharm": {
     "name": "#%%\n"
    }
   }
  },
  {
   "cell_type": "code",
   "execution_count": null,
   "outputs": [],
   "source": [
    "tmp_df = X_test.iloc[np.where(y_pred!=target_label)]\n",
    "tmp_df\n",
    "# tmp_df[tmp_df.sender_remote_ost_write_bytes <= 77594624.0]\n",
    "# tmp_df[tmp_df.receiver_remote_ost_write_bytes <= 2.141]\n",
    "# tmp_df[(tmp_df.receiver_remote_ost_write_bytes <= 2.141) & (tmp_df.sender_retrans <=0)]\n",
    "tmp_df[ (tmp_df.sender_read_bytes_io > 182759424.0)&\n",
    "       (tmp_df.receiver_remote_ost_write_bytes <= 2.141)\n",
    "       & (tmp_df.sender_retrans >0) & (tmp_df.sender_req_active <= 569.5)]\n",
    "#        (tmp_df.sender_send_buffer_value <= 459016.0)]\n",
    "# tmp_df[tmp_df.receiver_write_bytes_io <= 112316416.0]"
   ],
   "metadata": {
    "collapsed": false,
    "pycharm": {
     "name": "#%%\n"
    }
   }
  },
  {
   "cell_type": "code",
   "execution_count": null,
   "outputs": [],
   "source": [
    "np.where(y_pred!=target_label)\n",
    "X_test.iloc[np.where(y_pred!=target_label)]\n",
    "# X_test"
   ],
   "metadata": {
    "collapsed": false,
    "pycharm": {
     "name": "#%%\n"
    }
   }
  },
  {
   "cell_type": "code",
   "execution_count": null,
   "metadata": {
    "pycharm": {
     "name": "#%%\n"
    }
   },
   "outputs": [],
   "source": [
    "# utah_ssd_merged.loc[utah_ssd_merged['label_value']==0]\n"
   ]
  },
  {
   "cell_type": "code",
   "execution_count": null,
   "metadata": {
    "pycharm": {
     "name": "#%%\n"
    }
   },
   "outputs": [],
   "source": [
    "def grouped_to_5_cat(df, total_possible_labels):\n",
    "    aggregated_labels = {}\n",
    "    for i in range(total_possible_labels + 1):\n",
    "        aggregated_labels[i] = i\n",
    "    # 0 is normal and is one group itself\n",
    "    # # group read together\n",
    "    for i in range(1, 55):\n",
    "        aggregated_labels.update({i: 1})\n",
    "\n",
    "    # group write together\n",
    "    for i in range(55, 109):\n",
    "        aggregated_labels.update({i: 55})\n",
    "    # group networks together\n",
    "    for i in range(109, 145):\n",
    "        aggregated_labels.update({i: 109})\n",
    "    # group tcp configs together\n",
    "    for i in range(145, 157):\n",
    "        aggregated_labels.update({i: 145})\n",
    "    # group with networks together\n",
    "    for i in range(157, 161):\n",
    "        aggregated_labels.update({i: 109})\n",
    "    y = [aggregated_labels[int(i)] for i in df[df.columns[len(df.columns) - 1]].values]\n",
    "    df[\"label_value\"] = y\n",
    "    return df"
   ]
  },
  {
   "cell_type": "code",
   "execution_count": null,
   "metadata": {
    "pycharm": {
     "name": "#%%\n"
    }
   },
   "outputs": [],
   "source": [
    "df = pd.read_csv(filenames.get('wisconsin_ssd_unmerged')).drop(['time_stamp', 'through_put'], axis=1)\n",
    "# df = grouped_to_5_cat(df,161)\n",
    "df.shape\n",
    "Counter(df.label_value)"
   ]
  },
  {
   "cell_type": "code",
   "execution_count": null,
   "metadata": {
    "pycharm": {
     "name": "#%%\n"
    }
   },
   "outputs": [],
   "source": [
    "t = pd.read_csv(filenames.get('utah_ssd_merged')).drop(['time_stamp', 'through_put'], axis=1)\n",
    "t[t.label_value == 0].receiver_avg_waittime_md"
   ]
  },
  {
   "cell_type": "code",
   "execution_count": null,
   "outputs": [],
   "source": [
    "utah_ssd_unmerged_1g = pd.read_csv(filenames.get('emulab_hdd_unmerged')) #  wisconsin_ssd_unmerged\n",
    "utah_ssd_unmerged_1g.groupby('label_value').through_put.mean()\n",
    "# utah_ssd_unmerged_1g[utah_ssd_unmerged_1g.label_value==130].through_put"
   ],
   "metadata": {
    "collapsed": false,
    "pycharm": {
     "name": "#%%\n"
    }
   }
  },
  {
   "cell_type": "code",
   "execution_count": null,
   "outputs": [],
   "source": [],
   "metadata": {
    "collapsed": false,
    "pycharm": {
     "name": "#%%\n"
    }
   }
  }
 ],
 "metadata": {
  "kernelspec": {
   "display_name": "Python 3 (ipykernel)",
   "language": "python",
   "name": "python3"
  },
  "language_info": {
   "codemirror_mode": {
    "name": "ipython",
    "version": 3
   },
   "file_extension": ".py",
   "mimetype": "text/x-python",
   "name": "python",
   "nbconvert_exporter": "python",
   "pygments_lexer": "ipython3",
   "version": "3.8.10"
  }
 },
 "nbformat": 4,
 "nbformat_minor": 1
}