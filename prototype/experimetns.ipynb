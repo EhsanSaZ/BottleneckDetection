{
 "cells": [
  {
   "cell_type": "code",
   "execution_count": 5,
   "metadata": {
    "collapsed": true
   },
   "outputs": [],
   "source": [
    "import sys\n",
    "import time\n",
    "\n",
    "if not sys.warnoptions:\n",
    "    import warnings\n",
    "    warnings.simplefilter(\"ignore\")\n",
    "import pandas as pd\n",
    "import numpy as np\n",
    "from sklearn.ensemble import RandomForestClassifier\n",
    "from imblearn.under_sampling import RandomUnderSampler\n",
    "from imblearn.over_sampling import RandomOverSampler\n",
    "from sklearn.model_selection import train_test_split\n",
    "from sklearn import metrics\n",
    "from sklearn.metrics import ConfusionMatrixDisplay\n",
    "# import seaborn as sns\n",
    "# sns.set()\n",
    "from sklearn import tree\n",
    "from collections import Counter\n",
    "import matplotlib.pyplot as plt\n",
    "from sklearn.pipeline import make_pipeline\n",
    "from sklearn.preprocessing import StandardScaler, MinMaxScaler, PowerTransformer\n",
    "from sklearn.model_selection import cross_val_score\n",
    "from sklearn.tree import DecisionTreeClassifier\n",
    "from sklearn import svm\n",
    "from sklearn.neural_network import MLPClassifier\n",
    "from sklearn.neighbors import KNeighborsClassifier\n",
    "from xgboost import XGBClassifier\n",
    "import seaborn as sns\n",
    "from fuzzytree import FuzzyDecisionTreeClassifier"
   ]
  },
  {
   "cell_type": "code",
   "execution_count": 349,
   "metadata": {
    "pycharm": {
     "name": "#%%\n"
    }
   },
   "outputs": [],
   "source": [
    "filenames = {\n",
    "    \"emulab_hdd_merged\": \"emulab_d460_10Gbps_hdd_merged_V2.csv\",\n",
    "    \"emulab_hdd_unmerged\": \"emulab_d460_10Gbps_hdd_unmerged_V2.csv\",\n",
    "\n",
    "    \"utah_ssd_merged\": \"utah_c6525-25g_25Gbps_ssd_merged_V2.csv\",\n",
    "    \"utah_ssd_unmerged\": \"utah_c6525-25g_25Gbps_ssd_unmerged_V2.csv\",\n",
    "\n",
    "    \"wisconsin_ssd_merged\": \"wisconsin_c220g1-10Gbps_ssd_merged_V2.csv\",\n",
    "    \"wisconsin_ssd_unmerged\": \"wisconsin_c220g1-10Gbps_ssd_unmerged_V2.csv\",\n",
    "\n",
    "    \"utah_ssd_merged_1g\": \"utah_c6525-25g_1Gbps_ssd_merged_V2.csv\",\n",
    "    \"utah_ssd_unmerged_1g\": \"utah_c6525-25g_1Gbps_ssd_unmerged_V2.csv\",\n",
    "\n",
    "    \"wisconsin_hdd_ssd_merged\": \"wisconsin_c220g1-10Gbps_hdd_ssd_merged_V2.csv\",\n",
    "    \"wisconsin_hdd-ssd_unmerged\": \"wisconsin_c220g1-10Gbps_hdd_ssd_unmerged_V2.csv\",\n",
    "\n",
    "    \"utah_22_unmerged\": \"22_utah_c6525-25g_25Gbps_ssd_merged_V2.csv\",\n",
    "    \"utah_22_merged\": \"22_utah_c6525-25g_25Gbps_ssd_unmerged_V2.csv\"\n",
    "\n",
    "}"
   ]
  },
  {
   "cell_type": "code",
   "execution_count": 350,
   "metadata": {
    "pycharm": {
     "name": "#%%\n"
    }
   },
   "outputs": [],
   "source": [
    "utah_ssd_merged = pd.read_csv(filenames.get('utah_ssd_merged')).drop(['time_stamp', 'through_put'], axis=1)\n",
    "utah_ssd_merged_1g = pd.read_csv(filenames.get('utah_ssd_merged_1g')).drop(['time_stamp', 'through_put'], axis=1)\n",
    "utah_22_merged = pd.read_csv(filenames.get('utah_22_merged')).drop(['time_stamp', 'through_put'], axis=1)\n",
    "emulab_hdd_merged = pd.read_csv(filenames.get('emulab_hdd_merged')).drop(['time_stamp', 'through_put'], axis=1)\n",
    "wisconsin_ssd_merged = pd.read_csv(filenames.get('wisconsin_ssd_merged')).drop(['time_stamp', 'through_put'], axis=1)\n",
    "wisconsin_ssd_unmerged = pd.read_csv(filenames.get('wisconsin_ssd_unmerged')).drop(['time_stamp', 'through_put'], axis=1)\n",
    "wisconsin_hdd_ssd_merged = pd.read_csv(filenames.get('wisconsin_hdd_ssd_merged')).drop(['time_stamp', 'through_put'], axis=1)\n",
    "utah_ssd_merged_1g = pd.read_csv(filenames.get('utah_ssd_merged_1g')).drop(['time_stamp', 'through_put'], axis=1)"
   ]
  },
  {
   "cell_type": "code",
   "execution_count": 351,
   "metadata": {
    "pycharm": {
     "name": "#%%\n"
    }
   },
   "outputs": [],
   "source": [
    "# features = ['sender_avg_rtt_value', 'sender_cwnd_rate', 'sender_retrans', 'sender_ssthresh_value', 'sender_segs_in', 'sender_avg_send_value', 'sender_tcp_snd_buffer_min', 'sender_tcp_snd_buffer_max', 'sender_req_active', 'sender_write_bytes', 'sender_avg_waittime_md', 'sender_system_cpu_percent', 'sender_remote_ost_write_bytes', 'receiver_seg_out', 'receiver_segs_in', 'receiver_req_waittime', 'receiver_req_active', 'receiver_write_bytes', 'receiver_ost_write', 'receiver_avg_waittime_md', 'receiver_system_cpu_percent', 'receiver_system_memory_percent', 'receiver_remote_ost_read_bytes', 'receiver_remote_ost_write_bytes']\n",
    "#*\n",
    "# features = ['sender_avg_rtt_value', 'sender_retrans','sender_segs_in', 'sender_seg_out', 'sender_req_waittime', 'sender_read_bytes', 'sender_write_bytes', 'sender_avg_waittime_md', 'sender_ost_read' , 'sender_ost_write','sender_remote_ost_read_bytes', 'sender_remote_ost_write_bytes','receiver_segs_in','receiver_seg_out', 'receiver_req_waittime', 'receiver_read_bytes', 'receiver_write_bytes', 'receiver_ost_read', 'receiver_ost_write', 'receiver_avg_waittime_md', 'receiver_remote_ost_read_bytes', 'receiver_remote_ost_write_bytes']\n",
    "\n",
    "# features = ['sender_avg_rtt_value', 'sender_cwnd_rate', 'sender_retrans', 'sender_ssthresh_value', 'sender_segs_in', 'sender_req_active', 'sender_write_bytes', 'sender_remote_ost_write_bytes',\n",
    "#             'receiver_seg_out', 'receiver_segs_in', 'receiver_req_waittime', 'receiver_req_active', 'receiver_write_bytes', 'receiver_ost_write' , 'receiver_remote_ost_read_bytes', 'receiver_remote_ost_write_bytes']\n",
    "\n",
    "# features = ['sender_seg_out', \"sender_retrans\", 'sender_avg_waittime_md', 'receiver_segs_in', 'receiver_avg_waittime_md' ,'receiver_write_bytes',]\n",
    "\n",
    "# features =['sender_avg_rtt_value', 'sender_cwnd_rate', 'sender_seg_out', 'sender_ssthresh_value', 'sender_segs_in', 'sender_avg_send_value', 'sender_vsize', 'sender_rss', 'sender_mem_usage_percentage', 'sender_avg_waittime_md', 'sender_system_cpu_percent', 'receiver_seg_out', 'receiver_segs_in', 'receiver_read_bytes_io', 'receiver_vsize', 'receiver_rss', 'receiver_mem_usage_percentage', 'receiver_req_active', 'receiver_avg_waittime_md', 'receiver_system_cpu_percent']\n",
    "\n",
    "# features = ['sender_avg_rtt_value', 'sender_pacing_rate', 'sender_cwnd_rate', 'sender_byte_ack', 'sender_seg_out', 'sender_retrans', 'sender_ssthresh_value', 'sender_segs_in', 'sender_avg_send_value', 'sender_unacked_value', 'sender_send_buffer_value', 'sender_cpu_usage_percentage', 'sender_tcp_snd_buffer_min', 'sender_tcp_snd_buffer_max', 'sender_req_waittime', 'sender_req_active', 'sender_read_bytes', 'sender_write_bytes', 'sender_ost_read', 'sender_ost_write', 'sender_pending_read_pages', 'sender_read_RPCs_in_flight', 'sender_avg_waittime_md', 'sender_system_cpu_percent', 'sender_system_memory_percent', 'sender_remote_ost_read_bytes', 'sender_remote_ost_write_bytes', 'receiver_avg_retransmission_timeout_value', 'receiver_seg_out', 'receiver_segs_in', 'receiver_wchar', 'receiver_syscw', 'receiver_read_bytes_io', 'receiver_cpu_usage_percentage', 'receiver_req_waittime', 'receiver_req_active', 'receiver_read_bytes', 'receiver_write_bytes', 'receiver_ost_read', 'receiver_ost_write', 'receiver_pending_read_pages', 'receiver_read_RPCs_in_flight', 'receiver_avg_waittime_md', 'receiver_req_waittime_md', 'receiver_system_cpu_percent', 'receiver_system_memory_percent', 'receiver_remote_ost_read_bytes', 'receiver_remote_ost_write_bytes']\n",
    "\n",
    "#19 features\n",
    "# features = ['sender_seg_out', 'sender_segs_in', 'sender_avg_send_value', 'sender_send_buffer_value', 'sender_tcp_snd_buffer_min', 'sender_tcp_snd_buffer_max', 'sender_req_active', 'sender_read_bytes', 'sender_ost_read', 'sender_remote_ost_read_bytes', 'sender_remote_ost_write_bytes', 'receiver_seg_out', 'receiver_segs_in', 'receiver_read_bytes_io', 'receiver_req_active', 'receiver_write_bytes', 'receiver_ost_write', 'receiver_remote_ost_read_bytes', 'receiver_remote_ost_write_bytes']\n",
    "\n",
    "# 14 features\n",
    "# features = ['sender_seg_out', 'sender_avg_send_value', 'sender_tcp_snd_buffer_max', 'sender_read_bytes', 'sender_ost_read', 'sender_remote_ost_read_bytes', 'sender_remote_ost_write_bytes', 'receiver_seg_out', 'receiver_segs_in', 'receiver_read_bytes_io', 'receiver_write_bytes', 'receiver_ost_write', 'receiver_remote_ost_read_bytes', 'receiver_remote_ost_write_bytes']\n",
    "\n",
    "# features = ['sender_seg_out', 'sender_avg_send_value', 'sender_tcp_snd_buffer_max', 'sender_read_bytes', 'sender_ost_read', 'sender_remote_ost_read_bytes', 'sender_remote_ost_write_bytes', 'receiver_write_bytes', 'receiver_ost_write', 'receiver_remote_ost_read_bytes', 'receiver_remote_ost_write_bytes']\n",
    "\n",
    "# # #16 features\n",
    "# features = ['sender_seg_out', 'sender_avg_send_value', 'sender_read_bytes_io', 'sender_write_bytes_io', 'sender_ost_read', 'sender_ost_write', 'sender_pending_read_pages', 'sender_read_RPCs_in_flight', 'sender_remote_ost_read_bytes', 'sender_remote_ost_write_bytes', 'receiver_segs_in', 'receiver_write_bytes_io', 'receiver_ost_write', 'receiver_remote_ost_read_bytes', 'receiver_remote_ost_write_bytes', 'sender_read_bytes', 'receiver_write_bytes'] #, 'sender_read_bytes', 'receiver_write_bytes', sender_tcp_snd_buffer_max\n",
    "\n",
    "# features = ['sender_seg_out', 'sender_avg_send_value', 'sender_read_bytes_io', 'sender_write_bytes_io', 'sender_ost_read', 'sender_ost_write', 'sender_pending_read_pages', 'sender_read_RPCs_in_flight', 'sender_remote_ost_read_bytes', 'sender_remote_ost_write_bytes', 'receiver_segs_in', 'receiver_write_bytes_io', 'receiver_ost_write', 'receiver_remote_ost_read_bytes', 'receiver_remote_ost_write_bytes', 'sender_read_bytes', 'receiver_write_bytes']\n",
    "\n",
    "# features = ['sender_seg_out', 'sender_avg_send_value', 'sender_read_bytes_io', 'sender_write_bytes_io', 'sender_ost_read', 'sender_ost_write', 'sender_remote_ost_read_bytes', 'sender_remote_ost_write_bytes', 'receiver_segs_in', 'receiver_write_bytes_io', 'receiver_ost_write', 'receiver_remote_ost_read_bytes', 'receiver_remote_ost_write_bytes', 'sender_read_bytes', 'receiver_write_bytes',\n",
    "#                 'sender_pending_read_pages', 'sender_read_RPCs_in_flight',\n",
    "#                 'sender_send_buffer_value', 'sender_req_active', 'receiver_req_active',\n",
    "#                 #'sender_segs_in',\n",
    "#                 'sender_retrans', 'sender_cwnd_rate']\n",
    "\n",
    "features = ['sender_seg_out', 'sender_avg_send_value', 'sender_read_bytes_io', 'sender_write_bytes_io', 'sender_ost_read', 'sender_ost_write', 'sender_remote_ost_read_bytes', 'sender_remote_ost_write_bytes', 'receiver_write_bytes_io', 'receiver_ost_write', 'receiver_remote_ost_read_bytes', 'receiver_remote_ost_write_bytes', 'sender_read_bytes', 'receiver_write_bytes',\n",
    "                'receiver_segs_in',\n",
    "                'sender_pending_read_pages', 'sender_read_RPCs_in_flight',\n",
    "                'sender_send_buffer_value', 'sender_req_active', 'receiver_req_active',\n",
    "                #'sender_segs_in',\n",
    "                'sender_retrans', 'sender_cwnd_rate',\n",
    "                'receiver_tcp_rcv_buffer_max',\n",
    "                # 'sender_tcp_snd_buffer_max',\n",
    "                #'sender_tcp_snd_buffer_min'\n",
    "                ]"
   ]
  },
  {
   "cell_type": "code",
   "execution_count": null,
   "outputs": [],
   "source": [
    "#[ 'sender_tcp_snd_buffer_max','receiver_seg_out', 'receiver_read_bytes_io'] # 'sender_req_active', 'sender_segs_in', 'sender_send_buffer_value', 'sender_tcp_snd_buffer_min', 'receiver_req_active'\n",
    " ['sender_tcp_snd_buffer_max', 'sender_pending_read_pages', 'sender_read_RPCs_in_flight']"
   ],
   "metadata": {
    "collapsed": false,
    "pycharm": {
     "name": "#%%\n"
    }
   }
  },
  {
   "cell_type": "code",
   "execution_count": 368,
   "outputs": [
    {
     "name": "stdout",
     "output_type": "stream",
     "text": [
      "dict_keys([6291456, 3145728, 786432, 1572864, 2048, 4096, 8192])\n",
      "dict_keys([6291456, 2097152, 524288, 1048576, 2048, 4096, 8192])\n",
      "dict_keys([6291456, 2097152, 524288, 1048576, 2048, 4096, 8192])\n",
      "dict_keys([6291456, 3145728, 786432, 1572864, 2048, 4096, 8192])\n",
      "dict_keys([6291456, 2097152, 524288, 1048576, 2048, 4096, 8192])\n"
     ]
    }
   ],
   "source": [
    "# feature = 'sender_tcp_snd_buffer_max'\n",
    "feature = 'receiver_tcp_rcv_buffer_max'\n",
    "print(Counter(emulab_hdd_merged[feature]).keys())\n",
    "print(Counter(utah_ssd_merged[feature]).keys())\n",
    "print(Counter(wisconsin_ssd_merged[feature]).keys())\n",
    "print(Counter(utah_ssd_merged_1g[feature]).keys())\n",
    "print(Counter(wisconsin_hdd_ssd_merged[feature]).keys())"
   ],
   "metadata": {
    "collapsed": false,
    "pycharm": {
     "name": "#%%\n"
    }
   }
  },
  {
   "cell_type": "code",
   "execution_count": 292,
   "outputs": [
    {
     "data": {
      "text/plain": "label_value\n0      6.291456e+06\n1      6.291456e+06\n10     6.291456e+06\n19     6.291456e+06\n28     6.291456e+06\n37     6.291456e+06\n46     6.291456e+06\n55     6.291456e+06\n64     6.291456e+06\n73     6.291456e+06\n82     6.291456e+06\n91     6.291456e+06\n100    6.291456e+06\n109    6.291456e+06\n113    6.291456e+06\n117    6.291456e+06\n129    6.291456e+06\n133    6.291456e+06\n145    9.190494e+05\n151    6.291456e+06\n157    6.291456e+06\nName: sender_tcp_snd_buffer_max, dtype: float64"
     },
     "execution_count": 292,
     "metadata": {},
     "output_type": "execute_result"
    }
   ],
   "source": [
    "# 142\n",
    "emulab_hdd_merged.receiver_tcp_rcv_buffer_max\n",
    "emulab_hdd_merged.groupby('label_value').sender_tcp_snd_buffer_max.mean()\n",
    "# emulab_hdd_merged.receiver_send_buffer_value\n",
    "# emulab_hdd_merged[\"sender_segs_in\"] = emulab_hdd_merged.sender_segs_in / emulab_hdd_merged[emulab_hdd_merged.label_value == 0].receiver_seg_out.mean()\n",
    "# emulab_hdd_merged.sender_segs_in.mean()\n",
    "# emulab_hdd_merged[\"sender_retrans\"] = emulab_hdd_merged.sender_retrans / emulab_hdd_merged.sender_seg_out\n",
    "# emulab_hdd_merged.sender_retrans.mean()\n",
    "# emulab_hdd_merged[\"sender_send_buffer_value\"] = emulab_hdd_merged[\"sender_send_buffer_value\"] / emulab_hdd_merged[emulab_hdd_merged.label_value == 0].sender_send_buffer_value.mean()\n",
    "# emulab_hdd_merged[emulab_hdd_merged.label_value == 0].sender_ost_read\n",
    "# print(emulab_hdd_merged[['sender_ssthresh_value','sender_cwnd_rate']])\n",
    "# print(emulab_hdd_merged.sender_ssthresh_value / emulab_hdd_merged.sender_cwnd_rate)"
   ],
   "metadata": {
    "collapsed": false,
    "pycharm": {
     "name": "#%%\n"
    }
   }
  },
  {
   "cell_type": "code",
   "execution_count": 224,
   "outputs": [
    {
     "data": {
      "text/plain": "2.076736847814799"
     },
     "execution_count": 224,
     "metadata": {},
     "output_type": "execute_result"
    }
   ],
   "source": [
    "# wisconsin_ssd_merged.receiver_write_bytes.mean()/410\n",
    "wisconsin_ssd_merged[\"sender_segs_in\"] = wisconsin_ssd_merged.sender_segs_in / wisconsin_ssd_merged[wisconsin_ssd_merged.label_value == 0].receiver_seg_out.mean()\n",
    "wisconsin_ssd_merged.sender_segs_in.mean()\n",
    "# wisconsin_ssd_merged[\"sender_retrans\"] = wisconsin_ssd_merged[\"sender_retrans\"] / wisconsin_ssd_merged[wisconsin_ssd_merged.label_value == 0].sender_retrans.mean()\n",
    "# wisconsin_ssd_merged[\"sender_retrans\"] = wisconsin_ssd_merged.sender_retrans / wisconsin_ssd_merged.sender_seg_out\n",
    "# utah_ssd_merged_1g.groupby('label_value').sender_retrans.mean()\n",
    "# wisconsin_ssd_merged.sender_retrans.mean()\n",
    "\n",
    "\n",
    "# wisconsin_ssd_merged[\"sender_send_buffer_value\"] = wisconsin_ssd_merged[\"sender_send_buffer_value\"] / wisconsin_ssd_merged[wisconsin_ssd_merged.label_value == 0].sender_send_buffer_value.mean()"
   ],
   "metadata": {
    "collapsed": false,
    "pycharm": {
     "name": "#%%\n"
    }
   }
  },
  {
   "cell_type": "code",
   "execution_count": 67,
   "outputs": [
    {
     "name": "stdout",
     "output_type": "stream",
     "text": [
      "2.4704820510978025\n",
      "0.8966836228352472\n"
     ]
    }
   ],
   "source": [
    "# df1 =\n",
    "df1 = wisconsin_ssd_merged.copy()\n",
    "df2 = emulab_hdd_merged.copy()\n",
    "feature_name = 'sender_seg_out'\n",
    "\n",
    "# print(df1.receiver_remote_ost_read_bytes.describe().mean)\n",
    "# print(df2.receiver_remote_ost_read_bytes.describe())\n",
    "print(df1[feature_name].mean()/df2[feature_name].mean())\n",
    "\n",
    "df1 = normalize_df(df1)\n",
    "df2 = normalize_df(df2)\n",
    "\n",
    "# print(df1.receiver_remote_ost_read_bytes.describe().mean)\n",
    "# print(df2.receiver_remote_ost_read_bytes.describe())\n",
    "print(df1[feature_name].mean()/df2[feature_name].mean())\n"
   ],
   "metadata": {
    "collapsed": false,
    "pycharm": {
     "name": "#%%\n"
    }
   }
  },
  {
   "cell_type": "code",
   "execution_count": 361,
   "outputs": [],
   "source": [
    "def normalize_df(df):\n",
    "    # TODO: CORRECT THIS\n",
    "    # df[\"sender_remote_ost_write_bytes\"] = df[\"sender_remote_ost_write_bytes\"] / df[df.label_value == 0].receiver_remote_ost_write_bytes.mean()\n",
    "    # TODO: CORRECT THIS\n",
    "    # df[\"receiver_remote_ost_read_bytes\"] = df[\"receiver_remote_ost_read_bytes\"] / df[df.label_value == 0].sender_remote_ost_read_bytes.mean()\n",
    "    # TODO CORRECT THIS\n",
    "    # df[\"sender_ost_write\"] = df[\"sender_ost_write\"] / df[df.label_value == 0].receiver_ost_write.mean()\n",
    "\n",
    "\n",
    "    df[\"sender_seg_out\"] = df[\"sender_seg_out\"] / df[df.label_value == 0].sender_seg_out.mean()\n",
    "    df[\"sender_avg_send_value\"] = df[\"sender_avg_send_value\"] / df[df.label_value == 0].sender_avg_send_value.mean()\n",
    "    df[\"sender_ost_read\"] = df[\"sender_ost_read\"] / df[df.label_value == 0].sender_ost_read.mean()\n",
    "    df[\"sender_read_bytes\"] = df[\"sender_read_bytes\"] / df[df.label_value == 0].sender_read_bytes.mean()\n",
    "    df[\"sender_remote_ost_read_bytes\"] =df[\"sender_remote_ost_read_bytes\"] / df[df.label_value == 0].sender_remote_ost_read_bytes.mean()\n",
    "    df[\"receiver_segs_in\"] = df[\"receiver_segs_in\"] / df[df.label_value == 0].receiver_segs_in.mean()\n",
    "    df[\"receiver_write_bytes\"] = df[\"receiver_write_bytes\"] / df[df.label_value == 0].receiver_write_bytes.mean()\n",
    "    df[\"receiver_ost_write\"] = df[\"receiver_ost_write\"] / df[df.label_value == 0].receiver_ost_write.mean()\n",
    "    df[\"receiver_remote_ost_write_bytes\"] = df[\"receiver_remote_ost_write_bytes\"] / df[df.label_value == 0].receiver_remote_ost_write_bytes.mean()\n",
    "\n",
    "    df[\"sender_write_bytes_io\"] = df[\"sender_write_bytes_io\"] / df[df.label_value == 0].sender_write_bytes_io.mean()\n",
    "    df[\"sender_read_bytes_io\"] = df[\"sender_read_bytes_io\"] / df[df.label_value == 0].sender_read_bytes_io.mean()\n",
    "    df[\"receiver_write_bytes_io\"] = df[\"receiver_write_bytes_io\"] / df[df.label_value == 0].receiver_write_bytes_io.mean()\n",
    "\n",
    "    # df[\"sender_ssthresh_value\"] = df.sender_ssthresh_value / df.sender_cwnd_rate\n",
    "    return df\n",
    "\n"
   ],
   "metadata": {
    "collapsed": false,
    "pycharm": {
     "name": "#%%\n"
    }
   }
  },
  {
   "cell_type": "code",
   "execution_count": 343,
   "outputs": [],
   "source": [
    "def remove_labels_in_df(df, labels_values):\n",
    "    for lbl in labels_values:\n",
    "        df = df.drop(df[df.label_value == lbl].index)\n",
    "    return df"
   ],
   "metadata": {
    "collapsed": false,
    "pycharm": {
     "name": "#%%\n"
    }
   }
  },
  {
   "cell_type": "code",
   "execution_count": 362,
   "metadata": {
    "pycharm": {
     "name": "#%%\n"
    }
   },
   "outputs": [
    {
     "name": "stdout",
     "output_type": "stream",
     "text": [
      "(18651, 23)\n",
      "(30475, 23)\n",
      "94.05\n"
     ]
    }
   ],
   "source": [
    "# df = emulab_hdd_merged.copy()\n",
    "# df = wisconsin_ssd_merged.copy()\n",
    "# df = wisconsin_ssd_unmerged.copy()\n",
    "remove_labels =[ 91, 100, 46]\n",
    "df = utah_ssd_merged_1g.copy()\n",
    "df = remove_labels_in_df(df, remove_labels)\n",
    "df = normalize_df(df)\n",
    "df = grouped_to_5_cat(df,161)\n",
    "# # df = utah_ssd_merged.copy()\n",
    "# df = wisconsin_ssd_unmerged.copy()\n",
    "# print(df.groupby('label_value').size())\n",
    "# print(df.shape)\n",
    "# df.loc[df.label_value != 0, \"label_value\"] = 1\n",
    "test_df = df.groupby('label_value').sample(0)\n",
    "# test_df = df.loc[df['label_value']==0].sample(75)\n",
    "# print(test_df.groupby('label_value').size())\n",
    "# print(test_df.shape)\n",
    "# test_df\n",
    "\n",
    "# train_df = df.drop(test_df.index)\n",
    "\n",
    "train_df = df\n",
    "# print(train_df.shape)\n",
    "\n",
    "y = train_df.label_value\n",
    "X = train_df[features] #.drop(columns=[\"label_value\", \"receiver_avg_waittime_md\", \"sender_avg_waittime_md\", \"sender_req_waittime\", \"sender_system_cpu_percent\", \"sender_cpu_usage_percentage\", \"sender_system_memory_percent\",\"receiver_cpu_usage_percentage\", \"receiver_req_waittime\", \"receiver_system_cpu_percent\", \"receiver_system_memory_percent\",'sender_avg_rtt_value', 'sender_cwnd_rate', 'sender_byte_ack', 'sender_retrans', 'sender_ssthresh_value','sender_pacing_rate', 'sender_avg_retransmission_timeout_value', 'sender_unacked_value', 'receiver_syscw', 'receiver_req_waittime_md', 'receiver_avg_retransmission_timeout_value', 'sender_segs_in', 'sender_tcp_snd_buffer_min','receiver_seg_out', 'receiver_read_bytes_io', 'sender_send_buffer_value','sender_req_active','sender_mem_usage_percentage','sender_req_waittime_md', 'sender_mds_close_md', 'receiver_req_active', 'receiver_mds_close_md', 'sender_rchar', 'sender_syscr', 'receiver_rchar', 'receiver_wchar', 'receiver_mds_getattr_lock_md', 'receiver_ldlm_cancel_md', 'sender_vsize', 'receiver_syscr', 'sender_rss',  'receiver_vsize', 'receiver_rss', 'sender_mds_getattr_lock_md', 'receiver_mem_usage_percentage', 'sender_read_bytes', 'sender_write_bytes', 'receiver_write_bytes'])#.drop(columns=\"label_value\")\n",
    "X_train, X_test, y_train, y_test = train_test_split(X,y)\n",
    "print(X_train.shape)\n",
    "# X_train, y_train = RandomUnderSampler(sampling_strategy=\"all\").fit_resample(X_train, y_train)\n",
    "X_train, y_train = RandomOverSampler(sampling_strategy=\"all\").fit_resample(X_train, y_train)\n",
    "\n",
    "print(X_train.shape)\n",
    "# clf = RandomForestClassifier(n_estimators=100)\n",
    "# clf = make_pipeline(StandardScaler(), RandomForestClassifier(n_estimators=100))\n",
    "# clf = make_pipeline(StandardScaler(), tree.DecisionTreeClassifier())\n",
    "# clf = make_pipeline(StandardScaler(), FuzzyDecisionTreeClassifier())\n",
    "clf = tree.DecisionTreeClassifier(max_depth=9)\n",
    "# clf = FuzzyDecisionTreeClassifier()\n",
    "# clf = SVC()\n",
    "clf.fit(X_train, y_train)\n",
    "y_pred = clf.predict(X_test)\n",
    "print(np.round(metrics.accuracy_score(y_test, y_pred) * 100, 2))\n",
    "\n",
    "# y_pred\n",
    "# y_pred_5cat = change_labels_5(y_pred, 21) #change_labels_21(y_pred, 161)\n",
    "# y_test_5cat = change_labels_5(y_test, 21) #change_labels_21(y_test, 161)\n",
    "# print(np.round(metrics.accuracy_score(y_test_5cat, y_pred_5cat) * 100, 2))\n",
    "# y_pred_5cat[y_pred_5cat[:]==55]\n",
    "# y_pred_5cat\n",
    "# Counter(y_pred_5cat)"
   ]
  },
  {
   "cell_type": "code",
   "execution_count": 7,
   "outputs": [
    {
     "name": "stdout",
     "output_type": "stream",
     "text": [
      "Cummulative Importance Score: \n",
      " [0.11 0.2  0.28 0.36 0.44 0.51 0.58 0.62 0.66 0.7  0.74 0.78 0.81 0.84\n",
      " 0.86 0.87 0.88 0.89 0.9  0.91 0.92 0.93 0.94 0.95 0.96 0.97 0.98 0.98\n",
      " 0.98 0.98 0.98 0.98 0.98 0.98 0.98 0.98 0.98 0.98 0.98 0.98 0.98 0.98\n",
      " 0.98 0.98 0.98 0.98 0.98 0.98 0.98 0.98 0.98 0.98 0.98 0.98 0.98 0.98\n",
      " 0.98 0.98 0.98 0.98 0.98 0.98 0.98 0.98 0.98 0.98 0.98]\n",
      "Counter({0.0: 40, 0.01: 12, 0.04: 5, 0.08: 3, 0.07: 2, 0.03: 2, 0.09: 1, 0.02: 1, 0.11: 1})\n",
      "['sender_seg_out', 'sender_avg_send_value', 'sender_read_bytes_io', 'sender_write_bytes_io', 'sender_tcp_snd_buffer_max', 'sender_ost_read', 'sender_pending_read_pages', 'sender_read_RPCs_in_flight', 'sender_remote_ost_read_bytes', 'sender_remote_ost_write_bytes', 'receiver_segs_in', 'receiver_write_bytes_io', 'receiver_ost_write', 'receiver_remote_ost_read_bytes', 'receiver_remote_ost_write_bytes']\n",
      "15\n"
     ]
    }
   ],
   "source": [
    "score = np.round(clf.feature_importances_, 2)\n",
    "\n",
    "# print(sorted(list(score), reverse=True))\n",
    "print(\"Cummulative Importance Score: \\n\", np.cumsum(sorted(list(score), reverse=True)))\n",
    "print(Counter(score))\n",
    "features = []\n",
    "for i in range(len(score)):\n",
    "    if score[i] >= 0.02:\n",
    "        features.append(X.columns[i])\n",
    "        # print(df.columns[i])\n",
    "print(features)\n",
    "print(len(features))\n"
   ],
   "metadata": {
    "collapsed": false,
    "pycharm": {
     "name": "#%%\n"
    }
   }
  },
  {
   "cell_type": "code",
   "execution_count": 247,
   "outputs": [
    {
     "name": "stdout",
     "output_type": "stream",
     "text": [
      "47.38\n"
     ]
    }
   ],
   "source": [
    "# utah_ssd_merged = pd.read_csv(filenames.get('utah_ssd_merged')).drop(['time_stamp', 'through_put'], axis=1)\n",
    "df_2 = emulab_hdd_merged.copy() # wisconsin_hdd_ssd_merged.copy()#utah_ssd_merged.copy()# wisconsin_ssd_merged.copy() #utah_ssd_merged_1g.copy() #wisconsin_ssd_merged.copy() #\n",
    "df_2 = normalize_df(df_2)\n",
    "df_2 = grouped_to_5_cat(df_2,161)\n",
    "# df_2 = wisconsin_ssd_merged.copy() #utah_ssd_merged.copy()#\n",
    "y_test = df_2.label_value\n",
    "X_test = df_2[features] #.drop(columns=\"label_value\")##[features] #.drop(columns=\"label_value\")\n",
    "# X_train, X_test, y_train, y_test = train_test_split(X,y)\n",
    "y_pred = clf.predict(X_test)\n",
    "print(np.round(metrics.accuracy_score(y_test, y_pred) * 100, 2))\n",
    "\n",
    "# y_pred_5cat = change_labels_5(y_pred, 21)#change_labels_21(y_pred, 161)\n",
    "# y_test_5cat = change_labels_5(y_test, 21)#change_labels_21(y_test, 161)\n",
    "# print(np.round(metrics.accuracy_score(y_test_5cat, y_pred_5cat) * 100, 2))"
   ],
   "metadata": {
    "collapsed": false,
    "pycharm": {
     "name": "#%%\n"
    }
   }
  },
  {
   "cell_type": "code",
   "execution_count": 42,
   "outputs": [],
   "source": [
    "def change_labels_5(y, total_possible_labels):\n",
    "    aggregated_labels = {}\n",
    "    for i in range(total_possible_labels + 1):\n",
    "        aggregated_labels[i] = i\n",
    "    # 0 is normal and is one group itself\n",
    "    # # group read together\n",
    "    for i in range(1, 55):\n",
    "        aggregated_labels.update({i: 1})\n",
    "\n",
    "    # group write together\n",
    "    for i in range(55, 109):\n",
    "        aggregated_labels.update({i: 55})\n",
    "    # group networks together\n",
    "    for i in range(109, 145):\n",
    "        aggregated_labels.update({i: 109})\n",
    "    # group tcp configs together\n",
    "    for i in range(145, 157):\n",
    "        aggregated_labels.update({i: 145})\n",
    "    # group with networks together\n",
    "    for i in range(157, 161):\n",
    "        aggregated_labels.update({i: 109})\n",
    "    y_new = np.array([aggregated_labels[int(i)] for i in y])\n",
    "    return y_new\n",
    "\n",
    "def change_labels_21(y, total_possible_labels):\n",
    "    aggregated_labels = {}\n",
    "    for i in range(total_possible_labels + 1):\n",
    "        aggregated_labels[i] = i\n",
    "    # 0 is normal and is one group itself\n",
    "    # group read_congestion_by_sender_sender_ost read levels together\n",
    "    for i in range(1, 10):\n",
    "        aggregated_labels.update({i: 1})\n",
    "    # group read_congestion_by_clients_on_sender_ost read levels together\n",
    "    for i in range(10, 19):\n",
    "        aggregated_labels.update({i: 10})\n",
    "    # group read_congestion_by_receiver_on_receiver_ost read levels together\n",
    "    for i in range(19, 28):\n",
    "        aggregated_labels.update({i: 19})\n",
    "    # group read_congestion_by_clients_on_receiver_ost read levels together\n",
    "    for i in range(28, 37):\n",
    "        aggregated_labels.update({i: 28})\n",
    "    # group read_congestion_by_sender_on_other_ost read levels together\n",
    "    for i in range(37, 46):\n",
    "        aggregated_labels.update({i: 37})\n",
    "    # group read_congestion_by_writer_on_other_ost read levels together\n",
    "    for i in range(46, 55):\n",
    "        aggregated_labels.update({i: 46})\n",
    "    # group write_congestion_by_sender_on_sender_ost read levels together\n",
    "    for i in range(55, 64):\n",
    "        aggregated_labels.update({i: 55})\n",
    "    # group write_congestion_by_clients_on_sender_ost read levels together\n",
    "    for i in range(64, 73):\n",
    "        aggregated_labels.update({i: 64})\n",
    "    # group write_congestion_by_receiver_on_receiver read levels together\n",
    "    for i in range(73, 82):\n",
    "        aggregated_labels.update({i: 73})\n",
    "    # group write_congestion_by_clients_on_receiver read levels together\n",
    "    for i in range(82, 91):\n",
    "        aggregated_labels.update({i: 82})\n",
    "    # group write_congestion_by_sender_on_other_ost read levels together\n",
    "    for i in range(91, 100):\n",
    "        aggregated_labels.update({i: 91})\n",
    "    # group write_congestion_by_receiver_on_other_ost read levels together\n",
    "    for i in range(100, 109):\n",
    "        aggregated_labels.update({i: 100})\n",
    "    # group network_anomaly_network_loss read levels together\n",
    "    for i in range(109, 113):\n",
    "        aggregated_labels.update({i: 109})\n",
    "    # group network_anomaly_network_delay read levels together\n",
    "    for i in range(113, 117):\n",
    "        aggregated_labels.update({i: 113})\n",
    "    # group network_anomaly_network_duplicate read levels together\n",
    "    for i in range(117, 129):\n",
    "        aggregated_labels.update({i: 117})\n",
    "    # group network_anomaly_network_corrupt read levels together\n",
    "    for i in range(129, 133):\n",
    "        aggregated_labels.update({i: 129})\n",
    "    # group network_anomaly_network_reorder read levels together\n",
    "    for i in range(133, 145):\n",
    "        aggregated_labels.update({i: 133})\n",
    "    # group sys_config_tcp_send read levels together\n",
    "    for i in range(145, 151):\n",
    "        aggregated_labels.update({i: 145})\n",
    "    # group sys_config_tcp_receive_buffer read levels together\n",
    "    for i in range(151, 157):\n",
    "        aggregated_labels.update({i: 151})\n",
    "    for i in range(157, 161):\n",
    "        aggregated_labels.update({i: 157})\n",
    "    y_new = np.array([aggregated_labels[int(i)] for i in y])\n",
    "    return y_new"
   ],
   "metadata": {
    "collapsed": false,
    "pycharm": {
     "name": "#%%\n"
    }
   }
  },
  {
   "cell_type": "code",
   "execution_count": 341,
   "outputs": [
    {
     "name": "stdout",
     "output_type": "stream",
     "text": [
      "94.25\n"
     ]
    },
    {
     "data": {
      "text/plain": "Counter({55: 2051, 109: 1379, 1: 1915, 145: 418, 0: 79})"
     },
     "execution_count": 341,
     "metadata": {},
     "output_type": "execute_result"
    }
   ],
   "source": [],
   "metadata": {
    "collapsed": false,
    "pycharm": {
     "name": "#%%\n"
    }
   }
  },
  {
   "cell_type": "code",
   "execution_count": 254,
   "metadata": {
    "pycharm": {
     "name": "#%%\n"
    }
   },
   "outputs": [
    {
     "name": "stdout",
     "output_type": "stream",
     "text": [
      "Cummulative Importance Score: \n",
      " [0.05 0.1  0.14 0.18 0.22 0.26 0.29 0.32 0.35 0.38 0.41 0.44 0.46 0.48\n",
      " 0.5  0.52 0.54 0.56 0.58 0.6  0.62 0.64 0.66 0.68 0.7  0.72 0.73 0.74\n",
      " 0.75 0.76 0.77 0.78 0.79 0.8  0.81 0.82 0.83 0.84 0.85 0.86 0.87 0.88\n",
      " 0.89 0.9  0.91 0.92 0.93 0.94 0.95 0.96 0.97 0.98 0.99 1.   1.   1.\n",
      " 1.   1.   1.   1.   1.   1.   1.   1.   1.   1.   1.   1.   1.   1.\n",
      " 1.   1.   1.   1.   1.   1.   1.   1.   1.   1.   1.   1.   1.   1.\n",
      " 1.   1.   1.   1.   1.   1.   1.   1.   1.   1.   1.   1.   1.   1.\n",
      " 1.   1.   1.   1.   1.   1.   1.   1.   1.   1.   1.   1.   1.   1.\n",
      " 1.   1.  ]\n",
      "Counter({0.0: 60, 0.01: 28, 0.02: 14, 0.03: 6, 0.04: 4, 0.05: 2})\n",
      "['sender_avg_rtt_value', 'sender_cwnd_rate', 'sender_byte_ack', 'sender_seg_out', 'sender_retrans', 'sender_ssthresh_value', 'sender_segs_in', 'sender_avg_send_value', 'sender_tcp_snd_buffer_min', 'sender_tcp_snd_buffer_max', 'sender_req_waittime', 'sender_req_active', 'sender_ost_read', 'sender_system_cpu_percent', 'sender_remote_ost_read_bytes', 'sender_remote_ost_write_bytes', 'receiver_seg_out', 'receiver_segs_in', 'receiver_req_waittime', 'receiver_req_active', 'receiver_write_bytes', 'receiver_ost_write', 'receiver_system_cpu_percent', 'receiver_system_memory_percent', 'receiver_remote_ost_read_bytes', 'receiver_remote_ost_write_bytes']\n",
      "26\n"
     ]
    }
   ],
   "source": [
    "score = np.round(clf.feature_importances_, 2)\n",
    "\n",
    "# print(sorted(list(score), reverse=True))\n",
    "print(\"Cummulative Importance Score: \\n\", np.cumsum(sorted(list(score), reverse=True)))\n",
    "print(Counter(score))\n",
    "features = []\n",
    "for i in range(len(score)):\n",
    "    if score[i] >= 0.02:\n",
    "        features.append(X.columns[i])\n",
    "        # print(df.columns[i])\n",
    "print(features)\n",
    "print(len(features))\n"
   ]
  },
  {
   "cell_type": "code",
   "execution_count": 623,
   "metadata": {
    "pycharm": {
     "name": "#%%\n"
    }
   },
   "outputs": [
    {
     "name": "stdout",
     "output_type": "stream",
     "text": [
      "(200, 14)\n",
      "78.5\n",
      "78.5\n"
     ]
    }
   ],
   "source": [
    "y_test = test_df.label_value\n",
    "X_test = test_df[features] #.drop(columns=\"label_value\")\n",
    "print(X_test.shape)\n",
    "y_pred = clf.predict(X_test)\n",
    "print(np.round(metrics.accuracy_score(y_test, y_pred) * 100, 2))\n",
    "# Counter(y_pred)\n",
    "y_pred_5cat = change_labels_5(y_pred, 21)#change_labels_21(y_pred, 161)\n",
    "y_test_5cat = change_labels_5(y_test, 21)#change_labels_21(y_test, 161)\n",
    "print(np.round(metrics.accuracy_score(y_test_5cat, y_pred_5cat) * 100, 2))\n",
    "# y_pred_5cat[y_pred_5cat[:]==55]\n",
    "# y_pred_5cat\n",
    "# Counter(y_pred_5cat)"
   ]
  },
  {
   "cell_type": "code",
   "execution_count": 624,
   "metadata": {
    "pycharm": {
     "name": "#%%\n"
    }
   },
   "outputs": [
    {
     "name": "stdout",
     "output_type": "stream",
     "text": [
      "(75, 14)\n",
      "0.0\n",
      "Counter({55: 67, 109: 4, 1: 3, 145: 1})\n",
      "0.0\n",
      "Counter({55: 67, 109: 4, 1: 3, 145: 1})\n"
     ]
    }
   ],
   "source": [
    "new_df = pd.read_csv('./montage_analysis/normal.csv').drop(['time_stamp', 'through_put'], axis=1)\n",
    "# new_df = pd.read_csv('./montage_analysis/montage_5_instance.csv').drop(['time_stamp', 'through_put'], axis=1)\n",
    "new_df = normalize_df(new_df)\n",
    "y_test = new_df.label_value\n",
    "X_test = new_df[features] #.drop(columns=\"label_value\")#[features] #.drop(columns=\"label_value\")\n",
    "print(X_test.shape)\n",
    "y_pred = clf.predict(X_test)\n",
    "print(np.round(metrics.accuracy_score(y_test, y_pred) * 100, 2))\n",
    "print(Counter(y_pred))\n",
    "# print(y_test)\n",
    "\n",
    "y_pred_5cat = change_labels_5(y_pred, 21)#change_labels_21(y_pred, 161)\n",
    "y_test_5cat = change_labels_5(y_test, 21)#change_labels(y_test, 161)\n",
    "print(np.round(metrics.accuracy_score(y_test_5cat, y_pred_5cat) * 100, 2))\n",
    "print(Counter(y_pred_5cat))\n",
    "# Counter(y_pred_5cat)\n",
    "# # new_df.loc[new_df['label_value']==0]\n",
    "# np.round(X_test.mean(), 2)\n",
    "# np.round(train_df[train_df.label_value == 0][features].std(), 2) / np.round(X_test.std(), 2)\n",
    "# train_df.groupby(\"label_value\").receiver_avg_waittime_md.mean()"
   ]
  },
  {
   "cell_type": "code",
   "execution_count": 339,
   "outputs": [
    {
     "data": {
      "text/plain": "       sender_seg_out  sender_avg_send_value  sender_read_bytes_io  \\\n20690        1.005575               0.950302              0.123931   \n20691        1.000994               0.959213              0.206490   \n20692        0.997941               1.211051              0.284193   \n20693        1.000960               0.956985              0.361896   \n20694        0.997975               0.957470              0.429885   \n...               ...                    ...                   ...   \n20869        0.998574               1.000670              1.546928   \n20870        0.998936               1.002123              1.614918   \n20871        0.999332               0.988853              1.692621   \n20872        0.996482               0.956598              1.760610   \n20873        1.003041               0.957567              1.838313   \n\n       sender_write_bytes_io  sender_ost_read  sender_ost_write  \\\n20690               0.789700         1.244204                 0   \n20691               0.789700         1.274414                 0   \n20692               0.789700         1.009496                 0   \n20693               0.789700         0.967473                 0   \n20694               0.888412         0.917339                 0   \n...                      ...              ...               ...   \n20869               1.085837         0.982869                 0   \n20870               1.085837         0.950554                 0   \n20871               1.085837         1.020092                 0   \n20872               1.085837         0.945740                 0   \n20873               1.085837         1.018491                 0   \n\n       sender_remote_ost_read_bytes  sender_remote_ost_write_bytes  \\\n20690                      1.253888                              0   \n20691                      1.093133                              0   \n20692                      1.028831                              0   \n20693                      1.028831                              0   \n20694                      0.900227                              0   \n...                             ...                            ...   \n20869                      1.028831                              0   \n20870                      0.900227                              0   \n20871                      1.028831                              0   \n20872                      0.964529                              0   \n20873                      0.964529                              0   \n\n       receiver_segs_in  receiver_write_bytes_io  ...  \\\n20690          0.982353                 0.076981  ...   \n20691          0.999238                 0.155995  ...   \n20692          0.999981                 0.234558  ...   \n20693          0.999756                 0.313779  ...   \n20694          0.999192                 0.392710  ...   \n...                 ...                      ...  ...   \n20869          1.000793                 1.579263  ...   \n20870          1.001165                 1.657398  ...   \n20871          1.001661                 1.737180  ...   \n20872          1.002777                 1.816239  ...   \n20873          0.999700                 1.894534  ...   \n\n       receiver_remote_ost_write_bytes  sender_read_bytes  \\\n20690                         0.980387           1.222378   \n20691                         1.013083           1.125874   \n20692                         1.012942           1.029371   \n20693                         0.980287           0.965035   \n20694                         1.012959           0.965035   \n...                                ...                ...   \n20869                         0.980291           0.997203   \n20870                         1.012944           0.932867   \n20871                         1.012981           1.029371   \n20872                         0.980242           0.900699   \n20873                         1.012957           1.029371   \n\n       receiver_write_bytes  sender_pending_read_pages  \\\n20690              0.980039                          1   \n20691              0.980055                          0   \n20692              1.012582                          0   \n20693              1.012608                          1   \n20694              0.979930                          0   \n...                     ...                        ...   \n20869              1.012598                          0   \n20870              0.979916                          0   \n20871              1.012621                          0   \n20872              0.979894                          3   \n20873              1.012598                          0   \n\n       sender_read_RPCs_in_flight  sender_send_buffer_value  \\\n20690                           0                 3069760.0   \n20691                           0                 2861864.0   \n20692                           0                 2937216.0   \n20693                           0                 3145056.0   \n20694                           0                 3219576.0   \n...                           ...                       ...   \n20869                           0                 3992224.0   \n20870                           0                 3801352.0   \n20871                           0                 3259320.0   \n20872                           0                 3649632.0   \n20873                           0                 3340536.0   \n\n       sender_req_active  receiver_req_active  sender_retrans  \\\n20690                109                   30             0.0   \n20691                100                   31             0.0   \n20692                 80                   30             0.0   \n20693                 80                   31             0.0   \n20694                 70                   30             0.0   \n...                  ...                  ...             ...   \n20869                 80                   31             0.0   \n20870                 70                   30             0.0   \n20871                 80                   31             0.0   \n20872                 80                   31             0.0   \n20873                 70                   30             0.0   \n\n       sender_cwnd_rate  \n20690            1895.0  \n20691            2051.0  \n20692            2187.0  \n20693            2187.0  \n20694            2187.0  \n...                 ...  \n20869            2184.0  \n20870            2184.0  \n20871            2184.0  \n20872            2184.0  \n20873            2184.0  \n\n[184 rows x 22 columns]",
      "text/html": "<div>\n<style scoped>\n    .dataframe tbody tr th:only-of-type {\n        vertical-align: middle;\n    }\n\n    .dataframe tbody tr th {\n        vertical-align: top;\n    }\n\n    .dataframe thead th {\n        text-align: right;\n    }\n</style>\n<table border=\"1\" class=\"dataframe\">\n  <thead>\n    <tr style=\"text-align: right;\">\n      <th></th>\n      <th>sender_seg_out</th>\n      <th>sender_avg_send_value</th>\n      <th>sender_read_bytes_io</th>\n      <th>sender_write_bytes_io</th>\n      <th>sender_ost_read</th>\n      <th>sender_ost_write</th>\n      <th>sender_remote_ost_read_bytes</th>\n      <th>sender_remote_ost_write_bytes</th>\n      <th>receiver_segs_in</th>\n      <th>receiver_write_bytes_io</th>\n      <th>...</th>\n      <th>receiver_remote_ost_write_bytes</th>\n      <th>sender_read_bytes</th>\n      <th>receiver_write_bytes</th>\n      <th>sender_pending_read_pages</th>\n      <th>sender_read_RPCs_in_flight</th>\n      <th>sender_send_buffer_value</th>\n      <th>sender_req_active</th>\n      <th>receiver_req_active</th>\n      <th>sender_retrans</th>\n      <th>sender_cwnd_rate</th>\n    </tr>\n  </thead>\n  <tbody>\n    <tr>\n      <th>20690</th>\n      <td>1.005575</td>\n      <td>0.950302</td>\n      <td>0.123931</td>\n      <td>0.789700</td>\n      <td>1.244204</td>\n      <td>0</td>\n      <td>1.253888</td>\n      <td>0</td>\n      <td>0.982353</td>\n      <td>0.076981</td>\n      <td>...</td>\n      <td>0.980387</td>\n      <td>1.222378</td>\n      <td>0.980039</td>\n      <td>1</td>\n      <td>0</td>\n      <td>3069760.0</td>\n      <td>109</td>\n      <td>30</td>\n      <td>0.0</td>\n      <td>1895.0</td>\n    </tr>\n    <tr>\n      <th>20691</th>\n      <td>1.000994</td>\n      <td>0.959213</td>\n      <td>0.206490</td>\n      <td>0.789700</td>\n      <td>1.274414</td>\n      <td>0</td>\n      <td>1.093133</td>\n      <td>0</td>\n      <td>0.999238</td>\n      <td>0.155995</td>\n      <td>...</td>\n      <td>1.013083</td>\n      <td>1.125874</td>\n      <td>0.980055</td>\n      <td>0</td>\n      <td>0</td>\n      <td>2861864.0</td>\n      <td>100</td>\n      <td>31</td>\n      <td>0.0</td>\n      <td>2051.0</td>\n    </tr>\n    <tr>\n      <th>20692</th>\n      <td>0.997941</td>\n      <td>1.211051</td>\n      <td>0.284193</td>\n      <td>0.789700</td>\n      <td>1.009496</td>\n      <td>0</td>\n      <td>1.028831</td>\n      <td>0</td>\n      <td>0.999981</td>\n      <td>0.234558</td>\n      <td>...</td>\n      <td>1.012942</td>\n      <td>1.029371</td>\n      <td>1.012582</td>\n      <td>0</td>\n      <td>0</td>\n      <td>2937216.0</td>\n      <td>80</td>\n      <td>30</td>\n      <td>0.0</td>\n      <td>2187.0</td>\n    </tr>\n    <tr>\n      <th>20693</th>\n      <td>1.000960</td>\n      <td>0.956985</td>\n      <td>0.361896</td>\n      <td>0.789700</td>\n      <td>0.967473</td>\n      <td>0</td>\n      <td>1.028831</td>\n      <td>0</td>\n      <td>0.999756</td>\n      <td>0.313779</td>\n      <td>...</td>\n      <td>0.980287</td>\n      <td>0.965035</td>\n      <td>1.012608</td>\n      <td>1</td>\n      <td>0</td>\n      <td>3145056.0</td>\n      <td>80</td>\n      <td>31</td>\n      <td>0.0</td>\n      <td>2187.0</td>\n    </tr>\n    <tr>\n      <th>20694</th>\n      <td>0.997975</td>\n      <td>0.957470</td>\n      <td>0.429885</td>\n      <td>0.888412</td>\n      <td>0.917339</td>\n      <td>0</td>\n      <td>0.900227</td>\n      <td>0</td>\n      <td>0.999192</td>\n      <td>0.392710</td>\n      <td>...</td>\n      <td>1.012959</td>\n      <td>0.965035</td>\n      <td>0.979930</td>\n      <td>0</td>\n      <td>0</td>\n      <td>3219576.0</td>\n      <td>70</td>\n      <td>30</td>\n      <td>0.0</td>\n      <td>2187.0</td>\n    </tr>\n    <tr>\n      <th>...</th>\n      <td>...</td>\n      <td>...</td>\n      <td>...</td>\n      <td>...</td>\n      <td>...</td>\n      <td>...</td>\n      <td>...</td>\n      <td>...</td>\n      <td>...</td>\n      <td>...</td>\n      <td>...</td>\n      <td>...</td>\n      <td>...</td>\n      <td>...</td>\n      <td>...</td>\n      <td>...</td>\n      <td>...</td>\n      <td>...</td>\n      <td>...</td>\n      <td>...</td>\n      <td>...</td>\n    </tr>\n    <tr>\n      <th>20869</th>\n      <td>0.998574</td>\n      <td>1.000670</td>\n      <td>1.546928</td>\n      <td>1.085837</td>\n      <td>0.982869</td>\n      <td>0</td>\n      <td>1.028831</td>\n      <td>0</td>\n      <td>1.000793</td>\n      <td>1.579263</td>\n      <td>...</td>\n      <td>0.980291</td>\n      <td>0.997203</td>\n      <td>1.012598</td>\n      <td>0</td>\n      <td>0</td>\n      <td>3992224.0</td>\n      <td>80</td>\n      <td>31</td>\n      <td>0.0</td>\n      <td>2184.0</td>\n    </tr>\n    <tr>\n      <th>20870</th>\n      <td>0.998936</td>\n      <td>1.002123</td>\n      <td>1.614918</td>\n      <td>1.085837</td>\n      <td>0.950554</td>\n      <td>0</td>\n      <td>0.900227</td>\n      <td>0</td>\n      <td>1.001165</td>\n      <td>1.657398</td>\n      <td>...</td>\n      <td>1.012944</td>\n      <td>0.932867</td>\n      <td>0.979916</td>\n      <td>0</td>\n      <td>0</td>\n      <td>3801352.0</td>\n      <td>70</td>\n      <td>30</td>\n      <td>0.0</td>\n      <td>2184.0</td>\n    </tr>\n    <tr>\n      <th>20871</th>\n      <td>0.999332</td>\n      <td>0.988853</td>\n      <td>1.692621</td>\n      <td>1.085837</td>\n      <td>1.020092</td>\n      <td>0</td>\n      <td>1.028831</td>\n      <td>0</td>\n      <td>1.001661</td>\n      <td>1.737180</td>\n      <td>...</td>\n      <td>1.012981</td>\n      <td>1.029371</td>\n      <td>1.012621</td>\n      <td>0</td>\n      <td>0</td>\n      <td>3259320.0</td>\n      <td>80</td>\n      <td>31</td>\n      <td>0.0</td>\n      <td>2184.0</td>\n    </tr>\n    <tr>\n      <th>20872</th>\n      <td>0.996482</td>\n      <td>0.956598</td>\n      <td>1.760610</td>\n      <td>1.085837</td>\n      <td>0.945740</td>\n      <td>0</td>\n      <td>0.964529</td>\n      <td>0</td>\n      <td>1.002777</td>\n      <td>1.816239</td>\n      <td>...</td>\n      <td>0.980242</td>\n      <td>0.900699</td>\n      <td>0.979894</td>\n      <td>3</td>\n      <td>0</td>\n      <td>3649632.0</td>\n      <td>80</td>\n      <td>31</td>\n      <td>0.0</td>\n      <td>2184.0</td>\n    </tr>\n    <tr>\n      <th>20873</th>\n      <td>1.003041</td>\n      <td>0.957567</td>\n      <td>1.838313</td>\n      <td>1.085837</td>\n      <td>1.018491</td>\n      <td>0</td>\n      <td>0.964529</td>\n      <td>0</td>\n      <td>0.999700</td>\n      <td>1.894534</td>\n      <td>...</td>\n      <td>1.012957</td>\n      <td>1.029371</td>\n      <td>1.012598</td>\n      <td>0</td>\n      <td>0</td>\n      <td>3340536.0</td>\n      <td>70</td>\n      <td>30</td>\n      <td>0.0</td>\n      <td>2184.0</td>\n    </tr>\n  </tbody>\n</table>\n<p>184 rows × 22 columns</p>\n</div>"
     },
     "execution_count": 339,
     "metadata": {},
     "output_type": "execute_result"
    }
   ],
   "source": [
    "df = utah_ssd_merged_1g.copy()\n",
    "df = normalize_df(df)\n",
    "df = grouped_to_5_cat(df,161)\n",
    "df[df.label_value==0][features]\n",
    "# df[features]"
   ],
   "metadata": {
    "collapsed": false,
    "pycharm": {
     "name": "#%%\n"
    }
   }
  },
  {
   "cell_type": "code",
   "execution_count": 369,
   "outputs": [
    {
     "data": {
      "text/plain": "       sender_seg_out  sender_avg_send_value  sender_read_bytes_io  \\\n269          0.780621               0.759296              0.058181   \n270          1.026358               0.899874              0.099571   \n271          0.914948               0.833291              0.131274   \n272          1.047866               0.825458              0.219339   \n273          1.028166               0.614781              0.258087   \n...               ...                    ...                   ...   \n40783        1.040666               0.893120              1.019332   \n40784        0.133780               1.172827              1.026377   \n40785        0.200713               0.834977              1.033422   \n40786        0.106026               1.004308              1.033422   \n40787        1.009227               1.048892              1.075693   \n\n       sender_write_bytes_io  sender_ost_read  sender_ost_write  \\\n269                 0.688539         0.459561                 0   \n270                 0.688539         0.909118                 0   \n271                 0.688539         0.826601                 0   \n272                 0.765044         1.072611                 0   \n273                 0.841548         1.104410                 0   \n...                      ...              ...               ...   \n40783               1.147566         1.095283                 0   \n40784               1.147566         0.170972                 0   \n40785               1.147566         1.707410                 0   \n40786               1.147566         0.524745                 0   \n40787               1.147566         1.988228                 0   \n\n       sender_remote_ost_read_bytes  sender_remote_ost_write_bytes  \\\n269                        0.935946                              0   \n270                        0.980515                              0   \n271                        0.935946                              0   \n272                        1.047368                              0   \n273                        1.047368                              0   \n...                             ...                            ...   \n40783                      1.047368                              0   \n40784                      0.431761                              0   \n40785                      0.465187                              0   \n40786                      0.420619                              0   \n40787                      1.013942                              0   \n\n       receiver_write_bytes_io  receiver_ost_write  ...  receiver_write_bytes  \\\n269                   0.028769            0.115366  ...              0.159633   \n270                   0.070108            0.163529  ...              0.273656   \n271                   0.144643            0.301768  ...              0.182437   \n272                   0.192329            0.310086  ...              0.296461   \n273                   0.234568            0.201087  ...              0.250851   \n...                        ...                 ...  ...                   ...   \n40783                 0.997118            0.279224  ...              0.980601   \n40784                 1.024893            0.302770  ...              0.729749   \n40785                 1.026096            0.000000  ...              0.000000   \n40786                 1.057583            0.448277  ...              0.456093   \n40787                 1.096787            1.049684  ...              0.934991   \n\n       receiver_segs_in  sender_pending_read_pages  \\\n269            0.747678                          6   \n270            0.920473                          9   \n271            0.930948                          6   \n272            1.062148                          9   \n273            1.030334                          9   \n...                 ...                        ...   \n40783          0.952921                          9   \n40784          0.563034                          9   \n40785          0.113956                          9   \n40786          0.693053                          9   \n40787          0.888360                          9   \n\n       sender_read_RPCs_in_flight  sender_send_buffer_value  \\\n269                             0                       0.0   \n270                             0                       0.0   \n271                             0                       0.0   \n272                          2048                       0.0   \n273                          4096                       0.0   \n...                           ...                       ...   \n40783                        4096                       0.0   \n40784                        5120                       0.0   \n40785                        4096                       0.0   \n40786                        5120                  701920.0   \n40787                        4096                       0.0   \n\n       sender_req_active  receiver_req_active  sender_retrans  \\\n269                  228                  716             0.0   \n270                  357                  770             0.0   \n271                  266                  821             0.0   \n272                  423                  749             0.0   \n273                  423                  892           334.0   \n...                  ...                  ...             ...   \n40783                423                  133             0.0   \n40784                 63                  128             0.0   \n40785                 81                    6             0.0   \n40786                 27                  225             0.0   \n40787                405                  387            45.0   \n\n       sender_cwnd_rate  receiver_tcp_rcv_buffer_max  \n269               322.0                      6291456  \n270               300.0                      6291456  \n271               289.0                      6291456  \n272               427.0                      6291456  \n273               381.0                      6291456  \n...                 ...                          ...  \n40783             450.0                      6291456  \n40784             456.0                      6291456  \n40785             359.0                      6291456  \n40786             350.0                      6291456  \n40787             436.0                      6291456  \n\n[13718 rows x 23 columns]",
      "text/html": "<div>\n<style scoped>\n    .dataframe tbody tr th:only-of-type {\n        vertical-align: middle;\n    }\n\n    .dataframe tbody tr th {\n        vertical-align: top;\n    }\n\n    .dataframe thead th {\n        text-align: right;\n    }\n</style>\n<table border=\"1\" class=\"dataframe\">\n  <thead>\n    <tr style=\"text-align: right;\">\n      <th></th>\n      <th>sender_seg_out</th>\n      <th>sender_avg_send_value</th>\n      <th>sender_read_bytes_io</th>\n      <th>sender_write_bytes_io</th>\n      <th>sender_ost_read</th>\n      <th>sender_ost_write</th>\n      <th>sender_remote_ost_read_bytes</th>\n      <th>sender_remote_ost_write_bytes</th>\n      <th>receiver_write_bytes_io</th>\n      <th>receiver_ost_write</th>\n      <th>...</th>\n      <th>receiver_write_bytes</th>\n      <th>receiver_segs_in</th>\n      <th>sender_pending_read_pages</th>\n      <th>sender_read_RPCs_in_flight</th>\n      <th>sender_send_buffer_value</th>\n      <th>sender_req_active</th>\n      <th>receiver_req_active</th>\n      <th>sender_retrans</th>\n      <th>sender_cwnd_rate</th>\n      <th>receiver_tcp_rcv_buffer_max</th>\n    </tr>\n  </thead>\n  <tbody>\n    <tr>\n      <th>269</th>\n      <td>0.780621</td>\n      <td>0.759296</td>\n      <td>0.058181</td>\n      <td>0.688539</td>\n      <td>0.459561</td>\n      <td>0</td>\n      <td>0.935946</td>\n      <td>0</td>\n      <td>0.028769</td>\n      <td>0.115366</td>\n      <td>...</td>\n      <td>0.159633</td>\n      <td>0.747678</td>\n      <td>6</td>\n      <td>0</td>\n      <td>0.0</td>\n      <td>228</td>\n      <td>716</td>\n      <td>0.0</td>\n      <td>322.0</td>\n      <td>6291456</td>\n    </tr>\n    <tr>\n      <th>270</th>\n      <td>1.026358</td>\n      <td>0.899874</td>\n      <td>0.099571</td>\n      <td>0.688539</td>\n      <td>0.909118</td>\n      <td>0</td>\n      <td>0.980515</td>\n      <td>0</td>\n      <td>0.070108</td>\n      <td>0.163529</td>\n      <td>...</td>\n      <td>0.273656</td>\n      <td>0.920473</td>\n      <td>9</td>\n      <td>0</td>\n      <td>0.0</td>\n      <td>357</td>\n      <td>770</td>\n      <td>0.0</td>\n      <td>300.0</td>\n      <td>6291456</td>\n    </tr>\n    <tr>\n      <th>271</th>\n      <td>0.914948</td>\n      <td>0.833291</td>\n      <td>0.131274</td>\n      <td>0.688539</td>\n      <td>0.826601</td>\n      <td>0</td>\n      <td>0.935946</td>\n      <td>0</td>\n      <td>0.144643</td>\n      <td>0.301768</td>\n      <td>...</td>\n      <td>0.182437</td>\n      <td>0.930948</td>\n      <td>6</td>\n      <td>0</td>\n      <td>0.0</td>\n      <td>266</td>\n      <td>821</td>\n      <td>0.0</td>\n      <td>289.0</td>\n      <td>6291456</td>\n    </tr>\n    <tr>\n      <th>272</th>\n      <td>1.047866</td>\n      <td>0.825458</td>\n      <td>0.219339</td>\n      <td>0.765044</td>\n      <td>1.072611</td>\n      <td>0</td>\n      <td>1.047368</td>\n      <td>0</td>\n      <td>0.192329</td>\n      <td>0.310086</td>\n      <td>...</td>\n      <td>0.296461</td>\n      <td>1.062148</td>\n      <td>9</td>\n      <td>2048</td>\n      <td>0.0</td>\n      <td>423</td>\n      <td>749</td>\n      <td>0.0</td>\n      <td>427.0</td>\n      <td>6291456</td>\n    </tr>\n    <tr>\n      <th>273</th>\n      <td>1.028166</td>\n      <td>0.614781</td>\n      <td>0.258087</td>\n      <td>0.841548</td>\n      <td>1.104410</td>\n      <td>0</td>\n      <td>1.047368</td>\n      <td>0</td>\n      <td>0.234568</td>\n      <td>0.201087</td>\n      <td>...</td>\n      <td>0.250851</td>\n      <td>1.030334</td>\n      <td>9</td>\n      <td>4096</td>\n      <td>0.0</td>\n      <td>423</td>\n      <td>892</td>\n      <td>334.0</td>\n      <td>381.0</td>\n      <td>6291456</td>\n    </tr>\n    <tr>\n      <th>...</th>\n      <td>...</td>\n      <td>...</td>\n      <td>...</td>\n      <td>...</td>\n      <td>...</td>\n      <td>...</td>\n      <td>...</td>\n      <td>...</td>\n      <td>...</td>\n      <td>...</td>\n      <td>...</td>\n      <td>...</td>\n      <td>...</td>\n      <td>...</td>\n      <td>...</td>\n      <td>...</td>\n      <td>...</td>\n      <td>...</td>\n      <td>...</td>\n      <td>...</td>\n      <td>...</td>\n    </tr>\n    <tr>\n      <th>40783</th>\n      <td>1.040666</td>\n      <td>0.893120</td>\n      <td>1.019332</td>\n      <td>1.147566</td>\n      <td>1.095283</td>\n      <td>0</td>\n      <td>1.047368</td>\n      <td>0</td>\n      <td>0.997118</td>\n      <td>0.279224</td>\n      <td>...</td>\n      <td>0.980601</td>\n      <td>0.952921</td>\n      <td>9</td>\n      <td>4096</td>\n      <td>0.0</td>\n      <td>423</td>\n      <td>133</td>\n      <td>0.0</td>\n      <td>450.0</td>\n      <td>6291456</td>\n    </tr>\n    <tr>\n      <th>40784</th>\n      <td>0.133780</td>\n      <td>1.172827</td>\n      <td>1.026377</td>\n      <td>1.147566</td>\n      <td>0.170972</td>\n      <td>0</td>\n      <td>0.431761</td>\n      <td>0</td>\n      <td>1.024893</td>\n      <td>0.302770</td>\n      <td>...</td>\n      <td>0.729749</td>\n      <td>0.563034</td>\n      <td>9</td>\n      <td>5120</td>\n      <td>0.0</td>\n      <td>63</td>\n      <td>128</td>\n      <td>0.0</td>\n      <td>456.0</td>\n      <td>6291456</td>\n    </tr>\n    <tr>\n      <th>40785</th>\n      <td>0.200713</td>\n      <td>0.834977</td>\n      <td>1.033422</td>\n      <td>1.147566</td>\n      <td>1.707410</td>\n      <td>0</td>\n      <td>0.465187</td>\n      <td>0</td>\n      <td>1.026096</td>\n      <td>0.000000</td>\n      <td>...</td>\n      <td>0.000000</td>\n      <td>0.113956</td>\n      <td>9</td>\n      <td>4096</td>\n      <td>0.0</td>\n      <td>81</td>\n      <td>6</td>\n      <td>0.0</td>\n      <td>359.0</td>\n      <td>6291456</td>\n    </tr>\n    <tr>\n      <th>40786</th>\n      <td>0.106026</td>\n      <td>1.004308</td>\n      <td>1.033422</td>\n      <td>1.147566</td>\n      <td>0.524745</td>\n      <td>0</td>\n      <td>0.420619</td>\n      <td>0</td>\n      <td>1.057583</td>\n      <td>0.448277</td>\n      <td>...</td>\n      <td>0.456093</td>\n      <td>0.693053</td>\n      <td>9</td>\n      <td>5120</td>\n      <td>701920.0</td>\n      <td>27</td>\n      <td>225</td>\n      <td>0.0</td>\n      <td>350.0</td>\n      <td>6291456</td>\n    </tr>\n    <tr>\n      <th>40787</th>\n      <td>1.009227</td>\n      <td>1.048892</td>\n      <td>1.075693</td>\n      <td>1.147566</td>\n      <td>1.988228</td>\n      <td>0</td>\n      <td>1.013942</td>\n      <td>0</td>\n      <td>1.096787</td>\n      <td>1.049684</td>\n      <td>...</td>\n      <td>0.934991</td>\n      <td>0.888360</td>\n      <td>9</td>\n      <td>4096</td>\n      <td>0.0</td>\n      <td>405</td>\n      <td>387</td>\n      <td>45.0</td>\n      <td>436.0</td>\n      <td>6291456</td>\n    </tr>\n  </tbody>\n</table>\n<p>13718 rows × 23 columns</p>\n</div>"
     },
     "execution_count": 369,
     "metadata": {},
     "output_type": "execute_result"
    }
   ],
   "source": [
    "df = emulab_hdd_merged.copy()\n",
    "df = normalize_df(df)\n",
    "df = grouped_to_5_cat(df,161)\n",
    "df[df.label_value==1][features]"
   ],
   "metadata": {
    "collapsed": false,
    "pycharm": {
     "name": "#%%\n"
    }
   }
  },
  {
   "cell_type": "code",
   "execution_count": 338,
   "outputs": [
    {
     "data": {
      "text/plain": "       sender_seg_out  sender_avg_send_value  sender_read_bytes_io  \\\n16948        1.065260               1.194257              0.124762   \n16949        1.059818               0.876858              0.224510   \n16950        1.062362               1.665855              0.324259   \n16951        1.055404               1.390089              0.424007   \n16952        0.746546               0.059441              0.591010   \n...               ...                    ...                   ...   \n17086        1.056281               1.053464              1.466895   \n17087        1.056406               1.186928              1.563621   \n17088        1.054684               1.437976              1.663370   \n17089        0.906665               1.695183              1.748005   \n17090        0.600426               1.590098              1.802413   \n\n       sender_write_bytes_io  sender_ost_read  sender_ost_write  \\\n16948               0.703135         0.989478                 0   \n16949               0.791026         1.099666                 0   \n16950               0.791026         1.098322                 0   \n16951               1.054702         1.091959                 0   \n16952               1.054702         0.808836                 0   \n...                      ...              ...               ...   \n17086               0.966810         1.095731                 0   \n17087               0.966810         1.106583                 0   \n17088               0.966810         1.095703                 0   \n17089               0.966810         1.109396                 0   \n17090               0.966810         0.395757                 0   \n\n       sender_remote_ost_read_bytes  sender_remote_ost_write_bytes  \\\n16948                      1.075735                              0   \n16949                      1.059559                              0   \n16950                      1.059559                              0   \n16951                      1.059559                              0   \n16952                      0.760294                              0   \n...                             ...                            ...   \n17086                      1.051471                              0   \n17087                      1.059559                              0   \n17088                      1.059559                              0   \n17089                      0.922059                              0   \n17090                      0.582353                              0   \n\n       receiver_segs_in  receiver_write_bytes_io  ...  \\\n16948          1.042083                 0.109400  ...   \n16949          1.040225                 0.210860  ...   \n16950          1.036636                 0.312944  ...   \n16951          1.042170                 0.414816  ...   \n16952          0.725474                 0.592522  ...   \n...                 ...                      ...  ...   \n17086          1.036837                 1.483676  ...   \n17087          1.038657                 1.584971  ...   \n17088          1.030115                 1.686099  ...   \n17089          0.845053                 1.773804  ...   \n17090          0.640632                 1.831609  ...   \n\n       receiver_remote_ost_write_bytes  sender_read_bytes  \\\n16948                         1.085844           1.130371   \n16949                         1.052690           1.057704   \n16950                         1.044401           1.057704   \n16951                         1.044401           1.049630   \n16952                         0.978090           0.799334   \n...                                ...                ...   \n17086                         0.920067           1.049630   \n17087                         0.944934           1.057704   \n17088                         0.828889           1.049630   \n17089                         0.812312           0.928519   \n17090                         0.804023           0.573260   \n\n       receiver_write_bytes  sender_pending_read_pages  \\\n16948              1.087672                          9   \n16949              1.046159                          9   \n16950              1.046159                          9   \n16951              1.054462                          9   \n16952              1.046159                          0   \n...                     ...                        ...   \n17086              0.929919                          8   \n17087              0.938222                          9   \n17088              0.846891                          9   \n17089              0.813679                          7   \n17090              0.813679                          9   \n\n       sender_read_RPCs_in_flight  sender_send_buffer_value  \\\n16948                        5120                  952264.0   \n16949                        6144                 1828800.0   \n16950                        3072                       0.0   \n16951                        4096                 2649304.0   \n16952                           0                 2973392.0   \n...                           ...                       ...   \n17086                        3072                 1083440.0   \n17087                        5120                  184824.0   \n17088                        2048                 2375680.0   \n17089                           0                 2785952.0   \n17090                        4096                 1921416.0   \n\n       sender_req_active  receiver_req_active  sender_retrans  \\\n16948               1147                  851             0.0   \n16949               1179                 1226             0.0   \n16950               1179                 1219             0.0   \n16951               1170                 1241             0.0   \n16952                788                 1152             1.0   \n...                  ...                  ...             ...   \n17086               1171                 1090             0.0   \n17087               1179                 1094             0.0   \n17088               1170                  968             0.0   \n17089               1019                  943             0.0   \n17090                440                  969             0.0   \n\n       sender_cwnd_rate  \n16948             591.0  \n16949             641.0  \n16950             659.0  \n16951             667.0  \n16952             476.0  \n...                 ...  \n17086             637.0  \n17087             657.0  \n17088             677.0  \n17089             691.0  \n17090             696.0  \n\n[143 rows x 22 columns]",
      "text/html": "<div>\n<style scoped>\n    .dataframe tbody tr th:only-of-type {\n        vertical-align: middle;\n    }\n\n    .dataframe tbody tr th {\n        vertical-align: top;\n    }\n\n    .dataframe thead th {\n        text-align: right;\n    }\n</style>\n<table border=\"1\" class=\"dataframe\">\n  <thead>\n    <tr style=\"text-align: right;\">\n      <th></th>\n      <th>sender_seg_out</th>\n      <th>sender_avg_send_value</th>\n      <th>sender_read_bytes_io</th>\n      <th>sender_write_bytes_io</th>\n      <th>sender_ost_read</th>\n      <th>sender_ost_write</th>\n      <th>sender_remote_ost_read_bytes</th>\n      <th>sender_remote_ost_write_bytes</th>\n      <th>receiver_segs_in</th>\n      <th>receiver_write_bytes_io</th>\n      <th>...</th>\n      <th>receiver_remote_ost_write_bytes</th>\n      <th>sender_read_bytes</th>\n      <th>receiver_write_bytes</th>\n      <th>sender_pending_read_pages</th>\n      <th>sender_read_RPCs_in_flight</th>\n      <th>sender_send_buffer_value</th>\n      <th>sender_req_active</th>\n      <th>receiver_req_active</th>\n      <th>sender_retrans</th>\n      <th>sender_cwnd_rate</th>\n    </tr>\n  </thead>\n  <tbody>\n    <tr>\n      <th>16948</th>\n      <td>1.065260</td>\n      <td>1.194257</td>\n      <td>0.124762</td>\n      <td>0.703135</td>\n      <td>0.989478</td>\n      <td>0</td>\n      <td>1.075735</td>\n      <td>0</td>\n      <td>1.042083</td>\n      <td>0.109400</td>\n      <td>...</td>\n      <td>1.085844</td>\n      <td>1.130371</td>\n      <td>1.087672</td>\n      <td>9</td>\n      <td>5120</td>\n      <td>952264.0</td>\n      <td>1147</td>\n      <td>851</td>\n      <td>0.0</td>\n      <td>591.0</td>\n    </tr>\n    <tr>\n      <th>16949</th>\n      <td>1.059818</td>\n      <td>0.876858</td>\n      <td>0.224510</td>\n      <td>0.791026</td>\n      <td>1.099666</td>\n      <td>0</td>\n      <td>1.059559</td>\n      <td>0</td>\n      <td>1.040225</td>\n      <td>0.210860</td>\n      <td>...</td>\n      <td>1.052690</td>\n      <td>1.057704</td>\n      <td>1.046159</td>\n      <td>9</td>\n      <td>6144</td>\n      <td>1828800.0</td>\n      <td>1179</td>\n      <td>1226</td>\n      <td>0.0</td>\n      <td>641.0</td>\n    </tr>\n    <tr>\n      <th>16950</th>\n      <td>1.062362</td>\n      <td>1.665855</td>\n      <td>0.324259</td>\n      <td>0.791026</td>\n      <td>1.098322</td>\n      <td>0</td>\n      <td>1.059559</td>\n      <td>0</td>\n      <td>1.036636</td>\n      <td>0.312944</td>\n      <td>...</td>\n      <td>1.044401</td>\n      <td>1.057704</td>\n      <td>1.046159</td>\n      <td>9</td>\n      <td>3072</td>\n      <td>0.0</td>\n      <td>1179</td>\n      <td>1219</td>\n      <td>0.0</td>\n      <td>659.0</td>\n    </tr>\n    <tr>\n      <th>16951</th>\n      <td>1.055404</td>\n      <td>1.390089</td>\n      <td>0.424007</td>\n      <td>1.054702</td>\n      <td>1.091959</td>\n      <td>0</td>\n      <td>1.059559</td>\n      <td>0</td>\n      <td>1.042170</td>\n      <td>0.414816</td>\n      <td>...</td>\n      <td>1.044401</td>\n      <td>1.049630</td>\n      <td>1.054462</td>\n      <td>9</td>\n      <td>4096</td>\n      <td>2649304.0</td>\n      <td>1170</td>\n      <td>1241</td>\n      <td>0.0</td>\n      <td>667.0</td>\n    </tr>\n    <tr>\n      <th>16952</th>\n      <td>0.746546</td>\n      <td>0.059441</td>\n      <td>0.591010</td>\n      <td>1.054702</td>\n      <td>0.808836</td>\n      <td>0</td>\n      <td>0.760294</td>\n      <td>0</td>\n      <td>0.725474</td>\n      <td>0.592522</td>\n      <td>...</td>\n      <td>0.978090</td>\n      <td>0.799334</td>\n      <td>1.046159</td>\n      <td>0</td>\n      <td>0</td>\n      <td>2973392.0</td>\n      <td>788</td>\n      <td>1152</td>\n      <td>1.0</td>\n      <td>476.0</td>\n    </tr>\n    <tr>\n      <th>...</th>\n      <td>...</td>\n      <td>...</td>\n      <td>...</td>\n      <td>...</td>\n      <td>...</td>\n      <td>...</td>\n      <td>...</td>\n      <td>...</td>\n      <td>...</td>\n      <td>...</td>\n      <td>...</td>\n      <td>...</td>\n      <td>...</td>\n      <td>...</td>\n      <td>...</td>\n      <td>...</td>\n      <td>...</td>\n      <td>...</td>\n      <td>...</td>\n      <td>...</td>\n      <td>...</td>\n    </tr>\n    <tr>\n      <th>17086</th>\n      <td>1.056281</td>\n      <td>1.053464</td>\n      <td>1.466895</td>\n      <td>0.966810</td>\n      <td>1.095731</td>\n      <td>0</td>\n      <td>1.051471</td>\n      <td>0</td>\n      <td>1.036837</td>\n      <td>1.483676</td>\n      <td>...</td>\n      <td>0.920067</td>\n      <td>1.049630</td>\n      <td>0.929919</td>\n      <td>8</td>\n      <td>3072</td>\n      <td>1083440.0</td>\n      <td>1171</td>\n      <td>1090</td>\n      <td>0.0</td>\n      <td>637.0</td>\n    </tr>\n    <tr>\n      <th>17087</th>\n      <td>1.056406</td>\n      <td>1.186928</td>\n      <td>1.563621</td>\n      <td>0.966810</td>\n      <td>1.106583</td>\n      <td>0</td>\n      <td>1.059559</td>\n      <td>0</td>\n      <td>1.038657</td>\n      <td>1.584971</td>\n      <td>...</td>\n      <td>0.944934</td>\n      <td>1.057704</td>\n      <td>0.938222</td>\n      <td>9</td>\n      <td>5120</td>\n      <td>184824.0</td>\n      <td>1179</td>\n      <td>1094</td>\n      <td>0.0</td>\n      <td>657.0</td>\n    </tr>\n    <tr>\n      <th>17088</th>\n      <td>1.054684</td>\n      <td>1.437976</td>\n      <td>1.663370</td>\n      <td>0.966810</td>\n      <td>1.095703</td>\n      <td>0</td>\n      <td>1.059559</td>\n      <td>0</td>\n      <td>1.030115</td>\n      <td>1.686099</td>\n      <td>...</td>\n      <td>0.828889</td>\n      <td>1.049630</td>\n      <td>0.846891</td>\n      <td>9</td>\n      <td>2048</td>\n      <td>2375680.0</td>\n      <td>1170</td>\n      <td>968</td>\n      <td>0.0</td>\n      <td>677.0</td>\n    </tr>\n    <tr>\n      <th>17089</th>\n      <td>0.906665</td>\n      <td>1.695183</td>\n      <td>1.748005</td>\n      <td>0.966810</td>\n      <td>1.109396</td>\n      <td>0</td>\n      <td>0.922059</td>\n      <td>0</td>\n      <td>0.845053</td>\n      <td>1.773804</td>\n      <td>...</td>\n      <td>0.812312</td>\n      <td>0.928519</td>\n      <td>0.813679</td>\n      <td>7</td>\n      <td>0</td>\n      <td>2785952.0</td>\n      <td>1019</td>\n      <td>943</td>\n      <td>0.0</td>\n      <td>691.0</td>\n    </tr>\n    <tr>\n      <th>17090</th>\n      <td>0.600426</td>\n      <td>1.590098</td>\n      <td>1.802413</td>\n      <td>0.966810</td>\n      <td>0.395757</td>\n      <td>0</td>\n      <td>0.582353</td>\n      <td>0</td>\n      <td>0.640632</td>\n      <td>1.831609</td>\n      <td>...</td>\n      <td>0.804023</td>\n      <td>0.573260</td>\n      <td>0.813679</td>\n      <td>9</td>\n      <td>4096</td>\n      <td>1921416.0</td>\n      <td>440</td>\n      <td>969</td>\n      <td>0.0</td>\n      <td>696.0</td>\n    </tr>\n  </tbody>\n</table>\n<p>143 rows × 22 columns</p>\n</div>"
     },
     "execution_count": 338,
     "metadata": {},
     "output_type": "execute_result"
    }
   ],
   "source": [
    "df = wisconsin_ssd_merged.copy()\n",
    "df = normalize_df(df)\n",
    "df = grouped_to_5_cat(df,161)\n",
    "df[df.label_value==0][features]"
   ],
   "metadata": {
    "collapsed": false,
    "pycharm": {
     "name": "#%%\n"
    }
   }
  },
  {
   "cell_type": "code",
   "execution_count": 249,
   "outputs": [
    {
     "data": {
      "text/plain": "      sender_seg_out  sender_avg_send_value  sender_read_bytes_io  \\\n9005        1.065260               1.194257              0.124762   \n9006        1.059818               0.876858              0.224510   \n9007        1.062362               1.665855              0.324259   \n9008        1.055404               1.390089              0.424007   \n9009        0.746546               0.059441              0.591010   \n...              ...                    ...                   ...   \n9143        1.056281               1.053464              1.466895   \n9144        1.056406               1.186928              1.563621   \n9145        1.054684               1.437976              1.663370   \n9146        0.906665               1.695183              1.748005   \n9147        0.600426               1.590098              1.802413   \n\n      sender_write_bytes_io  sender_ost_read  sender_ost_write  \\\n9005               0.703135         0.989478               0.0   \n9006               0.791026         1.099666               0.0   \n9007               0.791026         1.098322               0.0   \n9008               1.054702         1.091959               0.0   \n9009               1.054702         0.808836               0.0   \n...                     ...              ...               ...   \n9143               0.966810         1.095731               0.0   \n9144               0.966810         1.106583               0.0   \n9145               0.966810         1.095703               0.0   \n9146               0.966810         1.109396               0.0   \n9147               0.966810         0.395757               0.0   \n\n      sender_remote_ost_read_bytes  sender_remote_ost_write_bytes  \\\n9005                      1.075735                            0.0   \n9006                      1.059559                            0.0   \n9007                      1.059559                            0.0   \n9008                      1.059559                            0.0   \n9009                      0.760294                            0.0   \n...                            ...                            ...   \n9143                      1.051471                            0.0   \n9144                      1.059559                            0.0   \n9145                      1.059559                            0.0   \n9146                      0.922059                            0.0   \n9147                      0.582353                            0.0   \n\n      receiver_segs_in  receiver_write_bytes_io  ...  \\\n9005          1.042083                 0.109400  ...   \n9006          1.040225                 0.210860  ...   \n9007          1.036636                 0.312944  ...   \n9008          1.042170                 0.414816  ...   \n9009          0.725474                 0.592522  ...   \n...                ...                      ...  ...   \n9143          1.036837                 1.483676  ...   \n9144          1.038657                 1.584971  ...   \n9145          1.030115                 1.686099  ...   \n9146          0.845053                 1.773804  ...   \n9147          0.640632                 1.831609  ...   \n\n      receiver_remote_ost_read_bytes  receiver_remote_ost_write_bytes  \\\n9005                             0.0                         1.085844   \n9006                             0.0                         1.052690   \n9007                             0.0                         1.044401   \n9008                             0.0                         1.044401   \n9009                             0.0                         0.978090   \n...                              ...                              ...   \n9143                             0.0                         0.920067   \n9144                             0.0                         0.944934   \n9145                             0.0                         0.828889   \n9146                             0.0                         0.812312   \n9147                             0.0                         0.804023   \n\n      sender_read_bytes  receiver_write_bytes  sender_pending_read_pages  \\\n9005           1.130371              1.087672                          9   \n9006           1.057704              1.046159                          9   \n9007           1.057704              1.046159                          9   \n9008           1.049630              1.054462                          9   \n9009           0.799334              1.046159                          0   \n...                 ...                   ...                        ...   \n9143           1.049630              0.929919                          8   \n9144           1.057704              0.938222                          9   \n9145           1.049630              0.846891                          9   \n9146           0.928519              0.813679                          7   \n9147           0.573260              0.813679                          9   \n\n      sender_read_RPCs_in_flight  sender_send_buffer_value  sender_req_active  \\\n9005                        5120                  952264.0               1147   \n9006                        6144                 1828800.0               1179   \n9007                        3072                       0.0               1179   \n9008                        4096                 2649304.0               1170   \n9009                           0                 2973392.0                788   \n...                          ...                       ...                ...   \n9143                        3072                 1083440.0               1171   \n9144                        5120                  184824.0               1179   \n9145                        2048                 2375680.0               1170   \n9146                           0                 2785952.0               1019   \n9147                        4096                 1921416.0                440   \n\n      receiver_req_active  sender_segs_in  \n9005                  851          3560.0  \n9006                 1226          3164.0  \n9007                 1219          3401.0  \n9008                 1241          3147.0  \n9009                 1152          2275.0  \n...                   ...             ...  \n9143                 1090          3600.0  \n9144                 1094          3406.0  \n9145                  968          3178.0  \n9146                  943          2943.0  \n9147                  969          2030.0  \n\n[143 rows x 21 columns]",
      "text/html": "<div>\n<style scoped>\n    .dataframe tbody tr th:only-of-type {\n        vertical-align: middle;\n    }\n\n    .dataframe tbody tr th {\n        vertical-align: top;\n    }\n\n    .dataframe thead th {\n        text-align: right;\n    }\n</style>\n<table border=\"1\" class=\"dataframe\">\n  <thead>\n    <tr style=\"text-align: right;\">\n      <th></th>\n      <th>sender_seg_out</th>\n      <th>sender_avg_send_value</th>\n      <th>sender_read_bytes_io</th>\n      <th>sender_write_bytes_io</th>\n      <th>sender_ost_read</th>\n      <th>sender_ost_write</th>\n      <th>sender_remote_ost_read_bytes</th>\n      <th>sender_remote_ost_write_bytes</th>\n      <th>receiver_segs_in</th>\n      <th>receiver_write_bytes_io</th>\n      <th>...</th>\n      <th>receiver_remote_ost_read_bytes</th>\n      <th>receiver_remote_ost_write_bytes</th>\n      <th>sender_read_bytes</th>\n      <th>receiver_write_bytes</th>\n      <th>sender_pending_read_pages</th>\n      <th>sender_read_RPCs_in_flight</th>\n      <th>sender_send_buffer_value</th>\n      <th>sender_req_active</th>\n      <th>receiver_req_active</th>\n      <th>sender_segs_in</th>\n    </tr>\n  </thead>\n  <tbody>\n    <tr>\n      <th>9005</th>\n      <td>1.065260</td>\n      <td>1.194257</td>\n      <td>0.124762</td>\n      <td>0.703135</td>\n      <td>0.989478</td>\n      <td>0.0</td>\n      <td>1.075735</td>\n      <td>0.0</td>\n      <td>1.042083</td>\n      <td>0.109400</td>\n      <td>...</td>\n      <td>0.0</td>\n      <td>1.085844</td>\n      <td>1.130371</td>\n      <td>1.087672</td>\n      <td>9</td>\n      <td>5120</td>\n      <td>952264.0</td>\n      <td>1147</td>\n      <td>851</td>\n      <td>3560.0</td>\n    </tr>\n    <tr>\n      <th>9006</th>\n      <td>1.059818</td>\n      <td>0.876858</td>\n      <td>0.224510</td>\n      <td>0.791026</td>\n      <td>1.099666</td>\n      <td>0.0</td>\n      <td>1.059559</td>\n      <td>0.0</td>\n      <td>1.040225</td>\n      <td>0.210860</td>\n      <td>...</td>\n      <td>0.0</td>\n      <td>1.052690</td>\n      <td>1.057704</td>\n      <td>1.046159</td>\n      <td>9</td>\n      <td>6144</td>\n      <td>1828800.0</td>\n      <td>1179</td>\n      <td>1226</td>\n      <td>3164.0</td>\n    </tr>\n    <tr>\n      <th>9007</th>\n      <td>1.062362</td>\n      <td>1.665855</td>\n      <td>0.324259</td>\n      <td>0.791026</td>\n      <td>1.098322</td>\n      <td>0.0</td>\n      <td>1.059559</td>\n      <td>0.0</td>\n      <td>1.036636</td>\n      <td>0.312944</td>\n      <td>...</td>\n      <td>0.0</td>\n      <td>1.044401</td>\n      <td>1.057704</td>\n      <td>1.046159</td>\n      <td>9</td>\n      <td>3072</td>\n      <td>0.0</td>\n      <td>1179</td>\n      <td>1219</td>\n      <td>3401.0</td>\n    </tr>\n    <tr>\n      <th>9008</th>\n      <td>1.055404</td>\n      <td>1.390089</td>\n      <td>0.424007</td>\n      <td>1.054702</td>\n      <td>1.091959</td>\n      <td>0.0</td>\n      <td>1.059559</td>\n      <td>0.0</td>\n      <td>1.042170</td>\n      <td>0.414816</td>\n      <td>...</td>\n      <td>0.0</td>\n      <td>1.044401</td>\n      <td>1.049630</td>\n      <td>1.054462</td>\n      <td>9</td>\n      <td>4096</td>\n      <td>2649304.0</td>\n      <td>1170</td>\n      <td>1241</td>\n      <td>3147.0</td>\n    </tr>\n    <tr>\n      <th>9009</th>\n      <td>0.746546</td>\n      <td>0.059441</td>\n      <td>0.591010</td>\n      <td>1.054702</td>\n      <td>0.808836</td>\n      <td>0.0</td>\n      <td>0.760294</td>\n      <td>0.0</td>\n      <td>0.725474</td>\n      <td>0.592522</td>\n      <td>...</td>\n      <td>0.0</td>\n      <td>0.978090</td>\n      <td>0.799334</td>\n      <td>1.046159</td>\n      <td>0</td>\n      <td>0</td>\n      <td>2973392.0</td>\n      <td>788</td>\n      <td>1152</td>\n      <td>2275.0</td>\n    </tr>\n    <tr>\n      <th>...</th>\n      <td>...</td>\n      <td>...</td>\n      <td>...</td>\n      <td>...</td>\n      <td>...</td>\n      <td>...</td>\n      <td>...</td>\n      <td>...</td>\n      <td>...</td>\n      <td>...</td>\n      <td>...</td>\n      <td>...</td>\n      <td>...</td>\n      <td>...</td>\n      <td>...</td>\n      <td>...</td>\n      <td>...</td>\n      <td>...</td>\n      <td>...</td>\n      <td>...</td>\n      <td>...</td>\n    </tr>\n    <tr>\n      <th>9143</th>\n      <td>1.056281</td>\n      <td>1.053464</td>\n      <td>1.466895</td>\n      <td>0.966810</td>\n      <td>1.095731</td>\n      <td>0.0</td>\n      <td>1.051471</td>\n      <td>0.0</td>\n      <td>1.036837</td>\n      <td>1.483676</td>\n      <td>...</td>\n      <td>0.0</td>\n      <td>0.920067</td>\n      <td>1.049630</td>\n      <td>0.929919</td>\n      <td>8</td>\n      <td>3072</td>\n      <td>1083440.0</td>\n      <td>1171</td>\n      <td>1090</td>\n      <td>3600.0</td>\n    </tr>\n    <tr>\n      <th>9144</th>\n      <td>1.056406</td>\n      <td>1.186928</td>\n      <td>1.563621</td>\n      <td>0.966810</td>\n      <td>1.106583</td>\n      <td>0.0</td>\n      <td>1.059559</td>\n      <td>0.0</td>\n      <td>1.038657</td>\n      <td>1.584971</td>\n      <td>...</td>\n      <td>0.0</td>\n      <td>0.944934</td>\n      <td>1.057704</td>\n      <td>0.938222</td>\n      <td>9</td>\n      <td>5120</td>\n      <td>184824.0</td>\n      <td>1179</td>\n      <td>1094</td>\n      <td>3406.0</td>\n    </tr>\n    <tr>\n      <th>9145</th>\n      <td>1.054684</td>\n      <td>1.437976</td>\n      <td>1.663370</td>\n      <td>0.966810</td>\n      <td>1.095703</td>\n      <td>0.0</td>\n      <td>1.059559</td>\n      <td>0.0</td>\n      <td>1.030115</td>\n      <td>1.686099</td>\n      <td>...</td>\n      <td>0.0</td>\n      <td>0.828889</td>\n      <td>1.049630</td>\n      <td>0.846891</td>\n      <td>9</td>\n      <td>2048</td>\n      <td>2375680.0</td>\n      <td>1170</td>\n      <td>968</td>\n      <td>3178.0</td>\n    </tr>\n    <tr>\n      <th>9146</th>\n      <td>0.906665</td>\n      <td>1.695183</td>\n      <td>1.748005</td>\n      <td>0.966810</td>\n      <td>1.109396</td>\n      <td>0.0</td>\n      <td>0.922059</td>\n      <td>0.0</td>\n      <td>0.845053</td>\n      <td>1.773804</td>\n      <td>...</td>\n      <td>0.0</td>\n      <td>0.812312</td>\n      <td>0.928519</td>\n      <td>0.813679</td>\n      <td>7</td>\n      <td>0</td>\n      <td>2785952.0</td>\n      <td>1019</td>\n      <td>943</td>\n      <td>2943.0</td>\n    </tr>\n    <tr>\n      <th>9147</th>\n      <td>0.600426</td>\n      <td>1.590098</td>\n      <td>1.802413</td>\n      <td>0.966810</td>\n      <td>0.395757</td>\n      <td>0.0</td>\n      <td>0.582353</td>\n      <td>0.0</td>\n      <td>0.640632</td>\n      <td>1.831609</td>\n      <td>...</td>\n      <td>0.0</td>\n      <td>0.804023</td>\n      <td>0.573260</td>\n      <td>0.813679</td>\n      <td>9</td>\n      <td>4096</td>\n      <td>1921416.0</td>\n      <td>440</td>\n      <td>969</td>\n      <td>2030.0</td>\n    </tr>\n  </tbody>\n</table>\n<p>143 rows × 21 columns</p>\n</div>"
     },
     "execution_count": 249,
     "metadata": {},
     "output_type": "execute_result"
    }
   ],
   "source": [
    "df[df.label_value==0][features]\n"
   ],
   "metadata": {
    "collapsed": false,
    "pycharm": {
     "name": "#%%\n"
    }
   }
  },
  {
   "cell_type": "code",
   "execution_count": 245,
   "outputs": [
    {
     "data": {
      "text/plain": "      sender_seg_out  sender_avg_send_value  sender_read_bytes_io  \\\n9005        1.065260               1.194257              0.124762   \n9006        1.059818               0.876858              0.224510   \n9007        1.062362               1.665855              0.324259   \n9008        1.055404               1.390089              0.424007   \n9009        0.746546               0.059441              0.591010   \n...              ...                    ...                   ...   \n9143        1.056281               1.053464              1.466895   \n9144        1.056406               1.186928              1.563621   \n9145        1.054684               1.437976              1.663370   \n9146        0.906665               1.695183              1.748005   \n9147        0.600426               1.590098              1.802413   \n\n      sender_write_bytes_io  sender_ost_read  sender_ost_write  \\\n9005               0.703135         0.989478               0.0   \n9006               0.791026         1.099666               0.0   \n9007               0.791026         1.098322               0.0   \n9008               1.054702         1.091959               0.0   \n9009               1.054702         0.808836               0.0   \n...                     ...              ...               ...   \n9143               0.966810         1.095731               0.0   \n9144               0.966810         1.106583               0.0   \n9145               0.966810         1.095703               0.0   \n9146               0.966810         1.109396               0.0   \n9147               0.966810         0.395757               0.0   \n\n      sender_remote_ost_read_bytes  sender_remote_ost_write_bytes  \\\n9005                      1.075735                            0.0   \n9006                      1.059559                            0.0   \n9007                      1.059559                            0.0   \n9008                      1.059559                            0.0   \n9009                      0.760294                            0.0   \n...                            ...                            ...   \n9143                      1.051471                            0.0   \n9144                      1.059559                            0.0   \n9145                      1.059559                            0.0   \n9146                      0.922059                            0.0   \n9147                      0.582353                            0.0   \n\n      receiver_segs_in  receiver_write_bytes_io  ...  \\\n9005          1.042083                 0.109400  ...   \n9006          1.040225                 0.210860  ...   \n9007          1.036636                 0.312944  ...   \n9008          1.042170                 0.414816  ...   \n9009          0.725474                 0.592522  ...   \n...                ...                      ...  ...   \n9143          1.036837                 1.483676  ...   \n9144          1.038657                 1.584971  ...   \n9145          1.030115                 1.686099  ...   \n9146          0.845053                 1.773804  ...   \n9147          0.640632                 1.831609  ...   \n\n      receiver_remote_ost_read_bytes  receiver_remote_ost_write_bytes  \\\n9005                             0.0                         1.085844   \n9006                             0.0                         1.052690   \n9007                             0.0                         1.044401   \n9008                             0.0                         1.044401   \n9009                             0.0                         0.978090   \n...                              ...                              ...   \n9143                             0.0                         0.920067   \n9144                             0.0                         0.944934   \n9145                             0.0                         0.828889   \n9146                             0.0                         0.812312   \n9147                             0.0                         0.804023   \n\n      sender_read_bytes  receiver_write_bytes  sender_pending_read_pages  \\\n9005           1.130371              1.087672                          9   \n9006           1.057704              1.046159                          9   \n9007           1.057704              1.046159                          9   \n9008           1.049630              1.054462                          9   \n9009           0.799334              1.046159                          0   \n...                 ...                   ...                        ...   \n9143           1.049630              0.929919                          8   \n9144           1.057704              0.938222                          9   \n9145           1.049630              0.846891                          9   \n9146           0.928519              0.813679                          7   \n9147           0.573260              0.813679                          9   \n\n      sender_read_RPCs_in_flight  sender_send_buffer_value  sender_req_active  \\\n9005                        5120                  952264.0               1147   \n9006                        6144                 1828800.0               1179   \n9007                        3072                       0.0               1179   \n9008                        4096                 2649304.0               1170   \n9009                           0                 2973392.0                788   \n...                          ...                       ...                ...   \n9143                        3072                 1083440.0               1171   \n9144                        5120                  184824.0               1179   \n9145                        2048                 2375680.0               1170   \n9146                           0                 2785952.0               1019   \n9147                        4096                 1921416.0                440   \n\n      receiver_req_active  sender_segs_in  \n9005                  851          3560.0  \n9006                 1226          3164.0  \n9007                 1219          3401.0  \n9008                 1241          3147.0  \n9009                 1152          2275.0  \n...                   ...             ...  \n9143                 1090          3600.0  \n9144                 1094          3406.0  \n9145                  968          3178.0  \n9146                  943          2943.0  \n9147                  969          2030.0  \n\n[143 rows x 21 columns]",
      "text/html": "<div>\n<style scoped>\n    .dataframe tbody tr th:only-of-type {\n        vertical-align: middle;\n    }\n\n    .dataframe tbody tr th {\n        vertical-align: top;\n    }\n\n    .dataframe thead th {\n        text-align: right;\n    }\n</style>\n<table border=\"1\" class=\"dataframe\">\n  <thead>\n    <tr style=\"text-align: right;\">\n      <th></th>\n      <th>sender_seg_out</th>\n      <th>sender_avg_send_value</th>\n      <th>sender_read_bytes_io</th>\n      <th>sender_write_bytes_io</th>\n      <th>sender_ost_read</th>\n      <th>sender_ost_write</th>\n      <th>sender_remote_ost_read_bytes</th>\n      <th>sender_remote_ost_write_bytes</th>\n      <th>receiver_segs_in</th>\n      <th>receiver_write_bytes_io</th>\n      <th>...</th>\n      <th>receiver_remote_ost_read_bytes</th>\n      <th>receiver_remote_ost_write_bytes</th>\n      <th>sender_read_bytes</th>\n      <th>receiver_write_bytes</th>\n      <th>sender_pending_read_pages</th>\n      <th>sender_read_RPCs_in_flight</th>\n      <th>sender_send_buffer_value</th>\n      <th>sender_req_active</th>\n      <th>receiver_req_active</th>\n      <th>sender_segs_in</th>\n    </tr>\n  </thead>\n  <tbody>\n    <tr>\n      <th>9005</th>\n      <td>1.065260</td>\n      <td>1.194257</td>\n      <td>0.124762</td>\n      <td>0.703135</td>\n      <td>0.989478</td>\n      <td>0.0</td>\n      <td>1.075735</td>\n      <td>0.0</td>\n      <td>1.042083</td>\n      <td>0.109400</td>\n      <td>...</td>\n      <td>0.0</td>\n      <td>1.085844</td>\n      <td>1.130371</td>\n      <td>1.087672</td>\n      <td>9</td>\n      <td>5120</td>\n      <td>952264.0</td>\n      <td>1147</td>\n      <td>851</td>\n      <td>3560.0</td>\n    </tr>\n    <tr>\n      <th>9006</th>\n      <td>1.059818</td>\n      <td>0.876858</td>\n      <td>0.224510</td>\n      <td>0.791026</td>\n      <td>1.099666</td>\n      <td>0.0</td>\n      <td>1.059559</td>\n      <td>0.0</td>\n      <td>1.040225</td>\n      <td>0.210860</td>\n      <td>...</td>\n      <td>0.0</td>\n      <td>1.052690</td>\n      <td>1.057704</td>\n      <td>1.046159</td>\n      <td>9</td>\n      <td>6144</td>\n      <td>1828800.0</td>\n      <td>1179</td>\n      <td>1226</td>\n      <td>3164.0</td>\n    </tr>\n    <tr>\n      <th>9007</th>\n      <td>1.062362</td>\n      <td>1.665855</td>\n      <td>0.324259</td>\n      <td>0.791026</td>\n      <td>1.098322</td>\n      <td>0.0</td>\n      <td>1.059559</td>\n      <td>0.0</td>\n      <td>1.036636</td>\n      <td>0.312944</td>\n      <td>...</td>\n      <td>0.0</td>\n      <td>1.044401</td>\n      <td>1.057704</td>\n      <td>1.046159</td>\n      <td>9</td>\n      <td>3072</td>\n      <td>0.0</td>\n      <td>1179</td>\n      <td>1219</td>\n      <td>3401.0</td>\n    </tr>\n    <tr>\n      <th>9008</th>\n      <td>1.055404</td>\n      <td>1.390089</td>\n      <td>0.424007</td>\n      <td>1.054702</td>\n      <td>1.091959</td>\n      <td>0.0</td>\n      <td>1.059559</td>\n      <td>0.0</td>\n      <td>1.042170</td>\n      <td>0.414816</td>\n      <td>...</td>\n      <td>0.0</td>\n      <td>1.044401</td>\n      <td>1.049630</td>\n      <td>1.054462</td>\n      <td>9</td>\n      <td>4096</td>\n      <td>2649304.0</td>\n      <td>1170</td>\n      <td>1241</td>\n      <td>3147.0</td>\n    </tr>\n    <tr>\n      <th>9009</th>\n      <td>0.746546</td>\n      <td>0.059441</td>\n      <td>0.591010</td>\n      <td>1.054702</td>\n      <td>0.808836</td>\n      <td>0.0</td>\n      <td>0.760294</td>\n      <td>0.0</td>\n      <td>0.725474</td>\n      <td>0.592522</td>\n      <td>...</td>\n      <td>0.0</td>\n      <td>0.978090</td>\n      <td>0.799334</td>\n      <td>1.046159</td>\n      <td>0</td>\n      <td>0</td>\n      <td>2973392.0</td>\n      <td>788</td>\n      <td>1152</td>\n      <td>2275.0</td>\n    </tr>\n    <tr>\n      <th>...</th>\n      <td>...</td>\n      <td>...</td>\n      <td>...</td>\n      <td>...</td>\n      <td>...</td>\n      <td>...</td>\n      <td>...</td>\n      <td>...</td>\n      <td>...</td>\n      <td>...</td>\n      <td>...</td>\n      <td>...</td>\n      <td>...</td>\n      <td>...</td>\n      <td>...</td>\n      <td>...</td>\n      <td>...</td>\n      <td>...</td>\n      <td>...</td>\n      <td>...</td>\n      <td>...</td>\n    </tr>\n    <tr>\n      <th>9143</th>\n      <td>1.056281</td>\n      <td>1.053464</td>\n      <td>1.466895</td>\n      <td>0.966810</td>\n      <td>1.095731</td>\n      <td>0.0</td>\n      <td>1.051471</td>\n      <td>0.0</td>\n      <td>1.036837</td>\n      <td>1.483676</td>\n      <td>...</td>\n      <td>0.0</td>\n      <td>0.920067</td>\n      <td>1.049630</td>\n      <td>0.929919</td>\n      <td>8</td>\n      <td>3072</td>\n      <td>1083440.0</td>\n      <td>1171</td>\n      <td>1090</td>\n      <td>3600.0</td>\n    </tr>\n    <tr>\n      <th>9144</th>\n      <td>1.056406</td>\n      <td>1.186928</td>\n      <td>1.563621</td>\n      <td>0.966810</td>\n      <td>1.106583</td>\n      <td>0.0</td>\n      <td>1.059559</td>\n      <td>0.0</td>\n      <td>1.038657</td>\n      <td>1.584971</td>\n      <td>...</td>\n      <td>0.0</td>\n      <td>0.944934</td>\n      <td>1.057704</td>\n      <td>0.938222</td>\n      <td>9</td>\n      <td>5120</td>\n      <td>184824.0</td>\n      <td>1179</td>\n      <td>1094</td>\n      <td>3406.0</td>\n    </tr>\n    <tr>\n      <th>9145</th>\n      <td>1.054684</td>\n      <td>1.437976</td>\n      <td>1.663370</td>\n      <td>0.966810</td>\n      <td>1.095703</td>\n      <td>0.0</td>\n      <td>1.059559</td>\n      <td>0.0</td>\n      <td>1.030115</td>\n      <td>1.686099</td>\n      <td>...</td>\n      <td>0.0</td>\n      <td>0.828889</td>\n      <td>1.049630</td>\n      <td>0.846891</td>\n      <td>9</td>\n      <td>2048</td>\n      <td>2375680.0</td>\n      <td>1170</td>\n      <td>968</td>\n      <td>3178.0</td>\n    </tr>\n    <tr>\n      <th>9146</th>\n      <td>0.906665</td>\n      <td>1.695183</td>\n      <td>1.748005</td>\n      <td>0.966810</td>\n      <td>1.109396</td>\n      <td>0.0</td>\n      <td>0.922059</td>\n      <td>0.0</td>\n      <td>0.845053</td>\n      <td>1.773804</td>\n      <td>...</td>\n      <td>0.0</td>\n      <td>0.812312</td>\n      <td>0.928519</td>\n      <td>0.813679</td>\n      <td>7</td>\n      <td>0</td>\n      <td>2785952.0</td>\n      <td>1019</td>\n      <td>943</td>\n      <td>2943.0</td>\n    </tr>\n    <tr>\n      <th>9147</th>\n      <td>0.600426</td>\n      <td>1.590098</td>\n      <td>1.802413</td>\n      <td>0.966810</td>\n      <td>0.395757</td>\n      <td>0.0</td>\n      <td>0.582353</td>\n      <td>0.0</td>\n      <td>0.640632</td>\n      <td>1.831609</td>\n      <td>...</td>\n      <td>0.0</td>\n      <td>0.804023</td>\n      <td>0.573260</td>\n      <td>0.813679</td>\n      <td>9</td>\n      <td>4096</td>\n      <td>1921416.0</td>\n      <td>440</td>\n      <td>969</td>\n      <td>2030.0</td>\n    </tr>\n  </tbody>\n</table>\n<p>143 rows × 21 columns</p>\n</div>"
     },
     "execution_count": 245,
     "metadata": {},
     "output_type": "execute_result"
    }
   ],
   "source": [
    "df[df.label_value == 0][features]"
   ],
   "metadata": {
    "collapsed": false,
    "pycharm": {
     "name": "#%%\n"
    }
   }
  },
  {
   "cell_type": "code",
   "execution_count": 589,
   "outputs": [
    {
     "data": {
      "text/plain": "      sender_seg_out  sender_avg_send_value  sender_tcp_snd_buffer_max  \\\n9005           1.065                  1.194                    4194304   \n9006           1.060                  0.877                    4194304   \n9007           1.062                  1.666                    4194304   \n9008           1.055                  1.390                    4194304   \n9009           0.747                  0.059                    4194304   \n...              ...                    ...                        ...   \n9143           1.056                  1.053                    4194304   \n9144           1.056                  1.187                    4194304   \n9145           1.055                  1.438                    4194304   \n9146           0.907                  1.695                    4194304   \n9147           0.600                  1.590                    4194304   \n\n      sender_read_bytes  sender_ost_read  sender_remote_ost_read_bytes  \\\n9005              1.130            0.989                         1.076   \n9006              1.058            1.100                         1.060   \n9007              1.058            1.098                         1.060   \n9008              1.050            1.092                         1.060   \n9009              0.799            0.809                         0.760   \n...                 ...              ...                           ...   \n9143              1.050            1.096                         1.051   \n9144              1.058            1.107                         1.060   \n9145              1.050            1.096                         1.060   \n9146              0.929            1.109                         0.922   \n9147              0.573            0.396                         0.582   \n\n      sender_remote_ost_write_bytes  receiver_seg_out  receiver_segs_in  \\\n9005                            0.0            3590.0             1.042   \n9006                            0.0            3200.0             1.040   \n9007                            0.0            3408.0             1.037   \n9008                            0.0            3201.0             1.042   \n9009                            0.0            2288.0             0.725   \n...                             ...               ...               ...   \n9143                            0.0            3610.0             1.037   \n9144                            0.0            3424.0             1.039   \n9145                            0.0            3242.0             1.030   \n9146                            0.0            2822.0             0.845   \n9147                            0.0            2243.0             0.641   \n\n      receiver_write_bytes  receiver_ost_write  \\\n9005                 1.088               0.639   \n9006                 1.046               1.038   \n9007                 1.046               1.046   \n9008                 1.054               1.041   \n9009                 1.046               1.023   \n...                    ...                 ...   \n9143                 0.930               1.051   \n9144                 0.938               1.045   \n9145                 0.847               0.996   \n9146                 0.814               1.096   \n9147                 0.814               0.912   \n\n      receiver_remote_ost_read_bytes  receiver_remote_ost_write_bytes  \n9005                             0.0                            1.086  \n9006                             0.0                            1.053  \n9007                             0.0                            1.044  \n9008                             0.0                            1.044  \n9009                             0.0                            0.978  \n...                              ...                              ...  \n9143                             0.0                            0.920  \n9144                             0.0                            0.945  \n9145                             0.0                            0.829  \n9146                             0.0                            0.812  \n9147                             0.0                            0.804  \n\n[143 rows x 13 columns]",
      "text/html": "<div>\n<style scoped>\n    .dataframe tbody tr th:only-of-type {\n        vertical-align: middle;\n    }\n\n    .dataframe tbody tr th {\n        vertical-align: top;\n    }\n\n    .dataframe thead th {\n        text-align: right;\n    }\n</style>\n<table border=\"1\" class=\"dataframe\">\n  <thead>\n    <tr style=\"text-align: right;\">\n      <th></th>\n      <th>sender_seg_out</th>\n      <th>sender_avg_send_value</th>\n      <th>sender_tcp_snd_buffer_max</th>\n      <th>sender_read_bytes</th>\n      <th>sender_ost_read</th>\n      <th>sender_remote_ost_read_bytes</th>\n      <th>sender_remote_ost_write_bytes</th>\n      <th>receiver_seg_out</th>\n      <th>receiver_segs_in</th>\n      <th>receiver_write_bytes</th>\n      <th>receiver_ost_write</th>\n      <th>receiver_remote_ost_read_bytes</th>\n      <th>receiver_remote_ost_write_bytes</th>\n    </tr>\n  </thead>\n  <tbody>\n    <tr>\n      <th>9005</th>\n      <td>1.065</td>\n      <td>1.194</td>\n      <td>4194304</td>\n      <td>1.130</td>\n      <td>0.989</td>\n      <td>1.076</td>\n      <td>0.0</td>\n      <td>3590.0</td>\n      <td>1.042</td>\n      <td>1.088</td>\n      <td>0.639</td>\n      <td>0.0</td>\n      <td>1.086</td>\n    </tr>\n    <tr>\n      <th>9006</th>\n      <td>1.060</td>\n      <td>0.877</td>\n      <td>4194304</td>\n      <td>1.058</td>\n      <td>1.100</td>\n      <td>1.060</td>\n      <td>0.0</td>\n      <td>3200.0</td>\n      <td>1.040</td>\n      <td>1.046</td>\n      <td>1.038</td>\n      <td>0.0</td>\n      <td>1.053</td>\n    </tr>\n    <tr>\n      <th>9007</th>\n      <td>1.062</td>\n      <td>1.666</td>\n      <td>4194304</td>\n      <td>1.058</td>\n      <td>1.098</td>\n      <td>1.060</td>\n      <td>0.0</td>\n      <td>3408.0</td>\n      <td>1.037</td>\n      <td>1.046</td>\n      <td>1.046</td>\n      <td>0.0</td>\n      <td>1.044</td>\n    </tr>\n    <tr>\n      <th>9008</th>\n      <td>1.055</td>\n      <td>1.390</td>\n      <td>4194304</td>\n      <td>1.050</td>\n      <td>1.092</td>\n      <td>1.060</td>\n      <td>0.0</td>\n      <td>3201.0</td>\n      <td>1.042</td>\n      <td>1.054</td>\n      <td>1.041</td>\n      <td>0.0</td>\n      <td>1.044</td>\n    </tr>\n    <tr>\n      <th>9009</th>\n      <td>0.747</td>\n      <td>0.059</td>\n      <td>4194304</td>\n      <td>0.799</td>\n      <td>0.809</td>\n      <td>0.760</td>\n      <td>0.0</td>\n      <td>2288.0</td>\n      <td>0.725</td>\n      <td>1.046</td>\n      <td>1.023</td>\n      <td>0.0</td>\n      <td>0.978</td>\n    </tr>\n    <tr>\n      <th>...</th>\n      <td>...</td>\n      <td>...</td>\n      <td>...</td>\n      <td>...</td>\n      <td>...</td>\n      <td>...</td>\n      <td>...</td>\n      <td>...</td>\n      <td>...</td>\n      <td>...</td>\n      <td>...</td>\n      <td>...</td>\n      <td>...</td>\n    </tr>\n    <tr>\n      <th>9143</th>\n      <td>1.056</td>\n      <td>1.053</td>\n      <td>4194304</td>\n      <td>1.050</td>\n      <td>1.096</td>\n      <td>1.051</td>\n      <td>0.0</td>\n      <td>3610.0</td>\n      <td>1.037</td>\n      <td>0.930</td>\n      <td>1.051</td>\n      <td>0.0</td>\n      <td>0.920</td>\n    </tr>\n    <tr>\n      <th>9144</th>\n      <td>1.056</td>\n      <td>1.187</td>\n      <td>4194304</td>\n      <td>1.058</td>\n      <td>1.107</td>\n      <td>1.060</td>\n      <td>0.0</td>\n      <td>3424.0</td>\n      <td>1.039</td>\n      <td>0.938</td>\n      <td>1.045</td>\n      <td>0.0</td>\n      <td>0.945</td>\n    </tr>\n    <tr>\n      <th>9145</th>\n      <td>1.055</td>\n      <td>1.438</td>\n      <td>4194304</td>\n      <td>1.050</td>\n      <td>1.096</td>\n      <td>1.060</td>\n      <td>0.0</td>\n      <td>3242.0</td>\n      <td>1.030</td>\n      <td>0.847</td>\n      <td>0.996</td>\n      <td>0.0</td>\n      <td>0.829</td>\n    </tr>\n    <tr>\n      <th>9146</th>\n      <td>0.907</td>\n      <td>1.695</td>\n      <td>4194304</td>\n      <td>0.929</td>\n      <td>1.109</td>\n      <td>0.922</td>\n      <td>0.0</td>\n      <td>2822.0</td>\n      <td>0.845</td>\n      <td>0.814</td>\n      <td>1.096</td>\n      <td>0.0</td>\n      <td>0.812</td>\n    </tr>\n    <tr>\n      <th>9147</th>\n      <td>0.600</td>\n      <td>1.590</td>\n      <td>4194304</td>\n      <td>0.573</td>\n      <td>0.396</td>\n      <td>0.582</td>\n      <td>0.0</td>\n      <td>2243.0</td>\n      <td>0.641</td>\n      <td>0.814</td>\n      <td>0.912</td>\n      <td>0.0</td>\n      <td>0.804</td>\n    </tr>\n  </tbody>\n</table>\n<p>143 rows × 13 columns</p>\n</div>"
     },
     "execution_count": 589,
     "metadata": {},
     "output_type": "execute_result"
    }
   ],
   "source": [
    "# df.groupby(\"label_value\").sender_seg_out.mean()\n",
    "df[df.label_value == 0][features]\n",
    "# df[[\"receiver_seg_out\", \"label_value\" ]]"
   ],
   "metadata": {
    "collapsed": false,
    "pycharm": {
     "name": "#%%\n"
    }
   }
  },
  {
   "cell_type": "code",
   "execution_count": 225,
   "metadata": {
    "pycharm": {
     "name": "#%%\n"
    }
   },
   "outputs": [
    {
     "data": {
      "text/plain": [
       "53    301989888\n",
       "54    310378496\n",
       "Name: receiver_write_bytes, dtype: int64"
      ]
     },
     "execution_count": 225,
     "metadata": {},
     "output_type": "execute_result"
    }
   ],
   "source": [
    "new_df[new_df.receiver_write_bytes <= 310378496.].receiver_write_bytes\n",
    "# new_df[new_df.sender_cwnd_rate <= 330.].sender_cwnd_rate"
   ]
  },
  {
   "cell_type": "code",
   "execution_count": 246,
   "metadata": {
    "pycharm": {
     "name": "#%%\n"
    }
   },
   "outputs": [
    {
     "data": {
      "text/plain": "       sender_seg_out  sender_avg_send_value  sender_read_bytes_io  \\\n10989        1.005575               0.950302              0.123931   \n10990        1.000994               0.959213              0.206490   \n10991        0.997941               1.211051              0.284193   \n10992        1.000960               0.956985              0.361896   \n10993        0.997975               0.957470              0.429885   \n...               ...                    ...                   ...   \n11168        0.998574               1.000670              1.546928   \n11169        0.998936               1.002123              1.614918   \n11170        0.999332               0.988853              1.692621   \n11171        0.996482               0.956598              1.760610   \n11172        1.003041               0.957567              1.838313   \n\n       sender_write_bytes_io  sender_ost_read  sender_ost_write  \\\n10989               0.789700         1.244204               0.0   \n10990               0.789700         1.274414               0.0   \n10991               0.789700         1.009496               0.0   \n10992               0.789700         0.967473               0.0   \n10993               0.888412         0.917339               0.0   \n...                      ...              ...               ...   \n11168               1.085837         0.982869               0.0   \n11169               1.085837         0.950554               0.0   \n11170               1.085837         1.020092               0.0   \n11171               1.085837         0.945740               0.0   \n11172               1.085837         1.018491               0.0   \n\n       sender_remote_ost_read_bytes  sender_remote_ost_write_bytes  \\\n10989                      1.253888                            0.0   \n10990                      1.093133                            0.0   \n10991                      1.028831                            0.0   \n10992                      1.028831                            0.0   \n10993                      0.900227                            0.0   \n...                             ...                            ...   \n11168                      1.028831                            0.0   \n11169                      0.900227                            0.0   \n11170                      1.028831                            0.0   \n11171                      0.964529                            0.0   \n11172                      0.964529                            0.0   \n\n       receiver_segs_in  receiver_write_bytes_io  ...  \\\n10989          0.982353                 0.076981  ...   \n10990          0.999238                 0.155995  ...   \n10991          0.999981                 0.234558  ...   \n10992          0.999756                 0.313779  ...   \n10993          0.999192                 0.392710  ...   \n...                 ...                      ...  ...   \n11168          1.000793                 1.579263  ...   \n11169          1.001165                 1.657398  ...   \n11170          1.001661                 1.737180  ...   \n11171          1.002777                 1.816239  ...   \n11172          0.999700                 1.894534  ...   \n\n       receiver_remote_ost_read_bytes  receiver_remote_ost_write_bytes  \\\n10989                             0.0                         0.980387   \n10990                             0.0                         1.013083   \n10991                             0.0                         1.012942   \n10992                             0.0                         0.980287   \n10993                             0.0                         1.012959   \n...                               ...                              ...   \n11168                             0.0                         0.980291   \n11169                             0.0                         1.012944   \n11170                             0.0                         1.012981   \n11171                             0.0                         0.980242   \n11172                             0.0                         1.012957   \n\n       sender_read_bytes  receiver_write_bytes  sender_pending_read_pages  \\\n10989           1.222378              0.980039                          1   \n10990           1.125874              0.980055                          0   \n10991           1.029371              1.012582                          0   \n10992           0.965035              1.012608                          1   \n10993           0.965035              0.979930                          0   \n...                  ...                   ...                        ...   \n11168           0.997203              1.012598                          0   \n11169           0.932867              0.979916                          0   \n11170           1.029371              1.012621                          0   \n11171           0.900699              0.979894                          3   \n11172           1.029371              1.012598                          0   \n\n       sender_read_RPCs_in_flight  sender_send_buffer_value  \\\n10989                           0                 3069760.0   \n10990                           0                 2861864.0   \n10991                           0                 2937216.0   \n10992                           0                 3145056.0   \n10993                           0                 3219576.0   \n...                           ...                       ...   \n11168                           0                 3992224.0   \n11169                           0                 3801352.0   \n11170                           0                 3259320.0   \n11171                           0                 3649632.0   \n11172                           0                 3340536.0   \n\n       sender_req_active  receiver_req_active  sender_segs_in  \n10989                109                   30          3914.0  \n10990                100                   31          3992.0  \n10991                 80                   30          3653.0  \n10992                 80                   31          3732.0  \n10993                 70                   30          3687.0  \n...                  ...                  ...             ...  \n11168                 80                   31          3701.0  \n11169                 70                   30          3676.0  \n11170                 80                   31          3677.0  \n11171                 80                   31          3708.0  \n11172                 70                   30          3653.0  \n\n[184 rows x 21 columns]",
      "text/html": "<div>\n<style scoped>\n    .dataframe tbody tr th:only-of-type {\n        vertical-align: middle;\n    }\n\n    .dataframe tbody tr th {\n        vertical-align: top;\n    }\n\n    .dataframe thead th {\n        text-align: right;\n    }\n</style>\n<table border=\"1\" class=\"dataframe\">\n  <thead>\n    <tr style=\"text-align: right;\">\n      <th></th>\n      <th>sender_seg_out</th>\n      <th>sender_avg_send_value</th>\n      <th>sender_read_bytes_io</th>\n      <th>sender_write_bytes_io</th>\n      <th>sender_ost_read</th>\n      <th>sender_ost_write</th>\n      <th>sender_remote_ost_read_bytes</th>\n      <th>sender_remote_ost_write_bytes</th>\n      <th>receiver_segs_in</th>\n      <th>receiver_write_bytes_io</th>\n      <th>...</th>\n      <th>receiver_remote_ost_read_bytes</th>\n      <th>receiver_remote_ost_write_bytes</th>\n      <th>sender_read_bytes</th>\n      <th>receiver_write_bytes</th>\n      <th>sender_pending_read_pages</th>\n      <th>sender_read_RPCs_in_flight</th>\n      <th>sender_send_buffer_value</th>\n      <th>sender_req_active</th>\n      <th>receiver_req_active</th>\n      <th>sender_segs_in</th>\n    </tr>\n  </thead>\n  <tbody>\n    <tr>\n      <th>10989</th>\n      <td>1.005575</td>\n      <td>0.950302</td>\n      <td>0.123931</td>\n      <td>0.789700</td>\n      <td>1.244204</td>\n      <td>0.0</td>\n      <td>1.253888</td>\n      <td>0.0</td>\n      <td>0.982353</td>\n      <td>0.076981</td>\n      <td>...</td>\n      <td>0.0</td>\n      <td>0.980387</td>\n      <td>1.222378</td>\n      <td>0.980039</td>\n      <td>1</td>\n      <td>0</td>\n      <td>3069760.0</td>\n      <td>109</td>\n      <td>30</td>\n      <td>3914.0</td>\n    </tr>\n    <tr>\n      <th>10990</th>\n      <td>1.000994</td>\n      <td>0.959213</td>\n      <td>0.206490</td>\n      <td>0.789700</td>\n      <td>1.274414</td>\n      <td>0.0</td>\n      <td>1.093133</td>\n      <td>0.0</td>\n      <td>0.999238</td>\n      <td>0.155995</td>\n      <td>...</td>\n      <td>0.0</td>\n      <td>1.013083</td>\n      <td>1.125874</td>\n      <td>0.980055</td>\n      <td>0</td>\n      <td>0</td>\n      <td>2861864.0</td>\n      <td>100</td>\n      <td>31</td>\n      <td>3992.0</td>\n    </tr>\n    <tr>\n      <th>10991</th>\n      <td>0.997941</td>\n      <td>1.211051</td>\n      <td>0.284193</td>\n      <td>0.789700</td>\n      <td>1.009496</td>\n      <td>0.0</td>\n      <td>1.028831</td>\n      <td>0.0</td>\n      <td>0.999981</td>\n      <td>0.234558</td>\n      <td>...</td>\n      <td>0.0</td>\n      <td>1.012942</td>\n      <td>1.029371</td>\n      <td>1.012582</td>\n      <td>0</td>\n      <td>0</td>\n      <td>2937216.0</td>\n      <td>80</td>\n      <td>30</td>\n      <td>3653.0</td>\n    </tr>\n    <tr>\n      <th>10992</th>\n      <td>1.000960</td>\n      <td>0.956985</td>\n      <td>0.361896</td>\n      <td>0.789700</td>\n      <td>0.967473</td>\n      <td>0.0</td>\n      <td>1.028831</td>\n      <td>0.0</td>\n      <td>0.999756</td>\n      <td>0.313779</td>\n      <td>...</td>\n      <td>0.0</td>\n      <td>0.980287</td>\n      <td>0.965035</td>\n      <td>1.012608</td>\n      <td>1</td>\n      <td>0</td>\n      <td>3145056.0</td>\n      <td>80</td>\n      <td>31</td>\n      <td>3732.0</td>\n    </tr>\n    <tr>\n      <th>10993</th>\n      <td>0.997975</td>\n      <td>0.957470</td>\n      <td>0.429885</td>\n      <td>0.888412</td>\n      <td>0.917339</td>\n      <td>0.0</td>\n      <td>0.900227</td>\n      <td>0.0</td>\n      <td>0.999192</td>\n      <td>0.392710</td>\n      <td>...</td>\n      <td>0.0</td>\n      <td>1.012959</td>\n      <td>0.965035</td>\n      <td>0.979930</td>\n      <td>0</td>\n      <td>0</td>\n      <td>3219576.0</td>\n      <td>70</td>\n      <td>30</td>\n      <td>3687.0</td>\n    </tr>\n    <tr>\n      <th>...</th>\n      <td>...</td>\n      <td>...</td>\n      <td>...</td>\n      <td>...</td>\n      <td>...</td>\n      <td>...</td>\n      <td>...</td>\n      <td>...</td>\n      <td>...</td>\n      <td>...</td>\n      <td>...</td>\n      <td>...</td>\n      <td>...</td>\n      <td>...</td>\n      <td>...</td>\n      <td>...</td>\n      <td>...</td>\n      <td>...</td>\n      <td>...</td>\n      <td>...</td>\n      <td>...</td>\n    </tr>\n    <tr>\n      <th>11168</th>\n      <td>0.998574</td>\n      <td>1.000670</td>\n      <td>1.546928</td>\n      <td>1.085837</td>\n      <td>0.982869</td>\n      <td>0.0</td>\n      <td>1.028831</td>\n      <td>0.0</td>\n      <td>1.000793</td>\n      <td>1.579263</td>\n      <td>...</td>\n      <td>0.0</td>\n      <td>0.980291</td>\n      <td>0.997203</td>\n      <td>1.012598</td>\n      <td>0</td>\n      <td>0</td>\n      <td>3992224.0</td>\n      <td>80</td>\n      <td>31</td>\n      <td>3701.0</td>\n    </tr>\n    <tr>\n      <th>11169</th>\n      <td>0.998936</td>\n      <td>1.002123</td>\n      <td>1.614918</td>\n      <td>1.085837</td>\n      <td>0.950554</td>\n      <td>0.0</td>\n      <td>0.900227</td>\n      <td>0.0</td>\n      <td>1.001165</td>\n      <td>1.657398</td>\n      <td>...</td>\n      <td>0.0</td>\n      <td>1.012944</td>\n      <td>0.932867</td>\n      <td>0.979916</td>\n      <td>0</td>\n      <td>0</td>\n      <td>3801352.0</td>\n      <td>70</td>\n      <td>30</td>\n      <td>3676.0</td>\n    </tr>\n    <tr>\n      <th>11170</th>\n      <td>0.999332</td>\n      <td>0.988853</td>\n      <td>1.692621</td>\n      <td>1.085837</td>\n      <td>1.020092</td>\n      <td>0.0</td>\n      <td>1.028831</td>\n      <td>0.0</td>\n      <td>1.001661</td>\n      <td>1.737180</td>\n      <td>...</td>\n      <td>0.0</td>\n      <td>1.012981</td>\n      <td>1.029371</td>\n      <td>1.012621</td>\n      <td>0</td>\n      <td>0</td>\n      <td>3259320.0</td>\n      <td>80</td>\n      <td>31</td>\n      <td>3677.0</td>\n    </tr>\n    <tr>\n      <th>11171</th>\n      <td>0.996482</td>\n      <td>0.956598</td>\n      <td>1.760610</td>\n      <td>1.085837</td>\n      <td>0.945740</td>\n      <td>0.0</td>\n      <td>0.964529</td>\n      <td>0.0</td>\n      <td>1.002777</td>\n      <td>1.816239</td>\n      <td>...</td>\n      <td>0.0</td>\n      <td>0.980242</td>\n      <td>0.900699</td>\n      <td>0.979894</td>\n      <td>3</td>\n      <td>0</td>\n      <td>3649632.0</td>\n      <td>80</td>\n      <td>31</td>\n      <td>3708.0</td>\n    </tr>\n    <tr>\n      <th>11172</th>\n      <td>1.003041</td>\n      <td>0.957567</td>\n      <td>1.838313</td>\n      <td>1.085837</td>\n      <td>1.018491</td>\n      <td>0.0</td>\n      <td>0.964529</td>\n      <td>0.0</td>\n      <td>0.999700</td>\n      <td>1.894534</td>\n      <td>...</td>\n      <td>0.0</td>\n      <td>1.012957</td>\n      <td>1.029371</td>\n      <td>1.012598</td>\n      <td>0</td>\n      <td>0</td>\n      <td>3340536.0</td>\n      <td>70</td>\n      <td>30</td>\n      <td>3653.0</td>\n    </tr>\n  </tbody>\n</table>\n<p>184 rows × 21 columns</p>\n</div>"
     },
     "execution_count": 246,
     "metadata": {},
     "output_type": "execute_result"
    }
   ],
   "source": [
    "train_df[train_df.label_value == 0][features]"
   ]
  },
  {
   "cell_type": "code",
   "execution_count": 240,
   "metadata": {
    "pycharm": {
     "name": "#%%\n"
    }
   },
   "outputs": [
    {
     "data": {
      "text/plain": "['0', '1', '55', '109', '145']"
     },
     "execution_count": 240,
     "metadata": {},
     "output_type": "execute_result"
    }
   ],
   "source": [
    "class_names = [str(lbl) for lbl in sorted(Counter(train_df.label_value).keys())]\n",
    "class_names"
   ]
  },
  {
   "cell_type": "code",
   "execution_count": 363,
   "metadata": {
    "pycharm": {
     "name": "#%%\n"
    }
   },
   "outputs": [
    {
     "data": {
      "text/plain": "<Figure size 800x250 with 1 Axes>",
      "image/png": "[encoded data removed]"
     },
     "metadata": {
      "needs_background": "light"
     },
     "output_type": "display_data"
    }
   ],
   "source": [
    "# fn=['sepal length (cm)','sepal width (cm)','petal length (cm)','petal width (cm)']\n",
    "# cn=['setosa', 'versicolor', 'virginica']\n",
    "fig, axes = plt.subplots(nrows = 1,ncols = 1,figsize = (80,25), dpi=10)\n",
    "tree.plot_tree(clf, feature_names = features,\n",
    "               class_names=class_names,\n",
    "               filled = True,\n",
    "               fontsize=12);\n",
    "fig.savefig('tree_10.pdf')\n",
    "\n",
    "# tree.plot_tree(clf, feature_names=features, fontsize=12)"
   ]
  },
  {
   "cell_type": "code",
   "execution_count": 603,
   "metadata": {
    "pycharm": {
     "name": "#%%\n"
    }
   },
   "outputs": [
    {
     "data": {
      "text/plain": "12"
     },
     "execution_count": 603,
     "metadata": {},
     "output_type": "execute_result"
    }
   ],
   "source": [
    "# utah_ssd_merged.loc[utah_ssd_merged['label_value']==0]\n"
   ]
  },
  {
   "cell_type": "code",
   "execution_count": 15,
   "metadata": {
    "pycharm": {
     "name": "#%%\n"
    }
   },
   "outputs": [],
   "source": [
    "def grouped_to_5_cat(df, total_possible_labels):\n",
    "    aggregated_labels = {}\n",
    "    for i in range(total_possible_labels + 1):\n",
    "        aggregated_labels[i] = i\n",
    "    # 0 is normal and is one group itself\n",
    "    # # group read together\n",
    "    for i in range(1, 55):\n",
    "        aggregated_labels.update({i: 1})\n",
    "\n",
    "    # group write together\n",
    "    for i in range(55, 109):\n",
    "        aggregated_labels.update({i: 55})\n",
    "    # group networks together\n",
    "    for i in range(109, 145):\n",
    "        aggregated_labels.update({i: 109})\n",
    "    # group tcp configs together\n",
    "    for i in range(145, 157):\n",
    "        aggregated_labels.update({i: 145})\n",
    "    # group with networks together\n",
    "    for i in range(157, 161):\n",
    "        aggregated_labels.update({i: 109})\n",
    "    y = [aggregated_labels[int(i)] for i in df[df.columns[len(df.columns) - 1]].values]\n",
    "    df[\"label_value\"] = y\n",
    "    return df"
   ]
  },
  {
   "cell_type": "code",
   "execution_count": 19,
   "metadata": {
    "pycharm": {
     "name": "#%%\n"
    }
   },
   "outputs": [
    {
     "data": {
      "text/plain": "Counter({98: 148,\n         38: 151,\n         31: 137,\n         59: 159,\n         27: 138,\n         141: 163,\n         63: 158,\n         80: 158,\n         123: 139,\n         136: 154,\n         147: 142,\n         13: 154,\n         120: 145,\n         125: 146,\n         24: 139,\n         26: 143,\n         124: 143,\n         9: 163,\n         57: 158,\n         15: 158,\n         47: 143,\n         4: 169,\n         29: 123,\n         114: 155,\n         1: 168,\n         22: 137,\n         73: 142,\n         7: 159,\n         131: 160,\n         122: 139,\n         54: 153,\n         36: 136,\n         83: 137,\n         49: 143,\n         132: 153,\n         121: 146,\n         157: 161,\n         126: 145,\n         39: 152,\n         127: 142,\n         105: 151,\n         128: 146,\n         56: 154,\n         37: 150,\n         154: 157,\n         70: 152,\n         11: 161,\n         52: 155,\n         60: 157,\n         133: 147,\n         103: 138,\n         66: 160,\n         42: 154,\n         35: 139,\n         116: 158,\n         65: 156,\n         113: 164,\n         78: 158,\n         51: 143,\n         17: 146,\n         0: 143,\n         64: 157,\n         82: 141,\n         40: 152,\n         138: 152,\n         99: 148,\n         110: 157,\n         142: 158,\n         18: 148,\n         144: 156,\n         100: 144,\n         84: 141,\n         19: 136,\n         74: 139,\n         69: 155,\n         34: 142,\n         72: 153,\n         2: 167,\n         150: 156,\n         45: 153,\n         158: 163,\n         109: 151,\n         156: 160,\n         139: 156,\n         85: 159,\n         68: 155,\n         94: 144,\n         145: 147,\n         137: 158,\n         101: 147,\n         91: 147,\n         30: 118,\n         140: 158,\n         46: 143,\n         130: 139,\n         160: 161,\n         20: 141,\n         77: 168,\n         118: 143,\n         153: 139,\n         71: 155,\n         90: 154,\n         115: 160,\n         32: 138,\n         159: 161,\n         155: 157,\n         95: 146,\n         6: 160,\n         25: 144,\n         48: 141,\n         97: 148,\n         149: 168,\n         81: 160,\n         146: 142,\n         117: 143,\n         8: 156,\n         50: 153,\n         119: 143,\n         67: 159,\n         76: 152,\n         96: 144,\n         41: 152,\n         12: 160,\n         135: 162,\n         14: 159,\n         79: 160,\n         148: 161,\n         151: 147,\n         134: 156,\n         23: 141,\n         86: 154,\n         129: 143,\n         28: 115,\n         104: 142,\n         10: 149,\n         106: 158,\n         16: 145,\n         88: 156,\n         3: 163,\n         58: 154,\n         92: 146,\n         111: 155,\n         108: 155,\n         61: 156,\n         89: 154,\n         93: 145,\n         5: 160,\n         87: 157,\n         21: 137,\n         33: 136,\n         107: 147,\n         43: 155,\n         44: 151,\n         55: 153,\n         53: 145,\n         75: 138,\n         102: 141,\n         62: 159,\n         152: 145,\n         143: 156,\n         112: 156})"
     },
     "execution_count": 19,
     "metadata": {},
     "output_type": "execute_result"
    }
   ],
   "source": [
    "df = pd.read_csv(filenames.get('wisconsin_ssd_unmerged')).drop(['time_stamp', 'through_put'], axis=1)\n",
    "# df = grouped_to_5_cat(df,161)\n",
    "df.shape\n",
    "Counter(df.label_value)"
   ]
  },
  {
   "cell_type": "code",
   "execution_count": 316,
   "metadata": {
    "pycharm": {
     "name": "#%%\n"
    }
   },
   "outputs": [
    {
     "data": {
      "text/plain": "11117    149\n11118    149\n11119    149\n11120    149\n11121    149\n        ... \n11293    158\n11294    158\n11295    158\n11296    158\n11297    158\nName: receiver_avg_waittime_md, Length: 181, dtype: int64"
     },
     "execution_count": 316,
     "metadata": {},
     "output_type": "execute_result"
    }
   ],
   "source": [
    "t = pd.read_csv(filenames.get('utah_ssd_merged')).drop(['time_stamp', 'through_put'], axis=1)\n",
    "t[t.label_value == 0].receiver_avg_waittime_md"
   ]
  }
 ],
 "metadata": {
  "kernelspec": {
   "display_name": "Python 3 (ipykernel)",
   "language": "python",
   "name": "python3"
  },
  "language_info": {
   "codemirror_mode": {
    "name": "ipython",
    "version": 3
   },
   "file_extension": ".py",
   "mimetype": "text/x-python",
   "name": "python",
   "nbconvert_exporter": "python",
   "pygments_lexer": "ipython3",
   "version": "3.8.10"
  }
 },
 "nbformat": 4,
 "nbformat_minor": 1
}