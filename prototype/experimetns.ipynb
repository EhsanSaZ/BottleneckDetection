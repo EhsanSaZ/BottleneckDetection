{
 "cells": [
  {
   "cell_type": "code",
   "execution_count": 496,
   "metadata": {
    "collapsed": true
   },
   "outputs": [],
   "source": [
    "import sys\n",
    "import time\n",
    "\n",
    "if not sys.warnoptions:\n",
    "    import warnings\n",
    "    warnings.simplefilter(\"ignore\")\n",
    "import pandas as pd\n",
    "import numpy as np\n",
    "from sklearn.ensemble import RandomForestClassifier\n",
    "from imblearn.under_sampling import RandomUnderSampler\n",
    "from imblearn.over_sampling import RandomOverSampler\n",
    "from sklearn.model_selection import train_test_split\n",
    "from sklearn import metrics\n",
    "from sklearn.metrics import ConfusionMatrixDisplay\n",
    "# import seaborn as sns\n",
    "# sns.set()\n",
    "from sklearn import tree\n",
    "from collections import Counter\n",
    "import matplotlib.pyplot as plt\n",
    "from sklearn.pipeline import make_pipeline\n",
    "from sklearn.preprocessing import StandardScaler, MinMaxScaler, PowerTransformer\n",
    "from sklearn.model_selection import cross_val_score\n",
    "from sklearn.tree import DecisionTreeClassifier\n",
    "from sklearn import svm\n",
    "from sklearn.neural_network import MLPClassifier\n",
    "from sklearn.neighbors import KNeighborsClassifier\n",
    "from xgboost import XGBClassifier\n",
    "import seaborn as sns\n",
    "from fuzzytree import FuzzyDecisionTreeClassifier"
   ]
  },
  {
   "cell_type": "code",
   "execution_count": 349,
   "metadata": {
    "pycharm": {
     "name": "#%%\n"
    }
   },
   "outputs": [],
   "source": [
    "filenames = {\n",
    "    \"emulab_hdd_merged\": \"emulab_d460_10Gbps_hdd_merged_V2.csv\",\n",
    "    \"emulab_hdd_unmerged\": \"emulab_d460_10Gbps_hdd_unmerged_V2.csv\",\n",
    "\n",
    "    \"utah_ssd_merged\": \"utah_c6525-25g_25Gbps_ssd_merged_V2.csv\",\n",
    "    \"utah_ssd_unmerged\": \"utah_c6525-25g_25Gbps_ssd_unmerged_V2.csv\",\n",
    "\n",
    "    \"wisconsin_ssd_merged\": \"wisconsin_c220g1-10Gbps_ssd_merged_V2.csv\",\n",
    "    \"wisconsin_ssd_unmerged\": \"wisconsin_c220g1-10Gbps_ssd_unmerged_V2.csv\",\n",
    "\n",
    "    \"utah_ssd_merged_1g\": \"utah_c6525-25g_1Gbps_ssd_merged_V2.csv\",\n",
    "    \"utah_ssd_unmerged_1g\": \"utah_c6525-25g_1Gbps_ssd_unmerged_V2.csv\",\n",
    "\n",
    "    \"wisconsin_hdd_ssd_merged\": \"wisconsin_c220g1-10Gbps_hdd_ssd_merged_V2.csv\",\n",
    "    \"wisconsin_hdd-ssd_unmerged\": \"wisconsin_c220g1-10Gbps_hdd_ssd_unmerged_V2.csv\",\n",
    "\n",
    "    \"utah_22_unmerged\": \"22_utah_c6525-25g_25Gbps_ssd_merged_V2.csv\",\n",
    "    \"utah_22_merged\": \"22_utah_c6525-25g_25Gbps_ssd_unmerged_V2.csv\"\n",
    "\n",
    "}"
   ]
  },
  {
   "cell_type": "code",
   "execution_count": 350,
   "metadata": {
    "pycharm": {
     "name": "#%%\n"
    }
   },
   "outputs": [],
   "source": [
    "utah_ssd_merged = pd.read_csv(filenames.get('utah_ssd_merged')).drop(['time_stamp', 'through_put'], axis=1)\n",
    "utah_ssd_merged_1g = pd.read_csv(filenames.get('utah_ssd_merged_1g')).drop(['time_stamp', 'through_put'], axis=1)\n",
    "utah_22_merged = pd.read_csv(filenames.get('utah_22_merged')).drop(['time_stamp', 'through_put'], axis=1)\n",
    "emulab_hdd_merged = pd.read_csv(filenames.get('emulab_hdd_merged')).drop(['time_stamp', 'through_put'], axis=1)\n",
    "wisconsin_ssd_merged = pd.read_csv(filenames.get('wisconsin_ssd_merged')).drop(['time_stamp', 'through_put'], axis=1)\n",
    "wisconsin_ssd_unmerged = pd.read_csv(filenames.get('wisconsin_ssd_unmerged')).drop(['time_stamp', 'through_put'], axis=1)\n",
    "wisconsin_hdd_ssd_merged = pd.read_csv(filenames.get('wisconsin_hdd_ssd_merged')).drop(['time_stamp', 'through_put'], axis=1)\n",
    "utah_ssd_merged_1g = pd.read_csv(filenames.get('utah_ssd_merged_1g')).drop(['time_stamp', 'through_put'], axis=1)"
   ]
  },
  {
   "cell_type": "code",
   "execution_count": 636,
   "metadata": {
    "pycharm": {
     "name": "#%%\n"
    }
   },
   "outputs": [],
   "source": [
    "# features = ['sender_avg_rtt_value', 'sender_cwnd_rate', 'sender_retrans', 'sender_ssthresh_value', 'sender_segs_in', 'sender_avg_send_value', 'sender_tcp_snd_buffer_min', 'sender_tcp_snd_buffer_max', 'sender_req_active', 'sender_write_bytes', 'sender_avg_waittime_md', 'sender_system_cpu_percent', 'sender_remote_ost_write_bytes', 'receiver_seg_out', 'receiver_segs_in', 'receiver_req_waittime', 'receiver_req_active', 'receiver_write_bytes', 'receiver_ost_write', 'receiver_avg_waittime_md', 'receiver_system_cpu_percent', 'receiver_system_memory_percent', 'receiver_remote_ost_read_bytes', 'receiver_remote_ost_write_bytes']\n",
    "#*\n",
    "# features = ['sender_avg_rtt_value', 'sender_retrans','sender_segs_in', 'sender_seg_out', 'sender_req_waittime', 'sender_read_bytes', 'sender_write_bytes', 'sender_avg_waittime_md', 'sender_ost_read' , 'sender_ost_write','sender_remote_ost_read_bytes', 'sender_remote_ost_write_bytes','receiver_segs_in','receiver_seg_out', 'receiver_req_waittime', 'receiver_read_bytes', 'receiver_write_bytes', 'receiver_ost_read', 'receiver_ost_write', 'receiver_avg_waittime_md', 'receiver_remote_ost_read_bytes', 'receiver_remote_ost_write_bytes']\n",
    "\n",
    "# features = ['sender_avg_rtt_value', 'sender_cwnd_rate', 'sender_retrans', 'sender_ssthresh_value', 'sender_segs_in', 'sender_req_active', 'sender_write_bytes', 'sender_remote_ost_write_bytes',\n",
    "#             'receiver_seg_out', 'receiver_segs_in', 'receiver_req_waittime', 'receiver_req_active', 'receiver_write_bytes', 'receiver_ost_write' , 'receiver_remote_ost_read_bytes', 'receiver_remote_ost_write_bytes']\n",
    "\n",
    "# features = ['sender_seg_out', \"sender_retrans\", 'sender_avg_waittime_md', 'receiver_segs_in', 'receiver_avg_waittime_md' ,'receiver_write_bytes',]\n",
    "\n",
    "# features =['sender_avg_rtt_value', 'sender_cwnd_rate', 'sender_seg_out', 'sender_ssthresh_value', 'sender_segs_in', 'sender_avg_send_value', 'sender_vsize', 'sender_rss', 'sender_mem_usage_percentage', 'sender_avg_waittime_md', 'sender_system_cpu_percent', 'receiver_seg_out', 'receiver_segs_in', 'receiver_read_bytes_io', 'receiver_vsize', 'receiver_rss', 'receiver_mem_usage_percentage', 'receiver_req_active', 'receiver_avg_waittime_md', 'receiver_system_cpu_percent']\n",
    "\n",
    "# features = ['sender_avg_rtt_value', 'sender_pacing_rate', 'sender_cwnd_rate', 'sender_byte_ack', 'sender_seg_out', 'sender_retrans', 'sender_ssthresh_value', 'sender_segs_in', 'sender_avg_send_value', 'sender_unacked_value', 'sender_send_buffer_value', 'sender_cpu_usage_percentage', 'sender_tcp_snd_buffer_min', 'sender_tcp_snd_buffer_max', 'sender_req_waittime', 'sender_req_active', 'sender_read_bytes', 'sender_write_bytes', 'sender_ost_read', 'sender_ost_write', 'sender_pending_read_pages', 'sender_read_RPCs_in_flight', 'sender_avg_waittime_md', 'sender_system_cpu_percent', 'sender_system_memory_percent', 'sender_remote_ost_read_bytes', 'sender_remote_ost_write_bytes', 'receiver_avg_retransmission_timeout_value', 'receiver_seg_out', 'receiver_segs_in', 'receiver_wchar', 'receiver_syscw', 'receiver_read_bytes_io', 'receiver_cpu_usage_percentage', 'receiver_req_waittime', 'receiver_req_active', 'receiver_read_bytes', 'receiver_write_bytes', 'receiver_ost_read', 'receiver_ost_write', 'receiver_pending_read_pages', 'receiver_read_RPCs_in_flight', 'receiver_avg_waittime_md', 'receiver_req_waittime_md', 'receiver_system_cpu_percent', 'receiver_system_memory_percent', 'receiver_remote_ost_read_bytes', 'receiver_remote_ost_write_bytes']\n",
    "\n",
    "#19 features\n",
    "# features = ['sender_seg_out', 'sender_segs_in', 'sender_avg_send_value', 'sender_send_buffer_value', 'sender_tcp_snd_buffer_min', 'sender_tcp_snd_buffer_max', 'sender_req_active', 'sender_read_bytes', 'sender_ost_read', 'sender_remote_ost_read_bytes', 'sender_remote_ost_write_bytes', 'receiver_seg_out', 'receiver_segs_in', 'receiver_read_bytes_io', 'receiver_req_active', 'receiver_write_bytes', 'receiver_ost_write', 'receiver_remote_ost_read_bytes', 'receiver_remote_ost_write_bytes']\n",
    "\n",
    "# 14 features\n",
    "# features = ['sender_seg_out', 'sender_avg_send_value', 'sender_tcp_snd_buffer_max', 'sender_read_bytes', 'sender_ost_read', 'sender_remote_ost_read_bytes', 'sender_remote_ost_write_bytes', 'receiver_seg_out', 'receiver_segs_in', 'receiver_read_bytes_io', 'receiver_write_bytes', 'receiver_ost_write', 'receiver_remote_ost_read_bytes', 'receiver_remote_ost_write_bytes']\n",
    "\n",
    "# features = ['sender_seg_out', 'sender_avg_send_value', 'sender_tcp_snd_buffer_max', 'sender_read_bytes', 'sender_ost_read', 'sender_remote_ost_read_bytes', 'sender_remote_ost_write_bytes', 'receiver_write_bytes', 'receiver_ost_write', 'receiver_remote_ost_read_bytes', 'receiver_remote_ost_write_bytes']\n",
    "\n",
    "# # #16 features\n",
    "# features = ['sender_seg_out', 'sender_avg_send_value', 'sender_read_bytes_io', 'sender_write_bytes_io', 'sender_ost_read', 'sender_ost_write', 'sender_pending_read_pages', 'sender_read_RPCs_in_flight', 'sender_remote_ost_read_bytes', 'sender_remote_ost_write_bytes', 'receiver_segs_in', 'receiver_write_bytes_io', 'receiver_ost_write', 'receiver_remote_ost_read_bytes', 'receiver_remote_ost_write_bytes', 'sender_read_bytes', 'receiver_write_bytes'] #, 'sender_read_bytes', 'receiver_write_bytes', sender_tcp_snd_buffer_max\n",
    "\n",
    "# features = ['sender_seg_out', 'sender_avg_send_value', 'sender_read_bytes_io', 'sender_write_bytes_io', 'sender_ost_read', 'sender_ost_write', 'sender_pending_read_pages', 'sender_read_RPCs_in_flight', 'sender_remote_ost_read_bytes', 'sender_remote_ost_write_bytes', 'receiver_segs_in', 'receiver_write_bytes_io', 'receiver_ost_write', 'receiver_remote_ost_read_bytes', 'receiver_remote_ost_write_bytes', 'sender_read_bytes', 'receiver_write_bytes']\n",
    "\n",
    "# features = ['sender_seg_out', 'sender_avg_send_value', 'sender_read_bytes_io', 'sender_write_bytes_io', 'sender_ost_read', 'sender_ost_write', 'sender_remote_ost_read_bytes', 'sender_remote_ost_write_bytes', 'receiver_segs_in', 'receiver_write_bytes_io', 'receiver_ost_write', 'receiver_remote_ost_read_bytes', 'receiver_remote_ost_write_bytes', 'sender_read_bytes', 'receiver_write_bytes',\n",
    "#                 'sender_pending_read_pages', 'sender_read_RPCs_in_flight',\n",
    "#                 'sender_send_buffer_value', 'sender_req_active', 'receiver_req_active',\n",
    "#                 #'sender_segs_in',\n",
    "#                 'sender_retrans', 'sender_cwnd_rate']\n",
    "\n",
    "# features = ['sender_seg_out', 'sender_avg_send_value', 'sender_read_bytes_io', 'sender_write_bytes_io', 'sender_ost_read', 'sender_ost_write', 'sender_remote_ost_read_bytes', 'sender_remote_ost_write_bytes', 'receiver_write_bytes_io', 'receiver_ost_write', 'receiver_remote_ost_read_bytes', 'receiver_remote_ost_write_bytes', 'sender_read_bytes', 'receiver_write_bytes',\n",
    "#                 'receiver_segs_in',\n",
    "#                 'sender_pending_read_pages', 'sender_read_RPCs_in_flight',\n",
    "#                 'sender_send_buffer_value', 'sender_req_active', 'receiver_req_active',\n",
    "#                 #'sender_segs_in',\n",
    "#                 'sender_retrans', 'sender_cwnd_rate',\n",
    "#                 'receiver_tcp_rcv_buffer_max',\n",
    "#                 # 'sender_tcp_snd_buffer_max',\n",
    "#                 #'sender_tcp_snd_buffer_min'\n",
    "#                 ]\n",
    "\n",
    "features = ['sender_seg_out', 'sender_avg_send_value', 'sender_read_bytes_io', 'sender_write_bytes_io', 'sender_ost_read', 'sender_ost_write', 'sender_remote_ost_read_bytes', 'sender_remote_ost_write_bytes', 'receiver_write_bytes_io', 'receiver_ost_write', 'receiver_remote_ost_read_bytes', 'receiver_remote_ost_write_bytes', 'sender_read_bytes', 'receiver_write_bytes',\n",
    "                'receiver_segs_in',\n",
    "                'sender_pending_read_pages', 'sender_read_RPCs_in_flight',\n",
    "                'sender_send_buffer_value', 'sender_req_active', 'receiver_req_active',\n",
    "                #'sender_segs_in',\n",
    "                'sender_retrans', 'sender_cwnd_rate',\n",
    "                'receiver_tcp_rcv_buffer_max',\n",
    "                #------------\n",
    "                #'sender_tcp_snd_buffer_max',\n",
    "                #'sender_tcp_snd_buffer_min',\n",
    "                'receiver_read_bytes_io',\n",
    "                'receiver_ost_read',\n",
    "\n",
    "                # 'sender_write_bytes',\n",
    "                # 'receiver_read_bytes',\n",
    "                ]"
   ]
  },
  {
   "cell_type": "code",
   "execution_count": null,
   "outputs": [],
   "source": [
    "#[ 'sender_tcp_snd_buffer_max','receiver_seg_out', 'receiver_read_bytes_io'] # 'sender_req_active', 'sender_segs_in', 'sender_send_buffer_value', 'sender_tcp_snd_buffer_min', 'receiver_req_active'\n",
    " ['sender_tcp_snd_buffer_max', 'sender_pending_read_pages', 'sender_read_RPCs_in_flight']"
   ],
   "metadata": {
    "collapsed": false,
    "pycharm": {
     "name": "#%%\n"
    }
   }
  },
  {
   "cell_type": "code",
   "execution_count": 674,
   "outputs": [
    {
     "name": "stdout",
     "output_type": "stream",
     "text": [
      "dict_keys([6291456, 8192, 4096, 2048, 3145728, 786432, 1572864])\n",
      "dict_keys([4194304, 8192, 4096, 2048, 2097152, 524288, 1048576])\n",
      "dict_keys([4194304, 8192, 4096, 2048, 2097152, 524288, 1048576])\n",
      "dict_keys([4194304, 8192, 4096, 2048, 3145728, 786432, 1572864])\n",
      "dict_keys([4194304, 8192, 4096, 2048, 2097152, 524288, 1048576])\n"
     ]
    }
   ],
   "source": [
    "feature = 'sender_tcp_snd_buffer_max'\n",
    "# feature = 'receiver_tcp_rcv_buffer_max'\n",
    "print(Counter(emulab_hdd_merged[feature]).keys())\n",
    "print(Counter(utah_ssd_merged[feature]).keys())\n",
    "print(Counter(wisconsin_ssd_merged[feature]).keys())\n",
    "print(Counter(utah_ssd_merged_1g[feature]).keys())\n",
    "print(Counter(wisconsin_hdd_ssd_merged[feature]).keys())\n",
    "# utah_ssd_merged_1g['sender_avg_rtt_value'] * ( 1 * 1000000)"
   ],
   "metadata": {
    "collapsed": false,
    "pycharm": {
     "name": "#%%\n"
    }
   }
  },
  {
   "cell_type": "code",
   "execution_count": 292,
   "outputs": [
    {
     "data": {
      "text/plain": "label_value\n0      6.291456e+06\n1      6.291456e+06\n10     6.291456e+06\n19     6.291456e+06\n28     6.291456e+06\n37     6.291456e+06\n46     6.291456e+06\n55     6.291456e+06\n64     6.291456e+06\n73     6.291456e+06\n82     6.291456e+06\n91     6.291456e+06\n100    6.291456e+06\n109    6.291456e+06\n113    6.291456e+06\n117    6.291456e+06\n129    6.291456e+06\n133    6.291456e+06\n145    9.190494e+05\n151    6.291456e+06\n157    6.291456e+06\nName: sender_tcp_snd_buffer_max, dtype: float64"
     },
     "execution_count": 292,
     "metadata": {},
     "output_type": "execute_result"
    }
   ],
   "source": [
    "# 142\n",
    "emulab_hdd_merged.receiver_tcp_rcv_buffer_max\n",
    "emulab_hdd_merged.groupby('label_value').sender_tcp_snd_buffer_max.mean()\n",
    "# emulab_hdd_merged.receiver_send_buffer_value\n",
    "# emulab_hdd_merged[\"sender_segs_in\"] = emulab_hdd_merged.sender_segs_in / emulab_hdd_merged[emulab_hdd_merged.label_value == 0].receiver_seg_out.mean()\n",
    "# emulab_hdd_merged.sender_segs_in.mean()\n",
    "# emulab_hdd_merged[\"sender_retrans\"] = emulab_hdd_merged.sender_retrans / emulab_hdd_merged.sender_seg_out\n",
    "# emulab_hdd_merged.sender_retrans.mean()\n",
    "# emulab_hdd_merged[\"sender_send_buffer_value\"] = emulab_hdd_merged[\"sender_send_buffer_value\"] / emulab_hdd_merged[emulab_hdd_merged.label_value == 0].sender_send_buffer_value.mean()\n",
    "# emulab_hdd_merged[emulab_hdd_merged.label_value == 0].sender_ost_read\n",
    "# print(emulab_hdd_merged[['sender_ssthresh_value','sender_cwnd_rate']])\n",
    "# print(emulab_hdd_merged.sender_ssthresh_value / emulab_hdd_merged.sender_cwnd_rate)"
   ],
   "metadata": {
    "collapsed": false,
    "pycharm": {
     "name": "#%%\n"
    }
   }
  },
  {
   "cell_type": "code",
   "execution_count": 224,
   "outputs": [
    {
     "data": {
      "text/plain": "2.076736847814799"
     },
     "execution_count": 224,
     "metadata": {},
     "output_type": "execute_result"
    }
   ],
   "source": [
    "# wisconsin_ssd_merged.receiver_write_bytes.mean()/410\n",
    "wisconsin_ssd_merged[\"sender_segs_in\"] = wisconsin_ssd_merged.sender_segs_in / wisconsin_ssd_merged[wisconsin_ssd_merged.label_value == 0].receiver_seg_out.mean()\n",
    "wisconsin_ssd_merged.sender_segs_in.mean()\n",
    "# wisconsin_ssd_merged[\"sender_retrans\"] = wisconsin_ssd_merged[\"sender_retrans\"] / wisconsin_ssd_merged[wisconsin_ssd_merged.label_value == 0].sender_retrans.mean()\n",
    "# wisconsin_ssd_merged[\"sender_retrans\"] = wisconsin_ssd_merged.sender_retrans / wisconsin_ssd_merged.sender_seg_out\n",
    "# utah_ssd_merged_1g.groupby('label_value').sender_retrans.mean()\n",
    "# wisconsin_ssd_merged.sender_retrans.mean()\n",
    "\n",
    "\n",
    "# wisconsin_ssd_merged[\"sender_send_buffer_value\"] = wisconsin_ssd_merged[\"sender_send_buffer_value\"] / wisconsin_ssd_merged[wisconsin_ssd_merged.label_value == 0].sender_send_buffer_value.mean()"
   ],
   "metadata": {
    "collapsed": false,
    "pycharm": {
     "name": "#%%\n"
    }
   }
  },
  {
   "cell_type": "code",
   "execution_count": 67,
   "outputs": [
    {
     "name": "stdout",
     "output_type": "stream",
     "text": [
      "2.4704820510978025\n",
      "0.8966836228352472\n"
     ]
    }
   ],
   "source": [
    "# df1 =\n",
    "df1 = wisconsin_ssd_merged.copy()\n",
    "df2 = emulab_hdd_merged.copy()\n",
    "feature_name = 'sender_seg_out'\n",
    "\n",
    "# print(df1.receiver_remote_ost_read_bytes.describe().mean)\n",
    "# print(df2.receiver_remote_ost_read_bytes.describe())\n",
    "print(df1[feature_name].mean()/df2[feature_name].mean())\n",
    "\n",
    "df1 = normalize_df(df1)\n",
    "df2 = normalize_df(df2)\n",
    "\n",
    "# print(df1.receiver_remote_ost_read_bytes.describe().mean)\n",
    "# print(df2.receiver_remote_ost_read_bytes.describe())\n",
    "print(df1[feature_name].mean()/df2[feature_name].mean())\n"
   ],
   "metadata": {
    "collapsed": false,
    "pycharm": {
     "name": "#%%\n"
    }
   }
  },
  {
   "cell_type": "code",
   "execution_count": 696,
   "outputs": [],
   "source": [
    "def normalize_df(df):\n",
    "    df['sender_retrans'] = df['sender_retrans'] / df[df.label_value == 0].sender_seg_out.mean()\n",
    "    # TODO: CORRECT THIS\n",
    "    # df[\"sender_remote_ost_write_bytes\"] = df[\"sender_remote_ost_write_bytes\"] / df[df.label_value == 0].receiver_remote_ost_write_bytes.mean()\n",
    "    # TODO: CORRECT THIS\n",
    "    # df[\"receiver_remote_ost_read_bytes\"] = df[\"receiver_remote_ost_read_bytes\"] / df[df.label_value == 0].sender_remote_ost_read_bytes.mean()\n",
    "    # TODO CORRECT THIS\n",
    "    # df[\"sender_ost_write\"] = df[\"sender_ost_write\"] / df[df.label_value == 0].receiver_ost_write.mean()\n",
    "\n",
    "\n",
    "    df[\"sender_seg_out\"] = df[\"sender_seg_out\"] / df[df.label_value == 0].sender_seg_out.mean()\n",
    "    # df[\"sender_avg_send_value\"] = df[\"sender_avg_send_value\"] / df[df.label_value == 0].sender_avg_send_value.mean()\n",
    "    # df[\"sender_ost_read\"] = df[\"sender_ost_read\"] / df[df.label_value == 0].sender_ost_read.mean()\n",
    "    df[\"sender_read_bytes\"] = df[\"sender_read_bytes\"] / df[df.label_value == 0].sender_read_bytes.mean()\n",
    "    df[\"sender_remote_ost_read_bytes\"] =df[\"sender_remote_ost_read_bytes\"] / df[df.label_value == 0].sender_remote_ost_read_bytes.mean()\n",
    "    df[\"receiver_segs_in\"] = df[\"receiver_segs_in\"] / df[df.label_value == 0].receiver_segs_in.mean()\n",
    "    df[\"receiver_write_bytes\"] = df[\"receiver_write_bytes\"] / df[df.label_value == 0].receiver_write_bytes.mean()\n",
    "    # df[\"receiver_ost_write\"] = df[\"receiver_ost_write\"] / df[df.label_value == 0].receiver_ost_write.mean()\n",
    "    df[\"receiver_remote_ost_write_bytes\"] = df[\"receiver_remote_ost_write_bytes\"] / df[df.label_value == 0].receiver_remote_ost_write_bytes.mean()\n",
    "\n",
    "    # df[\"sender_write_bytes_io\"] = df[\"sender_write_bytes_io\"] / df[df.label_value == 0].sender_write_bytes_io.mean()\n",
    "    # df[\"sender_read_bytes_io\"] = df[\"sender_read_bytes_io\"] / df[df.label_value == 0].sender_read_bytes_io.mean()\n",
    "    # df[\"receiver_write_bytes_io\"] = df[\"receiver_write_bytes_io\"] / df[df.label_value == 0].receiver_write_bytes_io.mean()\n",
    "\n",
    "    # df[\"sender_ssthresh_value\"] = df.sender_ssthresh_value / df.sender_cwnd_rate\n",
    "    # df['sender_retrans'] = df['sender_retrans'] / df[df.label_value == 0].sender_seg_out.mean()\n",
    "\n",
    "    return df\n",
    "\n"
   ],
   "metadata": {
    "collapsed": false,
    "pycharm": {
     "name": "#%%\n"
    }
   }
  },
  {
   "cell_type": "code",
   "execution_count": 343,
   "outputs": [],
   "source": [
    "def remove_labels_in_df(df, labels_values):\n",
    "    for lbl in labels_values:\n",
    "        df = df.drop(df[df.label_value == lbl].index)\n",
    "    return df"
   ],
   "metadata": {
    "collapsed": false,
    "pycharm": {
     "name": "#%%\n"
    }
   }
  },
  {
   "cell_type": "code",
   "execution_count": 489,
   "metadata": {
    "pycharm": {
     "name": "#%%\n"
    }
   },
   "outputs": [
    {
     "name": "stdout",
     "output_type": "stream",
     "text": [
      "(18651, 25)\n",
      "(30625, 25)\n",
      "94.23\n"
     ]
    }
   ],
   "source": [
    "# df = emulab_hdd_merged.copy()\n",
    "# df = wisconsin_ssd_merged.copy()\n",
    "# df = wisconsin_ssd_unmerged.copy()\n",
    "df = utah_ssd_merged_1g.copy()\n",
    "remove_labels = [ 91, 100, 46] #[]#[ 91, 100, 46]\n",
    "df = remove_labels_in_df(df, remove_labels)\n",
    "df = normalize_df(df)\n",
    "df = grouped_to_5_cat(df,161)\n",
    "# # df = utah_ssd_merged.copy()\n",
    "# df = wisconsin_ssd_unmerged.copy()\n",
    "# print(df.groupby('label_value').size())\n",
    "# print(df.shape)\n",
    "# df.loc[df.label_value != 0, \"label_value\"] = 1\n",
    "test_df = df.groupby('label_value').sample(0)\n",
    "# test_df = df.loc[df['label_value']==0].sample(75)\n",
    "# print(test_df.groupby('label_value').size())\n",
    "# print(test_df.shape)\n",
    "# test_df\n",
    "\n",
    "# train_df = df.drop(test_df.index)\n",
    "\n",
    "train_df = df\n",
    "# print(train_df.shape)\n",
    "\n",
    "y = train_df.label_value\n",
    "X = train_df[features] #.drop(columns=[\"label_value\", \"receiver_avg_waittime_md\", \"sender_avg_waittime_md\", \"sender_req_waittime\", \"sender_system_cpu_percent\", \"sender_cpu_usage_percentage\", \"sender_system_memory_percent\",\"receiver_cpu_usage_percentage\", \"receiver_req_waittime\", \"receiver_system_cpu_percent\", \"receiver_system_memory_percent\",'sender_avg_rtt_value', 'sender_cwnd_rate', 'sender_byte_ack', 'sender_retrans', 'sender_ssthresh_value','sender_pacing_rate', 'sender_avg_retransmission_timeout_value', 'sender_unacked_value', 'receiver_syscw', 'receiver_req_waittime_md', 'receiver_avg_retransmission_timeout_value', 'sender_segs_in', 'sender_tcp_snd_buffer_min','receiver_seg_out', 'receiver_read_bytes_io', 'sender_send_buffer_value','sender_req_active','sender_mem_usage_percentage','sender_req_waittime_md', 'sender_mds_close_md', 'receiver_req_active', 'receiver_mds_close_md', 'sender_rchar', 'sender_syscr', 'receiver_rchar', 'receiver_wchar', 'receiver_mds_getattr_lock_md', 'receiver_ldlm_cancel_md', 'sender_vsize', 'receiver_syscr', 'sender_rss',  'receiver_vsize', 'receiver_rss', 'sender_mds_getattr_lock_md', 'receiver_mem_usage_percentage', 'sender_read_bytes', 'sender_write_bytes', 'receiver_write_bytes'])#.drop(columns=\"label_value\")\n",
    "X_train, X_test, y_train, y_test = train_test_split(X,y)\n",
    "print(X_train.shape)\n",
    "# X_train, y_train = RandomUnderSampler(sampling_strategy=\"all\").fit_resample(X_train, y_train)\n",
    "X_train, y_train = RandomOverSampler(sampling_strategy=\"all\").fit_resample(X_train, y_train)\n",
    "\n",
    "print(X_train.shape)\n",
    "# clf = RandomForestClassifier(n_estimators=100)\n",
    "# clf = make_pipeline(StandardScaler(), RandomForestClassifier(n_estimators=100))\n",
    "# clf = make_pipeline(StandardScaler(), tree.DecisionTreeClassifier())\n",
    "# clf = make_pipeline(StandardScaler(), FuzzyDecisionTreeClassifier())\n",
    "clf = tree.DecisionTreeClassifier(max_depth=9)\n",
    "# clf = FuzzyDecisionTreeClassifier()\n",
    "# clf = SVC()\n",
    "clf.fit(X_train, y_train)\n",
    "y_pred = clf.predict(X_test)\n",
    "print(np.round(metrics.accuracy_score(y_test, y_pred) * 100, 2))\n",
    "\n",
    "# y_pred\n",
    "# y_pred_5cat = change_labels_5(y_pred, 21) #change_labels_21(y_pred, 161)\n",
    "# y_test_5cat = change_labels_5(y_test, 21) #change_labels_21(y_test, 161)\n",
    "# print(np.round(metrics.accuracy_score(y_test_5cat, y_pred_5cat) * 100, 2))\n",
    "# y_pred_5cat[y_pred_5cat[:]==55]\n",
    "# y_pred_5cat\n",
    "# Counter(y_pred_5cat)"
   ]
  },
  {
   "cell_type": "code",
   "execution_count": 7,
   "outputs": [
    {
     "name": "stdout",
     "output_type": "stream",
     "text": [
      "Cummulative Importance Score: \n",
      " [0.11 0.2  0.28 0.36 0.44 0.51 0.58 0.62 0.66 0.7  0.74 0.78 0.81 0.84\n",
      " 0.86 0.87 0.88 0.89 0.9  0.91 0.92 0.93 0.94 0.95 0.96 0.97 0.98 0.98\n",
      " 0.98 0.98 0.98 0.98 0.98 0.98 0.98 0.98 0.98 0.98 0.98 0.98 0.98 0.98\n",
      " 0.98 0.98 0.98 0.98 0.98 0.98 0.98 0.98 0.98 0.98 0.98 0.98 0.98 0.98\n",
      " 0.98 0.98 0.98 0.98 0.98 0.98 0.98 0.98 0.98 0.98 0.98]\n",
      "Counter({0.0: 40, 0.01: 12, 0.04: 5, 0.08: 3, 0.07: 2, 0.03: 2, 0.09: 1, 0.02: 1, 0.11: 1})\n",
      "['sender_seg_out', 'sender_avg_send_value', 'sender_read_bytes_io', 'sender_write_bytes_io', 'sender_tcp_snd_buffer_max', 'sender_ost_read', 'sender_pending_read_pages', 'sender_read_RPCs_in_flight', 'sender_remote_ost_read_bytes', 'sender_remote_ost_write_bytes', 'receiver_segs_in', 'receiver_write_bytes_io', 'receiver_ost_write', 'receiver_remote_ost_read_bytes', 'receiver_remote_ost_write_bytes']\n",
      "15\n"
     ]
    }
   ],
   "source": [
    "score = np.round(clf.feature_importances_, 2)\n",
    "\n",
    "# print(sorted(list(score), reverse=True))\n",
    "print(\"Cummulative Importance Score: \\n\", np.cumsum(sorted(list(score), reverse=True)))\n",
    "print(Counter(score))\n",
    "features = []\n",
    "for i in range(len(score)):\n",
    "    if score[i] >= 0.02:\n",
    "        features.append(X.columns[i])\n",
    "        # print(df.columns[i])\n",
    "print(features)\n",
    "print(len(features))\n"
   ],
   "metadata": {
    "collapsed": false,
    "pycharm": {
     "name": "#%%\n"
    }
   }
  },
  {
   "cell_type": "code",
   "execution_count": 463,
   "outputs": [
    {
     "name": "stdout",
     "output_type": "stream",
     "text": [
      "68.12\n"
     ]
    }
   ],
   "source": [
    "# utah_ssd_merged = pd.read_csv(filenames.get('utah_ssd_merged')).drop(['time_stamp', 'through_put'], axis=1)\n",
    "df_2 = emulab_hdd_merged.copy() # wisconsin_hdd_ssd_merged.copy()#utah_ssd_merged.copy()# wisconsin_ssd_merged.copy() #utah_ssd_merged_1g.copy() #wisconsin_ssd_merged.copy() #\n",
    "remove_labels = [ 91, 100, 46]\n",
    "df_2 = remove_labels_in_df(df_2, remove_labels)\n",
    "df_2 = normalize_df(df_2)\n",
    "df_2 = grouped_to_5_cat(df_2,161)\n",
    "# df_2 = wisconsin_ssd_merged.copy() #utah_ssd_merged.copy()#\n",
    "y_test = df_2.label_value\n",
    "X_test = df_2[features] #.drop(columns=\"label_value\")##[features] #.drop(columns=\"label_value\")\n",
    "# X_train, X_test, y_train, y_test = train_test_split(X,y)\n",
    "y_pred = clf.predict(X_test)\n",
    "print(np.round(metrics.accuracy_score(y_test, y_pred) * 100, 2))\n",
    "\n",
    "# y_pred_5cat = change_labels_5(y_pred, 21)#change_labels_21(y_pred, 161)\n",
    "# y_test_5cat = change_labels_5(y_test, 21)#change_labels_21(y_test, 161)\n",
    "# print(np.round(metrics.accuracy_score(y_test_5cat, y_pred_5cat) * 100, 2))"
   ],
   "metadata": {
    "collapsed": false,
    "pycharm": {
     "name": "#%%\n"
    }
   }
  },
  {
   "cell_type": "code",
   "execution_count": 42,
   "outputs": [],
   "source": [
    "def change_labels_5(y, total_possible_labels):\n",
    "    aggregated_labels = {}\n",
    "    for i in range(total_possible_labels + 1):\n",
    "        aggregated_labels[i] = i\n",
    "    # 0 is normal and is one group itself\n",
    "    # # group read together\n",
    "    for i in range(1, 55):\n",
    "        aggregated_labels.update({i: 1})\n",
    "\n",
    "    # group write together\n",
    "    for i in range(55, 109):\n",
    "        aggregated_labels.update({i: 55})\n",
    "    # group networks together\n",
    "    for i in range(109, 145):\n",
    "        aggregated_labels.update({i: 109})\n",
    "    # group tcp configs together\n",
    "    for i in range(145, 157):\n",
    "        aggregated_labels.update({i: 145})\n",
    "    # group with networks together\n",
    "    for i in range(157, 161):\n",
    "        aggregated_labels.update({i: 109})\n",
    "    y_new = np.array([aggregated_labels[int(i)] for i in y])\n",
    "    return y_new\n",
    "\n",
    "def change_labels_21(y, total_possible_labels):\n",
    "    aggregated_labels = {}\n",
    "    for i in range(total_possible_labels + 1):\n",
    "        aggregated_labels[i] = i\n",
    "    # 0 is normal and is one group itself\n",
    "    # group read_congestion_by_sender_sender_ost read levels together\n",
    "    for i in range(1, 10):\n",
    "        aggregated_labels.update({i: 1})\n",
    "    # group read_congestion_by_clients_on_sender_ost read levels together\n",
    "    for i in range(10, 19):\n",
    "        aggregated_labels.update({i: 10})\n",
    "    # group read_congestion_by_receiver_on_receiver_ost read levels together\n",
    "    for i in range(19, 28):\n",
    "        aggregated_labels.update({i: 19})\n",
    "    # group read_congestion_by_clients_on_receiver_ost read levels together\n",
    "    for i in range(28, 37):\n",
    "        aggregated_labels.update({i: 28})\n",
    "    # group read_congestion_by_sender_on_other_ost read levels together\n",
    "    for i in range(37, 46):\n",
    "        aggregated_labels.update({i: 37})\n",
    "    # group read_congestion_by_writer_on_other_ost read levels together\n",
    "    for i in range(46, 55):\n",
    "        aggregated_labels.update({i: 46})\n",
    "    # group write_congestion_by_sender_on_sender_ost read levels together\n",
    "    for i in range(55, 64):\n",
    "        aggregated_labels.update({i: 55})\n",
    "    # group write_congestion_by_clients_on_sender_ost read levels together\n",
    "    for i in range(64, 73):\n",
    "        aggregated_labels.update({i: 64})\n",
    "    # group write_congestion_by_receiver_on_receiver read levels together\n",
    "    for i in range(73, 82):\n",
    "        aggregated_labels.update({i: 73})\n",
    "    # group write_congestion_by_clients_on_receiver read levels together\n",
    "    for i in range(82, 91):\n",
    "        aggregated_labels.update({i: 82})\n",
    "    # group write_congestion_by_sender_on_other_ost read levels together\n",
    "    for i in range(91, 100):\n",
    "        aggregated_labels.update({i: 91})\n",
    "    # group write_congestion_by_receiver_on_other_ost read levels together\n",
    "    for i in range(100, 109):\n",
    "        aggregated_labels.update({i: 100})\n",
    "    # group network_anomaly_network_loss read levels together\n",
    "    for i in range(109, 113):\n",
    "        aggregated_labels.update({i: 109})\n",
    "    # group network_anomaly_network_delay read levels together\n",
    "    for i in range(113, 117):\n",
    "        aggregated_labels.update({i: 113})\n",
    "    # group network_anomaly_network_duplicate read levels together\n",
    "    for i in range(117, 129):\n",
    "        aggregated_labels.update({i: 117})\n",
    "    # group network_anomaly_network_corrupt read levels together\n",
    "    for i in range(129, 133):\n",
    "        aggregated_labels.update({i: 129})\n",
    "    # group network_anomaly_network_reorder read levels together\n",
    "    for i in range(133, 145):\n",
    "        aggregated_labels.update({i: 133})\n",
    "    # group sys_config_tcp_send read levels together\n",
    "    for i in range(145, 151):\n",
    "        aggregated_labels.update({i: 145})\n",
    "    # group sys_config_tcp_receive_buffer read levels together\n",
    "    for i in range(151, 157):\n",
    "        aggregated_labels.update({i: 151})\n",
    "    for i in range(157, 161):\n",
    "        aggregated_labels.update({i: 157})\n",
    "    y_new = np.array([aggregated_labels[int(i)] for i in y])\n",
    "    return y_new"
   ],
   "metadata": {
    "collapsed": false,
    "pycharm": {
     "name": "#%%\n"
    }
   }
  },
  {
   "cell_type": "code",
   "execution_count": 341,
   "outputs": [
    {
     "name": "stdout",
     "output_type": "stream",
     "text": [
      "94.25\n"
     ]
    },
    {
     "data": {
      "text/plain": "Counter({55: 2051, 109: 1379, 1: 1915, 145: 418, 0: 79})"
     },
     "execution_count": 341,
     "metadata": {},
     "output_type": "execute_result"
    }
   ],
   "source": [],
   "metadata": {
    "collapsed": false,
    "pycharm": {
     "name": "#%%\n"
    }
   }
  },
  {
   "cell_type": "code",
   "execution_count": 254,
   "metadata": {
    "pycharm": {
     "name": "#%%\n"
    }
   },
   "outputs": [
    {
     "name": "stdout",
     "output_type": "stream",
     "text": [
      "Cummulative Importance Score: \n",
      " [0.05 0.1  0.14 0.18 0.22 0.26 0.29 0.32 0.35 0.38 0.41 0.44 0.46 0.48\n",
      " 0.5  0.52 0.54 0.56 0.58 0.6  0.62 0.64 0.66 0.68 0.7  0.72 0.73 0.74\n",
      " 0.75 0.76 0.77 0.78 0.79 0.8  0.81 0.82 0.83 0.84 0.85 0.86 0.87 0.88\n",
      " 0.89 0.9  0.91 0.92 0.93 0.94 0.95 0.96 0.97 0.98 0.99 1.   1.   1.\n",
      " 1.   1.   1.   1.   1.   1.   1.   1.   1.   1.   1.   1.   1.   1.\n",
      " 1.   1.   1.   1.   1.   1.   1.   1.   1.   1.   1.   1.   1.   1.\n",
      " 1.   1.   1.   1.   1.   1.   1.   1.   1.   1.   1.   1.   1.   1.\n",
      " 1.   1.   1.   1.   1.   1.   1.   1.   1.   1.   1.   1.   1.   1.\n",
      " 1.   1.  ]\n",
      "Counter({0.0: 60, 0.01: 28, 0.02: 14, 0.03: 6, 0.04: 4, 0.05: 2})\n",
      "['sender_avg_rtt_value', 'sender_cwnd_rate', 'sender_byte_ack', 'sender_seg_out', 'sender_retrans', 'sender_ssthresh_value', 'sender_segs_in', 'sender_avg_send_value', 'sender_tcp_snd_buffer_min', 'sender_tcp_snd_buffer_max', 'sender_req_waittime', 'sender_req_active', 'sender_ost_read', 'sender_system_cpu_percent', 'sender_remote_ost_read_bytes', 'sender_remote_ost_write_bytes', 'receiver_seg_out', 'receiver_segs_in', 'receiver_req_waittime', 'receiver_req_active', 'receiver_write_bytes', 'receiver_ost_write', 'receiver_system_cpu_percent', 'receiver_system_memory_percent', 'receiver_remote_ost_read_bytes', 'receiver_remote_ost_write_bytes']\n",
      "26\n"
     ]
    }
   ],
   "source": [
    "score = np.round(clf.feature_importances_, 2)\n",
    "\n",
    "# print(sorted(list(score), reverse=True))\n",
    "print(\"Cummulative Importance Score: \\n\", np.cumsum(sorted(list(score), reverse=True)))\n",
    "print(Counter(score))\n",
    "features = []\n",
    "for i in range(len(score)):\n",
    "    if score[i] >= 0.02:\n",
    "        features.append(X.columns[i])\n",
    "        # print(df.columns[i])\n",
    "print(features)\n",
    "print(len(features))\n"
   ]
  },
  {
   "cell_type": "code",
   "execution_count": 623,
   "metadata": {
    "pycharm": {
     "name": "#%%\n"
    }
   },
   "outputs": [
    {
     "name": "stdout",
     "output_type": "stream",
     "text": [
      "(200, 14)\n",
      "78.5\n",
      "78.5\n"
     ]
    }
   ],
   "source": [
    "y_test = test_df.label_value\n",
    "X_test = test_df[features] #.drop(columns=\"label_value\")\n",
    "print(X_test.shape)\n",
    "y_pred = clf.predict(X_test)\n",
    "print(np.round(metrics.accuracy_score(y_test, y_pred) * 100, 2))\n",
    "# Counter(y_pred)\n",
    "y_pred_5cat = change_labels_5(y_pred, 21)#change_labels_21(y_pred, 161)\n",
    "y_test_5cat = change_labels_5(y_test, 21)#change_labels_21(y_test, 161)\n",
    "print(np.round(metrics.accuracy_score(y_test_5cat, y_pred_5cat) * 100, 2))\n",
    "# y_pred_5cat[y_pred_5cat[:]==55]\n",
    "# y_pred_5cat\n",
    "# Counter(y_pred_5cat)"
   ]
  },
  {
   "cell_type": "code",
   "execution_count": 624,
   "metadata": {
    "pycharm": {
     "name": "#%%\n"
    }
   },
   "outputs": [
    {
     "name": "stdout",
     "output_type": "stream",
     "text": [
      "(75, 14)\n",
      "0.0\n",
      "Counter({55: 67, 109: 4, 1: 3, 145: 1})\n",
      "0.0\n",
      "Counter({55: 67, 109: 4, 1: 3, 145: 1})\n"
     ]
    }
   ],
   "source": [
    "new_df = pd.read_csv('./montage_analysis/normal.csv').drop(['time_stamp', 'through_put'], axis=1)\n",
    "# new_df = pd.read_csv('./montage_analysis/montage_5_instance.csv').drop(['time_stamp', 'through_put'], axis=1)\n",
    "new_df = normalize_df(new_df)\n",
    "y_test = new_df.label_value\n",
    "X_test = new_df[features] #.drop(columns=\"label_value\")#[features] #.drop(columns=\"label_value\")\n",
    "print(X_test.shape)\n",
    "y_pred = clf.predict(X_test)\n",
    "print(np.round(metrics.accuracy_score(y_test, y_pred) * 100, 2))\n",
    "print(Counter(y_pred))\n",
    "# print(y_test)\n",
    "\n",
    "y_pred_5cat = change_labels_5(y_pred, 21)#change_labels_21(y_pred, 161)\n",
    "y_test_5cat = change_labels_5(y_test, 21)#change_labels(y_test, 161)\n",
    "print(np.round(metrics.accuracy_score(y_test_5cat, y_pred_5cat) * 100, 2))\n",
    "print(Counter(y_pred_5cat))\n",
    "# Counter(y_pred_5cat)\n",
    "# # new_df.loc[new_df['label_value']==0]\n",
    "# np.round(X_test.mean(), 2)\n",
    "# np.round(train_df[train_df.label_value == 0][features].std(), 2) / np.round(X_test.std(), 2)\n",
    "# train_df.groupby(\"label_value\").receiver_avg_waittime_md.mean()"
   ]
  },
  {
   "cell_type": "code",
   "execution_count": 447,
   "outputs": [
    {
     "data": {
      "text/plain": "       sender_seg_out  sender_avg_send_value  sender_read_bytes_io  \\\ncount     9815.000000            9815.000000          9.815000e+03   \nmean         0.823257            1894.692196          1.392122e+09   \nstd          0.345926            3482.565456          9.527544e+08   \nmin          0.000000             113.700000          4.629299e+07   \n25%          0.861483             991.200000          4.910326e+08   \n50%          0.998970            1008.800000          1.329734e+09   \n75%          1.000847            1057.450000          2.219219e+09   \nmax          1.022708           26371.100000          3.192304e+09   \n\n       sender_write_bytes_io  sender_ost_read  sender_ost_write  \\\ncount            9815.000000     9.815000e+03            9815.0   \nmean            40814.355171     2.303494e+06               0.0   \nstd              4572.946671     3.184921e+06               0.0   \nmin             32768.000000     8.600100e+04               0.0   \n25%             36864.000000     6.510380e+05               0.0   \n50%             40960.000000     7.524720e+05               0.0   \n75%             45056.000000     1.672096e+06               0.0   \nmax             57344.000000     9.704862e+06               0.0   \n\n       sender_remote_ost_read_bytes  sender_remote_ost_write_bytes  \\\ncount                   9815.000000                         9815.0   \nmean                       2.070998                            0.0   \nstd                        1.567760                            0.0   \nmin                        0.160755                            0.0   \n25%                        0.964529                            0.0   \n50%                        1.028831                            0.0   \n75%                        4.163551                            0.0   \nmax                        4.424777                            0.0   \n\n       receiver_write_bytes_io  receiver_ost_write  ...  receiver_write_bytes  \\\ncount             9.815000e+03        9.815000e+03  ...           9815.000000   \nmean              1.304441e+09        5.784576e+05  ...              0.824811   \nstd               9.452308e+08        5.733861e+05  ...              0.346489   \nmin               4.505600e+04        0.000000e+00  ...              0.000000   \n25%               3.850588e+08        3.250735e+05  ...              0.849383   \n50%               1.250251e+09        3.364420e+05  ...              0.980046   \n75%               2.103599e+09        5.808625e+05  ...              1.012618   \nmax               3.101327e+09        3.288973e+06  ...              2.123472   \n\n       receiver_segs_in  sender_pending_read_pages  \\\ncount       9815.000000                9815.000000   \nmean           0.825700                   2.216607   \nstd            0.345792                   3.306124   \nmin            0.000000                   0.000000   \n25%            0.869292                   0.000000   \n50%            1.000184                   0.000000   \n75%            1.001458                   4.000000   \nmax            2.121816                  10.000000   \n\n       sender_read_RPCs_in_flight  sender_send_buffer_value  \\\ncount                 9815.000000              9.815000e+03   \nmean                  1063.488945              2.953975e+06   \nstd                   2858.465612              1.318712e+06   \nmin                      0.000000              0.000000e+00   \n25%                      0.000000              2.932524e+06   \n50%                      0.000000              3.369496e+06   \n75%                      0.000000              3.797328e+06   \nmax                  15136.000000              4.202752e+06   \n\n       sender_req_active  receiver_req_active  sender_retrans  \\\ncount        9815.000000          9815.000000     9815.000000   \nmean         1035.857056           591.404585        0.009985   \nstd          2309.799435          1599.229320        0.201639   \nmin             9.000000             0.000000        0.000000   \n25%            70.000000            30.000000        0.000000   \n50%            80.000000            31.000000        0.000000   \n75%           976.000000            39.000000        0.000000   \nmax          9515.000000          7053.000000       11.000000   \n\n       sender_cwnd_rate  receiver_tcp_rcv_buffer_max  \ncount       9815.000000                       9815.0  \nmean        1952.746205                    6291456.0  \nstd          554.976335                          0.0  \nmin           10.000000                    6291456.0  \n25%         2162.000000                    6291456.0  \n50%         2178.000000                    6291456.0  \n75%         2185.000000                    6291456.0  \nmax         2223.000000                    6291456.0  \n\n[8 rows x 23 columns]",
      "text/html": "<div>\n<style scoped>\n    .dataframe tbody tr th:only-of-type {\n        vertical-align: middle;\n    }\n\n    .dataframe tbody tr th {\n        vertical-align: top;\n    }\n\n    .dataframe thead th {\n        text-align: right;\n    }\n</style>\n<table border=\"1\" class=\"dataframe\">\n  <thead>\n    <tr style=\"text-align: right;\">\n      <th></th>\n      <th>sender_seg_out</th>\n      <th>sender_avg_send_value</th>\n      <th>sender_read_bytes_io</th>\n      <th>sender_write_bytes_io</th>\n      <th>sender_ost_read</th>\n      <th>sender_ost_write</th>\n      <th>sender_remote_ost_read_bytes</th>\n      <th>sender_remote_ost_write_bytes</th>\n      <th>receiver_write_bytes_io</th>\n      <th>receiver_ost_write</th>\n      <th>...</th>\n      <th>receiver_write_bytes</th>\n      <th>receiver_segs_in</th>\n      <th>sender_pending_read_pages</th>\n      <th>sender_read_RPCs_in_flight</th>\n      <th>sender_send_buffer_value</th>\n      <th>sender_req_active</th>\n      <th>receiver_req_active</th>\n      <th>sender_retrans</th>\n      <th>sender_cwnd_rate</th>\n      <th>receiver_tcp_rcv_buffer_max</th>\n    </tr>\n  </thead>\n  <tbody>\n    <tr>\n      <th>count</th>\n      <td>9815.000000</td>\n      <td>9815.000000</td>\n      <td>9.815000e+03</td>\n      <td>9815.000000</td>\n      <td>9.815000e+03</td>\n      <td>9815.0</td>\n      <td>9815.000000</td>\n      <td>9815.0</td>\n      <td>9.815000e+03</td>\n      <td>9.815000e+03</td>\n      <td>...</td>\n      <td>9815.000000</td>\n      <td>9815.000000</td>\n      <td>9815.000000</td>\n      <td>9815.000000</td>\n      <td>9.815000e+03</td>\n      <td>9815.000000</td>\n      <td>9815.000000</td>\n      <td>9815.000000</td>\n      <td>9815.000000</td>\n      <td>9815.0</td>\n    </tr>\n    <tr>\n      <th>mean</th>\n      <td>0.823257</td>\n      <td>1894.692196</td>\n      <td>1.392122e+09</td>\n      <td>40814.355171</td>\n      <td>2.303494e+06</td>\n      <td>0.0</td>\n      <td>2.070998</td>\n      <td>0.0</td>\n      <td>1.304441e+09</td>\n      <td>5.784576e+05</td>\n      <td>...</td>\n      <td>0.824811</td>\n      <td>0.825700</td>\n      <td>2.216607</td>\n      <td>1063.488945</td>\n      <td>2.953975e+06</td>\n      <td>1035.857056</td>\n      <td>591.404585</td>\n      <td>0.009985</td>\n      <td>1952.746205</td>\n      <td>6291456.0</td>\n    </tr>\n    <tr>\n      <th>std</th>\n      <td>0.345926</td>\n      <td>3482.565456</td>\n      <td>9.527544e+08</td>\n      <td>4572.946671</td>\n      <td>3.184921e+06</td>\n      <td>0.0</td>\n      <td>1.567760</td>\n      <td>0.0</td>\n      <td>9.452308e+08</td>\n      <td>5.733861e+05</td>\n      <td>...</td>\n      <td>0.346489</td>\n      <td>0.345792</td>\n      <td>3.306124</td>\n      <td>2858.465612</td>\n      <td>1.318712e+06</td>\n      <td>2309.799435</td>\n      <td>1599.229320</td>\n      <td>0.201639</td>\n      <td>554.976335</td>\n      <td>0.0</td>\n    </tr>\n    <tr>\n      <th>min</th>\n      <td>0.000000</td>\n      <td>113.700000</td>\n      <td>4.629299e+07</td>\n      <td>32768.000000</td>\n      <td>8.600100e+04</td>\n      <td>0.0</td>\n      <td>0.160755</td>\n      <td>0.0</td>\n      <td>4.505600e+04</td>\n      <td>0.000000e+00</td>\n      <td>...</td>\n      <td>0.000000</td>\n      <td>0.000000</td>\n      <td>0.000000</td>\n      <td>0.000000</td>\n      <td>0.000000e+00</td>\n      <td>9.000000</td>\n      <td>0.000000</td>\n      <td>0.000000</td>\n      <td>10.000000</td>\n      <td>6291456.0</td>\n    </tr>\n    <tr>\n      <th>25%</th>\n      <td>0.861483</td>\n      <td>991.200000</td>\n      <td>4.910326e+08</td>\n      <td>36864.000000</td>\n      <td>6.510380e+05</td>\n      <td>0.0</td>\n      <td>0.964529</td>\n      <td>0.0</td>\n      <td>3.850588e+08</td>\n      <td>3.250735e+05</td>\n      <td>...</td>\n      <td>0.849383</td>\n      <td>0.869292</td>\n      <td>0.000000</td>\n      <td>0.000000</td>\n      <td>2.932524e+06</td>\n      <td>70.000000</td>\n      <td>30.000000</td>\n      <td>0.000000</td>\n      <td>2162.000000</td>\n      <td>6291456.0</td>\n    </tr>\n    <tr>\n      <th>50%</th>\n      <td>0.998970</td>\n      <td>1008.800000</td>\n      <td>1.329734e+09</td>\n      <td>40960.000000</td>\n      <td>7.524720e+05</td>\n      <td>0.0</td>\n      <td>1.028831</td>\n      <td>0.0</td>\n      <td>1.250251e+09</td>\n      <td>3.364420e+05</td>\n      <td>...</td>\n      <td>0.980046</td>\n      <td>1.000184</td>\n      <td>0.000000</td>\n      <td>0.000000</td>\n      <td>3.369496e+06</td>\n      <td>80.000000</td>\n      <td>31.000000</td>\n      <td>0.000000</td>\n      <td>2178.000000</td>\n      <td>6291456.0</td>\n    </tr>\n    <tr>\n      <th>75%</th>\n      <td>1.000847</td>\n      <td>1057.450000</td>\n      <td>2.219219e+09</td>\n      <td>45056.000000</td>\n      <td>1.672096e+06</td>\n      <td>0.0</td>\n      <td>4.163551</td>\n      <td>0.0</td>\n      <td>2.103599e+09</td>\n      <td>5.808625e+05</td>\n      <td>...</td>\n      <td>1.012618</td>\n      <td>1.001458</td>\n      <td>4.000000</td>\n      <td>0.000000</td>\n      <td>3.797328e+06</td>\n      <td>976.000000</td>\n      <td>39.000000</td>\n      <td>0.000000</td>\n      <td>2185.000000</td>\n      <td>6291456.0</td>\n    </tr>\n    <tr>\n      <th>max</th>\n      <td>1.022708</td>\n      <td>26371.100000</td>\n      <td>3.192304e+09</td>\n      <td>57344.000000</td>\n      <td>9.704862e+06</td>\n      <td>0.0</td>\n      <td>4.424777</td>\n      <td>0.0</td>\n      <td>3.101327e+09</td>\n      <td>3.288973e+06</td>\n      <td>...</td>\n      <td>2.123472</td>\n      <td>2.121816</td>\n      <td>10.000000</td>\n      <td>15136.000000</td>\n      <td>4.202752e+06</td>\n      <td>9515.000000</td>\n      <td>7053.000000</td>\n      <td>11.000000</td>\n      <td>2223.000000</td>\n      <td>6291456.0</td>\n    </tr>\n  </tbody>\n</table>\n<p>8 rows × 23 columns</p>\n</div>"
     },
     "execution_count": 447,
     "metadata": {},
     "output_type": "execute_result"
    }
   ],
   "source": [
    "df = utah_ssd_merged_1g.copy()\n",
    "df = normalize_df(df)\n",
    "df = grouped_to_5_cat(df,161)\n",
    "# df[df.label_value==0][features]\n",
    "# df[features]\n",
    "df[df.label_value==1][features].describe()"
   ],
   "metadata": {
    "collapsed": false,
    "pycharm": {
     "name": "#%%\n"
    }
   }
  },
  {
   "cell_type": "code",
   "execution_count": 754,
   "outputs": [
    {
     "data": {
      "text/plain": "label_value\n0      4.192289e+05\n1      3.967554e+04\n10     2.809335e+05\n19     2.948815e+06\n28     2.287045e+06\n37     1.922042e+05\n46     3.989674e+05\n55     1.059194e+05\n64     2.291121e+05\n73     2.833235e+06\n82     4.058521e+05\n91     4.081751e+05\n100    4.050168e+05\n109    1.331267e+06\n113    9.061043e+05\n117    6.605050e+05\n129    1.207120e+06\n133    1.399151e+06\n145    1.494873e+05\n151    6.506675e+05\n157    3.085139e+06\nName: sender_send_buffer_value, dtype: float64"
     },
     "execution_count": 754,
     "metadata": {},
     "output_type": "execute_result"
    }
   ],
   "source": [
    "df = utah_ssd_merged.copy()\n",
    "# df.sender_send_buffer_value = df.sender_send_buffer_value/df.sender_avg_rtt_value\n",
    "df.groupby('label_value').sender_send_buffer_value.mean()\n",
    "# df = normalize_df(df)\n",
    "# df = grouped_to_5_cat(df,161)\n",
    "# df[(df.label_value==1) & (df.sender_cwnd_rate <= 1105.5) & (df.sender_retrans <= 1.5)\n",
    "#    & (df.sender_req_active <= 565.5) & (df.sender_avg_send_value <= 0.1)][features]\n",
    "# df[df.label_value==1][features].describe()\n",
    "# df[df.sender_write_bytes>0].groupby('label_value').mean()"
   ],
   "metadata": {
    "collapsed": false,
    "pycharm": {
     "name": "#%%\n"
    }
   }
  },
  {
   "cell_type": "code",
   "execution_count": 755,
   "outputs": [
    {
     "data": {
      "text/plain": "label_value\n0      3.460349e+06\n1      3.181198e+05\n10     3.489354e+06\n19     3.464682e+06\n28     3.555197e+06\n37     3.427901e+06\n46     3.509413e+06\n55     1.691599e+06\n64     3.484005e+06\n73     2.486578e+06\n82     3.605731e+06\n91     3.498395e+06\n100    3.491593e+06\n109    2.511793e+06\n113    3.482295e+06\n117    3.472446e+06\n129    2.153372e+06\n133    1.541835e+06\n145    8.195714e+05\n151    1.539918e+06\n157    3.074005e+06\nName: sender_send_buffer_value, dtype: float64"
     },
     "execution_count": 755,
     "metadata": {},
     "output_type": "execute_result"
    }
   ],
   "source": [
    "df = utah_ssd_merged_1g.copy()\n",
    "# df.sender_send_buffer_value = df.sender_send_buffer_value/df.sender_avg_rtt_value\n",
    "df.groupby('label_value').sender_send_buffer_value.mean()"
   ],
   "metadata": {
    "collapsed": false,
    "pycharm": {
     "name": "#%%\n"
    }
   }
  },
  {
   "cell_type": "code",
   "execution_count": 449,
   "outputs": [
    {
     "data": {
      "text/plain": "       sender_seg_out  sender_avg_send_value  sender_read_bytes_io  \\\ncount     9790.000000            9790.000000          9.790000e+03   \nmean         0.617100           36541.046435          6.120485e+09   \nstd          0.357923           21723.890217          5.110117e+09   \nmin          0.000000             240.700000          5.002035e+07   \n25%          0.355619           24494.550000          2.055653e+09   \n50%          0.605353           31536.350000          5.155371e+09   \n75%          1.021383           44634.500000          8.779213e+09   \nmax          1.088630          190492.400000          2.478428e+10   \n\n       sender_write_bytes_io  sender_ost_read  sender_ost_write  \\\ncount            9790.000000     9.790000e+03            9790.0   \nmean            44396.623493     6.418458e+06               0.0   \nstd              7245.230246     3.749969e+06               0.0   \nmin             32768.000000     0.000000e+00               0.0   \n25%             40960.000000     1.762726e+06               0.0   \n50%             45056.000000     9.278554e+06               0.0   \n75%             45056.000000     9.332386e+06               0.0   \nmax             61440.000000     9.899720e+06               0.0   \n\n       sender_remote_ost_read_bytes  sender_remote_ost_write_bytes  \\\ncount                   9790.000000                         9790.0   \nmean                       0.813889                            0.0   \nstd                        0.287662                            0.0   \nmin                        0.000000                            0.0   \n25%                        0.545285                            0.0   \n50%                        1.013466                            0.0   \n75%                        1.029312                            0.0   \nmax                        1.045395                            0.0   \n\n       receiver_write_bytes_io  receiver_ost_write  ...  receiver_write_bytes  \\\ncount             9.790000e+03        9.790000e+03  ...           9790.000000   \nmean              6.033387e+09        5.161904e+06  ...              0.634100   \nstd               5.099427e+09        5.167391e+06  ...              0.396036   \nmin               3.457024e+06        0.000000e+00  ...              0.000000   \n25%               1.951868e+09        5.279735e+05  ...              0.386682   \n50%               5.008583e+09        3.753794e+06  ...              0.633500   \n75%               8.767557e+09        9.703720e+06  ...              0.970818   \nmax               2.485041e+10        8.162023e+07  ...              6.738137   \n\n       receiver_segs_in  sender_pending_read_pages  \\\ncount       9790.000000                9790.000000   \nmean           0.623564                   6.281512   \nstd            0.376573                   3.763682   \nmin            0.000000                   0.000000   \n25%            0.353678                   2.000000   \n50%            0.622057                   9.000000   \n75%            0.998179                   9.000000   \nmax            8.737006                  10.000000   \n\n       sender_read_RPCs_in_flight  sender_send_buffer_value  \\\ncount                 9790.000000              9.790000e+03   \nmean                  2982.207150              9.911381e+05   \nstd                   2942.746163              1.559386e+06   \nmin                      0.000000              0.000000e+00   \n25%                      0.000000              0.000000e+00   \n50%                   3072.000000              0.000000e+00   \n75%                   5120.000000              1.880902e+06   \nmax                  13952.000000              4.203544e+06   \n\n       sender_req_active  receiver_req_active  sender_retrans  \\\ncount        9790.000000          9790.000000     9790.000000   \nmean         1604.531869           956.236670        4.307865   \nstd          2180.625095          1355.828864       23.976531   \nmin             0.000000             0.000000        0.000000   \n25%           639.000000            52.000000        0.000000   \n50%          1224.000000           778.500000        0.000000   \n75%          1435.000000          1150.000000        0.000000   \nmax          9931.000000         11419.000000      420.000000   \n\n       sender_cwnd_rate  receiver_tcp_rcv_buffer_max  \ncount       9790.000000                       9790.0  \nmean         807.109602                    6291456.0  \nstd          273.641483                          0.0  \nmin           92.000000                    6291456.0  \n25%          675.000000                    6291456.0  \n50%          850.000000                    6291456.0  \n75%          991.000000                    6291456.0  \nmax         1512.000000                    6291456.0  \n\n[8 rows x 23 columns]",
      "text/html": "<div>\n<style scoped>\n    .dataframe tbody tr th:only-of-type {\n        vertical-align: middle;\n    }\n\n    .dataframe tbody tr th {\n        vertical-align: top;\n    }\n\n    .dataframe thead th {\n        text-align: right;\n    }\n</style>\n<table border=\"1\" class=\"dataframe\">\n  <thead>\n    <tr style=\"text-align: right;\">\n      <th></th>\n      <th>sender_seg_out</th>\n      <th>sender_avg_send_value</th>\n      <th>sender_read_bytes_io</th>\n      <th>sender_write_bytes_io</th>\n      <th>sender_ost_read</th>\n      <th>sender_ost_write</th>\n      <th>sender_remote_ost_read_bytes</th>\n      <th>sender_remote_ost_write_bytes</th>\n      <th>receiver_write_bytes_io</th>\n      <th>receiver_ost_write</th>\n      <th>...</th>\n      <th>receiver_write_bytes</th>\n      <th>receiver_segs_in</th>\n      <th>sender_pending_read_pages</th>\n      <th>sender_read_RPCs_in_flight</th>\n      <th>sender_send_buffer_value</th>\n      <th>sender_req_active</th>\n      <th>receiver_req_active</th>\n      <th>sender_retrans</th>\n      <th>sender_cwnd_rate</th>\n      <th>receiver_tcp_rcv_buffer_max</th>\n    </tr>\n  </thead>\n  <tbody>\n    <tr>\n      <th>count</th>\n      <td>9790.000000</td>\n      <td>9790.000000</td>\n      <td>9.790000e+03</td>\n      <td>9790.000000</td>\n      <td>9.790000e+03</td>\n      <td>9790.0</td>\n      <td>9790.000000</td>\n      <td>9790.0</td>\n      <td>9.790000e+03</td>\n      <td>9.790000e+03</td>\n      <td>...</td>\n      <td>9790.000000</td>\n      <td>9790.000000</td>\n      <td>9790.000000</td>\n      <td>9790.000000</td>\n      <td>9.790000e+03</td>\n      <td>9790.000000</td>\n      <td>9790.000000</td>\n      <td>9790.000000</td>\n      <td>9790.000000</td>\n      <td>9790.0</td>\n    </tr>\n    <tr>\n      <th>mean</th>\n      <td>0.617100</td>\n      <td>36541.046435</td>\n      <td>6.120485e+09</td>\n      <td>44396.623493</td>\n      <td>6.418458e+06</td>\n      <td>0.0</td>\n      <td>0.813889</td>\n      <td>0.0</td>\n      <td>6.033387e+09</td>\n      <td>5.161904e+06</td>\n      <td>...</td>\n      <td>0.634100</td>\n      <td>0.623564</td>\n      <td>6.281512</td>\n      <td>2982.207150</td>\n      <td>9.911381e+05</td>\n      <td>1604.531869</td>\n      <td>956.236670</td>\n      <td>4.307865</td>\n      <td>807.109602</td>\n      <td>6291456.0</td>\n    </tr>\n    <tr>\n      <th>std</th>\n      <td>0.357923</td>\n      <td>21723.890217</td>\n      <td>5.110117e+09</td>\n      <td>7245.230246</td>\n      <td>3.749969e+06</td>\n      <td>0.0</td>\n      <td>0.287662</td>\n      <td>0.0</td>\n      <td>5.099427e+09</td>\n      <td>5.167391e+06</td>\n      <td>...</td>\n      <td>0.396036</td>\n      <td>0.376573</td>\n      <td>3.763682</td>\n      <td>2942.746163</td>\n      <td>1.559386e+06</td>\n      <td>2180.625095</td>\n      <td>1355.828864</td>\n      <td>23.976531</td>\n      <td>273.641483</td>\n      <td>0.0</td>\n    </tr>\n    <tr>\n      <th>min</th>\n      <td>0.000000</td>\n      <td>240.700000</td>\n      <td>5.002035e+07</td>\n      <td>32768.000000</td>\n      <td>0.000000e+00</td>\n      <td>0.0</td>\n      <td>0.000000</td>\n      <td>0.0</td>\n      <td>3.457024e+06</td>\n      <td>0.000000e+00</td>\n      <td>...</td>\n      <td>0.000000</td>\n      <td>0.000000</td>\n      <td>0.000000</td>\n      <td>0.000000</td>\n      <td>0.000000e+00</td>\n      <td>0.000000</td>\n      <td>0.000000</td>\n      <td>0.000000</td>\n      <td>92.000000</td>\n      <td>6291456.0</td>\n    </tr>\n    <tr>\n      <th>25%</th>\n      <td>0.355619</td>\n      <td>24494.550000</td>\n      <td>2.055653e+09</td>\n      <td>40960.000000</td>\n      <td>1.762726e+06</td>\n      <td>0.0</td>\n      <td>0.545285</td>\n      <td>0.0</td>\n      <td>1.951868e+09</td>\n      <td>5.279735e+05</td>\n      <td>...</td>\n      <td>0.386682</td>\n      <td>0.353678</td>\n      <td>2.000000</td>\n      <td>0.000000</td>\n      <td>0.000000e+00</td>\n      <td>639.000000</td>\n      <td>52.000000</td>\n      <td>0.000000</td>\n      <td>675.000000</td>\n      <td>6291456.0</td>\n    </tr>\n    <tr>\n      <th>50%</th>\n      <td>0.605353</td>\n      <td>31536.350000</td>\n      <td>5.155371e+09</td>\n      <td>45056.000000</td>\n      <td>9.278554e+06</td>\n      <td>0.0</td>\n      <td>1.013466</td>\n      <td>0.0</td>\n      <td>5.008583e+09</td>\n      <td>3.753794e+06</td>\n      <td>...</td>\n      <td>0.633500</td>\n      <td>0.622057</td>\n      <td>9.000000</td>\n      <td>3072.000000</td>\n      <td>0.000000e+00</td>\n      <td>1224.000000</td>\n      <td>778.500000</td>\n      <td>0.000000</td>\n      <td>850.000000</td>\n      <td>6291456.0</td>\n    </tr>\n    <tr>\n      <th>75%</th>\n      <td>1.021383</td>\n      <td>44634.500000</td>\n      <td>8.779213e+09</td>\n      <td>45056.000000</td>\n      <td>9.332386e+06</td>\n      <td>0.0</td>\n      <td>1.029312</td>\n      <td>0.0</td>\n      <td>8.767557e+09</td>\n      <td>9.703720e+06</td>\n      <td>...</td>\n      <td>0.970818</td>\n      <td>0.998179</td>\n      <td>9.000000</td>\n      <td>5120.000000</td>\n      <td>1.880902e+06</td>\n      <td>1435.000000</td>\n      <td>1150.000000</td>\n      <td>0.000000</td>\n      <td>991.000000</td>\n      <td>6291456.0</td>\n    </tr>\n    <tr>\n      <th>max</th>\n      <td>1.088630</td>\n      <td>190492.400000</td>\n      <td>2.478428e+10</td>\n      <td>61440.000000</td>\n      <td>9.899720e+06</td>\n      <td>0.0</td>\n      <td>1.045395</td>\n      <td>0.0</td>\n      <td>2.485041e+10</td>\n      <td>8.162023e+07</td>\n      <td>...</td>\n      <td>6.738137</td>\n      <td>8.737006</td>\n      <td>10.000000</td>\n      <td>13952.000000</td>\n      <td>4.203544e+06</td>\n      <td>9931.000000</td>\n      <td>11419.000000</td>\n      <td>420.000000</td>\n      <td>1512.000000</td>\n      <td>6291456.0</td>\n    </tr>\n  </tbody>\n</table>\n<p>8 rows × 23 columns</p>\n</div>"
     },
     "execution_count": 449,
     "metadata": {},
     "output_type": "execute_result"
    }
   ],
   "source": [
    "df = utah_ssd_merged.copy()\n",
    "df = normalize_df(df)\n",
    "df = grouped_to_5_cat(df,161)\n",
    "# df[(df.label_value==1) & (df.sender_cwnd_rate <= 1105.5) & (df.sender_retrans <= 1.5)\n",
    "#    & (df.sender_req_active <= 565.5) & (df.sender_avg_send_value <= 0.1)][features]\n",
    "df[df.label_value==1][features].describe()"
   ],
   "metadata": {
    "collapsed": false,
    "pycharm": {
     "name": "#%%\n"
    }
   }
  },
  {
   "cell_type": "code",
   "execution_count": 338,
   "outputs": [
    {
     "data": {
      "text/plain": "       sender_seg_out  sender_avg_send_value  sender_read_bytes_io  \\\n16948        1.065260               1.194257              0.124762   \n16949        1.059818               0.876858              0.224510   \n16950        1.062362               1.665855              0.324259   \n16951        1.055404               1.390089              0.424007   \n16952        0.746546               0.059441              0.591010   \n...               ...                    ...                   ...   \n17086        1.056281               1.053464              1.466895   \n17087        1.056406               1.186928              1.563621   \n17088        1.054684               1.437976              1.663370   \n17089        0.906665               1.695183              1.748005   \n17090        0.600426               1.590098              1.802413   \n\n       sender_write_bytes_io  sender_ost_read  sender_ost_write  \\\n16948               0.703135         0.989478                 0   \n16949               0.791026         1.099666                 0   \n16950               0.791026         1.098322                 0   \n16951               1.054702         1.091959                 0   \n16952               1.054702         0.808836                 0   \n...                      ...              ...               ...   \n17086               0.966810         1.095731                 0   \n17087               0.966810         1.106583                 0   \n17088               0.966810         1.095703                 0   \n17089               0.966810         1.109396                 0   \n17090               0.966810         0.395757                 0   \n\n       sender_remote_ost_read_bytes  sender_remote_ost_write_bytes  \\\n16948                      1.075735                              0   \n16949                      1.059559                              0   \n16950                      1.059559                              0   \n16951                      1.059559                              0   \n16952                      0.760294                              0   \n...                             ...                            ...   \n17086                      1.051471                              0   \n17087                      1.059559                              0   \n17088                      1.059559                              0   \n17089                      0.922059                              0   \n17090                      0.582353                              0   \n\n       receiver_segs_in  receiver_write_bytes_io  ...  \\\n16948          1.042083                 0.109400  ...   \n16949          1.040225                 0.210860  ...   \n16950          1.036636                 0.312944  ...   \n16951          1.042170                 0.414816  ...   \n16952          0.725474                 0.592522  ...   \n...                 ...                      ...  ...   \n17086          1.036837                 1.483676  ...   \n17087          1.038657                 1.584971  ...   \n17088          1.030115                 1.686099  ...   \n17089          0.845053                 1.773804  ...   \n17090          0.640632                 1.831609  ...   \n\n       receiver_remote_ost_write_bytes  sender_read_bytes  \\\n16948                         1.085844           1.130371   \n16949                         1.052690           1.057704   \n16950                         1.044401           1.057704   \n16951                         1.044401           1.049630   \n16952                         0.978090           0.799334   \n...                                ...                ...   \n17086                         0.920067           1.049630   \n17087                         0.944934           1.057704   \n17088                         0.828889           1.049630   \n17089                         0.812312           0.928519   \n17090                         0.804023           0.573260   \n\n       receiver_write_bytes  sender_pending_read_pages  \\\n16948              1.087672                          9   \n16949              1.046159                          9   \n16950              1.046159                          9   \n16951              1.054462                          9   \n16952              1.046159                          0   \n...                     ...                        ...   \n17086              0.929919                          8   \n17087              0.938222                          9   \n17088              0.846891                          9   \n17089              0.813679                          7   \n17090              0.813679                          9   \n\n       sender_read_RPCs_in_flight  sender_send_buffer_value  \\\n16948                        5120                  952264.0   \n16949                        6144                 1828800.0   \n16950                        3072                       0.0   \n16951                        4096                 2649304.0   \n16952                           0                 2973392.0   \n...                           ...                       ...   \n17086                        3072                 1083440.0   \n17087                        5120                  184824.0   \n17088                        2048                 2375680.0   \n17089                           0                 2785952.0   \n17090                        4096                 1921416.0   \n\n       sender_req_active  receiver_req_active  sender_retrans  \\\n16948               1147                  851             0.0   \n16949               1179                 1226             0.0   \n16950               1179                 1219             0.0   \n16951               1170                 1241             0.0   \n16952                788                 1152             1.0   \n...                  ...                  ...             ...   \n17086               1171                 1090             0.0   \n17087               1179                 1094             0.0   \n17088               1170                  968             0.0   \n17089               1019                  943             0.0   \n17090                440                  969             0.0   \n\n       sender_cwnd_rate  \n16948             591.0  \n16949             641.0  \n16950             659.0  \n16951             667.0  \n16952             476.0  \n...                 ...  \n17086             637.0  \n17087             657.0  \n17088             677.0  \n17089             691.0  \n17090             696.0  \n\n[143 rows x 22 columns]",
      "text/html": "<div>\n<style scoped>\n    .dataframe tbody tr th:only-of-type {\n        vertical-align: middle;\n    }\n\n    .dataframe tbody tr th {\n        vertical-align: top;\n    }\n\n    .dataframe thead th {\n        text-align: right;\n    }\n</style>\n<table border=\"1\" class=\"dataframe\">\n  <thead>\n    <tr style=\"text-align: right;\">\n      <th></th>\n      <th>sender_seg_out</th>\n      <th>sender_avg_send_value</th>\n      <th>sender_read_bytes_io</th>\n      <th>sender_write_bytes_io</th>\n      <th>sender_ost_read</th>\n      <th>sender_ost_write</th>\n      <th>sender_remote_ost_read_bytes</th>\n      <th>sender_remote_ost_write_bytes</th>\n      <th>receiver_segs_in</th>\n      <th>receiver_write_bytes_io</th>\n      <th>...</th>\n      <th>receiver_remote_ost_write_bytes</th>\n      <th>sender_read_bytes</th>\n      <th>receiver_write_bytes</th>\n      <th>sender_pending_read_pages</th>\n      <th>sender_read_RPCs_in_flight</th>\n      <th>sender_send_buffer_value</th>\n      <th>sender_req_active</th>\n      <th>receiver_req_active</th>\n      <th>sender_retrans</th>\n      <th>sender_cwnd_rate</th>\n    </tr>\n  </thead>\n  <tbody>\n    <tr>\n      <th>16948</th>\n      <td>1.065260</td>\n      <td>1.194257</td>\n      <td>0.124762</td>\n      <td>0.703135</td>\n      <td>0.989478</td>\n      <td>0</td>\n      <td>1.075735</td>\n      <td>0</td>\n      <td>1.042083</td>\n      <td>0.109400</td>\n      <td>...</td>\n      <td>1.085844</td>\n      <td>1.130371</td>\n      <td>1.087672</td>\n      <td>9</td>\n      <td>5120</td>\n      <td>952264.0</td>\n      <td>1147</td>\n      <td>851</td>\n      <td>0.0</td>\n      <td>591.0</td>\n    </tr>\n    <tr>\n      <th>16949</th>\n      <td>1.059818</td>\n      <td>0.876858</td>\n      <td>0.224510</td>\n      <td>0.791026</td>\n      <td>1.099666</td>\n      <td>0</td>\n      <td>1.059559</td>\n      <td>0</td>\n      <td>1.040225</td>\n      <td>0.210860</td>\n      <td>...</td>\n      <td>1.052690</td>\n      <td>1.057704</td>\n      <td>1.046159</td>\n      <td>9</td>\n      <td>6144</td>\n      <td>1828800.0</td>\n      <td>1179</td>\n      <td>1226</td>\n      <td>0.0</td>\n      <td>641.0</td>\n    </tr>\n    <tr>\n      <th>16950</th>\n      <td>1.062362</td>\n      <td>1.665855</td>\n      <td>0.324259</td>\n      <td>0.791026</td>\n      <td>1.098322</td>\n      <td>0</td>\n      <td>1.059559</td>\n      <td>0</td>\n      <td>1.036636</td>\n      <td>0.312944</td>\n      <td>...</td>\n      <td>1.044401</td>\n      <td>1.057704</td>\n      <td>1.046159</td>\n      <td>9</td>\n      <td>3072</td>\n      <td>0.0</td>\n      <td>1179</td>\n      <td>1219</td>\n      <td>0.0</td>\n      <td>659.0</td>\n    </tr>\n    <tr>\n      <th>16951</th>\n      <td>1.055404</td>\n      <td>1.390089</td>\n      <td>0.424007</td>\n      <td>1.054702</td>\n      <td>1.091959</td>\n      <td>0</td>\n      <td>1.059559</td>\n      <td>0</td>\n      <td>1.042170</td>\n      <td>0.414816</td>\n      <td>...</td>\n      <td>1.044401</td>\n      <td>1.049630</td>\n      <td>1.054462</td>\n      <td>9</td>\n      <td>4096</td>\n      <td>2649304.0</td>\n      <td>1170</td>\n      <td>1241</td>\n      <td>0.0</td>\n      <td>667.0</td>\n    </tr>\n    <tr>\n      <th>16952</th>\n      <td>0.746546</td>\n      <td>0.059441</td>\n      <td>0.591010</td>\n      <td>1.054702</td>\n      <td>0.808836</td>\n      <td>0</td>\n      <td>0.760294</td>\n      <td>0</td>\n      <td>0.725474</td>\n      <td>0.592522</td>\n      <td>...</td>\n      <td>0.978090</td>\n      <td>0.799334</td>\n      <td>1.046159</td>\n      <td>0</td>\n      <td>0</td>\n      <td>2973392.0</td>\n      <td>788</td>\n      <td>1152</td>\n      <td>1.0</td>\n      <td>476.0</td>\n    </tr>\n    <tr>\n      <th>...</th>\n      <td>...</td>\n      <td>...</td>\n      <td>...</td>\n      <td>...</td>\n      <td>...</td>\n      <td>...</td>\n      <td>...</td>\n      <td>...</td>\n      <td>...</td>\n      <td>...</td>\n      <td>...</td>\n      <td>...</td>\n      <td>...</td>\n      <td>...</td>\n      <td>...</td>\n      <td>...</td>\n      <td>...</td>\n      <td>...</td>\n      <td>...</td>\n      <td>...</td>\n      <td>...</td>\n    </tr>\n    <tr>\n      <th>17086</th>\n      <td>1.056281</td>\n      <td>1.053464</td>\n      <td>1.466895</td>\n      <td>0.966810</td>\n      <td>1.095731</td>\n      <td>0</td>\n      <td>1.051471</td>\n      <td>0</td>\n      <td>1.036837</td>\n      <td>1.483676</td>\n      <td>...</td>\n      <td>0.920067</td>\n      <td>1.049630</td>\n      <td>0.929919</td>\n      <td>8</td>\n      <td>3072</td>\n      <td>1083440.0</td>\n      <td>1171</td>\n      <td>1090</td>\n      <td>0.0</td>\n      <td>637.0</td>\n    </tr>\n    <tr>\n      <th>17087</th>\n      <td>1.056406</td>\n      <td>1.186928</td>\n      <td>1.563621</td>\n      <td>0.966810</td>\n      <td>1.106583</td>\n      <td>0</td>\n      <td>1.059559</td>\n      <td>0</td>\n      <td>1.038657</td>\n      <td>1.584971</td>\n      <td>...</td>\n      <td>0.944934</td>\n      <td>1.057704</td>\n      <td>0.938222</td>\n      <td>9</td>\n      <td>5120</td>\n      <td>184824.0</td>\n      <td>1179</td>\n      <td>1094</td>\n      <td>0.0</td>\n      <td>657.0</td>\n    </tr>\n    <tr>\n      <th>17088</th>\n      <td>1.054684</td>\n      <td>1.437976</td>\n      <td>1.663370</td>\n      <td>0.966810</td>\n      <td>1.095703</td>\n      <td>0</td>\n      <td>1.059559</td>\n      <td>0</td>\n      <td>1.030115</td>\n      <td>1.686099</td>\n      <td>...</td>\n      <td>0.828889</td>\n      <td>1.049630</td>\n      <td>0.846891</td>\n      <td>9</td>\n      <td>2048</td>\n      <td>2375680.0</td>\n      <td>1170</td>\n      <td>968</td>\n      <td>0.0</td>\n      <td>677.0</td>\n    </tr>\n    <tr>\n      <th>17089</th>\n      <td>0.906665</td>\n      <td>1.695183</td>\n      <td>1.748005</td>\n      <td>0.966810</td>\n      <td>1.109396</td>\n      <td>0</td>\n      <td>0.922059</td>\n      <td>0</td>\n      <td>0.845053</td>\n      <td>1.773804</td>\n      <td>...</td>\n      <td>0.812312</td>\n      <td>0.928519</td>\n      <td>0.813679</td>\n      <td>7</td>\n      <td>0</td>\n      <td>2785952.0</td>\n      <td>1019</td>\n      <td>943</td>\n      <td>0.0</td>\n      <td>691.0</td>\n    </tr>\n    <tr>\n      <th>17090</th>\n      <td>0.600426</td>\n      <td>1.590098</td>\n      <td>1.802413</td>\n      <td>0.966810</td>\n      <td>0.395757</td>\n      <td>0</td>\n      <td>0.582353</td>\n      <td>0</td>\n      <td>0.640632</td>\n      <td>1.831609</td>\n      <td>...</td>\n      <td>0.804023</td>\n      <td>0.573260</td>\n      <td>0.813679</td>\n      <td>9</td>\n      <td>4096</td>\n      <td>1921416.0</td>\n      <td>440</td>\n      <td>969</td>\n      <td>0.0</td>\n      <td>696.0</td>\n    </tr>\n  </tbody>\n</table>\n<p>143 rows × 22 columns</p>\n</div>"
     },
     "execution_count": 338,
     "metadata": {},
     "output_type": "execute_result"
    }
   ],
   "source": [
    "df = wisconsin_ssd_merged.copy()\n",
    "df = normalize_df(df)\n",
    "df = grouped_to_5_cat(df,161)\n",
    "df[df.label_value==0][features]"
   ],
   "metadata": {
    "collapsed": false,
    "pycharm": {
     "name": "#%%\n"
    }
   }
  },
  {
   "cell_type": "code",
   "execution_count": 411,
   "outputs": [
    {
     "data": {
      "text/plain": "       sender_seg_out  sender_avg_send_value  sender_read_bytes_io  \\\n28932        106243.0                 5077.9             214343680   \n28933        127537.0                15201.3             575053824   \n28934        113013.0                 6082.6             759603200   \n28935        150765.0                10537.3             977707008   \n28936        136458.0                 8815.4            1179033600   \n...               ...                    ...                   ...   \n29180        135606.0                 6776.6            8362930176   \n29181        137173.0                 8517.6            8547479552   \n29182        136257.0                 8001.3            8748806144   \n29183        113681.0                10360.8            8899801088   \n29184        127251.0                11732.5            9101127680   \n\n       sender_write_bytes_io  sender_ost_read  sender_ost_write  \\\n28932                  32768          2997588                 0   \n28933                  32768          7902918                 0   \n28934                  36864          7793972                 0   \n28935                  45056          9694634                 0   \n28936                  49152          9850485                 0   \n...                      ...              ...               ...   \n29180                  57344          9848680                 0   \n29181                  57344          9853091                 0   \n29182                  57344          9938278                 0   \n29183                  57344          8557900                 0   \n29184                  57344          7740045                 0   \n\n       sender_remote_ost_read_bytes  sender_remote_ost_write_bytes  \\\n28932                     155189248                              0   \n28933                     184549376                              0   \n28934                     180355072                              0   \n28935                     192937984                              0   \n28936                     197132288                              0   \n...                             ...                            ...   \n29180                     197132288                              0   \n29181                     197132288                              0   \n29182                     197132288                              0   \n29183                     180355072                              0   \n29184                     184549376                              0   \n\n       receiver_write_bytes_io  receiver_ost_write  ...  receiver_write_bytes  \\\n28932                142655488             1364947  ...             138412032   \n28933                502448128             7224758  ...             184549376   \n28934                675336192             7429968  ...             188743680   \n28935                893833216             9284931  ...             180355072   \n28936               1092669440             9721274  ...             192937984   \n...                        ...                 ...  ...                   ...   \n29180               8127987712             8701611  ...             167772160   \n29181               8329314304            11785336  ...             180355072   \n29182               8530640896            10455276  ...             173735936   \n29183               8888336384            10141525  ...             180355072   \n29184               9063317504            10021117  ...             176160768   \n\n       receiver_segs_in  sender_pending_read_pages  \\\n28932          110056.0                          9   \n28933          121739.0                          9   \n28934          136180.0                          8   \n28935          142228.0                          9   \n28936          136318.0                          9   \n...                 ...                        ...   \n29180          136457.0                          9   \n29181          142025.0                          9   \n29182          136327.0                          9   \n29183          127520.0                          7   \n29184          113056.0                          9   \n\n       sender_read_RPCs_in_flight  sender_send_buffer_value  \\\n28932                        1024                 1715912.0   \n28933                        2048                       0.0   \n28934                           0                       0.0   \n28935                        5120                       0.0   \n28936                        3072                       0.0   \n...                           ...                       ...   \n29180                        4096                 1689096.0   \n29181                        5120                       0.0   \n29182                        5120                       0.0   \n29183                           0                 2345760.0   \n29184                        2048                  393216.0   \n\n       sender_req_active  receiver_req_active  sender_retrans  \\\n28932                150                   77             0.0   \n28933                339                  307             0.0   \n28934                333                  270             0.0   \n28935                408                  443            39.0   \n28936                423                  432           224.0   \n...                  ...                  ...             ...   \n29180                423                  380           228.0   \n29181                423                  408            90.0   \n29182                432                  383            13.0   \n29183                306                  400             0.0   \n29184                374                  390             0.0   \n\n       sender_cwnd_rate  receiver_tcp_rcv_buffer_max  \n28932             320.0                      6291456  \n28933             353.0                      6291456  \n28934             314.0                      6291456  \n28935             453.0                      6291456  \n28936             398.0                      6291456  \n...                 ...                          ...  \n29180             382.0                      6291456  \n29181             350.0                      6291456  \n29182             335.0                      6291456  \n29183             288.0                      6291456  \n29184             316.0                      6291456  \n\n[253 rows x 23 columns]",
      "text/html": "<div>\n<style scoped>\n    .dataframe tbody tr th:only-of-type {\n        vertical-align: middle;\n    }\n\n    .dataframe tbody tr th {\n        vertical-align: top;\n    }\n\n    .dataframe thead th {\n        text-align: right;\n    }\n</style>\n<table border=\"1\" class=\"dataframe\">\n  <thead>\n    <tr style=\"text-align: right;\">\n      <th></th>\n      <th>sender_seg_out</th>\n      <th>sender_avg_send_value</th>\n      <th>sender_read_bytes_io</th>\n      <th>sender_write_bytes_io</th>\n      <th>sender_ost_read</th>\n      <th>sender_ost_write</th>\n      <th>sender_remote_ost_read_bytes</th>\n      <th>sender_remote_ost_write_bytes</th>\n      <th>receiver_write_bytes_io</th>\n      <th>receiver_ost_write</th>\n      <th>...</th>\n      <th>receiver_write_bytes</th>\n      <th>receiver_segs_in</th>\n      <th>sender_pending_read_pages</th>\n      <th>sender_read_RPCs_in_flight</th>\n      <th>sender_send_buffer_value</th>\n      <th>sender_req_active</th>\n      <th>receiver_req_active</th>\n      <th>sender_retrans</th>\n      <th>sender_cwnd_rate</th>\n      <th>receiver_tcp_rcv_buffer_max</th>\n    </tr>\n  </thead>\n  <tbody>\n    <tr>\n      <th>28932</th>\n      <td>106243.0</td>\n      <td>5077.9</td>\n      <td>214343680</td>\n      <td>32768</td>\n      <td>2997588</td>\n      <td>0</td>\n      <td>155189248</td>\n      <td>0</td>\n      <td>142655488</td>\n      <td>1364947</td>\n      <td>...</td>\n      <td>138412032</td>\n      <td>110056.0</td>\n      <td>9</td>\n      <td>1024</td>\n      <td>1715912.0</td>\n      <td>150</td>\n      <td>77</td>\n      <td>0.0</td>\n      <td>320.0</td>\n      <td>6291456</td>\n    </tr>\n    <tr>\n      <th>28933</th>\n      <td>127537.0</td>\n      <td>15201.3</td>\n      <td>575053824</td>\n      <td>32768</td>\n      <td>7902918</td>\n      <td>0</td>\n      <td>184549376</td>\n      <td>0</td>\n      <td>502448128</td>\n      <td>7224758</td>\n      <td>...</td>\n      <td>184549376</td>\n      <td>121739.0</td>\n      <td>9</td>\n      <td>2048</td>\n      <td>0.0</td>\n      <td>339</td>\n      <td>307</td>\n      <td>0.0</td>\n      <td>353.0</td>\n      <td>6291456</td>\n    </tr>\n    <tr>\n      <th>28934</th>\n      <td>113013.0</td>\n      <td>6082.6</td>\n      <td>759603200</td>\n      <td>36864</td>\n      <td>7793972</td>\n      <td>0</td>\n      <td>180355072</td>\n      <td>0</td>\n      <td>675336192</td>\n      <td>7429968</td>\n      <td>...</td>\n      <td>188743680</td>\n      <td>136180.0</td>\n      <td>8</td>\n      <td>0</td>\n      <td>0.0</td>\n      <td>333</td>\n      <td>270</td>\n      <td>0.0</td>\n      <td>314.0</td>\n      <td>6291456</td>\n    </tr>\n    <tr>\n      <th>28935</th>\n      <td>150765.0</td>\n      <td>10537.3</td>\n      <td>977707008</td>\n      <td>45056</td>\n      <td>9694634</td>\n      <td>0</td>\n      <td>192937984</td>\n      <td>0</td>\n      <td>893833216</td>\n      <td>9284931</td>\n      <td>...</td>\n      <td>180355072</td>\n      <td>142228.0</td>\n      <td>9</td>\n      <td>5120</td>\n      <td>0.0</td>\n      <td>408</td>\n      <td>443</td>\n      <td>39.0</td>\n      <td>453.0</td>\n      <td>6291456</td>\n    </tr>\n    <tr>\n      <th>28936</th>\n      <td>136458.0</td>\n      <td>8815.4</td>\n      <td>1179033600</td>\n      <td>49152</td>\n      <td>9850485</td>\n      <td>0</td>\n      <td>197132288</td>\n      <td>0</td>\n      <td>1092669440</td>\n      <td>9721274</td>\n      <td>...</td>\n      <td>192937984</td>\n      <td>136318.0</td>\n      <td>9</td>\n      <td>3072</td>\n      <td>0.0</td>\n      <td>423</td>\n      <td>432</td>\n      <td>224.0</td>\n      <td>398.0</td>\n      <td>6291456</td>\n    </tr>\n    <tr>\n      <th>...</th>\n      <td>...</td>\n      <td>...</td>\n      <td>...</td>\n      <td>...</td>\n      <td>...</td>\n      <td>...</td>\n      <td>...</td>\n      <td>...</td>\n      <td>...</td>\n      <td>...</td>\n      <td>...</td>\n      <td>...</td>\n      <td>...</td>\n      <td>...</td>\n      <td>...</td>\n      <td>...</td>\n      <td>...</td>\n      <td>...</td>\n      <td>...</td>\n      <td>...</td>\n      <td>...</td>\n    </tr>\n    <tr>\n      <th>29180</th>\n      <td>135606.0</td>\n      <td>6776.6</td>\n      <td>8362930176</td>\n      <td>57344</td>\n      <td>9848680</td>\n      <td>0</td>\n      <td>197132288</td>\n      <td>0</td>\n      <td>8127987712</td>\n      <td>8701611</td>\n      <td>...</td>\n      <td>167772160</td>\n      <td>136457.0</td>\n      <td>9</td>\n      <td>4096</td>\n      <td>1689096.0</td>\n      <td>423</td>\n      <td>380</td>\n      <td>228.0</td>\n      <td>382.0</td>\n      <td>6291456</td>\n    </tr>\n    <tr>\n      <th>29181</th>\n      <td>137173.0</td>\n      <td>8517.6</td>\n      <td>8547479552</td>\n      <td>57344</td>\n      <td>9853091</td>\n      <td>0</td>\n      <td>197132288</td>\n      <td>0</td>\n      <td>8329314304</td>\n      <td>11785336</td>\n      <td>...</td>\n      <td>180355072</td>\n      <td>142025.0</td>\n      <td>9</td>\n      <td>5120</td>\n      <td>0.0</td>\n      <td>423</td>\n      <td>408</td>\n      <td>90.0</td>\n      <td>350.0</td>\n      <td>6291456</td>\n    </tr>\n    <tr>\n      <th>29182</th>\n      <td>136257.0</td>\n      <td>8001.3</td>\n      <td>8748806144</td>\n      <td>57344</td>\n      <td>9938278</td>\n      <td>0</td>\n      <td>197132288</td>\n      <td>0</td>\n      <td>8530640896</td>\n      <td>10455276</td>\n      <td>...</td>\n      <td>173735936</td>\n      <td>136327.0</td>\n      <td>9</td>\n      <td>5120</td>\n      <td>0.0</td>\n      <td>432</td>\n      <td>383</td>\n      <td>13.0</td>\n      <td>335.0</td>\n      <td>6291456</td>\n    </tr>\n    <tr>\n      <th>29183</th>\n      <td>113681.0</td>\n      <td>10360.8</td>\n      <td>8899801088</td>\n      <td>57344</td>\n      <td>8557900</td>\n      <td>0</td>\n      <td>180355072</td>\n      <td>0</td>\n      <td>8888336384</td>\n      <td>10141525</td>\n      <td>...</td>\n      <td>180355072</td>\n      <td>127520.0</td>\n      <td>7</td>\n      <td>0</td>\n      <td>2345760.0</td>\n      <td>306</td>\n      <td>400</td>\n      <td>0.0</td>\n      <td>288.0</td>\n      <td>6291456</td>\n    </tr>\n    <tr>\n      <th>29184</th>\n      <td>127251.0</td>\n      <td>11732.5</td>\n      <td>9101127680</td>\n      <td>57344</td>\n      <td>7740045</td>\n      <td>0</td>\n      <td>184549376</td>\n      <td>0</td>\n      <td>9063317504</td>\n      <td>10021117</td>\n      <td>...</td>\n      <td>176160768</td>\n      <td>113056.0</td>\n      <td>9</td>\n      <td>2048</td>\n      <td>393216.0</td>\n      <td>374</td>\n      <td>390</td>\n      <td>0.0</td>\n      <td>316.0</td>\n      <td>6291456</td>\n    </tr>\n  </tbody>\n</table>\n<p>253 rows × 23 columns</p>\n</div>"
     },
     "execution_count": 411,
     "metadata": {},
     "output_type": "execute_result"
    }
   ],
   "source": [
    "df[df.label_value==0][features]"
   ],
   "metadata": {
    "collapsed": false,
    "pycharm": {
     "name": "#%%\n"
    }
   }
  },
  {
   "cell_type": "code",
   "execution_count": 225,
   "metadata": {
    "pycharm": {
     "name": "#%%\n"
    }
   },
   "outputs": [
    {
     "data": {
      "text/plain": [
       "53    301989888\n",
       "54    310378496\n",
       "Name: receiver_write_bytes, dtype: int64"
      ]
     },
     "execution_count": 225,
     "metadata": {},
     "output_type": "execute_result"
    }
   ],
   "source": [
    "new_df[new_df.receiver_write_bytes <= 310378496.].receiver_write_bytes\n",
    "# new_df[new_df.sender_cwnd_rate <= 330.].sender_cwnd_rate"
   ]
  },
  {
   "cell_type": "code",
   "execution_count": 246,
   "metadata": {
    "pycharm": {
     "name": "#%%\n"
    }
   },
   "outputs": [
    {
     "data": {
      "text/plain": "       sender_seg_out  sender_avg_send_value  sender_read_bytes_io  \\\n10989        1.005575               0.950302              0.123931   \n10990        1.000994               0.959213              0.206490   \n10991        0.997941               1.211051              0.284193   \n10992        1.000960               0.956985              0.361896   \n10993        0.997975               0.957470              0.429885   \n...               ...                    ...                   ...   \n11168        0.998574               1.000670              1.546928   \n11169        0.998936               1.002123              1.614918   \n11170        0.999332               0.988853              1.692621   \n11171        0.996482               0.956598              1.760610   \n11172        1.003041               0.957567              1.838313   \n\n       sender_write_bytes_io  sender_ost_read  sender_ost_write  \\\n10989               0.789700         1.244204               0.0   \n10990               0.789700         1.274414               0.0   \n10991               0.789700         1.009496               0.0   \n10992               0.789700         0.967473               0.0   \n10993               0.888412         0.917339               0.0   \n...                      ...              ...               ...   \n11168               1.085837         0.982869               0.0   \n11169               1.085837         0.950554               0.0   \n11170               1.085837         1.020092               0.0   \n11171               1.085837         0.945740               0.0   \n11172               1.085837         1.018491               0.0   \n\n       sender_remote_ost_read_bytes  sender_remote_ost_write_bytes  \\\n10989                      1.253888                            0.0   \n10990                      1.093133                            0.0   \n10991                      1.028831                            0.0   \n10992                      1.028831                            0.0   \n10993                      0.900227                            0.0   \n...                             ...                            ...   \n11168                      1.028831                            0.0   \n11169                      0.900227                            0.0   \n11170                      1.028831                            0.0   \n11171                      0.964529                            0.0   \n11172                      0.964529                            0.0   \n\n       receiver_segs_in  receiver_write_bytes_io  ...  \\\n10989          0.982353                 0.076981  ...   \n10990          0.999238                 0.155995  ...   \n10991          0.999981                 0.234558  ...   \n10992          0.999756                 0.313779  ...   \n10993          0.999192                 0.392710  ...   \n...                 ...                      ...  ...   \n11168          1.000793                 1.579263  ...   \n11169          1.001165                 1.657398  ...   \n11170          1.001661                 1.737180  ...   \n11171          1.002777                 1.816239  ...   \n11172          0.999700                 1.894534  ...   \n\n       receiver_remote_ost_read_bytes  receiver_remote_ost_write_bytes  \\\n10989                             0.0                         0.980387   \n10990                             0.0                         1.013083   \n10991                             0.0                         1.012942   \n10992                             0.0                         0.980287   \n10993                             0.0                         1.012959   \n...                               ...                              ...   \n11168                             0.0                         0.980291   \n11169                             0.0                         1.012944   \n11170                             0.0                         1.012981   \n11171                             0.0                         0.980242   \n11172                             0.0                         1.012957   \n\n       sender_read_bytes  receiver_write_bytes  sender_pending_read_pages  \\\n10989           1.222378              0.980039                          1   \n10990           1.125874              0.980055                          0   \n10991           1.029371              1.012582                          0   \n10992           0.965035              1.012608                          1   \n10993           0.965035              0.979930                          0   \n...                  ...                   ...                        ...   \n11168           0.997203              1.012598                          0   \n11169           0.932867              0.979916                          0   \n11170           1.029371              1.012621                          0   \n11171           0.900699              0.979894                          3   \n11172           1.029371              1.012598                          0   \n\n       sender_read_RPCs_in_flight  sender_send_buffer_value  \\\n10989                           0                 3069760.0   \n10990                           0                 2861864.0   \n10991                           0                 2937216.0   \n10992                           0                 3145056.0   \n10993                           0                 3219576.0   \n...                           ...                       ...   \n11168                           0                 3992224.0   \n11169                           0                 3801352.0   \n11170                           0                 3259320.0   \n11171                           0                 3649632.0   \n11172                           0                 3340536.0   \n\n       sender_req_active  receiver_req_active  sender_segs_in  \n10989                109                   30          3914.0  \n10990                100                   31          3992.0  \n10991                 80                   30          3653.0  \n10992                 80                   31          3732.0  \n10993                 70                   30          3687.0  \n...                  ...                  ...             ...  \n11168                 80                   31          3701.0  \n11169                 70                   30          3676.0  \n11170                 80                   31          3677.0  \n11171                 80                   31          3708.0  \n11172                 70                   30          3653.0  \n\n[184 rows x 21 columns]",
      "text/html": "<div>\n<style scoped>\n    .dataframe tbody tr th:only-of-type {\n        vertical-align: middle;\n    }\n\n    .dataframe tbody tr th {\n        vertical-align: top;\n    }\n\n    .dataframe thead th {\n        text-align: right;\n    }\n</style>\n<table border=\"1\" class=\"dataframe\">\n  <thead>\n    <tr style=\"text-align: right;\">\n      <th></th>\n      <th>sender_seg_out</th>\n      <th>sender_avg_send_value</th>\n      <th>sender_read_bytes_io</th>\n      <th>sender_write_bytes_io</th>\n      <th>sender_ost_read</th>\n      <th>sender_ost_write</th>\n      <th>sender_remote_ost_read_bytes</th>\n      <th>sender_remote_ost_write_bytes</th>\n      <th>receiver_segs_in</th>\n      <th>receiver_write_bytes_io</th>\n      <th>...</th>\n      <th>receiver_remote_ost_read_bytes</th>\n      <th>receiver_remote_ost_write_bytes</th>\n      <th>sender_read_bytes</th>\n      <th>receiver_write_bytes</th>\n      <th>sender_pending_read_pages</th>\n      <th>sender_read_RPCs_in_flight</th>\n      <th>sender_send_buffer_value</th>\n      <th>sender_req_active</th>\n      <th>receiver_req_active</th>\n      <th>sender_segs_in</th>\n    </tr>\n  </thead>\n  <tbody>\n    <tr>\n      <th>10989</th>\n      <td>1.005575</td>\n      <td>0.950302</td>\n      <td>0.123931</td>\n      <td>0.789700</td>\n      <td>1.244204</td>\n      <td>0.0</td>\n      <td>1.253888</td>\n      <td>0.0</td>\n      <td>0.982353</td>\n      <td>0.076981</td>\n      <td>...</td>\n      <td>0.0</td>\n      <td>0.980387</td>\n      <td>1.222378</td>\n      <td>0.980039</td>\n      <td>1</td>\n      <td>0</td>\n      <td>3069760.0</td>\n      <td>109</td>\n      <td>30</td>\n      <td>3914.0</td>\n    </tr>\n    <tr>\n      <th>10990</th>\n      <td>1.000994</td>\n      <td>0.959213</td>\n      <td>0.206490</td>\n      <td>0.789700</td>\n      <td>1.274414</td>\n      <td>0.0</td>\n      <td>1.093133</td>\n      <td>0.0</td>\n      <td>0.999238</td>\n      <td>0.155995</td>\n      <td>...</td>\n      <td>0.0</td>\n      <td>1.013083</td>\n      <td>1.125874</td>\n      <td>0.980055</td>\n      <td>0</td>\n      <td>0</td>\n      <td>2861864.0</td>\n      <td>100</td>\n      <td>31</td>\n      <td>3992.0</td>\n    </tr>\n    <tr>\n      <th>10991</th>\n      <td>0.997941</td>\n      <td>1.211051</td>\n      <td>0.284193</td>\n      <td>0.789700</td>\n      <td>1.009496</td>\n      <td>0.0</td>\n      <td>1.028831</td>\n      <td>0.0</td>\n      <td>0.999981</td>\n      <td>0.234558</td>\n      <td>...</td>\n      <td>0.0</td>\n      <td>1.012942</td>\n      <td>1.029371</td>\n      <td>1.012582</td>\n      <td>0</td>\n      <td>0</td>\n      <td>2937216.0</td>\n      <td>80</td>\n      <td>30</td>\n      <td>3653.0</td>\n    </tr>\n    <tr>\n      <th>10992</th>\n      <td>1.000960</td>\n      <td>0.956985</td>\n      <td>0.361896</td>\n      <td>0.789700</td>\n      <td>0.967473</td>\n      <td>0.0</td>\n      <td>1.028831</td>\n      <td>0.0</td>\n      <td>0.999756</td>\n      <td>0.313779</td>\n      <td>...</td>\n      <td>0.0</td>\n      <td>0.980287</td>\n      <td>0.965035</td>\n      <td>1.012608</td>\n      <td>1</td>\n      <td>0</td>\n      <td>3145056.0</td>\n      <td>80</td>\n      <td>31</td>\n      <td>3732.0</td>\n    </tr>\n    <tr>\n      <th>10993</th>\n      <td>0.997975</td>\n      <td>0.957470</td>\n      <td>0.429885</td>\n      <td>0.888412</td>\n      <td>0.917339</td>\n      <td>0.0</td>\n      <td>0.900227</td>\n      <td>0.0</td>\n      <td>0.999192</td>\n      <td>0.392710</td>\n      <td>...</td>\n      <td>0.0</td>\n      <td>1.012959</td>\n      <td>0.965035</td>\n      <td>0.979930</td>\n      <td>0</td>\n      <td>0</td>\n      <td>3219576.0</td>\n      <td>70</td>\n      <td>30</td>\n      <td>3687.0</td>\n    </tr>\n    <tr>\n      <th>...</th>\n      <td>...</td>\n      <td>...</td>\n      <td>...</td>\n      <td>...</td>\n      <td>...</td>\n      <td>...</td>\n      <td>...</td>\n      <td>...</td>\n      <td>...</td>\n      <td>...</td>\n      <td>...</td>\n      <td>...</td>\n      <td>...</td>\n      <td>...</td>\n      <td>...</td>\n      <td>...</td>\n      <td>...</td>\n      <td>...</td>\n      <td>...</td>\n      <td>...</td>\n      <td>...</td>\n    </tr>\n    <tr>\n      <th>11168</th>\n      <td>0.998574</td>\n      <td>1.000670</td>\n      <td>1.546928</td>\n      <td>1.085837</td>\n      <td>0.982869</td>\n      <td>0.0</td>\n      <td>1.028831</td>\n      <td>0.0</td>\n      <td>1.000793</td>\n      <td>1.579263</td>\n      <td>...</td>\n      <td>0.0</td>\n      <td>0.980291</td>\n      <td>0.997203</td>\n      <td>1.012598</td>\n      <td>0</td>\n      <td>0</td>\n      <td>3992224.0</td>\n      <td>80</td>\n      <td>31</td>\n      <td>3701.0</td>\n    </tr>\n    <tr>\n      <th>11169</th>\n      <td>0.998936</td>\n      <td>1.002123</td>\n      <td>1.614918</td>\n      <td>1.085837</td>\n      <td>0.950554</td>\n      <td>0.0</td>\n      <td>0.900227</td>\n      <td>0.0</td>\n      <td>1.001165</td>\n      <td>1.657398</td>\n      <td>...</td>\n      <td>0.0</td>\n      <td>1.012944</td>\n      <td>0.932867</td>\n      <td>0.979916</td>\n      <td>0</td>\n      <td>0</td>\n      <td>3801352.0</td>\n      <td>70</td>\n      <td>30</td>\n      <td>3676.0</td>\n    </tr>\n    <tr>\n      <th>11170</th>\n      <td>0.999332</td>\n      <td>0.988853</td>\n      <td>1.692621</td>\n      <td>1.085837</td>\n      <td>1.020092</td>\n      <td>0.0</td>\n      <td>1.028831</td>\n      <td>0.0</td>\n      <td>1.001661</td>\n      <td>1.737180</td>\n      <td>...</td>\n      <td>0.0</td>\n      <td>1.012981</td>\n      <td>1.029371</td>\n      <td>1.012621</td>\n      <td>0</td>\n      <td>0</td>\n      <td>3259320.0</td>\n      <td>80</td>\n      <td>31</td>\n      <td>3677.0</td>\n    </tr>\n    <tr>\n      <th>11171</th>\n      <td>0.996482</td>\n      <td>0.956598</td>\n      <td>1.760610</td>\n      <td>1.085837</td>\n      <td>0.945740</td>\n      <td>0.0</td>\n      <td>0.964529</td>\n      <td>0.0</td>\n      <td>1.002777</td>\n      <td>1.816239</td>\n      <td>...</td>\n      <td>0.0</td>\n      <td>0.980242</td>\n      <td>0.900699</td>\n      <td>0.979894</td>\n      <td>3</td>\n      <td>0</td>\n      <td>3649632.0</td>\n      <td>80</td>\n      <td>31</td>\n      <td>3708.0</td>\n    </tr>\n    <tr>\n      <th>11172</th>\n      <td>1.003041</td>\n      <td>0.957567</td>\n      <td>1.838313</td>\n      <td>1.085837</td>\n      <td>1.018491</td>\n      <td>0.0</td>\n      <td>0.964529</td>\n      <td>0.0</td>\n      <td>0.999700</td>\n      <td>1.894534</td>\n      <td>...</td>\n      <td>0.0</td>\n      <td>1.012957</td>\n      <td>1.029371</td>\n      <td>1.012598</td>\n      <td>0</td>\n      <td>0</td>\n      <td>3340536.0</td>\n      <td>70</td>\n      <td>30</td>\n      <td>3653.0</td>\n    </tr>\n  </tbody>\n</table>\n<p>184 rows × 21 columns</p>\n</div>"
     },
     "execution_count": 246,
     "metadata": {},
     "output_type": "execute_result"
    }
   ],
   "source": [
    "train_df[train_df.label_value == 0][features]"
   ]
  },
  {
   "cell_type": "code",
   "execution_count": 711,
   "outputs": [
    {
     "name": "stdout",
     "output_type": "stream",
     "text": [
      "(18651, 25)\n",
      "(30835, 25)\n",
      "95.66\n"
     ]
    }
   ],
   "source": [
    "# df = emulab_hdd_merged.copy()\n",
    "# df = wisconsin_ssd_merged.copy()\n",
    "# df = wisconsin_ssd_unmerged.copy()\n",
    "df = utah_ssd_merged_1g.copy()\n",
    "remove_labels = [ 91, 100, 46] #[]#[ 91, 100, 46]\n",
    "df = remove_labels_in_df(df, remove_labels)\n",
    "df = normalize_df(df)\n",
    "df = grouped_to_5_cat(df,161)\n",
    "\n",
    "train_df = df\n",
    "# print(train_df.shape)\n",
    "\n",
    "y = train_df.label_value\n",
    "X = train_df[features]\n",
    "X_train, X_test, y_train, y_test = train_test_split(X,y)\n",
    "print(X_train.shape)\n",
    "# X_train, y_train = RandomUnderSampler(sampling_strategy=\"all\").fit_resample(X_train, y_train)\n",
    "X_train, y_train = RandomOverSampler(sampling_strategy=\"all\").fit_resample(X_train, y_train)\n",
    "\n",
    "print(X_train.shape)\n",
    "# clf = RandomForestClassifier(n_estimators=100)\n",
    "clf = tree.DecisionTreeClassifier(max_depth=10)\n",
    "\n",
    "clf.fit(X_train, y_train)\n",
    "y_pred = clf.predict(X_test)\n",
    "print(np.round(metrics.accuracy_score(y_test, y_pred) * 100, 2))\n"
   ],
   "metadata": {
    "collapsed": false,
    "pycharm": {
     "name": "#%%\n"
    }
   }
  },
  {
   "cell_type": "code",
   "execution_count": 688,
   "metadata": {
    "pycharm": {
     "name": "#%%\n"
    }
   },
   "outputs": [
    {
     "data": {
      "text/plain": "['0', '1', '55', '109', '145']"
     },
     "execution_count": 688,
     "metadata": {},
     "output_type": "execute_result"
    }
   ],
   "source": [
    "class_names = [str(lbl) for lbl in sorted(Counter(train_df.label_value).keys())]\n",
    "class_names"
   ]
  },
  {
   "cell_type": "code",
   "execution_count": 729,
   "metadata": {
    "pycharm": {
     "name": "#%%\n"
    }
   },
   "outputs": [
    {
     "data": {
      "text/plain": "<Figure size 1000x250 with 1 Axes>",
      "image/png": "[encoded data removed]"
     },
     "metadata": {
      "needs_background": "light"
     },
     "output_type": "display_data"
    }
   ],
   "source": [
    "# fn=['sepal length (cm)','sepal width (cm)','petal length (cm)','petal width (cm)']\n",
    "# cn=['setosa', 'versicolor', 'virginica']\n",
    "fig, axes = plt.subplots(nrows = 1,ncols = 1,figsize = (100,25), dpi=10)\n",
    "tree.plot_tree(clf, feature_names = features,\n",
    "               class_names=class_names,\n",
    "               filled = True,\n",
    "               fontsize=12);\n",
    "fig.savefig('tree_10.pdf')\n",
    "\n",
    "# tree.plot_tree(clf, feature_names=features, fontsize=12)"
   ]
  },
  {
   "cell_type": "code",
   "execution_count": 712,
   "outputs": [
    {
     "name": "stdout",
     "output_type": "stream",
     "text": [
      "67.31\n"
     ]
    }
   ],
   "source": [
    "df_2 = emulab_hdd_merged.copy()\n",
    "remove_labels = [ 91, 100, 46]\n",
    "df_2 = remove_labels_in_df(df_2, remove_labels)\n",
    "df_2 = normalize_df(df_2)\n",
    "df_2 = grouped_to_5_cat(df_2,161)\n",
    "target_label = 145\n",
    "df_2 = df_2[df_2.label_value == target_label]\n",
    "\n",
    "# y_test = df_2.label_value.loc[2:3]\n",
    "# X_test = df_2[features].loc[2:3,:]\n",
    "y_test = df_2.label_value\n",
    "X_test = df_2[features]\n",
    "y_pred = clf.predict(X_test)\n",
    "print(np.round(metrics.f1_score(y_test, y_pred, average='weighted') * 100, 2))"
   ],
   "metadata": {
    "collapsed": false,
    "pycharm": {
     "name": "#%%\n"
    }
   }
  },
  {
   "cell_type": "code",
   "execution_count": 713,
   "outputs": [
    {
     "data": {
      "text/plain": "<Figure size 1000x250 with 1 Axes>",
      "image/png": "[encoded data removed]"
     },
     "metadata": {
      "needs_background": "light"
     },
     "output_type": "display_data"
    }
   ],
   "source": [
    "\n",
    "\n",
    "decision_path = clf.decision_path(X_test.iloc[np.where(y_pred!=target_label)])\n",
    "# print(decision_path)\n",
    "\n",
    "fig, axes = plt.subplots(nrows = 1,ncols = 1,figsize = (100,25), dpi=10)\n",
    "class_names = [str(lbl) for lbl in sorted(Counter(train_df.label_value).keys())]\n",
    "model_tree = tree.plot_tree(clf, feature_names = features,\n",
    "               class_names=class_names,\n",
    "               filled = True,\n",
    "               fontsize=12);\n",
    "\n",
    "for i in range(0,len(model_tree)):\n",
    "     if i not in decision_path.indices:\n",
    "         plt.setp(model_tree[i],visible=False)\n",
    "fig.savefig('path_10.pdf')\n",
    "plt.show()\n"
   ],
   "metadata": {
    "collapsed": false,
    "pycharm": {
     "name": "#%%\n"
    }
   }
  },
  {
   "cell_type": "code",
   "execution_count": 728,
   "outputs": [
    {
     "data": {
      "text/plain": "       sender_seg_out  sender_avg_send_value  sender_read_bytes_io  \\\n4209         0.740958                 3539.6             193376256   \n4210         1.030204                 3666.9             575057920   \n4211         0.903601                 3828.6             742830080   \n4212         0.913763                 3564.3             927379456   \n4213         1.274949                 8028.5            1162260480   \n...               ...                    ...                   ...   \n37422        1.050343                 7794.8            7625134080   \n37423        1.071698                 9056.3            7826460672   \n37424        1.050936                 6777.4            8027787264   \n37425        1.048282                 6965.2            8229113856   \n37427        1.069282                 6181.9            8614989824   \n\n       sender_write_bytes_io  sender_ost_read  sender_ost_write  \\\n4209                   32768          2769276                 0   \n4210                   32768          7172511                 0   \n4211                   32768          7551875                 0   \n4212                   45056          5739580                 0   \n4213                   45056          8119367                 0   \n...                      ...              ...               ...   \n37422                  61440          9846824                 0   \n37423                  61440          9748527                 0   \n37424                  61440          9971176                 0   \n37425                  61440          9608326                 0   \n37427                  61440          9768795                 0   \n\n       sender_remote_ost_read_bytes  sender_remote_ost_write_bytes  \\\n4209                       0.779955                              0   \n4210                       0.980515                              0   \n4211                       0.980515                              0   \n4212                       0.980515                              0   \n4213                       1.002799                              0   \n...                             ...                            ...   \n37422                      1.047368                              0   \n37423                      1.069653                              0   \n37424                      1.047368                              0   \n37425                      1.047368                              0   \n37427                      1.047368                              0   \n\n       receiver_write_bytes_io  receiver_ost_write  ...  \\\n4209                 138469376             1173331  ...   \n4210                 491200512             4973610  ...   \n4211                 662777856             4014781  ...   \n4212                 839315456             4013229  ...   \n4213                1075916800             8776550  ...   \n...                        ...                 ...  ...   \n37422               7528206336            10063481  ...   \n37423               7729532928             9942848  ...   \n37424               7926665216            10200331  ...   \n37425               8127287296            10771068  ...   \n37427               8526450688             9858131  ...   \n\n       sender_pending_read_pages  sender_read_RPCs_in_flight  \\\n4209                           7                           0   \n4210                           8                           0   \n4211                           2                           0   \n4212                           2                           0   \n4213                           9                        4096   \n...                          ...                         ...   \n37422                          9                        5120   \n37423                          9                        5120   \n37424                          9                        2048   \n37425                          9                        3072   \n37427                          9                        5120   \n\n       sender_send_buffer_value  sender_req_active  receiver_req_active  \\\n4209                   112944.0                140                   63   \n4210                   125976.0                312                  256   \n4211                    43440.0                275                  179   \n4212                    13032.0                254                  175   \n4213                    84040.0                421                  448   \n...                         ...                ...                  ...   \n37422                       0.0                423                  435   \n37423                       0.0                423                  412   \n37424                       0.0                423                  410   \n37425                  436576.0                423                  415   \n37427                  849256.0                423                  434   \n\n       sender_retrans  sender_cwnd_rate  receiver_tcp_rcv_buffer_max  \\\n4209         0.000385              33.0                      6291456   \n4210         0.000200              44.0                      6291456   \n4211         0.000323              39.0                      6291456   \n4212         0.000262              36.0                      6291456   \n4213         0.000262              70.0                      6291456   \n...               ...               ...                          ...   \n37422        0.002354             432.0                      6291456   \n37423        0.001385             541.0                      6291456   \n37424        0.002777             423.0                      6291456   \n37425        0.000246             377.0                      6291456   \n37427        0.001062             325.0                      6291456   \n\n       receiver_read_bytes_io  receiver_ost_read  \n4209                 45830144                  0  \n4210                 45830144                  0  \n4211                 45834240                  0  \n4212                 45834240                  0  \n4213                 45834240                  0  \n...                       ...                ...  \n37422                46977024                  0  \n37423                46977024                  0  \n37424                46977024                  0  \n37425                46977024                  0  \n37427                46977024                  0  \n\n[926 rows x 25 columns]",
      "text/html": "<div>\n<style scoped>\n    .dataframe tbody tr th:only-of-type {\n        vertical-align: middle;\n    }\n\n    .dataframe tbody tr th {\n        vertical-align: top;\n    }\n\n    .dataframe thead th {\n        text-align: right;\n    }\n</style>\n<table border=\"1\" class=\"dataframe\">\n  <thead>\n    <tr style=\"text-align: right;\">\n      <th></th>\n      <th>sender_seg_out</th>\n      <th>sender_avg_send_value</th>\n      <th>sender_read_bytes_io</th>\n      <th>sender_write_bytes_io</th>\n      <th>sender_ost_read</th>\n      <th>sender_ost_write</th>\n      <th>sender_remote_ost_read_bytes</th>\n      <th>sender_remote_ost_write_bytes</th>\n      <th>receiver_write_bytes_io</th>\n      <th>receiver_ost_write</th>\n      <th>...</th>\n      <th>sender_pending_read_pages</th>\n      <th>sender_read_RPCs_in_flight</th>\n      <th>sender_send_buffer_value</th>\n      <th>sender_req_active</th>\n      <th>receiver_req_active</th>\n      <th>sender_retrans</th>\n      <th>sender_cwnd_rate</th>\n      <th>receiver_tcp_rcv_buffer_max</th>\n      <th>receiver_read_bytes_io</th>\n      <th>receiver_ost_read</th>\n    </tr>\n  </thead>\n  <tbody>\n    <tr>\n      <th>4209</th>\n      <td>0.740958</td>\n      <td>3539.6</td>\n      <td>193376256</td>\n      <td>32768</td>\n      <td>2769276</td>\n      <td>0</td>\n      <td>0.779955</td>\n      <td>0</td>\n      <td>138469376</td>\n      <td>1173331</td>\n      <td>...</td>\n      <td>7</td>\n      <td>0</td>\n      <td>112944.0</td>\n      <td>140</td>\n      <td>63</td>\n      <td>0.000385</td>\n      <td>33.0</td>\n      <td>6291456</td>\n      <td>45830144</td>\n      <td>0</td>\n    </tr>\n    <tr>\n      <th>4210</th>\n      <td>1.030204</td>\n      <td>3666.9</td>\n      <td>575057920</td>\n      <td>32768</td>\n      <td>7172511</td>\n      <td>0</td>\n      <td>0.980515</td>\n      <td>0</td>\n      <td>491200512</td>\n      <td>4973610</td>\n      <td>...</td>\n      <td>8</td>\n      <td>0</td>\n      <td>125976.0</td>\n      <td>312</td>\n      <td>256</td>\n      <td>0.000200</td>\n      <td>44.0</td>\n      <td>6291456</td>\n      <td>45830144</td>\n      <td>0</td>\n    </tr>\n    <tr>\n      <th>4211</th>\n      <td>0.903601</td>\n      <td>3828.6</td>\n      <td>742830080</td>\n      <td>32768</td>\n      <td>7551875</td>\n      <td>0</td>\n      <td>0.980515</td>\n      <td>0</td>\n      <td>662777856</td>\n      <td>4014781</td>\n      <td>...</td>\n      <td>2</td>\n      <td>0</td>\n      <td>43440.0</td>\n      <td>275</td>\n      <td>179</td>\n      <td>0.000323</td>\n      <td>39.0</td>\n      <td>6291456</td>\n      <td>45834240</td>\n      <td>0</td>\n    </tr>\n    <tr>\n      <th>4212</th>\n      <td>0.913763</td>\n      <td>3564.3</td>\n      <td>927379456</td>\n      <td>45056</td>\n      <td>5739580</td>\n      <td>0</td>\n      <td>0.980515</td>\n      <td>0</td>\n      <td>839315456</td>\n      <td>4013229</td>\n      <td>...</td>\n      <td>2</td>\n      <td>0</td>\n      <td>13032.0</td>\n      <td>254</td>\n      <td>175</td>\n      <td>0.000262</td>\n      <td>36.0</td>\n      <td>6291456</td>\n      <td>45834240</td>\n      <td>0</td>\n    </tr>\n    <tr>\n      <th>4213</th>\n      <td>1.274949</td>\n      <td>8028.5</td>\n      <td>1162260480</td>\n      <td>45056</td>\n      <td>8119367</td>\n      <td>0</td>\n      <td>1.002799</td>\n      <td>0</td>\n      <td>1075916800</td>\n      <td>8776550</td>\n      <td>...</td>\n      <td>9</td>\n      <td>4096</td>\n      <td>84040.0</td>\n      <td>421</td>\n      <td>448</td>\n      <td>0.000262</td>\n      <td>70.0</td>\n      <td>6291456</td>\n      <td>45834240</td>\n      <td>0</td>\n    </tr>\n    <tr>\n      <th>...</th>\n      <td>...</td>\n      <td>...</td>\n      <td>...</td>\n      <td>...</td>\n      <td>...</td>\n      <td>...</td>\n      <td>...</td>\n      <td>...</td>\n      <td>...</td>\n      <td>...</td>\n      <td>...</td>\n      <td>...</td>\n      <td>...</td>\n      <td>...</td>\n      <td>...</td>\n      <td>...</td>\n      <td>...</td>\n      <td>...</td>\n      <td>...</td>\n      <td>...</td>\n      <td>...</td>\n    </tr>\n    <tr>\n      <th>37422</th>\n      <td>1.050343</td>\n      <td>7794.8</td>\n      <td>7625134080</td>\n      <td>61440</td>\n      <td>9846824</td>\n      <td>0</td>\n      <td>1.047368</td>\n      <td>0</td>\n      <td>7528206336</td>\n      <td>10063481</td>\n      <td>...</td>\n      <td>9</td>\n      <td>5120</td>\n      <td>0.0</td>\n      <td>423</td>\n      <td>435</td>\n      <td>0.002354</td>\n      <td>432.0</td>\n      <td>6291456</td>\n      <td>46977024</td>\n      <td>0</td>\n    </tr>\n    <tr>\n      <th>37423</th>\n      <td>1.071698</td>\n      <td>9056.3</td>\n      <td>7826460672</td>\n      <td>61440</td>\n      <td>9748527</td>\n      <td>0</td>\n      <td>1.069653</td>\n      <td>0</td>\n      <td>7729532928</td>\n      <td>9942848</td>\n      <td>...</td>\n      <td>9</td>\n      <td>5120</td>\n      <td>0.0</td>\n      <td>423</td>\n      <td>412</td>\n      <td>0.001385</td>\n      <td>541.0</td>\n      <td>6291456</td>\n      <td>46977024</td>\n      <td>0</td>\n    </tr>\n    <tr>\n      <th>37424</th>\n      <td>1.050936</td>\n      <td>6777.4</td>\n      <td>8027787264</td>\n      <td>61440</td>\n      <td>9971176</td>\n      <td>0</td>\n      <td>1.047368</td>\n      <td>0</td>\n      <td>7926665216</td>\n      <td>10200331</td>\n      <td>...</td>\n      <td>9</td>\n      <td>2048</td>\n      <td>0.0</td>\n      <td>423</td>\n      <td>410</td>\n      <td>0.002777</td>\n      <td>423.0</td>\n      <td>6291456</td>\n      <td>46977024</td>\n      <td>0</td>\n    </tr>\n    <tr>\n      <th>37425</th>\n      <td>1.048282</td>\n      <td>6965.2</td>\n      <td>8229113856</td>\n      <td>61440</td>\n      <td>9608326</td>\n      <td>0</td>\n      <td>1.047368</td>\n      <td>0</td>\n      <td>8127287296</td>\n      <td>10771068</td>\n      <td>...</td>\n      <td>9</td>\n      <td>3072</td>\n      <td>436576.0</td>\n      <td>423</td>\n      <td>415</td>\n      <td>0.000246</td>\n      <td>377.0</td>\n      <td>6291456</td>\n      <td>46977024</td>\n      <td>0</td>\n    </tr>\n    <tr>\n      <th>37427</th>\n      <td>1.069282</td>\n      <td>6181.9</td>\n      <td>8614989824</td>\n      <td>61440</td>\n      <td>9768795</td>\n      <td>0</td>\n      <td>1.047368</td>\n      <td>0</td>\n      <td>8526450688</td>\n      <td>9858131</td>\n      <td>...</td>\n      <td>9</td>\n      <td>5120</td>\n      <td>849256.0</td>\n      <td>423</td>\n      <td>434</td>\n      <td>0.001062</td>\n      <td>325.0</td>\n      <td>6291456</td>\n      <td>46977024</td>\n      <td>0</td>\n    </tr>\n  </tbody>\n</table>\n<p>926 rows × 25 columns</p>\n</div>"
     },
     "execution_count": 728,
     "metadata": {},
     "output_type": "execute_result"
    }
   ],
   "source": [
    "tmp_df = X_test.iloc[np.where(y_pred!=target_label)]\n",
    "tmp_df\n",
    "# tmp_df[tmp_df.sender_remote_ost_write_bytes <= 77594624.0]\n",
    "# tmp_df[tmp_df.receiver_remote_ost_write_bytes <= 2.141]\n",
    "# tmp_df[(tmp_df.receiver_remote_ost_write_bytes <= 2.141) & (tmp_df.sender_retrans <=0)]\n",
    "tmp_df[ (tmp_df.sender_read_bytes_io > 182759424.0)&\n",
    "       (tmp_df.receiver_remote_ost_write_bytes <= 2.141)\n",
    "       & (tmp_df.sender_retrans >0) & (tmp_df.sender_req_active <= 569.5)]\n",
    "#        (tmp_df.sender_send_buffer_value <= 459016.0)]\n",
    "# tmp_df[tmp_df.receiver_write_bytes_io <= 112316416.0]"
   ],
   "metadata": {
    "collapsed": false,
    "pycharm": {
     "name": "#%%\n"
    }
   }
  },
  {
   "cell_type": "code",
   "execution_count": 605,
   "outputs": [
    {
     "data": {
      "text/plain": "       sender_seg_out  sender_avg_send_value  sender_read_bytes_io  \\\n6459         0.317185                 1511.0             172367872   \n6460         0.190513                 1824.3             214310912   \n6461         0.432550                 3779.2             298196992   \n6462         0.404434                 3230.2             390471680   \n6463         0.152673                   93.4             424026112   \n...               ...                    ...                   ...   \n28405        1.048713                 6152.4            6886932480   \n28406        1.070575                 5035.8            7088259072   \n28407        1.048297                 7670.5            7289585664   \n28408        1.048674                 6866.2            7490912256   \n28409        1.048566                 6150.6            7692238848   \n\n       sender_write_bytes_io  sender_ost_read  sender_ost_write  \\\n6459                   32768          1735642                 0   \n6460                   32768           865212                 0   \n6461                   36864          1611072                 0   \n6462                   36864          2295394                 0   \n6463                   36864           951116                 0   \n...                      ...              ...               ...   \n28405                  77824         10008170                 0   \n28406                  77824          9748129                 0   \n28407                  77824          9784437                 0   \n28408                  77824          9837430                 0   \n28409                  77824          9987088                 0   \n\n       sender_remote_ost_read_bytes  sender_remote_ost_write_bytes  \\\n6459                       0.445689                              0   \n6460                       0.222844                              0   \n6461                       0.423404                              0   \n6462                       0.467973                              0   \n6463                       0.222844                              0   \n...                             ...                            ...   \n28405                      1.069653                              0   \n28406                      1.047368                              0   \n28407                      1.047368                              0   \n28408                      1.047368                              0   \n28409                      1.047368                              0   \n\n       receiver_write_bytes_io  receiver_ost_write  ...  \\\n6459                  97730560              401522  ...   \n6460                 130953216              265742  ...   \n6461                 211382272              814499  ...   \n6462                 286916608             1194475  ...   \n6463                 316358656              211508  ...   \n...                        ...                 ...  ...   \n28405               6731284480            10329251  ...   \n28406               6928678912            10286946  ...   \n28407               7132758016            10323326  ...   \n28408               7331069952             8691551  ...   \n28409               7528202240             9857750  ...   \n\n       sender_pending_read_pages  sender_read_RPCs_in_flight  \\\n6459                           0                           0   \n6460                           0                           0   \n6461                           7                           0   \n6462                           3                           0   \n6463                           0                           0   \n...                          ...                         ...   \n28405                          9                        4096   \n28406                          9                        5120   \n28407                          9                        6144   \n28408                          9                        3072   \n28409                          9                        3072   \n\n       sender_send_buffer_value  sender_req_active  receiver_req_active  \\\n6459                  1029528.0                 65                   21   \n6460                   745720.0                 30                   13   \n6461                  1187360.0                108                   41   \n6462                  1093240.0                 53                   47   \n6463                  1143920.0                 20                    9   \n...                         ...                ...                  ...   \n28405                       0.0                432                  436   \n28406                       0.0                423                  410   \n28407                       0.0                423                  426   \n28408                       0.0                423                  409   \n28409                       0.0                432                  426   \n\n       sender_retrans  sender_cwnd_rate  receiver_tcp_rcv_buffer_max  \\\n6459            501.0              18.0                      6291456   \n6460            307.0              20.0                      6291456   \n6461            377.0              46.0                      6291456   \n6462            469.0              29.0                      6291456   \n6463            257.0               1.0                      6291456   \n...               ...               ...                          ...   \n28405            90.0             239.0                      6291456   \n28406            45.0             303.0                      6291456   \n28407            45.0             392.0                      6291456   \n28408            90.0             326.0                      6291456   \n28409            90.0             343.0                      6291456   \n\n       receiver_read_bytes_io  receiver_ost_read  \n6459                 46850048                  0  \n6460                 46850048                  0  \n6461                 46854144                  0  \n6462                 46854144                  0  \n6463                 46854144                  0  \n...                       ...                ...  \n28405                45838336                  0  \n28406                45838336                  0  \n28407                45838336                  0  \n28408                45838336                  0  \n28409                45838336                  0  \n\n[1029 rows x 25 columns]",
      "text/html": "<div>\n<style scoped>\n    .dataframe tbody tr th:only-of-type {\n        vertical-align: middle;\n    }\n\n    .dataframe tbody tr th {\n        vertical-align: top;\n    }\n\n    .dataframe thead th {\n        text-align: right;\n    }\n</style>\n<table border=\"1\" class=\"dataframe\">\n  <thead>\n    <tr style=\"text-align: right;\">\n      <th></th>\n      <th>sender_seg_out</th>\n      <th>sender_avg_send_value</th>\n      <th>sender_read_bytes_io</th>\n      <th>sender_write_bytes_io</th>\n      <th>sender_ost_read</th>\n      <th>sender_ost_write</th>\n      <th>sender_remote_ost_read_bytes</th>\n      <th>sender_remote_ost_write_bytes</th>\n      <th>receiver_write_bytes_io</th>\n      <th>receiver_ost_write</th>\n      <th>...</th>\n      <th>sender_pending_read_pages</th>\n      <th>sender_read_RPCs_in_flight</th>\n      <th>sender_send_buffer_value</th>\n      <th>sender_req_active</th>\n      <th>receiver_req_active</th>\n      <th>sender_retrans</th>\n      <th>sender_cwnd_rate</th>\n      <th>receiver_tcp_rcv_buffer_max</th>\n      <th>receiver_read_bytes_io</th>\n      <th>receiver_ost_read</th>\n    </tr>\n  </thead>\n  <tbody>\n    <tr>\n      <th>6459</th>\n      <td>0.317185</td>\n      <td>1511.0</td>\n      <td>172367872</td>\n      <td>32768</td>\n      <td>1735642</td>\n      <td>0</td>\n      <td>0.445689</td>\n      <td>0</td>\n      <td>97730560</td>\n      <td>401522</td>\n      <td>...</td>\n      <td>0</td>\n      <td>0</td>\n      <td>1029528.0</td>\n      <td>65</td>\n      <td>21</td>\n      <td>501.0</td>\n      <td>18.0</td>\n      <td>6291456</td>\n      <td>46850048</td>\n      <td>0</td>\n    </tr>\n    <tr>\n      <th>6460</th>\n      <td>0.190513</td>\n      <td>1824.3</td>\n      <td>214310912</td>\n      <td>32768</td>\n      <td>865212</td>\n      <td>0</td>\n      <td>0.222844</td>\n      <td>0</td>\n      <td>130953216</td>\n      <td>265742</td>\n      <td>...</td>\n      <td>0</td>\n      <td>0</td>\n      <td>745720.0</td>\n      <td>30</td>\n      <td>13</td>\n      <td>307.0</td>\n      <td>20.0</td>\n      <td>6291456</td>\n      <td>46850048</td>\n      <td>0</td>\n    </tr>\n    <tr>\n      <th>6461</th>\n      <td>0.432550</td>\n      <td>3779.2</td>\n      <td>298196992</td>\n      <td>36864</td>\n      <td>1611072</td>\n      <td>0</td>\n      <td>0.423404</td>\n      <td>0</td>\n      <td>211382272</td>\n      <td>814499</td>\n      <td>...</td>\n      <td>7</td>\n      <td>0</td>\n      <td>1187360.0</td>\n      <td>108</td>\n      <td>41</td>\n      <td>377.0</td>\n      <td>46.0</td>\n      <td>6291456</td>\n      <td>46854144</td>\n      <td>0</td>\n    </tr>\n    <tr>\n      <th>6462</th>\n      <td>0.404434</td>\n      <td>3230.2</td>\n      <td>390471680</td>\n      <td>36864</td>\n      <td>2295394</td>\n      <td>0</td>\n      <td>0.467973</td>\n      <td>0</td>\n      <td>286916608</td>\n      <td>1194475</td>\n      <td>...</td>\n      <td>3</td>\n      <td>0</td>\n      <td>1093240.0</td>\n      <td>53</td>\n      <td>47</td>\n      <td>469.0</td>\n      <td>29.0</td>\n      <td>6291456</td>\n      <td>46854144</td>\n      <td>0</td>\n    </tr>\n    <tr>\n      <th>6463</th>\n      <td>0.152673</td>\n      <td>93.4</td>\n      <td>424026112</td>\n      <td>36864</td>\n      <td>951116</td>\n      <td>0</td>\n      <td>0.222844</td>\n      <td>0</td>\n      <td>316358656</td>\n      <td>211508</td>\n      <td>...</td>\n      <td>0</td>\n      <td>0</td>\n      <td>1143920.0</td>\n      <td>20</td>\n      <td>9</td>\n      <td>257.0</td>\n      <td>1.0</td>\n      <td>6291456</td>\n      <td>46854144</td>\n      <td>0</td>\n    </tr>\n    <tr>\n      <th>...</th>\n      <td>...</td>\n      <td>...</td>\n      <td>...</td>\n      <td>...</td>\n      <td>...</td>\n      <td>...</td>\n      <td>...</td>\n      <td>...</td>\n      <td>...</td>\n      <td>...</td>\n      <td>...</td>\n      <td>...</td>\n      <td>...</td>\n      <td>...</td>\n      <td>...</td>\n      <td>...</td>\n      <td>...</td>\n      <td>...</td>\n      <td>...</td>\n      <td>...</td>\n      <td>...</td>\n    </tr>\n    <tr>\n      <th>28405</th>\n      <td>1.048713</td>\n      <td>6152.4</td>\n      <td>6886932480</td>\n      <td>77824</td>\n      <td>10008170</td>\n      <td>0</td>\n      <td>1.069653</td>\n      <td>0</td>\n      <td>6731284480</td>\n      <td>10329251</td>\n      <td>...</td>\n      <td>9</td>\n      <td>4096</td>\n      <td>0.0</td>\n      <td>432</td>\n      <td>436</td>\n      <td>90.0</td>\n      <td>239.0</td>\n      <td>6291456</td>\n      <td>45838336</td>\n      <td>0</td>\n    </tr>\n    <tr>\n      <th>28406</th>\n      <td>1.070575</td>\n      <td>5035.8</td>\n      <td>7088259072</td>\n      <td>77824</td>\n      <td>9748129</td>\n      <td>0</td>\n      <td>1.047368</td>\n      <td>0</td>\n      <td>6928678912</td>\n      <td>10286946</td>\n      <td>...</td>\n      <td>9</td>\n      <td>5120</td>\n      <td>0.0</td>\n      <td>423</td>\n      <td>410</td>\n      <td>45.0</td>\n      <td>303.0</td>\n      <td>6291456</td>\n      <td>45838336</td>\n      <td>0</td>\n    </tr>\n    <tr>\n      <th>28407</th>\n      <td>1.048297</td>\n      <td>7670.5</td>\n      <td>7289585664</td>\n      <td>77824</td>\n      <td>9784437</td>\n      <td>0</td>\n      <td>1.047368</td>\n      <td>0</td>\n      <td>7132758016</td>\n      <td>10323326</td>\n      <td>...</td>\n      <td>9</td>\n      <td>6144</td>\n      <td>0.0</td>\n      <td>423</td>\n      <td>426</td>\n      <td>45.0</td>\n      <td>392.0</td>\n      <td>6291456</td>\n      <td>45838336</td>\n      <td>0</td>\n    </tr>\n    <tr>\n      <th>28408</th>\n      <td>1.048674</td>\n      <td>6866.2</td>\n      <td>7490912256</td>\n      <td>77824</td>\n      <td>9837430</td>\n      <td>0</td>\n      <td>1.047368</td>\n      <td>0</td>\n      <td>7331069952</td>\n      <td>8691551</td>\n      <td>...</td>\n      <td>9</td>\n      <td>3072</td>\n      <td>0.0</td>\n      <td>423</td>\n      <td>409</td>\n      <td>90.0</td>\n      <td>326.0</td>\n      <td>6291456</td>\n      <td>45838336</td>\n      <td>0</td>\n    </tr>\n    <tr>\n      <th>28409</th>\n      <td>1.048566</td>\n      <td>6150.6</td>\n      <td>7692238848</td>\n      <td>77824</td>\n      <td>9987088</td>\n      <td>0</td>\n      <td>1.047368</td>\n      <td>0</td>\n      <td>7528202240</td>\n      <td>9857750</td>\n      <td>...</td>\n      <td>9</td>\n      <td>3072</td>\n      <td>0.0</td>\n      <td>432</td>\n      <td>426</td>\n      <td>90.0</td>\n      <td>343.0</td>\n      <td>6291456</td>\n      <td>45838336</td>\n      <td>0</td>\n    </tr>\n  </tbody>\n</table>\n<p>1029 rows × 25 columns</p>\n</div>"
     },
     "execution_count": 605,
     "metadata": {},
     "output_type": "execute_result"
    }
   ],
   "source": [
    "np.where(y_pred!=target_label)\n",
    "X_test.iloc[np.where(y_pred!=target_label)]\n",
    "# X_test"
   ],
   "metadata": {
    "collapsed": false,
    "pycharm": {
     "name": "#%%\n"
    }
   }
  },
  {
   "cell_type": "code",
   "execution_count": 603,
   "metadata": {
    "pycharm": {
     "name": "#%%\n"
    }
   },
   "outputs": [
    {
     "data": {
      "text/plain": "12"
     },
     "execution_count": 603,
     "metadata": {},
     "output_type": "execute_result"
    }
   ],
   "source": [
    "# utah_ssd_merged.loc[utah_ssd_merged['label_value']==0]\n"
   ]
  },
  {
   "cell_type": "code",
   "execution_count": 15,
   "metadata": {
    "pycharm": {
     "name": "#%%\n"
    }
   },
   "outputs": [],
   "source": [
    "def grouped_to_5_cat(df, total_possible_labels):\n",
    "    aggregated_labels = {}\n",
    "    for i in range(total_possible_labels + 1):\n",
    "        aggregated_labels[i] = i\n",
    "    # 0 is normal and is one group itself\n",
    "    # # group read together\n",
    "    for i in range(1, 55):\n",
    "        aggregated_labels.update({i: 1})\n",
    "\n",
    "    # group write together\n",
    "    for i in range(55, 109):\n",
    "        aggregated_labels.update({i: 55})\n",
    "    # group networks together\n",
    "    for i in range(109, 145):\n",
    "        aggregated_labels.update({i: 109})\n",
    "    # group tcp configs together\n",
    "    for i in range(145, 157):\n",
    "        aggregated_labels.update({i: 145})\n",
    "    # group with networks together\n",
    "    for i in range(157, 161):\n",
    "        aggregated_labels.update({i: 109})\n",
    "    y = [aggregated_labels[int(i)] for i in df[df.columns[len(df.columns) - 1]].values]\n",
    "    df[\"label_value\"] = y\n",
    "    return df"
   ]
  },
  {
   "cell_type": "code",
   "execution_count": 19,
   "metadata": {
    "pycharm": {
     "name": "#%%\n"
    }
   },
   "outputs": [
    {
     "data": {
      "text/plain": "Counter({98: 148,\n         38: 151,\n         31: 137,\n         59: 159,\n         27: 138,\n         141: 163,\n         63: 158,\n         80: 158,\n         123: 139,\n         136: 154,\n         147: 142,\n         13: 154,\n         120: 145,\n         125: 146,\n         24: 139,\n         26: 143,\n         124: 143,\n         9: 163,\n         57: 158,\n         15: 158,\n         47: 143,\n         4: 169,\n         29: 123,\n         114: 155,\n         1: 168,\n         22: 137,\n         73: 142,\n         7: 159,\n         131: 160,\n         122: 139,\n         54: 153,\n         36: 136,\n         83: 137,\n         49: 143,\n         132: 153,\n         121: 146,\n         157: 161,\n         126: 145,\n         39: 152,\n         127: 142,\n         105: 151,\n         128: 146,\n         56: 154,\n         37: 150,\n         154: 157,\n         70: 152,\n         11: 161,\n         52: 155,\n         60: 157,\n         133: 147,\n         103: 138,\n         66: 160,\n         42: 154,\n         35: 139,\n         116: 158,\n         65: 156,\n         113: 164,\n         78: 158,\n         51: 143,\n         17: 146,\n         0: 143,\n         64: 157,\n         82: 141,\n         40: 152,\n         138: 152,\n         99: 148,\n         110: 157,\n         142: 158,\n         18: 148,\n         144: 156,\n         100: 144,\n         84: 141,\n         19: 136,\n         74: 139,\n         69: 155,\n         34: 142,\n         72: 153,\n         2: 167,\n         150: 156,\n         45: 153,\n         158: 163,\n         109: 151,\n         156: 160,\n         139: 156,\n         85: 159,\n         68: 155,\n         94: 144,\n         145: 147,\n         137: 158,\n         101: 147,\n         91: 147,\n         30: 118,\n         140: 158,\n         46: 143,\n         130: 139,\n         160: 161,\n         20: 141,\n         77: 168,\n         118: 143,\n         153: 139,\n         71: 155,\n         90: 154,\n         115: 160,\n         32: 138,\n         159: 161,\n         155: 157,\n         95: 146,\n         6: 160,\n         25: 144,\n         48: 141,\n         97: 148,\n         149: 168,\n         81: 160,\n         146: 142,\n         117: 143,\n         8: 156,\n         50: 153,\n         119: 143,\n         67: 159,\n         76: 152,\n         96: 144,\n         41: 152,\n         12: 160,\n         135: 162,\n         14: 159,\n         79: 160,\n         148: 161,\n         151: 147,\n         134: 156,\n         23: 141,\n         86: 154,\n         129: 143,\n         28: 115,\n         104: 142,\n         10: 149,\n         106: 158,\n         16: 145,\n         88: 156,\n         3: 163,\n         58: 154,\n         92: 146,\n         111: 155,\n         108: 155,\n         61: 156,\n         89: 154,\n         93: 145,\n         5: 160,\n         87: 157,\n         21: 137,\n         33: 136,\n         107: 147,\n         43: 155,\n         44: 151,\n         55: 153,\n         53: 145,\n         75: 138,\n         102: 141,\n         62: 159,\n         152: 145,\n         143: 156,\n         112: 156})"
     },
     "execution_count": 19,
     "metadata": {},
     "output_type": "execute_result"
    }
   ],
   "source": [
    "df = pd.read_csv(filenames.get('wisconsin_ssd_unmerged')).drop(['time_stamp', 'through_put'], axis=1)\n",
    "# df = grouped_to_5_cat(df,161)\n",
    "df.shape\n",
    "Counter(df.label_value)"
   ]
  },
  {
   "cell_type": "code",
   "execution_count": 316,
   "metadata": {
    "pycharm": {
     "name": "#%%\n"
    }
   },
   "outputs": [
    {
     "data": {
      "text/plain": "11117    149\n11118    149\n11119    149\n11120    149\n11121    149\n        ... \n11293    158\n11294    158\n11295    158\n11296    158\n11297    158\nName: receiver_avg_waittime_md, Length: 181, dtype: int64"
     },
     "execution_count": 316,
     "metadata": {},
     "output_type": "execute_result"
    }
   ],
   "source": [
    "t = pd.read_csv(filenames.get('utah_ssd_merged')).drop(['time_stamp', 'through_put'], axis=1)\n",
    "t[t.label_value == 0].receiver_avg_waittime_md"
   ]
  }
 ],
 "metadata": {
  "kernelspec": {
   "display_name": "Python 3 (ipykernel)",
   "language": "python",
   "name": "python3"
  },
  "language_info": {
   "codemirror_mode": {
    "name": "ipython",
    "version": 3
   },
   "file_extension": ".py",
   "mimetype": "text/x-python",
   "name": "python",
   "nbconvert_exporter": "python",
   "pygments_lexer": "ipython3",
   "version": "3.8.10"
  }
 },
 "nbformat": 4,
 "nbformat_minor": 1
}