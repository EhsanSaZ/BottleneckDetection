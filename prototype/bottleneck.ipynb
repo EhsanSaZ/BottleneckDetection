{
 "cells": [
  {
   "cell_type": "code",
   "execution_count": 4,
   "metadata": {},
   "outputs": [],
   "source": [
    "import sys\n",
    "\n",
    "if not sys.warnoptions:\n",
    "    import warnings\n",
    "    warnings.simplefilter(\"ignore\")"
   ]
  },
  {
   "cell_type": "code",
   "execution_count": 3,
   "metadata": {},
   "outputs": [
    {
     "ename": "ModuleNotFoundError",
     "evalue": "No module named 'pandas'",
     "output_type": "error",
     "traceback": [
      "\u001B[0;31m---------------------------------------------------------------------------\u001B[0m",
      "\u001B[0;31mModuleNotFoundError\u001B[0m                       Traceback (most recent call last)",
      "\u001B[1;32m/Users/mazaman/Work/hpcn/BottleneckDetection/prototype/bottleneck.ipynb Cell 2'\u001B[0m in \u001B[0;36m<cell line: 1>\u001B[0;34m()\u001B[0m\n\u001B[0;32m----> <a href='vscode-notebook-cell:/Users/mazaman/Work/hpcn/BottleneckDetection/prototype/bottleneck.ipynb#ch0000001?line=0'>1</a>\u001B[0m \u001B[39mimport\u001B[39;00m \u001B[39mpandas\u001B[39;00m \u001B[39mas\u001B[39;00m \u001B[39mpd\u001B[39;00m\n\u001B[1;32m      <a href='vscode-notebook-cell:/Users/mazaman/Work/hpcn/BottleneckDetection/prototype/bottleneck.ipynb#ch0000001?line=1'>2</a>\u001B[0m \u001B[39mimport\u001B[39;00m \u001B[39mnumpy\u001B[39;00m \u001B[39mas\u001B[39;00m \u001B[39mnp\u001B[39;00m\n\u001B[1;32m      <a href='vscode-notebook-cell:/Users/mazaman/Work/hpcn/BottleneckDetection/prototype/bottleneck.ipynb#ch0000001?line=2'>3</a>\u001B[0m \u001B[39mfrom\u001B[39;00m \u001B[39mimblearn\u001B[39;00m\u001B[39m.\u001B[39;00m\u001B[39munder_sampling\u001B[39;00m \u001B[39mimport\u001B[39;00m RandomUnderSampler\n",
      "\u001B[0;31mModuleNotFoundError\u001B[0m: No module named 'pandas'"
     ]
    }
   ],
   "source": [
    "import pandas as pd\n",
    "import numpy as np\n",
    "from imblearn.under_sampling import RandomUnderSampler\n",
    "# from lightgbm import LGBMClassifier\n",
    "from sklearn.ensemble import RandomForestClassifier\n",
    "from sklearn.model_selection import train_test_split\n",
    "from sklearn.decomposition import PCA\n",
    "from sklearn.neural_network import MLPClassifier\n",
    "from sklearn.svm import SVC\n",
    "from sklearn import metrics\n",
    "from sklearn.feature_selection import SelectKBest, f_regression\n",
    "from sklearn.pipeline import make_pipeline\n",
    "from sklearn.preprocessing import StandardScaler, MinMaxScaler, PowerTransformer\n",
    "import matplotlib.pyplot as plt\n",
    "import seaborn as sns\n",
    "sns.set()"
   ]
  },
  {
   "cell_type": "code",
   "execution_count": 4,
   "metadata": {},
   "outputs": [],
   "source": [
    "utah = pd.read_csv(\"UTAH_25Gbps_ssd_merged.csv\")\n",
    "wiscon_hdd = pd.read_csv(\"WISCONSIN_10Gbps_hdd_merged.csv\")\n",
    "wiscon_sdd = pd.read_csv(\"WISCONSIN_10Gbps_ssd_merged.csv\")\n",
    "hpcn_ssd = pd.read_csv(\"hpcn_1Gbps_ssd_merged.csv\")"
   ]
  },
  {
   "cell_type": "code",
   "execution_count": 5,
   "metadata": {},
   "outputs": [
    {
     "data": {
      "text/plain": [
       "0.331"
      ]
     },
     "execution_count": 5,
     "metadata": {},
     "output_type": "execute_result"
    }
   ],
   "source": [
    "df = wiscon_sdd\n",
    "np.round((sum(sum((df == 0).values))) / (len(df) * len(df.columns)),3)"
   ]
  },
  {
   "cell_type": "code",
   "execution_count": 6,
   "metadata": {},
   "outputs": [
    {
     "name": "stdout",
     "output_type": "stream",
     "text": [
      "(6408, 116)\n",
      "(1422, 116)\n"
     ]
    }
   ],
   "source": [
    "y = df.label_value\n",
    "X = df.drop(columns=\"label_value\") # df[features]\n",
    "X_train, X_test, y_train, y_test = train_test_split(X,y)\n",
    "print(X_train.shape)\n",
    "X_train, y_train = RandomUnderSampler(sampling_strategy=\"all\").fit_resample(X_train, y_train)\n",
    "print(X_train.shape)"
   ]
  },
  {
   "cell_type": "code",
   "execution_count": 7,
   "metadata": {},
   "outputs": [
    {
     "name": "stdout",
     "output_type": "stream",
     "text": [
      "97.38\n",
      "[[ 23   0   0   0   0   0   0   0   0   0   0   0   0   0   0   0   0   0]\n",
      " [  0 169   0   0   0   0   0   0   0   0   0   0   0   0   0   0   0   0]\n",
      " [  0   0 415   0   0   0   0   0   0   0   0   0   0   0   0   0   0   0]\n",
      " [  0   0   0  97   0   0   0   0   0   0   0   0   0   0   0   0   0   0]\n",
      " [  0   0   0   0  23   0   0   0   0   0   0   0   0   0   0   0   0   0]\n",
      " [  0   0   0   0   0  49   0   0   0   0   0   0   0   0   0   0   0   0]\n",
      " [  0   0   0   0   0   0  85   0   0  23   0   0   0   0   0   0   0   0]\n",
      " [  0   0   0   0   0   0   1  99   0   4   0   0   0   0   0   0   0   0]\n",
      " [  0   0   0   0   0   0   0   0 100   0   0   0   0   0   0   0   0   0]\n",
      " [  0   0   0   0   0   0  14  12   2 187   0   0   0   0   0   0   0   0]\n",
      " [  0   0   0   0   0   0   0   0   0   0  77   0   0   0   0   0   0   0]\n",
      " [  0   0   0   0   0   0   0   0   0   0   0 102   0   0   0   0   0   0]\n",
      " [  0   0   0   0   0   0   0   0   0   0   0   0 188   0   0   0   0   0]\n",
      " [  0   0   0   0   0   0   0   0   0   0   0   0   0 216   0   0   0   0]\n",
      " [  0   0   0   0   0   0   0   0   0   0   0   0   0   0  99   0   0   0]\n",
      " [  0   0   0   0   0   0   0   0   0   0   0   0   0   0   0  24   0   0]\n",
      " [  0   0   0   0   0   0   0   0   0   0   0   0   0   0   0   0  53   0]\n",
      " [  0   0   0   0   0   0   0   0   0   0   0   0   0   0   0   0   0  75]]\n"
     ]
    }
   ],
   "source": [
    "clf = RandomForestClassifier(n_estimators=100)\n",
    "clf.fit(X_train, y_train)\n",
    "y_pred = clf.predict(X_test)\n",
    "np.round(metrics.accuracy_score(y_test, y_pred) * 100, 2)\n",
    "print(np.round(metrics.accuracy_score(y_test, y_pred) * 100, 2))\n",
    "print(metrics.confusion_matrix(y_test, y_pred))"
   ]
  },
  {
   "cell_type": "code",
   "execution_count": 8,
   "metadata": {},
   "outputs": [
    {
     "name": "stdout",
     "output_type": "stream",
     "text": [
      "Cummulative Importance Score: \n",
      " [0.06 0.12 0.16 0.2  0.24 0.27 0.3  0.33 0.36 0.39 0.41 0.43 0.45 0.47\n",
      " 0.49 0.51 0.53 0.55 0.57 0.59 0.61 0.63 0.64 0.65 0.66 0.67 0.68 0.69\n",
      " 0.7  0.71 0.72 0.73 0.74 0.75 0.76 0.77 0.78 0.79 0.8  0.81 0.82 0.83\n",
      " 0.84 0.85 0.86 0.87 0.88 0.89 0.9  0.91 0.92 0.93 0.94 0.95 0.96 0.97\n",
      " 0.98 0.99 0.99 0.99 0.99 0.99 0.99 0.99 0.99 0.99 0.99 0.99 0.99 0.99\n",
      " 0.99 0.99 0.99 0.99 0.99 0.99 0.99 0.99 0.99 0.99 0.99 0.99 0.99 0.99\n",
      " 0.99 0.99 0.99 0.99 0.99 0.99 0.99 0.99 0.99 0.99 0.99 0.99 0.99 0.99\n",
      " 0.99 0.99 0.99 0.99 0.99 0.99 0.99 0.99 0.99 0.99 0.99 0.99 0.99 0.99\n",
      " 0.99 0.99 0.99 0.99]\n",
      "Counter({0.0: 58, 0.01: 36, 0.02: 12, 0.03: 5, 0.04: 3, 0.06: 2})\n"
     ]
    }
   ],
   "source": [
    "score = np.round(clf.feature_importances_, 2)\n",
    "print(\"Cummulative Importance Score: \\n\", np.cumsum(sorted(list(score), reverse=True)))\n",
    "\n",
    "from collections import Counter\n",
    "print(Counter(score))"
   ]
  },
  {
   "cell_type": "code",
   "execution_count": 9,
   "metadata": {},
   "outputs": [
    {
     "name": "stdout",
     "output_type": "stream",
     "text": [
      "sender_cwnd_rate\n",
      "sender_retrans\n",
      "sender_segs_in\n",
      "sender_avg_send_value\n",
      "sender_send_buffer_value\n",
      "sender_write_bytes_io\n",
      "sender_tcp_snd_buffer_max\n",
      "sender_req_waittime\n",
      "sender_req_active\n",
      "sender_ost_read\n",
      "sender_avg_waittime_md\n",
      "sender_system_cpu_percent\n",
      "sender_system_memory_percent\n",
      "sender_remote_ost_read_bytes\n",
      "receiver_seg_out\n",
      "receiver_segs_in\n",
      "receiver_req_active\n",
      "receiver_ost_read\n",
      "receiver_ost_write\n",
      "receiver_avg_waittime_md\n",
      "receiver_system_cpu_percent\n",
      "receiver_system_memory_percent\n"
     ]
    }
   ],
   "source": [
    "features = []\n",
    "for i in range(len(score)):\n",
    "    if score[i] >= 0.02:\n",
    "        features.append(X.columns[i])\n",
    "        print(df.columns[i])"
   ]
  },
  {
   "cell_type": "code",
   "execution_count": 20,
   "metadata": {},
   "outputs": [
    {
     "data": {
      "text/html": [
       "<div>\n",
       "<style scoped>\n",
       "    .dataframe tbody tr th:only-of-type {\n",
       "        vertical-align: middle;\n",
       "    }\n",
       "\n",
       "    .dataframe tbody tr th {\n",
       "        vertical-align: top;\n",
       "    }\n",
       "\n",
       "    .dataframe thead th {\n",
       "        text-align: right;\n",
       "    }\n",
       "</style>\n",
       "<table border=\"1\" class=\"dataframe\">\n",
       "  <thead>\n",
       "    <tr style=\"text-align: right;\">\n",
       "      <th></th>\n",
       "      <th>mean</th>\n",
       "      <th>std</th>\n",
       "    </tr>\n",
       "    <tr>\n",
       "      <th>label_value</th>\n",
       "      <th></th>\n",
       "      <th></th>\n",
       "    </tr>\n",
       "  </thead>\n",
       "  <tbody>\n",
       "    <tr>\n",
       "      <th>0</th>\n",
       "      <td>414.35</td>\n",
       "      <td>0.48</td>\n",
       "    </tr>\n",
       "    <tr>\n",
       "      <th>1</th>\n",
       "      <td>414.98</td>\n",
       "      <td>0.15</td>\n",
       "    </tr>\n",
       "    <tr>\n",
       "      <th>17</th>\n",
       "      <td>414.06</td>\n",
       "      <td>0.46</td>\n",
       "    </tr>\n",
       "    <tr>\n",
       "      <th>33</th>\n",
       "      <td>414.69</td>\n",
       "      <td>0.46</td>\n",
       "    </tr>\n",
       "    <tr>\n",
       "      <th>34</th>\n",
       "      <td>415.00</td>\n",
       "      <td>0.00</td>\n",
       "    </tr>\n",
       "    <tr>\n",
       "      <th>35</th>\n",
       "      <td>415.91</td>\n",
       "      <td>0.28</td>\n",
       "    </tr>\n",
       "    <tr>\n",
       "      <th>36</th>\n",
       "      <td>417.84</td>\n",
       "      <td>1.06</td>\n",
       "    </tr>\n",
       "    <tr>\n",
       "      <th>40</th>\n",
       "      <td>417.92</td>\n",
       "      <td>1.12</td>\n",
       "    </tr>\n",
       "    <tr>\n",
       "      <th>44</th>\n",
       "      <td>417.94</td>\n",
       "      <td>1.13</td>\n",
       "    </tr>\n",
       "    <tr>\n",
       "      <th>48</th>\n",
       "      <td>418.01</td>\n",
       "      <td>0.79</td>\n",
       "    </tr>\n",
       "    <tr>\n",
       "      <th>59</th>\n",
       "      <td>418.00</td>\n",
       "      <td>0.00</td>\n",
       "    </tr>\n",
       "    <tr>\n",
       "      <th>62</th>\n",
       "      <td>418.75</td>\n",
       "      <td>0.44</td>\n",
       "    </tr>\n",
       "    <tr>\n",
       "      <th>66</th>\n",
       "      <td>417.28</td>\n",
       "      <td>0.66</td>\n",
       "    </tr>\n",
       "    <tr>\n",
       "      <th>74</th>\n",
       "      <td>325.38</td>\n",
       "      <td>14.45</td>\n",
       "    </tr>\n",
       "    <tr>\n",
       "      <th>82</th>\n",
       "      <td>313.19</td>\n",
       "      <td>0.66</td>\n",
       "    </tr>\n",
       "    <tr>\n",
       "      <th>86</th>\n",
       "      <td>314.00</td>\n",
       "      <td>0.00</td>\n",
       "    </tr>\n",
       "    <tr>\n",
       "      <th>87</th>\n",
       "      <td>314.00</td>\n",
       "      <td>0.00</td>\n",
       "    </tr>\n",
       "    <tr>\n",
       "      <th>88</th>\n",
       "      <td>315.00</td>\n",
       "      <td>0.00</td>\n",
       "    </tr>\n",
       "  </tbody>\n",
       "</table>\n",
       "</div>"
      ],
      "text/plain": [
       "               mean    std\n",
       "label_value               \n",
       "0            414.35   0.48\n",
       "1            414.98   0.15\n",
       "17           414.06   0.46\n",
       "33           414.69   0.46\n",
       "34           415.00   0.00\n",
       "35           415.91   0.28\n",
       "36           417.84   1.06\n",
       "40           417.92   1.12\n",
       "44           417.94   1.13\n",
       "48           418.01   0.79\n",
       "59           418.00   0.00\n",
       "62           418.75   0.44\n",
       "66           417.28   0.66\n",
       "74           325.38  14.45\n",
       "82           313.19   0.66\n",
       "86           314.00   0.00\n",
       "87           314.00   0.00\n",
       "88           315.00   0.00"
      ]
     },
     "execution_count": 20,
     "metadata": {},
     "output_type": "execute_result"
    }
   ],
   "source": [
    "np.round(df.groupby(\"label_value\").receiver_avg_waittime_md.agg([\"mean\", \"std\"]),2)"
   ]
  },
  {
   "cell_type": "code",
   "execution_count": 291,
   "metadata": {},
   "outputs": [
    {
     "name": "stdout",
     "output_type": "stream",
     "text": [
      "(6408, 22)\n",
      "(1260, 22)\n"
     ]
    }
   ],
   "source": [
    "y_new = df.label_value\n",
    "X_new = df[features] #.drop(columns=\"label_value\")\n",
    "X_train, X_test, y_train, y_test = train_test_split(X_new,y_new)\n",
    "print(X_train.shape)\n",
    "X_train, y_train = RandomUnderSampler(sampling_strategy=\"all\").fit_resample(X_train, y_train)\n",
    "print(X_train.shape)"
   ]
  },
  {
   "cell_type": "code",
   "execution_count": 292,
   "metadata": {},
   "outputs": [
    {
     "name": "stdout",
     "output_type": "stream",
     "text": [
      "97.71\n"
     ]
    }
   ],
   "source": [
    "clf = RandomForestClassifier(n_estimators=100)\n",
    "# clf = make_pipeline(StandardScaler(), SVC())\n",
    "# clf = SVC()\n",
    "clf.fit(X_train, y_train)\n",
    "y_pred = clf.predict(X_test)\n",
    "print(np.round(metrics.accuracy_score(y_test, y_pred) * 100, 2))\n",
    "# print(metrics.confusion_matrix(y_test, y_pred))"
   ]
  },
  {
   "cell_type": "code",
   "execution_count": 293,
   "metadata": {},
   "outputs": [
    {
     "name": "stdout",
     "output_type": "stream",
     "text": [
      "36.59\n",
      "[[   0    0    0    0    0    0    0    0    0    0    0    0    0    0\n",
      "     0  109    0    0]\n",
      " [   0  661    0    0    0    0    0    0    0    0    0    0    0    0\n",
      "     0    0    0    0]\n",
      " [   0    0 1394    0    0    0    0    0    0    0    0    0    0    0\n",
      "     0  374    0    0]\n",
      " [   0    0    0    1    0    0    0    0    0    0    0    0    0    0\n",
      "     0  409    0    0]\n",
      " [   0    0    0    0  109    0    0    0    0    0    0    0    0    0\n",
      "     0    0    0    0]\n",
      " [   0    0    0    0    0   51    0    0    0    0    0    0    0    0\n",
      "     0    0    0    0]\n",
      " [   0    0    0    0    0    0   10    0    0    1    0    0    0   11\n",
      "     0  416    0    0]\n",
      " [   0    0    0    0    0    0    0    6    0    3    0    0    0    2\n",
      "     0  428    0    1]\n",
      " [   0    0    0    1    0    0    0    0    0    0    0    0    0    0\n",
      "     2  435    0    0]\n",
      " [   0    0    0    0    0    0    0    1    0   13    0    0    0    2\n",
      "     6  856    0    1]\n",
      " [   0    0    0    0    0    0    0    0    0    0  328    0    0    0\n",
      "     0    0    0    0]\n",
      " [   0    7    0    0    0    0    0    0    0    0    0   35    0    0\n",
      "     0  397    0    0]\n",
      " [   0    0   31    2    0    0    0    0    0    0    0    0    0    0\n",
      "     0  855    0    0]\n",
      " [   0    0    0    0    0    0    0    0    0    0    0    0    0  161\n",
      "     0  720    0    0]\n",
      " [   0    0    0    0    0    0    0    0    0    0    0    1    0    0\n",
      "    89  324    0    0]\n",
      " [   0    0    0    0    0    0    0    0    0    0    0    0    0    0\n",
      "     0  111    0    0]\n",
      " [   0    0    0    0    0    0    0    0    0    0    0    0    0    0\n",
      "     0   47   22    0]\n",
      " [   0    0    0    0    0    0    0    0    0    0    0    0    0    0\n",
      "     0  115    0  216]]\n"
     ]
    }
   ],
   "source": [
    "y_utah = utah.label_value\n",
    "X_utah = utah[features]\n",
    "y_pred = clf.predict(X_utah) #.drop(columns=\"label_value\")\n",
    "print(np.round(metrics.accuracy_score(y_utah, y_pred) * 100, 2))\n",
    "print(metrics.confusion_matrix(y_utah, y_pred))"
   ]
  },
  {
   "cell_type": "code",
   "execution_count": 294,
   "metadata": {},
   "outputs": [
    {
     "name": "stdout",
     "output_type": "stream",
     "text": [
      "67.12\n"
     ]
    }
   ],
   "source": [
    "y_utah = wiscon_hdd.label_value\n",
    "X_utah = wiscon_hdd[features]\n",
    "y_pred = clf.predict(X_utah) #.drop(columns=\"label_value\")\n",
    "print(np.round(metrics.accuracy_score(y_utah, y_pred) * 100, 2))\n",
    "# print(metrics.confusion_matrix(y_utah, y_pred))"
   ]
  },
  {
   "cell_type": "code",
   "execution_count": 295,
   "metadata": {},
   "outputs": [
    {
     "name": "stdout",
     "output_type": "stream",
     "text": [
      "97.76\n"
     ]
    }
   ],
   "source": [
    "y_utah = wiscon_sdd.label_value\n",
    "X_utah = wiscon_sdd[features]\n",
    "y_pred = clf.predict(X_utah) #.drop(columns=\"label_value\")\n",
    "print(np.round(metrics.accuracy_score(y_utah, y_pred) * 100, 2))"
   ]
  },
  {
   "cell_type": "code",
   "execution_count": 226,
   "metadata": {},
   "outputs": [
    {
     "data": {
      "text/plain": [
       "label_value\n",
       "0     0.0\n",
       "1     0.0\n",
       "17    0.0\n",
       "33    0.0\n",
       "34    0.0\n",
       "35    0.0\n",
       "36    0.0\n",
       "40    0.0\n",
       "44    0.0\n",
       "48    0.0\n",
       "59    0.0\n",
       "62    0.0\n",
       "66    0.0\n",
       "74    0.0\n",
       "82    0.0\n",
       "86    0.0\n",
       "87    0.0\n",
       "88    0.0\n",
       "Name: sender_avg_reord_seen, dtype: float64"
      ]
     },
     "execution_count": 226,
     "metadata": {},
     "output_type": "execute_result"
    }
   ],
   "source": [
    "df.groupby(\"label_value\").sender_avg_reord_seen.mean()"
   ]
  },
  {
   "cell_type": "code",
   "execution_count": null,
   "metadata": {},
   "outputs": [],
   "source": []
  }
 ],
 "metadata": {
  "kernelspec": {
   "display_name": "Python 3",
   "language": "python",
   "name": "python3"
  },
  "language_info": {
   "codemirror_mode": {
    "name": "ipython",
    "version": 3
   },
   "file_extension": ".py",
   "mimetype": "text/x-python",
   "name": "python",
   "nbconvert_exporter": "python",
   "pygments_lexer": "ipython3",
   "version": "3.8.9"
  }
 },
 "nbformat": 4,
 "nbformat_minor": 4
}