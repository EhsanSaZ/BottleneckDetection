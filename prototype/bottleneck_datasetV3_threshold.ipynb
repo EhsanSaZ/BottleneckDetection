{
 "cells": [
  {
   "cell_type": "code",
   "execution_count": 1,
   "metadata": {
    "collapsed": true
   },
   "outputs": [],
   "source": [
    "\n",
    "import time\n",
    "import sys\n",
    "if not sys.warnoptions:\n",
    "    import warnings\n",
    "    warnings.simplefilter(\"ignore\")"
   ]
  },
  {
   "cell_type": "code",
   "execution_count": 177,
   "metadata": {},
   "outputs": [],
   "source": [
    "import pandas as pd\n",
    "import numpy as np\n",
    "from sklearn.ensemble import RandomForestClassifier\n",
    "from imblearn.under_sampling import RandomUnderSampler\n",
    "from imblearn.over_sampling import RandomOverSampler\n",
    "from sklearn.model_selection import train_test_split\n",
    "from sklearn import metrics\n",
    "from sklearn.metrics import ConfusionMatrixDisplay\n",
    "# import seaborn as sns\n",
    "# sns.set()\n",
    "from sklearn import tree\n",
    "from collections import Counter\n",
    "import matplotlib.pyplot as plt\n",
    "from sklearn.pipeline import make_pipeline\n",
    "from sklearn.preprocessing import StandardScaler, MinMaxScaler, PowerTransformer\n",
    "from sklearn.model_selection import cross_val_score\n",
    "from sklearn.tree import DecisionTreeClassifier\n",
    "from sklearn import svm\n",
    "from sklearn.neural_network import MLPClassifier\n",
    "from sklearn.neighbors import KNeighborsClassifier\n",
    "from xgboost import XGBClassifier\n",
    "import seaborn as sns\n",
    "from imblearn.over_sampling import SMOTE, ADASYN"
   ]
  },
  {
   "cell_type": "code",
   "execution_count": 485,
   "outputs": [],
   "source": [
    "filenames_merged = {\n",
    "    \"wisconsin_ssd_merged\": \"./ds/v3/selected_cols_merged/wisconsin-220g2-10Gbps_ssd_merged_V3.csv\",\n",
    "    # \"wisconsin_ssd_unmerged\": \"./ds/v3/selected_cols/wisconsin-220g2-10Gbps_ssd_unmerged_V3.csv\",\n",
    "\n",
    "    \"wisconsin_hdd_merged\": \"./ds/v3/selected_cols_merged/wisconsin-220g2-10Gbps_hdd_merged_V3.csv\",\n",
    "    # \"wisconsin_hdd_unmerged\": \"./ds/v3/selected_cols/wisconsin-220g2-10Gbps_hdd_unmerged_V3.csv\",\n",
    "\n",
    "    \"wisconsin_hdd_ssd_merged\": \"./ds/v3/selected_cols_merged/wisconsin-220g2-hdd-ssd_merged_V3.csv\",\n",
    "    # \"wisconsin_hdd_ssd_unmerged\": \"./ds/v3/selected_cols/wisconsin-220g2-hdd-ssd_unmerged_V3.csv\",\n",
    "\n",
    "    \"wisconsin_ssd_delay_10ms_merged\":\"./ds/v3/selected_cols_merged/wisconsin-220g2-ssd-delayed-10ms_merged_V3.csv\",\n",
    "    # \"wisconsin_ssd_delayed_10ms_unmerged\":\"./ds/v3/selected_cols_merged/wisconsin-220g2-ssd-delayed-10ms_unmerged_V3.csv\"\n",
    "\n",
    "    \"wisconsin_hdd_delay_10ms_merged\":\"./ds/v3/selected_cols_merged/wisconsin-220g2-hdd-delayed-10ms_merged_V3.csv\",\n",
    "    # # \"wisconsin_hdd_delay_10ms_unmerged\":\"./ds/v3/selected_cols/wisconsin-220g2-hdd-delayed-10ms_unmerged_V3.csv\",\n",
    "\n",
    "    \"utah_ssd_merged\": \"./ds/v3/selected_cols_merged/utah-6525-25g-25Gbps_ssd_merged.csv\",\n",
    "    # \"utah_ssd_unmerged\": \"./ds/v3/selected_cols/utah-6525-25g-25Gbps_ssd_unmerged_V3.csv\",\n",
    "\n",
    "    \"utah_ssd_delay_30ms_merged\":\"./ds/v3/selected_cols_merged/utah-6525-25-ssd-delayed-30ms_merged_V3.csv\",\n",
    "    # \"utah_ssd_delay_unmerged\": \"./ds/v3/selected_cols/utah-6525-25-ssd-delayed-30ms_unmerged_V3.csv\",\n",
    "\n",
    "\n",
    "    \"utah_ssd_delay_10ms_merged\":\"./ds/v3/selected_cols_merged/utah-6525-25-ssd-delayed-10ms_merged_V3.csv\",\n",
    "    # # \"utah_ssd_delay_10ms_merged\": \"./ds/v3/selected_cols/utah-6525-25-ssd-delayed-10ms_unmerged_V3.csv\",\n",
    "}\n",
    "data = {}"
   ],
   "metadata": {
    "collapsed": false
   }
  },
  {
   "cell_type": "code",
   "execution_count": 486,
   "outputs": [],
   "source": [
    "def read_file(transform=False):\n",
    "    global data, filenames_merged\n",
    "\n",
    "    for key in filenames_merged:\n",
    "        df = pd.read_csv(filenames_merged[key])\n",
    "        df = df.sort_values(by=['label_value']).reset_index().drop(['index','time_stamp',], axis=1)\n",
    "        df.fillna(df.groupby(['label_value'], as_index=False).mean(), inplace=True)\n",
    "\n",
    "        if transform:\n",
    "            for index, row in features.iterrows():\n",
    "                df[row['feature']] = df[row['feature']] / df[row['normalizer']]\n",
    "\n",
    "        df.replace([np.inf, -np.inf, np.nan], 0, inplace=True)\n",
    "        data[key] = df\n",
    "\n",
    "read_file()"
   ],
   "metadata": {
    "collapsed": false
   }
  },
  {
   "cell_type": "code",
   "execution_count": 515,
   "outputs": [],
   "source": [
    "simul_data_names = {\n",
    "    \"wisconsin-220g2-ssd-simultanious-v2_merged\":\"./ds/v3/selected_cols/wisconsin-220g2-ssd-simultanious-v2.csv\",\n",
    "}\n",
    "simul_data = {}\n",
    "\n",
    "def read_file(transform=False):\n",
    "    global data, filenames_merged\n",
    "\n",
    "    for key in simul_data_names:\n",
    "        df = pd.read_csv(simul_data_names[key])\n",
    "        df = df.sort_values(by=['label_value']).reset_index().drop(['index','time_stamp',], axis=1)\n",
    "        df.fillna(df.groupby(['label_value'], as_index=False).mean(), inplace=True)\n",
    "        df.replace([np.inf, -np.inf, np.nan], 0, inplace=True)\n",
    "        simul_data[key] = df\n",
    "\n",
    "read_file()"
   ],
   "metadata": {
    "collapsed": false
   }
  },
  {
   "cell_type": "code",
   "execution_count": 5,
   "outputs": [],
   "source": [
    "def remove_labels_in_df(df, labels_values):\n",
    "    for lbl in labels_values:\n",
    "        df = df.drop(df[df.label_value == lbl].index)\n",
    "    return df"
   ],
   "metadata": {
    "collapsed": false
   }
  },
  {
   "cell_type": "code",
   "execution_count": 6,
   "outputs": [],
   "source": [
    "GB = 1024 * 1024 * 1024"
   ],
   "metadata": {
    "collapsed": false
   }
  },
  {
   "cell_type": "code",
   "execution_count": 124,
   "outputs": [],
   "source": [
    "def check_receiver_ost_congestion(df):\n",
    "    normal_ave_receiver_remote_ost_write_bytes = np.average(df[df.label_value == 0]['receiver_remote_ost_write_bytes'])\n",
    "    normal_ave_receiver_nic_send = np.average(df[df.label_value == 0]['receiver_nic_send_bytes'])\n",
    "\n",
    "    diff_from_normal_ost_write = normal_ave_receiver_remote_ost_write_bytes - df['receiver_remote_ost_write_bytes']  <= (0.3 * normal_ave_receiver_remote_ost_write_bytes)\n",
    "    diff_from_client_remote_ost_write_bytes = df['receiver_write_bytes'] <= 0.9 * df['receiver_remote_ost_write_bytes']\n",
    "    packet_loss = (df['sender_retrans'] * 100 / df['sender_seg_out'] < 0.05)\n",
    "    diff_from_normal_receiver_nic_send = df['receiver_nic_send_bytes'] < 1.1 * normal_ave_receiver_nic_send\n",
    "\n",
    "    final_cond = diff_from_normal_ost_write & diff_from_client_remote_ost_write_bytes & packet_loss & diff_from_normal_receiver_nic_send\n",
    "    df.loc[final_cond & (df['predicted_label'] == -1), \"predicted_label\"] = 4\n",
    "    return df"
   ],
   "metadata": {
    "collapsed": false
   }
  },
  {
   "cell_type": "code",
   "execution_count": 123,
   "outputs": [],
   "source": [
    "def check_receiver_lustre_nic_congestion(df):\n",
    "    normal_ave_receiver_write_bytes = np.average(df[df.label_value == 0]['receiver_write_bytes'])\n",
    "    normal_ave_receiver_nic = np.average(df[df.label_value == 0]['receiver_nic_send_bytes'])\n",
    "\n",
    "    diff_from_normal_osc_write = normal_ave_receiver_write_bytes - df['receiver_write_bytes'] <= (0.9 * normal_ave_receiver_write_bytes)\n",
    "    diff_from_normal_receiver_nic_send = df['receiver_nic_send_bytes'] > 1.1 * normal_ave_receiver_nic\n",
    "    packet_loss = (df['sender_retrans'] * 100 / df['sender_seg_out'] > 0.05)\n",
    "\n",
    "    final_cond = diff_from_normal_osc_write & diff_from_normal_receiver_nic_send & ~packet_loss\n",
    "    df.loc[final_cond & (df['predicted_label'] == -1), \"predicted_label\"] = 10\n",
    "\n",
    "    return df"
   ],
   "metadata": {
    "collapsed": false
   }
  },
  {
   "cell_type": "code",
   "execution_count": 379,
   "outputs": [],
   "source": [
    "def check_receiver_buffer_size(df):\n",
    "    BDP = df['receiver_write_bytes'] * df['sender_avg_rtt_value'] / 500\n",
    "    BDP_index = df['receiver_tcp_rcv_buffer_max'] -  BDP < 0.7 * df['receiver_tcp_rcv_buffer_max']\n",
    "\n",
    "    diff_from_client_remote_ost_write_bytes = df['receiver_write_bytes'] <= 0.9 * df['receiver_remote_ost_write_bytes']\n",
    "\n",
    "    final_cond = BDP_index & ~(diff_from_client_remote_ost_write_bytes)\n",
    "    df.loc[final_cond & (df['predicted_label'] == -1), \"predicted_label\"] = 43\n",
    "    return df"
   ],
   "metadata": {
    "collapsed": false
   }
  },
  {
   "cell_type": "code",
   "execution_count": 138,
   "outputs": [],
   "source": [
    "def check_sender_buffer_size(df):\n",
    "    BDP = df['receiver_write_bytes'] * df['sender_avg_rtt_value'] / 500\n",
    "    BDP_index = df['sender_tcp_snd_buffer_max'] -  BDP < 0.5 * df['sender_tcp_snd_buffer_max']\n",
    "\n",
    "    final_cond = BDP_index\n",
    "    df.loc[final_cond & (df['predicted_label'] == -1), \"predicted_label\"] = 37\n",
    "    return df"
   ],
   "metadata": {
    "collapsed": false
   }
  },
  {
   "cell_type": "code",
   "execution_count": 151,
   "outputs": [],
   "source": [
    "def check_network_loss_anomaly(df):\n",
    "\n",
    "    network_loss_index = (df['sender_retrans'] * 100 / df['sender_seg_out'] > 0.05)\n",
    "    network_loss_index_2 = network_loss_index.shift(1)\n",
    "    network_loss_index_3 = network_loss_index.shift(2)\n",
    "\n",
    "    BDP_receiver = df['receiver_write_bytes'] * df['sender_avg_rtt_value'] / 500\n",
    "    buffer_size_index = df['sender_tcp_snd_buffer_max'] -  BDP_receiver < 0.5 * df['sender_tcp_snd_buffer_max']\n",
    "\n",
    "    final_cond = network_loss_index & network_loss_index_2 & network_loss_index_3 & ~buffer_size_index\n",
    "    df.loc[final_cond & (df['predicted_label'] == -1), \"predicted_label\"] = 13\n",
    "    return df"
   ],
   "metadata": {
    "collapsed": false
   }
  },
  {
   "cell_type": "code",
   "execution_count": 496,
   "outputs": [],
   "source": [
    "def check_sender_ost_congestion(df):\n",
    "    normal_ave_sender_remote_ost_read_bytes = np.average(df[df.label_value == 0]['sender_remote_ost_read_bytes'])\n",
    "    # normal_ave_sender_nic = np.average(df[df.label_value == 0]['sender_nic_receive_bytes'])\n",
    "    normal_ave_receiver_nic = np.average(df[df.label_value == 0]['receiver_nic_send_bytes'])\n",
    "    # normal_ave_sender_read_bytes = np.average(df[df.label_value == 0]['sender_read_bytes'])\n",
    "\n",
    "    diff_from_normal_ost_read = normal_ave_sender_remote_ost_read_bytes - df['sender_remote_ost_read_bytes']  <= (0.1 * normal_ave_sender_remote_ost_read_bytes)\n",
    "    diff_from_client_remote_ost_read_bytes = df['sender_read_bytes'] <= 0.8 * df['sender_remote_ost_read_bytes']\n",
    "\n",
    "    diff_from_normal_receiver_nic_send = df['receiver_nic_send_bytes'] > 0.9 * normal_ave_receiver_nic\n",
    "\n",
    "    packet_loss = (df['sender_retrans'] * 100 / df['sender_seg_out'] > 0.05)\n",
    "    # final_cond =  diff_from_normal_ost_read & diff_from_client_remote_ost_read_bytes & ~packet_loss & ~diff_from_normal_receiver_nic_send\n",
    "    final_cond =  diff_from_normal_ost_read & diff_from_client_remote_ost_read_bytes & ~diff_from_normal_receiver_nic_send\n",
    "    df.loc[final_cond & (df['predicted_label'] == -1), \"predicted_label\"] = 1\n",
    "\n",
    "    return df"
   ],
   "metadata": {
    "collapsed": false
   }
  },
  {
   "cell_type": "code",
   "execution_count": 155,
   "outputs": [],
   "source": [
    "def check_sender_lustre_nic_congestion(df):\n",
    "\n",
    "    normal_ave_sender_read_bytes = np.average(df[df.label_value == 0]['sender_read_bytes'])\n",
    "    normal_ave_sender_nic = np.average(df[df.label_value == 0]['sender_nic_receive_bytes'])\n",
    "\n",
    "\n",
    "    diff_from_normal_osc_read = normal_ave_sender_read_bytes > 1.5 * df['sender_read_bytes']\n",
    "    diff_from_normal_sender_nic_receive = df['sender_nic_receive_bytes'] > 1.1 * normal_ave_sender_nic\n",
    "\n",
    "    final_cond = diff_from_normal_osc_read & diff_from_normal_sender_nic_receive\n",
    "    df.loc[final_cond & (df['predicted_label'] == -1), \"predicted_label\"] = 7\n",
    "    return df"
   ],
   "metadata": {
    "collapsed": false
   }
  },
  {
   "cell_type": "code",
   "execution_count": 217,
   "outputs": [],
   "source": [
    "def check_network_congestion(df):\n",
    "    normal_ave_rtt = np.average(df[df.label_value == 0]['sender_avg_rtt_value'])\n",
    "    normal_ave_receiver_write_bytes = np.average(df[df.label_value == 0]['receiver_write_bytes'])\n",
    "\n",
    "    large_rtt_indices = df['sender_avg_rtt_value']  >= 2.0 * normal_ave_rtt\n",
    "    smaller_throughput_indexes = df['receiver_write_bytes'] < 0.8 * normal_ave_receiver_write_bytes\n",
    "\n",
    "    # normal_ave_cwnd = np.average(df[df.label_value == 0]['sender_cwnd_rate'])\n",
    "    # cwnd_indices = df['sender_cwnd_rate'] < 0.7 * normal_ave_cwnd\n",
    "    # normal_seg_out = np.average(df[df.label_value == 0]['sender_seg_out'])\n",
    "    # seg_out_indices = normal_seg_out - df['sender_seg_out'] > 0.1 * normal_seg_out\n",
    "    final_cond = large_rtt_indices | smaller_throughput_indexes\n",
    "    df.loc[final_cond & (df['predicted_label'] == -1), \"predicted_label\"] = 33\n",
    "    return df"
   ],
   "metadata": {
    "collapsed": false
   }
  },
  {
   "cell_type": "code",
   "execution_count": 568,
   "outputs": [
    {
     "name": "stdout",
     "output_type": "stream",
     "text": [
      "wisconsin_ssd_merged\n",
      "              precision    recall  f1-score   support\n",
      "\n",
      "           0     0.9826    0.9769    0.9797       173\n",
      "           1     1.0000    0.9923    0.9961       520\n",
      "           4     0.9304    0.9822    0.9556       449\n",
      "           7     1.0000    1.0000    1.0000       517\n",
      "          10     1.0000    0.9731    0.9864       521\n",
      "          13     0.9872    0.9971    0.9921       694\n",
      "          33     0.9187    1.0000    0.9576       689\n",
      "          37     1.0000    0.9681    0.9838      1035\n",
      "          43     0.9980    0.9584    0.9778      1033\n",
      "\n",
      "    accuracy                         0.9808      5631\n",
      "   macro avg     0.9796    0.9831    0.9810      5631\n",
      "weighted avg     0.9820    0.9808    0.9810      5631\n",
      "\n",
      "wisconsin_hdd_merged\n",
      "              precision    recall  f1-score   support\n",
      "\n",
      "           0     0.4692    0.9124    0.6197       217\n",
      "           1     0.9968    0.9379    0.9664       660\n",
      "           4     0.8413    0.9830    0.9066       647\n",
      "           7     1.0000    0.7766    0.8743       658\n",
      "          10     0.9673    0.9864    0.9767       660\n",
      "          13     0.9501    0.9749    0.9623       878\n",
      "          33     0.8763    0.9373    0.9058       877\n",
      "          37     0.9991    0.8701    0.9301      1316\n",
      "          43     0.9905    0.9490    0.9693      1313\n",
      "\n",
      "    accuracy                         0.9250      7226\n",
      "   macro avg     0.8989    0.9253    0.9013      7226\n",
      "weighted avg     0.9436    0.9250    0.9293      7226\n",
      "\n",
      "wisconsin_hdd_ssd_merged\n",
      "              precision    recall  f1-score   support\n",
      "\n",
      "           0     0.4963    0.9178    0.6442       219\n",
      "           1     0.9936    0.9453    0.9688       658\n",
      "           4     0.7913    0.9366    0.8578       599\n",
      "           7     1.0000    0.7781    0.8752       658\n",
      "          10     0.9312    0.9834    0.9566       661\n",
      "          13     0.9768    0.9623    0.9695       876\n",
      "          33     0.8685    0.9328    0.8995       878\n",
      "          37     1.0000    0.9018    0.9483      1313\n",
      "          43     0.9992    0.9400    0.9687      1316\n",
      "\n",
      "    accuracy                         0.9235      7178\n",
      "   macro avg     0.8952    0.9220    0.8987      7178\n",
      "weighted avg     0.9412    0.9235    0.9278      7178\n",
      "\n",
      "wisconsin_ssd_delay_10ms_merged\n",
      "              precision    recall  f1-score   support\n",
      "\n",
      "           0     0.3281    0.5943    0.4228       175\n",
      "           1     0.9977    0.8346    0.9089       520\n",
      "           4     0.9046    0.6894    0.7825       454\n",
      "           7     0.9923    0.9961    0.9942       517\n",
      "          10     0.8231    0.8803    0.8507       518\n",
      "          13     0.8197    0.9578    0.8834       688\n",
      "          33     0.7205    0.9942    0.8356       695\n",
      "          37     1.0000    0.7964    0.8866      1046\n",
      "          43     1.0000    0.8525    0.9204      1044\n",
      "\n",
      "    accuracy                         0.8653      5657\n",
      "   macro avg     0.8429    0.8440    0.8317      5657\n",
      "weighted avg     0.8982    0.8653    0.8721      5657\n",
      "\n",
      "wisconsin_hdd_delay_10ms_merged\n",
      "              precision    recall  f1-score   support\n",
      "\n",
      "           0     0.2494    0.4862    0.3297       218\n",
      "           1     0.9950    0.9059    0.9484       659\n",
      "           4     0.9018    0.8503    0.8753       648\n",
      "           7     1.0000    0.7848    0.8795       660\n",
      "          10     0.9822    0.8374    0.9040       658\n",
      "          13     0.8489    0.9771    0.9085       874\n",
      "          33     0.6917    0.7563    0.7225       878\n",
      "          37     1.0000    0.9733    0.9865      1312\n",
      "          43     1.0000    0.9613    0.9803      1317\n",
      "\n",
      "    accuracy                         0.8837      7224\n",
      "   macro avg     0.8521    0.8370    0.8372      7224\n",
      "weighted avg     0.9107    0.8837    0.8933      7224\n",
      "\n",
      "utah_ssd_merged\n",
      "              precision    recall  f1-score   support\n",
      "\n",
      "           0     0.8402    0.9368    0.8859       174\n",
      "           1     0.9981    1.0000    0.9990       522\n",
      "           4     0.8389    0.9934    0.9096       456\n",
      "           7     1.0000    1.0000    1.0000       521\n",
      "          10     1.0000    0.9480    0.9733       519\n",
      "          13     1.0000    0.9928    0.9964       697\n",
      "          33     0.9462    0.9274    0.9367       702\n",
      "          37     1.0000    0.9676    0.9835      1048\n",
      "          43     0.9912    0.9675    0.9792      1045\n",
      "\n",
      "    accuracy                         0.9710      5684\n",
      "   macro avg     0.9572    0.9704    0.9626      5684\n",
      "weighted avg     0.9737    0.9710    0.9716      5684\n",
      "\n",
      "utah_ssd_delay_30ms_merged\n",
      "              precision    recall  f1-score   support\n",
      "\n",
      "           0     0.4375    0.9545    0.6000       176\n",
      "           1     1.0000    0.9886    0.9943       528\n",
      "           4     0.8773    0.9874    0.9291       478\n",
      "           7     1.0000    0.9656    0.9825       581\n",
      "          10     0.9982    0.9643    0.9810       588\n",
      "          13     0.9583    0.9018    0.9292       713\n",
      "          33     0.7774    0.6757    0.7230       703\n",
      "          37     1.0000    0.9526    0.9757      1054\n",
      "          43     1.0000    0.9640    0.9817      1055\n",
      "\n",
      "    accuracy                         0.9239      5876\n",
      "   macro avg     0.8943    0.9283    0.8996      5876\n",
      "weighted avg     0.9413    0.9239    0.9287      5876\n",
      "\n",
      "utah_ssd_delay_10ms_merged\n",
      "              precision    recall  f1-score   support\n",
      "\n",
      "           0     0.2836    0.9602    0.4378       176\n",
      "           1     1.0000    0.9905    0.9952       528\n",
      "           4     0.8571    0.9916    0.9195       478\n",
      "           7     1.0000    0.9905    0.9952       528\n",
      "          10     1.0000    0.9393    0.9687       527\n",
      "          13     0.9929    0.9886    0.9907       704\n",
      "          33     0.9103    0.7664    0.8322       702\n",
      "          37     1.0000    0.8057    0.8924      1055\n",
      "          43     1.0000    0.8727    0.9320      1053\n",
      "\n",
      "    accuracy                         0.9019      5751\n",
      "   macro avg     0.8938    0.9228    0.8849      5751\n",
      "weighted avg     0.9544    0.9019    0.9186      5751\n",
      "\n"
     ]
    }
   ],
   "source": [
    "df = data['wisconsin_ssd_merged'].copy()\n",
    "def do_analysis(df, print_progress=True):\n",
    "    df['predicted_label'] = -1\n",
    "    if print_progress:\n",
    "        print(Counter(df['predicted_label']))\n",
    "\n",
    "    df = check_receiver_ost_congestion(df)\n",
    "    if print_progress:\n",
    "        print(Counter(df['predicted_label']))\n",
    "\n",
    "    df = check_receiver_buffer_size(df)\n",
    "    if print_progress:\n",
    "        print(Counter(df['predicted_label']))\n",
    "\n",
    "    df = check_sender_buffer_size(df)\n",
    "    if print_progress:\n",
    "        print(Counter(df['predicted_label']))\n",
    "\n",
    "    df = check_receiver_lustre_nic_congestion(df)\n",
    "    if print_progress:\n",
    "        print(Counter(df['predicted_label']))\n",
    "\n",
    "    df = check_network_loss_anomaly(df)\n",
    "    if print_progress:\n",
    "        print(Counter(df['predicted_label']))\n",
    "\n",
    "    df = check_sender_lustre_nic_congestion(df)\n",
    "    if print_progress:\n",
    "        print(Counter(df['predicted_label']))\n",
    "\n",
    "    df = check_sender_ost_congestion(df)\n",
    "    if print_progress:\n",
    "        print(Counter(df['predicted_label']))\n",
    "\n",
    "    df = check_network_congestion(df)\n",
    "    if print_progress:\n",
    "        print(Counter(df['predicted_label']))\n",
    "\n",
    "    df.loc[(df['predicted_label'] == -1), \"predicted_label\"] = 0\n",
    "    if print_progress:\n",
    "        print(Counter(df['predicted_label']))\n",
    "\n",
    "    df[[\"label_value\", \"predicted_label\"]]\n",
    "\n",
    "    y_pred = df[\"predicted_label\"]\n",
    "    # print(f_score)\n",
    "    return y_pred\n",
    "\n",
    "from sklearn.metrics import classification_report\n",
    "\n",
    "# data_sets = [\"wisconsin_ssd_delay_10ms_merged\", \"wisconsin_ssd_merged\"]\n",
    "# data_sets = [\"wisconsin_ssd_delay_10ms_merged\"]\n",
    "# data_sets = [\"wisconsin_hdd_delay_10ms_merged\"]\n",
    "data_sets = data.keys()\n",
    "for dataset_name in data_sets:\n",
    "    df = data[dataset_name].copy()\n",
    "    df = remove_labels_in_df(df, [17, 21, 25, 29])\n",
    "    if dataset_name == \"wisconsin_ssd_delay_10ms_merged\":\n",
    "        # df[\"receiver_tcp_rcv_buffer_max\"] = 268435456\n",
    "        df.loc[(df['label_value'] == 37), \"receiver_tcp_rcv_buffer_max\"] = 268435456\n",
    "    y_test = df[\"label_value\"]\n",
    "    # print(Counter(y_test))\n",
    "    y_pred = do_analysis(df, False)\n",
    "    # from sklearn.metrics import accuracy_score, f1_score, precision_score, recall_score, classification_report, confusion_matrix\n",
    "    fscore = np.round(metrics.f1_score(y_test, y_pred, average=None) * 100, 2)\n",
    "    accuracy = np.round(metrics.accuracy_score(y_test, y_pred) * 100, 2)\n",
    "    precision = np.round(metrics.precision_score(y_test, y_pred, average=None) * 100, 2)\n",
    "    recall = np.round(metrics.recall_score(y_test, y_pred, average=None) * 100, 2)\n",
    "\n",
    "\n",
    "    print(dataset_name)\n",
    "    print((classification_report(y_test, y_pred, target_names=['0','1','4','7','10','13','33','37','43'], digits=4)))\n",
    "\n",
    "    # print(\"\\n\", result, \"\\n\")"
   ],
   "metadata": {
    "collapsed": false
   }
  },
  {
   "cell_type": "code",
   "execution_count": 605,
   "outputs": [
    {
     "data": {
      "text/plain": "Counter({0: 173, 4: 150, 13: 172, 1: 172})"
     },
     "execution_count": 605,
     "metadata": {},
     "output_type": "execute_result"
    }
   ],
   "source": [
    "df_wisconsin_ssd_merged = data[\"wisconsin_ssd_merged\"].copy()\n",
    "df_wisconsin_ssd_merged_normal = df_wisconsin_ssd_merged[df_wisconsin_ssd_merged.label_value == 0]\n",
    "df_wisconsin_ssd_merged_normal\n",
    "\n",
    "df = simul_data['wisconsin-220g2-ssd-simultanious-v2_merged'].copy()\n",
    "df[[\"label_value\"]]\n",
    "df.loc[(df['label_value'] == 49), \"label_value\"] = 4\n",
    "df.loc[(df['label_value'] == 50), \"label_value\"] = 13\n",
    "df.loc[(df['label_value'] == 51), \"label_value\"] = 1\n",
    "df = pd.concat([df_wisconsin_ssd_merged_normal, df ] )\n",
    "Counter(df.label_value)"
   ],
   "metadata": {
    "collapsed": false
   }
  },
  {
   "cell_type": "code",
   "execution_count": 632,
   "outputs": [
    {
     "name": "stdout",
     "output_type": "stream",
     "text": [
      "              precision    recall  f1-score   support\n",
      "\n",
      "           1     0.8214    0.1337    0.2300       172\n",
      "           4     0.4966    0.9800    0.6592       150\n",
      "          13     1.0000    0.9884    0.9942       172\n",
      "\n",
      "    accuracy                         0.6883       494\n",
      "   macro avg     0.7727    0.7007    0.6278       494\n",
      "weighted avg     0.7850    0.6883    0.6264       494\n",
      "\n"
     ]
    }
   ],
   "source": [
    "y_test = df[\"label_value\"]\n",
    "y_pred = do_analysis(df, False)\n",
    "y_pred = y_pred[y_test != 0]\n",
    "y_test = y_test[y_test != 0]\n",
    "print((classification_report(y_test, y_pred, digits=4)))"
   ],
   "metadata": {
    "collapsed": false
   }
  },
  {
   "cell_type": "code",
   "execution_count": 542,
   "outputs": [
    {
     "name": "stdout",
     "output_type": "stream",
     "text": [
      "Counter({-1: 494})\n",
      "Counter({-1: 494})\n",
      "Counter({-1: 494})\n",
      "Counter({-1: 490, 37: 4})\n",
      "Counter({-1: 490, 37: 4})\n",
      "Counter({-1: 320, 13: 170, 37: 4})\n",
      "Counter({-1: 320, 13: 170, 37: 4})\n",
      "Counter({-1: 320, 13: 170, 37: 4})\n",
      "Counter({-1: 320, 13: 170, 37: 4})\n",
      "Counter({0: 320, 13: 170, 37: 4})\n",
      "              precision    recall  f1-score   support\n",
      "\n",
      "           0     0.0000    0.0000    0.0000         0\n",
      "           1     0.0000    0.0000    0.0000       172\n",
      "           4     0.0000    0.0000    0.0000       150\n",
      "          13     1.0000    0.9884    0.9942       172\n",
      "          37     0.0000    0.0000    0.0000         0\n",
      "\n",
      "    accuracy                         0.3441       494\n",
      "   macro avg     0.2000    0.1977    0.1988       494\n",
      "weighted avg     0.3482    0.3441    0.3461       494\n",
      "\n"
     ]
    }
   ],
   "source": [
    "\n"
   ],
   "metadata": {
    "collapsed": false
   }
  },
  {
   "cell_type": "code",
   "execution_count": 537,
   "outputs": [
    {
     "data": {
      "text/plain": "     sender_read_bytes  sender_remote_ost_read_bytes  receiver_write_bytes  \\\n0          125829120.0                   503316480.0            96395264.0   \n1          255852544.0                   511705088.0           163577856.0   \n2          255852544.0                   511705088.0           184549376.0   \n3          260046848.0                   511705088.0           188743680.0   \n4          251658240.0                   507510784.0           171966464.0   \n..                 ...                           ...                   ...   \n489        163577856.0                   520093696.0           130023424.0   \n490        163577856.0                   507510784.0           192937984.0   \n491        159383552.0                   507510784.0           155189248.0   \n492        167772160.0                   520093696.0           180354320.0   \n493        167772160.0                   515899392.0           192937232.0   \n\n     receiver_remote_ost_write_bytes  \n0                        515825664.0  \n1                                0.0  \n2                        490733568.0  \n3                        444596224.0  \n4                        536870912.0  \n..                               ...  \n489                      423624704.0  \n490                      289406976.0  \n491                      360710144.0  \n492                      385875968.0  \n493                      448789776.0  \n\n[494 rows x 4 columns]",
      "text/html": "<div>\n<style scoped>\n    .dataframe tbody tr th:only-of-type {\n        vertical-align: middle;\n    }\n\n    .dataframe tbody tr th {\n        vertical-align: top;\n    }\n\n    .dataframe thead th {\n        text-align: right;\n    }\n</style>\n<table border=\"1\" class=\"dataframe\">\n  <thead>\n    <tr style=\"text-align: right;\">\n      <th></th>\n      <th>sender_read_bytes</th>\n      <th>sender_remote_ost_read_bytes</th>\n      <th>receiver_write_bytes</th>\n      <th>receiver_remote_ost_write_bytes</th>\n    </tr>\n  </thead>\n  <tbody>\n    <tr>\n      <th>0</th>\n      <td>125829120.0</td>\n      <td>503316480.0</td>\n      <td>96395264.0</td>\n      <td>515825664.0</td>\n    </tr>\n    <tr>\n      <th>1</th>\n      <td>255852544.0</td>\n      <td>511705088.0</td>\n      <td>163577856.0</td>\n      <td>0.0</td>\n    </tr>\n    <tr>\n      <th>2</th>\n      <td>255852544.0</td>\n      <td>511705088.0</td>\n      <td>184549376.0</td>\n      <td>490733568.0</td>\n    </tr>\n    <tr>\n      <th>3</th>\n      <td>260046848.0</td>\n      <td>511705088.0</td>\n      <td>188743680.0</td>\n      <td>444596224.0</td>\n    </tr>\n    <tr>\n      <th>4</th>\n      <td>251658240.0</td>\n      <td>507510784.0</td>\n      <td>171966464.0</td>\n      <td>536870912.0</td>\n    </tr>\n    <tr>\n      <th>...</th>\n      <td>...</td>\n      <td>...</td>\n      <td>...</td>\n      <td>...</td>\n    </tr>\n    <tr>\n      <th>489</th>\n      <td>163577856.0</td>\n      <td>520093696.0</td>\n      <td>130023424.0</td>\n      <td>423624704.0</td>\n    </tr>\n    <tr>\n      <th>490</th>\n      <td>163577856.0</td>\n      <td>507510784.0</td>\n      <td>192937984.0</td>\n      <td>289406976.0</td>\n    </tr>\n    <tr>\n      <th>491</th>\n      <td>159383552.0</td>\n      <td>507510784.0</td>\n      <td>155189248.0</td>\n      <td>360710144.0</td>\n    </tr>\n    <tr>\n      <th>492</th>\n      <td>167772160.0</td>\n      <td>520093696.0</td>\n      <td>180354320.0</td>\n      <td>385875968.0</td>\n    </tr>\n    <tr>\n      <th>493</th>\n      <td>167772160.0</td>\n      <td>515899392.0</td>\n      <td>192937232.0</td>\n      <td>448789776.0</td>\n    </tr>\n  </tbody>\n</table>\n<p>494 rows × 4 columns</p>\n</div>"
     },
     "execution_count": 537,
     "metadata": {},
     "output_type": "execute_result"
    }
   ],
   "source": [
    "df = simul_data['wisconsin-220g2-ssd-simultanious-v2_merged'].copy()\n",
    "df[[\"sender_read_bytes\",\"sender_remote_ost_read_bytes\", \"receiver_write_bytes\", \"receiver_remote_ost_write_bytes\"]]"
   ],
   "metadata": {
    "collapsed": false
   }
  },
  {
   "cell_type": "code",
   "execution_count": 524,
   "outputs": [
    {
     "data": {
      "text/plain": "1.3646337661605614"
     },
     "execution_count": 524,
     "metadata": {},
     "output_type": "execute_result"
    }
   ],
   "source": [
    "df = data['wisconsin_ssd_merged'].copy()\n",
    "\n",
    "np.average(df[df.label_value == 1][\"through_put\"])"
   ],
   "metadata": {
    "collapsed": false
   }
  },
  {
   "cell_type": "markdown",
   "source": [
    "## receiver OST congestion anomaly label 4"
   ],
   "metadata": {
    "collapsed": false
   }
  },
  {
   "cell_type": "code",
   "execution_count": 390,
   "outputs": [
    {
     "name": "stdout",
     "output_type": "stream",
     "text": [
      "wisconsin_ssd_merged\n",
      "Counter({4: 441, 37: 23, 43: 6, 0: 4}) \n",
      "\n",
      "utah_ssd_merged\n",
      "Counter({4: 441, 37: 23, 43: 6, 0: 4}) \n",
      "\n",
      "utah_ssd_delay_30ms_merged\n",
      "Counter({4: 472, 43: 38, 33: 11, 37: 11, 0: 6}) \n",
      "\n",
      "wisconsin_ssd_delay_10ms_merged\n",
      "Counter({4: 313, 37: 19, 43: 16, 0: 4, 33: 1}) \n",
      "\n",
      "utah_ssd_delay_10ms_merged\n",
      "Counter({4: 474, 43: 36, 37: 33, 0: 6, 33: 4}) \n",
      "\n"
     ]
    }
   ],
   "source": [
    "for k in data:\n",
    "    df = data[k].copy()\n",
    "    df = remove_labels_in_df(df, [17, 21, 25, 29])\n",
    "\n",
    "    df[df.label_value == 0]['receiver_remote_ost_write_bytes']\n",
    "    normal_ave_receiver_remote_ost_write_bytes = np.average(df[df.label_value == 0]['receiver_remote_ost_write_bytes'])\n",
    "    normal_ave_receiver_nic_send = np.average(df[df.label_value == 0]['receiver_nic_send_bytes'])\n",
    "\n",
    "    diff_from_normal_ost_write = normal_ave_receiver_remote_ost_write_bytes - df['receiver_remote_ost_write_bytes']  <= (0.3 * normal_ave_receiver_remote_ost_write_bytes)\n",
    "\n",
    "    diff_from_client_remote_ost_write_bytes = df['receiver_write_bytes'] <= 0.9 * df['receiver_remote_ost_write_bytes']\n",
    "    packet_loss = (df['sender_retrans'] * 100 / df['sender_seg_out'] < 0.05)\n",
    "    diff_from_normal_receiver_nic_send = df['receiver_nic_send_bytes'] < 1.1 * normal_ave_receiver_nic_send\n",
    "\n",
    "\n",
    "    # BDP = df['receiver_write_bytes'] * df['sender_avg_rtt_value'] / 500\n",
    "    # BDP_index = df['sender_tcp_snd_buffer_max'] -  BDP < 0.5 * df['sender_tcp_snd_buffer_max']\n",
    "    # index = ( )\n",
    "    print(k)\n",
    "    print(Counter(df[diff_from_normal_ost_write & diff_from_client_remote_ost_write_bytes & packet_loss & diff_from_normal_receiver_nic_send]['label_value']), \"\\n\")"
   ],
   "metadata": {
    "collapsed": false
   }
  },
  {
   "cell_type": "code",
   "execution_count": 383,
   "outputs": [
    {
     "name": "stdout",
     "output_type": "stream",
     "text": [
      "wisconsin_ssd_merged (449, 146)\n",
      "utah_ssd_merged (449, 146)\n",
      "utah_ssd_delay_30ms_merged (478, 146)\n",
      "wisconsin_ssd_delay_10ms_merged (454, 146)\n",
      "utah_ssd_delay_10ms_merged (478, 146)\n"
     ]
    }
   ],
   "source": [
    "for k in data:\n",
    "    df = data[k].copy()\n",
    "    df = remove_labels_in_df(df, [17, 21, 25, 29])\n",
    "    df_selected_label = df[(df.label_value > 3) & (df.label_value < 5)]\n",
    "    print(k, df_selected_label.shape)"
   ],
   "metadata": {
    "collapsed": false
   }
  },
  {
   "cell_type": "markdown",
   "source": [
    "## receiver lustre NIC congestion anomaly"
   ],
   "metadata": {
    "collapsed": false
   }
  },
  {
   "cell_type": "code",
   "execution_count": 384,
   "outputs": [
    {
     "name": "stdout",
     "output_type": "stream",
     "text": [
      "wisconsin_ssd_merged\n",
      "Counter({10: 508, 37: 1}) \n",
      "\n",
      "utah_ssd_merged\n",
      "Counter({10: 508, 37: 1}) \n",
      "\n",
      "utah_ssd_delay_30ms_merged\n",
      "Counter({10: 567, 33: 1}) \n",
      "\n",
      "wisconsin_ssd_delay_10ms_merged\n",
      "Counter({43: 466, 10: 456, 37: 242, 0: 42}) \n",
      "\n",
      "utah_ssd_delay_10ms_merged\n",
      "Counter({10: 495}) \n",
      "\n"
     ]
    }
   ],
   "source": [
    "for k in data:\n",
    "    df = data[k].copy()\n",
    "    df = remove_labels_in_df(df, [17, 21, 25, 29,])\n",
    "\n",
    "    df[df.label_value == 0]['receiver_write_bytes']\n",
    "    normal_ave_receiver_write_bytes = np.average(df[df.label_value == 0]['receiver_write_bytes'])\n",
    "    normal_ave_receiver_nic = np.average(df[df.label_value == 0]['receiver_nic_send_bytes'])\n",
    "\n",
    "    diff_from_normal_osc_write = normal_ave_receiver_write_bytes - df['receiver_write_bytes'] <= (0.9 * normal_ave_receiver_write_bytes)\n",
    "    # print(Counter(df[diff_from_normal_osc_write]['label_value']))\n",
    "    diff_from_normal_receiver_nic_send = df['receiver_nic_send_bytes'] > 1.1 * normal_ave_receiver_nic\n",
    "    packet_loss = (df['sender_retrans'] * 100 / df['sender_seg_out'] < 0.05)\n",
    "    # index = ( )\n",
    "    print(k)\n",
    "    print(Counter(df[diff_from_normal_osc_write & diff_from_normal_receiver_nic_send & packet_loss]['label_value']), \"\\n\")\n",
    "\n",
    "# print(normal_ave_receiver_write_bytes, normal_ave_receiver_nic)"
   ],
   "metadata": {
    "collapsed": false
   }
  },
  {
   "cell_type": "code",
   "execution_count": 364,
   "outputs": [
    {
     "name": "stdout",
     "output_type": "stream",
     "text": [
      "wisconsin_ssd_merged (521, 146)\n",
      "utah_ssd_merged (521, 146)\n",
      "utah_ssd_delay_30ms_merged (588, 146)\n",
      "wisconsin_ssd_delay_10ms_merged (518, 146)\n",
      "utah_ssd_delay_10ms_merged (527, 146)\n"
     ]
    }
   ],
   "source": [
    "for k in data:\n",
    "    df = data[k].copy()\n",
    "    df = remove_labels_in_df(df, [17, 21, 25, 29])\n",
    "    df_selected_label = df[(df.label_value > 9) & (df.label_value < 11)]\n",
    "    print(k, df_selected_label.shape)"
   ],
   "metadata": {
    "collapsed": false
   }
  },
  {
   "cell_type": "markdown",
   "source": [
    "## receiver buffer size anomaly"
   ],
   "metadata": {
    "collapsed": false
   }
  },
  {
   "cell_type": "code",
   "execution_count": 447,
   "outputs": [
    {
     "name": "stdout",
     "output_type": "stream",
     "text": [
      "wisconsin_ssd_merged\n",
      "Counter({False: 7378, True: 1024})\n",
      "Counter({43: 1009, 4: 2, 10: 1, 25: 1, 37: 1}) \n",
      "\n",
      "wisconsin_hdd_merged\n",
      "Counter({False: 9437, True: 1301})\n",
      "Counter({43: 1279, 37: 7, 4: 5, 13: 5, 25: 4, 21: 1}) \n",
      "\n",
      "wisconsin_hdd_ssd_merged\n",
      "Counter({False: 9400, True: 1282})\n",
      "Counter({43: 1277, 4: 1}) \n",
      "\n",
      "wisconsin_ssd_delay_10ms_merged\n",
      "Counter({False: 7527, True: 895})\n",
      "Counter({43: 895}) \n",
      "\n",
      "wisconsin_hdd_delay_10ms_merged\n",
      "Counter({False: 6359, True: 861})\n",
      "Counter({43: 860}) \n",
      "\n",
      "utah_ssd_merged\n",
      "Counter({False: 7411, True: 1064})\n",
      "Counter({43: 1021, 4: 8, 10: 5, 13: 3, 25: 3, 33: 2}) \n",
      "\n",
      "utah_ssd_delay_30ms_merged\n",
      "Counter({False: 7669, True: 1031})\n",
      "Counter({43: 1031}) \n",
      "\n",
      "utah_ssd_delay_10ms_merged\n",
      "Counter({False: 7638, True: 930})\n",
      "Counter({43: 930}) \n",
      "\n"
     ]
    }
   ],
   "source": [
    "for k in data:\n",
    "\n",
    "    df = data[k].copy()\n",
    "\n",
    "    BDP = df['receiver_write_bytes'] * df['sender_avg_rtt_value'] / 500\n",
    "    index = df['receiver_tcp_rcv_buffer_max'] -  BDP < 0.7 * df['receiver_tcp_rcv_buffer_max']\n",
    "    # normal_ave_receiver_remote_ost_write_bytes = np.average(df[df.label_value == 0]['receiver_remote_ost_write_bytes'])\n",
    "    #\n",
    "    # diff_from_normal_ost_write = normal_ave_receiver_remote_ost_write_bytes - df['receiver_remote_ost_write_bytes']  > (0.05 * normal_ave_receiver_remote_ost_write_bytes)\n",
    "    diff_from_client_remote_ost_write_bytes = df['receiver_write_bytes'] <= 0.5 * df['receiver_remote_ost_write_bytes']\n",
    "    # diff_from_normal_osc_write = normal_ave - df['receiver_write_bytes'] <= (0.9 * normal_ave)\n",
    "    # print(Counter(df[diff_from_normal_osc_write]['label_value']))\n",
    "    # diff_from_normal_receiver_nic_send = df['receiver_nic_send_bytes'] > 1.1 * normal_ave_receiver_nic\n",
    "    # packet_loss = (df['sender_retrans'] * 100 / df['sender_seg_out'] < 0.05)\n",
    "    # index = ( )\n",
    "    print(k)\n",
    "    print(Counter(index))\n",
    "    print(Counter(df[ index & ~(diff_from_client_remote_ost_write_bytes) ]['label_value']), \"\\n\")\n",
    "    # print(Counter(df[ index ]['label_value']), \"\\n\")"
   ],
   "metadata": {
    "collapsed": false
   }
  },
  {
   "cell_type": "code",
   "execution_count": 409,
   "outputs": [
    {
     "name": "stdout",
     "output_type": "stream",
     "text": [
      "wisconsin_ssd_merged (1033, 146)\n",
      "utah_ssd_merged (1033, 146)\n",
      "utah_ssd_delay_30ms_merged (1055, 146)\n",
      "wisconsin_ssd_delay_10ms_merged (1037, 146)\n",
      "utah_ssd_delay_10ms_merged (1053, 146)\n"
     ]
    }
   ],
   "source": [
    "for k in data:\n",
    "    df = data[k].copy()\n",
    "    df = remove_labels_in_df(df, [17, 21, 25, 29])\n",
    "    df_selected_label = df[(df.label_value > 42) & (df.label_value < 44)]\n",
    "    print(k, df_selected_label.shape)"
   ],
   "metadata": {
    "collapsed": false
   }
  },
  {
   "cell_type": "code",
   "execution_count": 510,
   "outputs": [
    {
     "data": {
      "text/plain": "     sender_avg_rtt_value  sender_tcp_snd_buffer_max\n0                  10.521                  268435456\n1                  10.464                  268435456\n2                  10.641                  268435456\n3                  10.507                  268435456\n4                  10.816                  268435456\n..                    ...                        ...\n213                10.309                  268435456\n214                10.472                  268435456\n215                10.703                  268435456\n216                11.276                  268435456\n217                10.195                  268435456\n\n[218 rows x 2 columns]",
      "text/html": "<div>\n<style scoped>\n    .dataframe tbody tr th:only-of-type {\n        vertical-align: middle;\n    }\n\n    .dataframe tbody tr th {\n        vertical-align: top;\n    }\n\n    .dataframe thead th {\n        text-align: right;\n    }\n</style>\n<table border=\"1\" class=\"dataframe\">\n  <thead>\n    <tr style=\"text-align: right;\">\n      <th></th>\n      <th>sender_avg_rtt_value</th>\n      <th>sender_tcp_snd_buffer_max</th>\n    </tr>\n  </thead>\n  <tbody>\n    <tr>\n      <th>0</th>\n      <td>10.521</td>\n      <td>268435456</td>\n    </tr>\n    <tr>\n      <th>1</th>\n      <td>10.464</td>\n      <td>268435456</td>\n    </tr>\n    <tr>\n      <th>2</th>\n      <td>10.641</td>\n      <td>268435456</td>\n    </tr>\n    <tr>\n      <th>3</th>\n      <td>10.507</td>\n      <td>268435456</td>\n    </tr>\n    <tr>\n      <th>4</th>\n      <td>10.816</td>\n      <td>268435456</td>\n    </tr>\n    <tr>\n      <th>...</th>\n      <td>...</td>\n      <td>...</td>\n    </tr>\n    <tr>\n      <th>213</th>\n      <td>10.309</td>\n      <td>268435456</td>\n    </tr>\n    <tr>\n      <th>214</th>\n      <td>10.472</td>\n      <td>268435456</td>\n    </tr>\n    <tr>\n      <th>215</th>\n      <td>10.703</td>\n      <td>268435456</td>\n    </tr>\n    <tr>\n      <th>216</th>\n      <td>11.276</td>\n      <td>268435456</td>\n    </tr>\n    <tr>\n      <th>217</th>\n      <td>10.195</td>\n      <td>268435456</td>\n    </tr>\n  </tbody>\n</table>\n<p>218 rows × 2 columns</p>\n</div>"
     },
     "execution_count": 510,
     "metadata": {},
     "output_type": "execute_result"
    }
   ],
   "source": [
    "df = data['wisconsin_hdd_delay_10ms_merged'].copy()\n",
    "# df = data['utah_ssd_delay_10ms_merged'].copy()\n",
    "df[df.label_value == 0][[\"sender_avg_rtt_value\", \"sender_tcp_snd_buffer_max\"]]\n",
    "# np.average(df[df.label_value==0]['through_put'])\n",
    "# Counter(df[df.label_value==0]['receiver_tcp_rcv_buffer_max'])"
   ],
   "metadata": {
    "collapsed": false
   }
  },
  {
   "cell_type": "code",
   "execution_count": 509,
   "outputs": [
    {
     "data": {
      "text/plain": "      sender_avg_rtt_value  sender_tcp_snd_buffer_max\n3717                10.497                  268435456\n3718                10.205                  268435456\n3719                11.557                  268435456\n3720                10.130                  268435456\n3721                10.208                  268435456\n...                    ...                        ...\n4590                12.486                  268435456\n4591                12.950                  268435456\n4592                12.940                  268435456\n4593                13.788                  268435456\n4594                14.603                  268435456\n\n[878 rows x 2 columns]",
      "text/html": "<div>\n<style scoped>\n    .dataframe tbody tr th:only-of-type {\n        vertical-align: middle;\n    }\n\n    .dataframe tbody tr th {\n        vertical-align: top;\n    }\n\n    .dataframe thead th {\n        text-align: right;\n    }\n</style>\n<table border=\"1\" class=\"dataframe\">\n  <thead>\n    <tr style=\"text-align: right;\">\n      <th></th>\n      <th>sender_avg_rtt_value</th>\n      <th>sender_tcp_snd_buffer_max</th>\n    </tr>\n  </thead>\n  <tbody>\n    <tr>\n      <th>3717</th>\n      <td>10.497</td>\n      <td>268435456</td>\n    </tr>\n    <tr>\n      <th>3718</th>\n      <td>10.205</td>\n      <td>268435456</td>\n    </tr>\n    <tr>\n      <th>3719</th>\n      <td>11.557</td>\n      <td>268435456</td>\n    </tr>\n    <tr>\n      <th>3720</th>\n      <td>10.130</td>\n      <td>268435456</td>\n    </tr>\n    <tr>\n      <th>3721</th>\n      <td>10.208</td>\n      <td>268435456</td>\n    </tr>\n    <tr>\n      <th>...</th>\n      <td>...</td>\n      <td>...</td>\n    </tr>\n    <tr>\n      <th>4590</th>\n      <td>12.486</td>\n      <td>268435456</td>\n    </tr>\n    <tr>\n      <th>4591</th>\n      <td>12.950</td>\n      <td>268435456</td>\n    </tr>\n    <tr>\n      <th>4592</th>\n      <td>12.940</td>\n      <td>268435456</td>\n    </tr>\n    <tr>\n      <th>4593</th>\n      <td>13.788</td>\n      <td>268435456</td>\n    </tr>\n    <tr>\n      <th>4594</th>\n      <td>14.603</td>\n      <td>268435456</td>\n    </tr>\n  </tbody>\n</table>\n<p>878 rows × 2 columns</p>\n</div>"
     },
     "execution_count": 509,
     "metadata": {},
     "output_type": "execute_result"
    }
   ],
   "source": [
    "# df[df.label_value == 43][[\"sender_remote_ost_read_bytes\"]]\n",
    "# np.average(df[df.label_value==33]['through_put'])\n",
    "df[df.label_value == 33][[\"sender_avg_rtt_value\", \"sender_tcp_snd_buffer_max\"]]\n",
    "# Counter(df[df.label_value==37]['sender_tcp_snd_buffer_max'])\n",
    "# df[df.label_value == 37][[\"receiver_tcp_rcv_buffer_max\"]]"
   ],
   "metadata": {
    "collapsed": false
   }
  },
  {
   "cell_type": "markdown",
   "source": [
    "## Network Congestion anomaly"
   ],
   "metadata": {
    "collapsed": false
   }
  },
  {
   "cell_type": "code",
   "execution_count": 385,
   "outputs": [
    {
     "name": "stdout",
     "output_type": "stream",
     "text": [
      "wisconsin_ssd_merged\n",
      "Counter({43: 856, 33: 689, 37: 546, 13: 523, 1: 520, 7: 517, 4: 441, 10: 440, 0: 61}) \n",
      "\n",
      "utah_ssd_merged\n",
      "Counter({43: 856, 33: 689, 37: 546, 13: 523, 1: 520, 7: 517, 4: 441, 10: 440, 0: 61}) \n",
      "\n",
      "utah_ssd_delay_30ms_merged\n",
      "Counter({37: 844, 13: 713, 7: 581, 10: 581, 1: 528, 33: 495, 4: 478, 43: 357, 0: 72}) \n",
      "\n",
      "wisconsin_ssd_delay_10ms_merged\n",
      "Counter({33: 693, 13: 690, 1: 520, 7: 517, 37: 504, 10: 454, 4: 445, 0: 61, 43: 29}) \n",
      "\n",
      "utah_ssd_delay_10ms_merged\n",
      "Counter({13: 704, 33: 665, 1: 528, 7: 528, 10: 517, 4: 478, 43: 315, 37: 251, 0: 53}) \n",
      "\n"
     ]
    }
   ],
   "source": [
    "for k in data:\n",
    "    df = data[k].copy()\n",
    "    df = remove_labels_in_df(df, [ 17, 21, 25, 29])\n",
    "\n",
    "    # BDP = df['receiver_write_bytes'] * df['sender_avg_rtt_value'] / 500\n",
    "    normal_ave_rtt = np.average(df[df.label_value == 0]['sender_avg_rtt_value'])\n",
    "    normal_ave_receiver_write_bytes = np.average(df[df.label_value == 0]['receiver_write_bytes'])\n",
    "    large_rtt_indices = df['sender_avg_rtt_value']  >= 1 * normal_ave_rtt\n",
    "    # normal_ave_cwnd = np.average(df[df.label_value == 0]['sender_cwnd_rate'])\n",
    "    # cwnd_indices = df['sender_cwnd_rate'] < 0.7 * normal_ave_cwnd\n",
    "    # normal_seg_out = np.average(df[df.label_value == 0]['sender_seg_out'])\n",
    "    # seg_out_indices = normal_seg_out - df['sender_seg_out'] > 0.1 * normal_seg_out\n",
    "    smaller_throughput_indexes = df['receiver_write_bytes'] < 0.8 * normal_ave_receiver_write_bytes\n",
    "\n",
    "    final_cond = large_rtt_indices | smaller_throughput_indexes\n",
    "\n",
    "    print(k)\n",
    "    print(Counter(df[ large_rtt_indices | smaller_throughput_indexes]['label_value']), \"\\n\")\n",
    "    # print(Counter(df[ index ]['label_value']), \"\\n\")"
   ],
   "metadata": {
    "collapsed": false
   }
  },
  {
   "cell_type": "code",
   "execution_count": 368,
   "outputs": [
    {
     "name": "stdout",
     "output_type": "stream",
     "text": [
      "wisconsin_ssd_merged (689, 146)\n",
      "utah_ssd_merged (689, 146)\n",
      "utah_ssd_delay_30ms_merged (703, 146)\n",
      "wisconsin_ssd_delay_10ms_merged (695, 146)\n",
      "utah_ssd_delay_10ms_merged (702, 146)\n"
     ]
    }
   ],
   "source": [
    "for k in data:\n",
    "    df = data[k].copy()\n",
    "    df = remove_labels_in_df(df, [17, 21, 25, 29])\n",
    "    df_selected_label = df[(df.label_value > 32) & (df.label_value < 34)]\n",
    "    print(k, df_selected_label.shape)\n",
    "# print()\n",
    "# np.average(write_congestion_receiver_link['receiver_nic_send_bytes'])\n"
   ],
   "metadata": {
    "collapsed": false
   }
  },
  {
   "cell_type": "code",
   "execution_count": 292,
   "outputs": [
    {
     "data": {
      "text/plain": "     sender_avg_rtt_value  sender_pacing_rate  sender_cwnd_rate  \\\n0                  10.164              6560.2            2878.0   \n1                  10.480             10888.9            4926.0   \n2                  10.683             10710.2            4939.0   \n3                  10.133              6063.4            2652.0   \n4                  10.227              6125.3            2704.0   \n..                    ...                 ...               ...   \n170                10.195              6339.8            2790.0   \n171                10.170              6752.0            2964.0   \n172                10.187              7072.7            3110.0   \n173                10.265              8249.0            3655.0   \n174                10.170              7497.1            3291.0   \n\n     sender_avg_retransmission_timeout_value  sender_byte_ack  sender_seg_out  \\\n0                                      211.0       381.033226        275952.0   \n1                                      211.0       510.242004        366400.0   \n2                                      211.0       472.001305        346876.0   \n3                                      211.0       352.031136        254970.0   \n4                                      211.0       351.099014        254340.0   \n..                                       ...              ...             ...   \n170                                    211.0       360.730934        261450.0   \n171                                    211.0       383.971825        278190.0   \n172                                    211.0       408.704109        296145.0   \n173                                    211.0       488.275505        353655.0   \n174                                    211.0       438.966980        317925.0   \n\n     sender_retrans  sender_ssthresh_value  sender_segs_in  \\\n0               6.0                 2146.0          7397.0   \n1             203.0                 3694.0          4996.0   \n2            1197.0                 3703.0          8017.0   \n3               0.0                 1935.0          9609.0   \n4               0.0                 1935.0          5987.0   \n..              ...                    ...             ...   \n170             0.0                 2503.0          7556.0   \n171             0.0                 2503.0          7820.0   \n172             0.0                 2503.0          8013.0   \n173             0.0                 2365.0          8619.0   \n174             0.0                 2365.0         10115.0   \n\n     sender_avg_send_value  ...  receiver_system_cpu_percent  \\\n0                   3280.1  ...                          2.9   \n1                   5444.9  ...                          4.1   \n2                   5355.6  ...                          3.8   \n3                   3031.8  ...                          3.3   \n4                   3062.8  ...                          3.3   \n..                     ...  ...                          ...   \n170                 3170.1  ...                          3.0   \n171                 3376.1  ...                          2.8   \n172                 3536.5  ...                          3.0   \n173                 4124.6  ...                          3.2   \n174                 3748.6  ...                          2.9   \n\n     receiver_system_memory_percent  receiver_nic_send_bytes  \\\n0                               2.2                423808798   \n1                               1.7                514046462   \n2                               1.8                504481320   \n3                               1.8                457327704   \n4                               1.8                386045070   \n..                              ...                      ...   \n170                             2.9                507698128   \n171                             2.9                505643216   \n172                             2.9                508864230   \n173                             2.7                447451134   \n174                             2.5                421131252   \n\n     receiver_nic_receive_bytes  receiver_remote_ost_read_bytes  \\\n0                        426670                             0.0   \n1                        357702                             0.0   \n2                        313300                             0.0   \n3                        318526                             0.0   \n4                        440836                             0.0   \n..                          ...                             ...   \n170                      288300                             0.0   \n171                      315978                             0.0   \n172                      306748                             0.0   \n173                      243012                             0.0   \n174                      224222                             0.0   \n\n     receiver_remote_ost_write_bytes  receiver_dtn_lustre_read_bytes  \\\n0                        402653184.0                             0.0   \n1                        461373440.0                             0.0   \n2                        482344960.0                             0.0   \n3                        402653184.0                             0.0   \n4                        377487360.0                             0.0   \n..                               ...                             ...   \n170                      486539264.0                             0.0   \n171                      478150656.0                             0.0   \n172                      486539264.0                             0.0   \n173                      461373440.0                             0.0   \n174                      402653184.0                             0.0   \n\n     receiver_dtn_lustre_write_bytes  through_put  label_value  \n0                        399170160.0     2.948772            0  \n1                        353178312.0     4.129359            0  \n2                        556723512.0     3.708105            0  \n3                        447736320.0     2.751247            0  \n4                        376501720.0     2.725478            0  \n..                               ...          ...          ...  \n170                      525032184.0     2.817671            0  \n171                      392142288.0     3.002078            0  \n172                      396498600.0     3.183545            0  \n173                      509115352.0     3.811578            0  \n174                      463500096.0     3.430400            0  \n\n[175 rows x 146 columns]",
      "text/html": "<div>\n<style scoped>\n    .dataframe tbody tr th:only-of-type {\n        vertical-align: middle;\n    }\n\n    .dataframe tbody tr th {\n        vertical-align: top;\n    }\n\n    .dataframe thead th {\n        text-align: right;\n    }\n</style>\n<table border=\"1\" class=\"dataframe\">\n  <thead>\n    <tr style=\"text-align: right;\">\n      <th></th>\n      <th>sender_avg_rtt_value</th>\n      <th>sender_pacing_rate</th>\n      <th>sender_cwnd_rate</th>\n      <th>sender_avg_retransmission_timeout_value</th>\n      <th>sender_byte_ack</th>\n      <th>sender_seg_out</th>\n      <th>sender_retrans</th>\n      <th>sender_ssthresh_value</th>\n      <th>sender_segs_in</th>\n      <th>sender_avg_send_value</th>\n      <th>...</th>\n      <th>receiver_system_cpu_percent</th>\n      <th>receiver_system_memory_percent</th>\n      <th>receiver_nic_send_bytes</th>\n      <th>receiver_nic_receive_bytes</th>\n      <th>receiver_remote_ost_read_bytes</th>\n      <th>receiver_remote_ost_write_bytes</th>\n      <th>receiver_dtn_lustre_read_bytes</th>\n      <th>receiver_dtn_lustre_write_bytes</th>\n      <th>through_put</th>\n      <th>label_value</th>\n    </tr>\n  </thead>\n  <tbody>\n    <tr>\n      <th>0</th>\n      <td>10.164</td>\n      <td>6560.2</td>\n      <td>2878.0</td>\n      <td>211.0</td>\n      <td>381.033226</td>\n      <td>275952.0</td>\n      <td>6.0</td>\n      <td>2146.0</td>\n      <td>7397.0</td>\n      <td>3280.1</td>\n      <td>...</td>\n      <td>2.9</td>\n      <td>2.2</td>\n      <td>423808798</td>\n      <td>426670</td>\n      <td>0.0</td>\n      <td>402653184.0</td>\n      <td>0.0</td>\n      <td>399170160.0</td>\n      <td>2.948772</td>\n      <td>0</td>\n    </tr>\n    <tr>\n      <th>1</th>\n      <td>10.480</td>\n      <td>10888.9</td>\n      <td>4926.0</td>\n      <td>211.0</td>\n      <td>510.242004</td>\n      <td>366400.0</td>\n      <td>203.0</td>\n      <td>3694.0</td>\n      <td>4996.0</td>\n      <td>5444.9</td>\n      <td>...</td>\n      <td>4.1</td>\n      <td>1.7</td>\n      <td>514046462</td>\n      <td>357702</td>\n      <td>0.0</td>\n      <td>461373440.0</td>\n      <td>0.0</td>\n      <td>353178312.0</td>\n      <td>4.129359</td>\n      <td>0</td>\n    </tr>\n    <tr>\n      <th>2</th>\n      <td>10.683</td>\n      <td>10710.2</td>\n      <td>4939.0</td>\n      <td>211.0</td>\n      <td>472.001305</td>\n      <td>346876.0</td>\n      <td>1197.0</td>\n      <td>3703.0</td>\n      <td>8017.0</td>\n      <td>5355.6</td>\n      <td>...</td>\n      <td>3.8</td>\n      <td>1.8</td>\n      <td>504481320</td>\n      <td>313300</td>\n      <td>0.0</td>\n      <td>482344960.0</td>\n      <td>0.0</td>\n      <td>556723512.0</td>\n      <td>3.708105</td>\n      <td>0</td>\n    </tr>\n    <tr>\n      <th>3</th>\n      <td>10.133</td>\n      <td>6063.4</td>\n      <td>2652.0</td>\n      <td>211.0</td>\n      <td>352.031136</td>\n      <td>254970.0</td>\n      <td>0.0</td>\n      <td>1935.0</td>\n      <td>9609.0</td>\n      <td>3031.8</td>\n      <td>...</td>\n      <td>3.3</td>\n      <td>1.8</td>\n      <td>457327704</td>\n      <td>318526</td>\n      <td>0.0</td>\n      <td>402653184.0</td>\n      <td>0.0</td>\n      <td>447736320.0</td>\n      <td>2.751247</td>\n      <td>0</td>\n    </tr>\n    <tr>\n      <th>4</th>\n      <td>10.227</td>\n      <td>6125.3</td>\n      <td>2704.0</td>\n      <td>211.0</td>\n      <td>351.099014</td>\n      <td>254340.0</td>\n      <td>0.0</td>\n      <td>1935.0</td>\n      <td>5987.0</td>\n      <td>3062.8</td>\n      <td>...</td>\n      <td>3.3</td>\n      <td>1.8</td>\n      <td>386045070</td>\n      <td>440836</td>\n      <td>0.0</td>\n      <td>377487360.0</td>\n      <td>0.0</td>\n      <td>376501720.0</td>\n      <td>2.725478</td>\n      <td>0</td>\n    </tr>\n    <tr>\n      <th>...</th>\n      <td>...</td>\n      <td>...</td>\n      <td>...</td>\n      <td>...</td>\n      <td>...</td>\n      <td>...</td>\n      <td>...</td>\n      <td>...</td>\n      <td>...</td>\n      <td>...</td>\n      <td>...</td>\n      <td>...</td>\n      <td>...</td>\n      <td>...</td>\n      <td>...</td>\n      <td>...</td>\n      <td>...</td>\n      <td>...</td>\n      <td>...</td>\n      <td>...</td>\n      <td>...</td>\n    </tr>\n    <tr>\n      <th>170</th>\n      <td>10.195</td>\n      <td>6339.8</td>\n      <td>2790.0</td>\n      <td>211.0</td>\n      <td>360.730934</td>\n      <td>261450.0</td>\n      <td>0.0</td>\n      <td>2503.0</td>\n      <td>7556.0</td>\n      <td>3170.1</td>\n      <td>...</td>\n      <td>3.0</td>\n      <td>2.9</td>\n      <td>507698128</td>\n      <td>288300</td>\n      <td>0.0</td>\n      <td>486539264.0</td>\n      <td>0.0</td>\n      <td>525032184.0</td>\n      <td>2.817671</td>\n      <td>0</td>\n    </tr>\n    <tr>\n      <th>171</th>\n      <td>10.170</td>\n      <td>6752.0</td>\n      <td>2964.0</td>\n      <td>211.0</td>\n      <td>383.971825</td>\n      <td>278190.0</td>\n      <td>0.0</td>\n      <td>2503.0</td>\n      <td>7820.0</td>\n      <td>3376.1</td>\n      <td>...</td>\n      <td>2.8</td>\n      <td>2.9</td>\n      <td>505643216</td>\n      <td>315978</td>\n      <td>0.0</td>\n      <td>478150656.0</td>\n      <td>0.0</td>\n      <td>392142288.0</td>\n      <td>3.002078</td>\n      <td>0</td>\n    </tr>\n    <tr>\n      <th>172</th>\n      <td>10.187</td>\n      <td>7072.7</td>\n      <td>3110.0</td>\n      <td>211.0</td>\n      <td>408.704109</td>\n      <td>296145.0</td>\n      <td>0.0</td>\n      <td>2503.0</td>\n      <td>8013.0</td>\n      <td>3536.5</td>\n      <td>...</td>\n      <td>3.0</td>\n      <td>2.9</td>\n      <td>508864230</td>\n      <td>306748</td>\n      <td>0.0</td>\n      <td>486539264.0</td>\n      <td>0.0</td>\n      <td>396498600.0</td>\n      <td>3.183545</td>\n      <td>0</td>\n    </tr>\n    <tr>\n      <th>173</th>\n      <td>10.265</td>\n      <td>8249.0</td>\n      <td>3655.0</td>\n      <td>211.0</td>\n      <td>488.275505</td>\n      <td>353655.0</td>\n      <td>0.0</td>\n      <td>2365.0</td>\n      <td>8619.0</td>\n      <td>4124.6</td>\n      <td>...</td>\n      <td>3.2</td>\n      <td>2.7</td>\n      <td>447451134</td>\n      <td>243012</td>\n      <td>0.0</td>\n      <td>461373440.0</td>\n      <td>0.0</td>\n      <td>509115352.0</td>\n      <td>3.811578</td>\n      <td>0</td>\n    </tr>\n    <tr>\n      <th>174</th>\n      <td>10.170</td>\n      <td>7497.1</td>\n      <td>3291.0</td>\n      <td>211.0</td>\n      <td>438.966980</td>\n      <td>317925.0</td>\n      <td>0.0</td>\n      <td>2365.0</td>\n      <td>10115.0</td>\n      <td>3748.6</td>\n      <td>...</td>\n      <td>2.9</td>\n      <td>2.5</td>\n      <td>421131252</td>\n      <td>224222</td>\n      <td>0.0</td>\n      <td>402653184.0</td>\n      <td>0.0</td>\n      <td>463500096.0</td>\n      <td>3.430400</td>\n      <td>0</td>\n    </tr>\n  </tbody>\n</table>\n<p>175 rows × 146 columns</p>\n</div>"
     },
     "execution_count": 292,
     "metadata": {},
     "output_type": "execute_result"
    }
   ],
   "source": [
    "df = data['wisconsin_hdd_merged'].copy()\n",
    "df[df.label_value == 0][['sender_nic_receive_bytes', 'through_put']]\n",
    "# print(np.average(df[df.label_value == 0][[ 'through_put']]))\n"
   ],
   "metadata": {
    "collapsed": false
   }
  },
  {
   "cell_type": "code",
   "execution_count": 299,
   "outputs": [
    {
     "data": {
      "text/plain": "      receiver_write_bytes  receiver_remote_ost_write_bytes\n695            239075328.0                      478150656.0\n696            243269632.0                      415236096.0\n697            406847488.0                      499122176.0\n698            243269632.0                      461373440.0\n699            239075328.0                      490733568.0\n...                    ...                              ...\n1144           113246208.0                      486539264.0\n1145           109051904.0                      469762048.0\n1146           113246208.0                      469762048.0\n1147           130023424.0                      469762048.0\n1148           138412032.0                      444596224.0\n\n[454 rows x 2 columns]",
      "text/html": "<div>\n<style scoped>\n    .dataframe tbody tr th:only-of-type {\n        vertical-align: middle;\n    }\n\n    .dataframe tbody tr th {\n        vertical-align: top;\n    }\n\n    .dataframe thead th {\n        text-align: right;\n    }\n</style>\n<table border=\"1\" class=\"dataframe\">\n  <thead>\n    <tr style=\"text-align: right;\">\n      <th></th>\n      <th>receiver_write_bytes</th>\n      <th>receiver_remote_ost_write_bytes</th>\n    </tr>\n  </thead>\n  <tbody>\n    <tr>\n      <th>695</th>\n      <td>239075328.0</td>\n      <td>478150656.0</td>\n    </tr>\n    <tr>\n      <th>696</th>\n      <td>243269632.0</td>\n      <td>415236096.0</td>\n    </tr>\n    <tr>\n      <th>697</th>\n      <td>406847488.0</td>\n      <td>499122176.0</td>\n    </tr>\n    <tr>\n      <th>698</th>\n      <td>243269632.0</td>\n      <td>461373440.0</td>\n    </tr>\n    <tr>\n      <th>699</th>\n      <td>239075328.0</td>\n      <td>490733568.0</td>\n    </tr>\n    <tr>\n      <th>...</th>\n      <td>...</td>\n      <td>...</td>\n    </tr>\n    <tr>\n      <th>1144</th>\n      <td>113246208.0</td>\n      <td>486539264.0</td>\n    </tr>\n    <tr>\n      <th>1145</th>\n      <td>109051904.0</td>\n      <td>469762048.0</td>\n    </tr>\n    <tr>\n      <th>1146</th>\n      <td>113246208.0</td>\n      <td>469762048.0</td>\n    </tr>\n    <tr>\n      <th>1147</th>\n      <td>130023424.0</td>\n      <td>469762048.0</td>\n    </tr>\n    <tr>\n      <th>1148</th>\n      <td>138412032.0</td>\n      <td>444596224.0</td>\n    </tr>\n  </tbody>\n</table>\n<p>454 rows × 2 columns</p>\n</div>"
     },
     "execution_count": 299,
     "metadata": {},
     "output_type": "execute_result"
    }
   ],
   "source": [
    "df[df.label_value == 4][[\"receiver_write_bytes\", \"receiver_remote_ost_write_bytes\"]]"
   ],
   "metadata": {
    "collapsed": false
   }
  },
  {
   "cell_type": "markdown",
   "source": [
    "## Network loss anomaly"
   ],
   "metadata": {
    "collapsed": false
   }
  },
  {
   "cell_type": "code",
   "execution_count": 386,
   "outputs": [
    {
     "name": "stdout",
     "output_type": "stream",
     "text": [
      "wisconsin_ssd_merged\n",
      "Counter({13: 692, 43: 75, 37: 6}) \n",
      "\n",
      "utah_ssd_merged\n",
      "Counter({13: 692, 43: 75, 37: 6}) \n",
      "\n",
      "utah_ssd_delay_30ms_merged\n",
      "Counter({13: 643, 7: 20, 1: 4, 37: 4}) \n",
      "\n",
      "wisconsin_ssd_delay_10ms_merged\n",
      "Counter({13: 439, 1: 84, 4: 54, 10: 10, 7: 2, 33: 1}) \n",
      "\n",
      "utah_ssd_delay_10ms_merged\n",
      "Counter({13: 696, 7: 5}) \n",
      "\n"
     ]
    }
   ],
   "source": [
    "for k in data:\n",
    "    df = data[k].copy()\n",
    "    df = remove_labels_in_df(df, [17, 21, 25, 29])\n",
    "\n",
    "    network_loss_index = (df['sender_retrans'] * 100 / df['sender_seg_out'] > 0.05)\n",
    "    network_loss_index_2 = network_loss_index.shift(1)\n",
    "    network_loss_index_3 = network_loss_index.shift(2)\n",
    "\n",
    "    BDP = df['receiver_write_bytes'] * df['sender_avg_rtt_value'] / 500\n",
    "    buffer_size_index = df['sender_tcp_snd_buffer_max'] -  BDP < 0.5 * df['sender_tcp_snd_buffer_max']\n",
    "\n",
    "    # BDP = df['receiver_write_bytes'] * df['sender_avg_rtt_value'] / 500\n",
    "    print(k)\n",
    "    print(Counter(df[ network_loss_index & network_loss_index_2 & network_loss_index_3 & ~buffer_size_index]['label_value']), \"\\n\")\n",
    "    # print(Counter(df[ network_loss_index & network_loss_index_2 & network_loss_index_3 ]['label_value']), \"\\n\")\n",
    "    # print(Counter(df[ index ]['label_value']), \"\\n\")\n"
   ],
   "metadata": {
    "collapsed": false
   }
  },
  {
   "cell_type": "code",
   "execution_count": 370,
   "outputs": [
    {
     "name": "stdout",
     "output_type": "stream",
     "text": [
      "wisconsin_ssd_merged (694, 146)\n",
      "utah_ssd_merged (694, 146)\n",
      "utah_ssd_delay_30ms_merged (713, 146)\n",
      "wisconsin_ssd_delay_10ms_merged (690, 146)\n",
      "utah_ssd_delay_10ms_merged (704, 146)\n"
     ]
    }
   ],
   "source": [
    "for k in data:\n",
    "    df = data[k].copy()\n",
    "    df = remove_labels_in_df(df, [17, 21, 25, 29])\n",
    "    df_selected_label = df[(df.label_value > 12) & (df.label_value < 14)]\n",
    "    print(k, df_selected_label.shape)"
   ],
   "metadata": {
    "collapsed": false
   }
  },
  {
   "cell_type": "markdown",
   "source": [
    "## Sender buffer size anomaly"
   ],
   "metadata": {
    "collapsed": false
   }
  },
  {
   "cell_type": "code",
   "execution_count": 387,
   "outputs": [
    {
     "name": "stdout",
     "output_type": "stream",
     "text": [
      "wisconsin_ssd_merged\n",
      "Counter({37: 1009, 4: 11, 10: 1}) \n",
      "\n",
      "utah_ssd_merged\n",
      "Counter({37: 1009, 4: 11, 10: 1}) \n",
      "\n",
      "utah_ssd_delay_30ms_merged\n",
      "Counter({37: 1008}) \n",
      "\n",
      "wisconsin_ssd_delay_10ms_merged\n",
      "Counter({37: 836}) \n",
      "\n",
      "utah_ssd_delay_10ms_merged\n",
      "Counter({37: 858}) \n",
      "\n"
     ]
    }
   ],
   "source": [
    "for k in data:\n",
    "    df = data[k].copy()\n",
    "    df = remove_labels_in_df(df, [17, 21, 25, 29])\n",
    "\n",
    "    BDP = df['receiver_write_bytes'] * df['sender_avg_rtt_value'] / 500\n",
    "    index = df['sender_tcp_snd_buffer_max'] -  BDP < 0.5 * df['sender_tcp_snd_buffer_max']\n",
    "\n",
    "    # diff_from_normal_ost_write = normal_ave - df['receiver_remote_ost_write_bytes']  > (0.05 * normal_ave)\n",
    "    #\n",
    "    # diff_from_client_remote_ost_write_bytes = df['receiver_write_bytes'] <= 0.9 * df['receiver_remote_ost_write_bytes']\n",
    "    # diff_from_normal_osc_write = normal_ave - df['receiver_write_bytes'] <= (0.9 * normal_ave)\n",
    "    # print(Counter(df[diff_from_normal_osc_write]['label_value']))\n",
    "    # diff_from_normal_receiver_nic_send = df['receiver_nic_send_bytes'] > 1.1 * normal_ave_receiver_nic\n",
    "    # packet_loss = (df['sender_retrans'] * 100 / df['sender_seg_out'] > 0.05)\n",
    "    # index = ( )\n",
    "    print(k)\n",
    "    print(Counter(df[ index ]['label_value']), \"\\n\")\n",
    "    # print(Counter(df[ index ]['label_value']), \"\\n\")"
   ],
   "metadata": {
    "collapsed": false
   }
  },
  {
   "cell_type": "code",
   "execution_count": 372,
   "outputs": [
    {
     "name": "stdout",
     "output_type": "stream",
     "text": [
      "wisconsin_ssd_merged (1035, 146)\n",
      "utah_ssd_merged (1035, 146)\n",
      "utah_ssd_delay_30ms_merged (1054, 146)\n",
      "wisconsin_ssd_delay_10ms_merged (1046, 146)\n",
      "utah_ssd_delay_10ms_merged (1055, 146)\n"
     ]
    }
   ],
   "source": [
    "for k in data:\n",
    "    df = data[k].copy()\n",
    "    df = remove_labels_in_df(df, [17, 21, 25, 29])\n",
    "    df_selected_label = df[(df.label_value > 36) & (df.label_value < 38)]\n",
    "    print(k, df_selected_label.shape)"
   ],
   "metadata": {
    "collapsed": false
   }
  },
  {
   "cell_type": "markdown",
   "source": [
    "## Sender lustre NIC congestion anomaly"
   ],
   "metadata": {
    "collapsed": false
   }
  },
  {
   "cell_type": "code",
   "execution_count": 388,
   "outputs": [
    {
     "name": "stdout",
     "output_type": "stream",
     "text": [
      "wisconsin_ssd_merged\n",
      "Counter({7: 517}) \n",
      "\n",
      "utah_ssd_merged\n",
      "Counter({7: 517}) \n",
      "\n",
      "utah_ssd_delay_30ms_merged\n",
      "Counter({7: 581}) \n",
      "\n",
      "wisconsin_ssd_delay_10ms_merged\n",
      "Counter({7: 517, 43: 24, 37: 8, 10: 3, 4: 2, 0: 1}) \n",
      "\n",
      "utah_ssd_delay_10ms_merged\n",
      "Counter({7: 528}) \n",
      "\n"
     ]
    }
   ],
   "source": [
    "for k in data:\n",
    "    df = data[k].copy()\n",
    "    df = remove_labels_in_df(df, [17, 21, 25, 29])\n",
    "\n",
    "    # df[df.label_value == 0]['receiver_write_bytes']\n",
    "    normal_ave_sender_read_bytes = np.average(df[df.label_value == 0]['sender_read_bytes'])\n",
    "    normal_ave_sender_nic = np.average(df[df.label_value == 0]['sender_nic_receive_bytes'])\n",
    "\n",
    "    # diff_from_normal_osc_read = normal_ave - df['sender_read_bytes'] >= (0.1 * normal_ave)\n",
    "    diff_from_normal_osc_read = normal_ave_sender_read_bytes > 1.5 * df['sender_read_bytes']\n",
    "    diff_from_normal_sender_nic_receive = df['sender_nic_receive_bytes'] > 1.1 * normal_ave_sender_nic\n",
    "    # packet_loss = (df['sender_retrans'] * 100 / df['sender_seg_out'] < 0.05)\n",
    "    # diff_from_normal_osc_write = normal_ave - df['receiver_write_bytes'] <= (0.9 * normal_ave)\n",
    "    # normal_ave_receiver_write_bytes = np.average(df[df.label_value == 0]['receiver_write_bytes'])\n",
    "\n",
    "    # index = ( )\n",
    "    print(k)\n",
    "    print(Counter(df[diff_from_normal_osc_read & diff_from_normal_sender_nic_receive ]['label_value']), \"\\n\")\n",
    "\n",
    "# print(normal_ave_receiver_write_bytes, normal_ave_receiver_nic)\n"
   ],
   "metadata": {
    "collapsed": false
   }
  },
  {
   "cell_type": "code",
   "execution_count": 374,
   "outputs": [
    {
     "name": "stdout",
     "output_type": "stream",
     "text": [
      "wisconsin_ssd_merged (517, 146)\n",
      "utah_ssd_merged (517, 146)\n",
      "utah_ssd_delay_30ms_merged (581, 146)\n",
      "wisconsin_ssd_delay_10ms_merged (517, 146)\n",
      "utah_ssd_delay_10ms_merged (528, 146)\n"
     ]
    }
   ],
   "source": [
    "for k in data:\n",
    "    df = data[k].copy()\n",
    "    df = remove_labels_in_df(df, [17, 21, 25, 29])\n",
    "    df_selected_label = df[(df.label_value > 6) & (df.label_value < 8)]\n",
    "    print(k, df_selected_label.shape)"
   ],
   "metadata": {
    "collapsed": false
   }
  },
  {
   "cell_type": "markdown",
   "source": [
    "## Sender OST congestion anomaly"
   ],
   "metadata": {
    "collapsed": false
   }
  },
  {
   "cell_type": "code",
   "execution_count": 494,
   "outputs": [
    {
     "name": "stdout",
     "output_type": "stream",
     "text": [
      "wisconsin_ssd_merged\n",
      "Counter({1: 513, 4: 8, 37: 1}) \n",
      "\n",
      "wisconsin_hdd_merged\n",
      "Counter({1: 618, 4: 8, 0: 1, 7: 1}) \n",
      "\n",
      "wisconsin_hdd_ssd_merged\n",
      "Counter({1: 630, 4: 3, 37: 3, 0: 1, 43: 1}) \n",
      "\n",
      "wisconsin_ssd_delay_10ms_merged\n",
      "Counter({1: 280, 4: 2}) \n",
      "\n",
      "wisconsin_hdd_delay_10ms_merged\n",
      "Counter({1: 538, 4: 4}) \n",
      "\n",
      "utah_ssd_merged\n",
      "Counter({1: 514, 4: 8, 33: 1, 37: 1}) \n",
      "\n",
      "utah_ssd_delay_30ms_merged\n",
      "Counter({1: 486, 4: 4, 43: 1}) \n",
      "\n",
      "utah_ssd_delay_10ms_merged\n",
      "Counter({1: 503, 4: 5}) \n",
      "\n"
     ]
    }
   ],
   "source": [
    "for k in data:\n",
    "    df = data[k].copy()\n",
    "    df = remove_labels_in_df(df, [17, 21, 25, 29])\n",
    "\n",
    "    df[df.label_value == 0]['sender_remote_ost_read_bytes']\n",
    "    normal_ave_sender_remote_ost_read_bytes = np.average(df[df.label_value == 0]['sender_remote_ost_read_bytes'])\n",
    "    normal_ave_sender_nic = np.average(df[df.label_value == 0]['sender_nic_receive_bytes'])\n",
    "    normal_ave_receiver_nic = np.average(df[df.label_value == 0]['receiver_nic_send_bytes'])\n",
    "    normal_ave_sender_read_bytes = np.average(df[df.label_value == 0]['sender_read_bytes'])\n",
    "\n",
    "    diff_from_normal_ost_read = normal_ave_sender_remote_ost_read_bytes - df['sender_remote_ost_read_bytes']  <= (0.1 * normal_ave_sender_remote_ost_read_bytes)\n",
    "    diff_from_client_remote_ost_read_bytes = df['sender_read_bytes'] <= 0.8 * df['sender_remote_ost_read_bytes']\n",
    "\n",
    "    diff_from_normal_receiver_nic_send = df['receiver_nic_send_bytes'] > 0.8 * normal_ave_receiver_nic\n",
    "\n",
    "    # diff_from_normal_sender_nic_receive = df['sender_nic_receive_bytes'] > 1.1 * normal_ave_sender_nic\n",
    "    # diff_from_normal_osc_read = normal_ave_sender_read_bytes > 1.5 * df['sender_read_bytes']\n",
    "    packet_loss = (df['sender_retrans'] * 100 / df['sender_seg_out'] > 0.05)\n",
    "\n",
    "    # index = ( )\n",
    "    print(k)\n",
    "    print(Counter(df[diff_from_normal_ost_read & diff_from_client_remote_ost_read_bytes & ~packet_loss &~diff_from_normal_receiver_nic_send]['label_value']), \"\\n\")"
   ],
   "metadata": {
    "collapsed": false
   }
  },
  {
   "cell_type": "code",
   "execution_count": 473,
   "outputs": [
    {
     "data": {
      "text/plain": "176199247.85321102"
     },
     "execution_count": 473,
     "metadata": {},
     "output_type": "execute_result"
    }
   ],
   "source": [
    "df = data['wisconsin_hdd_delay_10ms_merged'].copy()\n",
    "# df = data['utah_ssd_delay_10ms_merged'].copy()\n",
    "df[df.label_value == 0][[\"receiver_write_bytes\", \"sender_avg_rtt_value\", \"through_put\", \"sender_remote_ost_read_bytes\"]]\n",
    "np.average(df[df.label_value==0]['sender_remote_ost_read_bytes'])\n",
    "# Counter(df[df.label_value==0]['receiver_tcp_rcv_buffer_max'])"
   ],
   "metadata": {
    "collapsed": false
   }
  },
  {
   "cell_type": "code",
   "execution_count": 477,
   "outputs": [
    {
     "data": {
      "text/plain": "56798131.86039454"
     },
     "execution_count": 477,
     "metadata": {},
     "output_type": "execute_result"
    }
   ],
   "source": [
    "# np.average(df[df.label_value==1]['sender_remote_ost_read_bytes'])\n",
    "np.average(df[df.label_value==1]['sender_read_bytes'])"
   ],
   "metadata": {
    "collapsed": false
   }
  },
  {
   "cell_type": "code",
   "execution_count": 471,
   "outputs": [
    {
     "name": "stdout",
     "output_type": "stream",
     "text": [
      "wisconsin_ssd_merged (520, 146)\n",
      "wisconsin_hdd_merged (660, 146)\n",
      "wisconsin_hdd_ssd_merged (658, 146)\n",
      "wisconsin_ssd_delay_10ms_merged (520, 146)\n",
      "wisconsin_hdd_delay_10ms_merged (659, 146)\n",
      "utah_ssd_merged (522, 146)\n",
      "utah_ssd_delay_30ms_merged (528, 146)\n",
      "utah_ssd_delay_10ms_merged (528, 146)\n"
     ]
    }
   ],
   "source": [
    "for k in data:\n",
    "    df = data[k].copy()\n",
    "    df = remove_labels_in_df(df, [17, 21, 25, 29])\n",
    "    df_selected_label = df[(df.label_value > 0) & (df.label_value < 2)]\n",
    "    print(k, df_selected_label.shape)"
   ],
   "metadata": {
    "collapsed": false
   }
  },
  {
   "cell_type": "code",
   "execution_count": null,
   "outputs": [],
   "source": [],
   "metadata": {
    "collapsed": false
   }
  },
  {
   "cell_type": "code",
   "execution_count": 138,
   "outputs": [
    {
     "name": "stdout",
     "output_type": "stream",
     "text": [
      "1.3188376742573926\n"
     ]
    }
   ],
   "source": [
    "df = data['wisconsin_hdd_merged'].copy()\n",
    "df[df.label_value == 0][['sender_nic_receive_bytes', 'through_put']]\n",
    "# print(np.average(df[df.label_value == 0][[ 'through_put']]))\n"
   ],
   "metadata": {
    "collapsed": false
   }
  },
  {
   "cell_type": "code",
   "execution_count": 141,
   "outputs": [
    {
     "name": "stdout",
     "output_type": "stream",
     "text": [
      "1.0847302875896492\n"
     ]
    }
   ],
   "source": [
    "df[df.label_value == 43][['sender_nic_receive_bytes', 'through_put']]\n",
    "print(np.average(df[df.label_value == 43][[ 'through_put']]))"
   ],
   "metadata": {
    "collapsed": false
   }
  },
  {
   "cell_type": "code",
   "execution_count": 147,
   "outputs": [
    {
     "name": "stdout",
     "output_type": "stream",
     "text": [
      "wisconsin_ssd_merged (520, 146)\n",
      "utah_ssd_merged (520, 146)\n",
      "wisconsin_hdd_merged (660, 146)\n",
      "wisconsin_hdd_ssd_merged (658, 146)\n",
      "utah_ssd_delay_merged (528, 146)\n"
     ]
    }
   ],
   "source": [
    "for k in data:\n",
    "    df = data[k].copy()\n",
    "    df = remove_labels_in_df(df, [17, 21, 25, 29])\n",
    "    df_selected_label = df[(df.label_value > 0) & (df.label_value < 2)]\n",
    "    print(k, df_selected_label.shape)"
   ],
   "metadata": {
    "collapsed": false
   }
  },
  {
   "cell_type": "code",
   "execution_count": 842,
   "outputs": [
    {
     "data": {
      "text/plain": "      sender_avg_rtt_value  sender_retrans  sender_seg_out  sender_cwnd_rate  \\\n1404                30.287             6.0          1234.0              32.0   \n1405                30.313            17.0          1196.0              31.0   \n1492                31.010             4.0          1544.0              55.0   \n1493                30.220            15.0          2862.0              56.0   \n1494                30.265            10.0          1677.0              41.0   \n1501                30.248             7.0          1207.0              32.0   \n1502                30.675             6.0          1154.0              30.0   \n1503                30.591            16.0           969.0              28.0   \n1504                30.289            24.0          1632.0              53.0   \n1539                30.118            10.0          2151.0              53.0   \n1634                30.226             4.0          1782.0              47.0   \n1656                30.102             7.0          1182.0              39.0   \n1657                30.243             1.0          1026.0              37.0   \n1658                30.131            17.0           921.0              33.0   \n1761                30.297             2.0          1231.0              46.0   \n1762                30.284            17.0           268.0              30.0   \n1772                30.178             7.0          1214.0              45.0   \n1773                30.126             2.0          1145.0              42.0   \n1774                30.724             7.0           978.0              36.0   \n1779                30.299             6.0          1499.0              94.0   \n1794                30.152            10.0          1045.0              40.0   \n1795                30.142            12.0           950.0              60.0   \n\n      label_value  \n1404            7  \n1405            7  \n1492            7  \n1493            7  \n1494            7  \n1501            7  \n1502            7  \n1503            7  \n1504            7  \n1539            7  \n1634            7  \n1656            7  \n1657            7  \n1658            7  \n1761            7  \n1762            7  \n1772            7  \n1773            7  \n1774            7  \n1779            7  \n1794            7  \n1795            7  ",
      "text/html": "<div>\n<style scoped>\n    .dataframe tbody tr th:only-of-type {\n        vertical-align: middle;\n    }\n\n    .dataframe tbody tr th {\n        vertical-align: top;\n    }\n\n    .dataframe thead th {\n        text-align: right;\n    }\n</style>\n<table border=\"1\" class=\"dataframe\">\n  <thead>\n    <tr style=\"text-align: right;\">\n      <th></th>\n      <th>sender_avg_rtt_value</th>\n      <th>sender_retrans</th>\n      <th>sender_seg_out</th>\n      <th>sender_cwnd_rate</th>\n      <th>label_value</th>\n    </tr>\n  </thead>\n  <tbody>\n    <tr>\n      <th>1404</th>\n      <td>30.287</td>\n      <td>6.0</td>\n      <td>1234.0</td>\n      <td>32.0</td>\n      <td>7</td>\n    </tr>\n    <tr>\n      <th>1405</th>\n      <td>30.313</td>\n      <td>17.0</td>\n      <td>1196.0</td>\n      <td>31.0</td>\n      <td>7</td>\n    </tr>\n    <tr>\n      <th>1492</th>\n      <td>31.010</td>\n      <td>4.0</td>\n      <td>1544.0</td>\n      <td>55.0</td>\n      <td>7</td>\n    </tr>\n    <tr>\n      <th>1493</th>\n      <td>30.220</td>\n      <td>15.0</td>\n      <td>2862.0</td>\n      <td>56.0</td>\n      <td>7</td>\n    </tr>\n    <tr>\n      <th>1494</th>\n      <td>30.265</td>\n      <td>10.0</td>\n      <td>1677.0</td>\n      <td>41.0</td>\n      <td>7</td>\n    </tr>\n    <tr>\n      <th>1501</th>\n      <td>30.248</td>\n      <td>7.0</td>\n      <td>1207.0</td>\n      <td>32.0</td>\n      <td>7</td>\n    </tr>\n    <tr>\n      <th>1502</th>\n      <td>30.675</td>\n      <td>6.0</td>\n      <td>1154.0</td>\n      <td>30.0</td>\n      <td>7</td>\n    </tr>\n    <tr>\n      <th>1503</th>\n      <td>30.591</td>\n      <td>16.0</td>\n      <td>969.0</td>\n      <td>28.0</td>\n      <td>7</td>\n    </tr>\n    <tr>\n      <th>1504</th>\n      <td>30.289</td>\n      <td>24.0</td>\n      <td>1632.0</td>\n      <td>53.0</td>\n      <td>7</td>\n    </tr>\n    <tr>\n      <th>1539</th>\n      <td>30.118</td>\n      <td>10.0</td>\n      <td>2151.0</td>\n      <td>53.0</td>\n      <td>7</td>\n    </tr>\n    <tr>\n      <th>1634</th>\n      <td>30.226</td>\n      <td>4.0</td>\n      <td>1782.0</td>\n      <td>47.0</td>\n      <td>7</td>\n    </tr>\n    <tr>\n      <th>1656</th>\n      <td>30.102</td>\n      <td>7.0</td>\n      <td>1182.0</td>\n      <td>39.0</td>\n      <td>7</td>\n    </tr>\n    <tr>\n      <th>1657</th>\n      <td>30.243</td>\n      <td>1.0</td>\n      <td>1026.0</td>\n      <td>37.0</td>\n      <td>7</td>\n    </tr>\n    <tr>\n      <th>1658</th>\n      <td>30.131</td>\n      <td>17.0</td>\n      <td>921.0</td>\n      <td>33.0</td>\n      <td>7</td>\n    </tr>\n    <tr>\n      <th>1761</th>\n      <td>30.297</td>\n      <td>2.0</td>\n      <td>1231.0</td>\n      <td>46.0</td>\n      <td>7</td>\n    </tr>\n    <tr>\n      <th>1762</th>\n      <td>30.284</td>\n      <td>17.0</td>\n      <td>268.0</td>\n      <td>30.0</td>\n      <td>7</td>\n    </tr>\n    <tr>\n      <th>1772</th>\n      <td>30.178</td>\n      <td>7.0</td>\n      <td>1214.0</td>\n      <td>45.0</td>\n      <td>7</td>\n    </tr>\n    <tr>\n      <th>1773</th>\n      <td>30.126</td>\n      <td>2.0</td>\n      <td>1145.0</td>\n      <td>42.0</td>\n      <td>7</td>\n    </tr>\n    <tr>\n      <th>1774</th>\n      <td>30.724</td>\n      <td>7.0</td>\n      <td>978.0</td>\n      <td>36.0</td>\n      <td>7</td>\n    </tr>\n    <tr>\n      <th>1779</th>\n      <td>30.299</td>\n      <td>6.0</td>\n      <td>1499.0</td>\n      <td>94.0</td>\n      <td>7</td>\n    </tr>\n    <tr>\n      <th>1794</th>\n      <td>30.152</td>\n      <td>10.0</td>\n      <td>1045.0</td>\n      <td>40.0</td>\n      <td>7</td>\n    </tr>\n    <tr>\n      <th>1795</th>\n      <td>30.142</td>\n      <td>12.0</td>\n      <td>950.0</td>\n      <td>60.0</td>\n      <td>7</td>\n    </tr>\n  </tbody>\n</table>\n</div>"
     },
     "execution_count": 842,
     "metadata": {},
     "output_type": "execute_result"
    }
   ],
   "source": [
    "df[index_2 & index & index_3 & index_4 & (df['label_value'] == 7)][['sender_avg_rtt_value', 'sender_retrans', 'sender_seg_out', 'sender_cwnd_rate', 'label_value']]"
   ],
   "metadata": {
    "collapsed": false
   }
  },
  {
   "cell_type": "code",
   "execution_count": 853,
   "outputs": [
    {
     "data": {
      "text/plain": "      sender_avg_rtt_value  sender_pacing_rate  sender_cwnd_rate  \\\n1182                30.462              4901.8            1043.0   \n1183                30.307              4927.0            1043.0   \n1184                30.326              4923.9            1043.0   \n1185                30.305              4927.3            1043.0   \n1186                30.196              1137.9             240.0   \n...                    ...                 ...               ...   \n1758                30.114               499.2             105.0   \n1759                30.246               222.5              47.0   \n1760                30.148               398.9              84.0   \n1761                30.277               463.4              98.0   \n1762                30.175               298.9              63.0   \n\n      sender_avg_retransmission_timeout_value  sender_byte_ack  \\\n1182                                    231.0        63.804531   \n1183                                    231.0        72.195469   \n1184                                    231.0        60.000000   \n1185                                    231.0        56.000000   \n1186                                    231.0        12.000000   \n...                                       ...              ...   \n1758                                    231.0         5.474621   \n1759                                    231.0         4.737469   \n1760                                    231.0        14.583714   \n1761                                    231.0        24.977489   \n1762                                    231.0        14.848251   \n\n      sender_seg_out  sender_retrans  sender_ssthresh_value  sender_segs_in  \\\n1182          6567.0             0.0                 1018.0           180.0   \n1183          9382.0             0.0                 1018.0           230.0   \n1184          7106.0            68.0                 1018.0           309.0   \n1185          6567.0             0.0                 1018.0           217.0   \n1186          1407.0             0.0                  212.0           111.0   \n...              ...             ...                    ...             ...   \n1758           544.0             0.0                   64.0           118.0   \n1759           505.0             0.0                   75.0            88.0   \n1760          1798.0             5.0                   74.0           284.0   \n1761          2941.0             0.0                   74.0           507.0   \n1762          1706.0             0.0                   31.0           396.0   \n\n      sender_avg_send_value  ...  receiver_system_cpu_percent  \\\n1182                 2451.0  ...                          0.4   \n1183                 2463.5  ...                          0.5   \n1184                 2462.0  ...                          0.4   \n1185                 2463.7  ...                          0.4   \n1186                  569.0  ...                          0.2   \n...                     ...  ...                          ...   \n1758                  249.6  ...                          0.3   \n1759                  111.2  ...                          0.3   \n1760                  199.5  ...                          0.2   \n1761                  231.7  ...                          0.2   \n1762                  149.5  ...                          0.3   \n\n      receiver_system_memory_percent  receiver_nic_send_bytes  \\\n1182                             4.2                 65843464   \n1183                             4.2                 87730860   \n1184                             4.2                 70187118   \n1185                             4.2                 48254844   \n1186                             4.2                 13161648   \n...                              ...                      ...   \n1758                             4.2                 17548122   \n1759                             4.2                 26322258   \n1760                             4.2                 13161780   \n1761                             4.2                  8774514   \n1762                             4.2                 17548452   \n\n      receiver_nic_receive_bytes  receiver_remote_ost_read_bytes  \\\n1182                       54796                             0.0   \n1183                       61670                             0.0   \n1184                       57048                             0.0   \n1185                       47898                             0.0   \n1186                       15574                             0.0   \n...                          ...                             ...   \n1758                       14652                             0.0   \n1759                       22840                             0.0   \n1760                       10756                             0.0   \n1761                        8576                             0.0   \n1762                       15362                             0.0   \n\n      receiver_remote_ost_write_bytes  receiver_dtn_lustre_read_bytes  \\\n1182                       62910360.0                             0.0   \n1183                       83879036.0                             0.0   \n1184                       67106344.0                             0.0   \n1185                       46136504.0                             0.0   \n1186                       16777216.0                             0.0   \n...                               ...                             ...   \n1758                       16777216.0                             0.0   \n1759                       29360128.0                             0.0   \n1760                       12582912.0                             0.0   \n1761                        8388608.0                             0.0   \n1762                       12582912.0                             0.0   \n\n      receiver_dtn_lustre_write_bytes  through_put  label_value  \n1182                       83883236.0     0.437500            7  \n1183                       62920360.0     0.468750            7  \n1184                       50325008.0     0.625006            7  \n1185                       62914560.0     0.406244            7  \n1186                       16777216.0     0.093750            7  \n...                               ...          ...          ...  \n1758                       18813584.0     0.107172            7  \n1759                       13180404.0     0.096212            7  \n1760                       20111956.0     0.062068            7  \n1761                        9248172.0     0.185470            7  \n1762                       23613772.0     0.104868            7  \n\n[581 rows x 146 columns]",
      "text/html": "<div>\n<style scoped>\n    .dataframe tbody tr th:only-of-type {\n        vertical-align: middle;\n    }\n\n    .dataframe tbody tr th {\n        vertical-align: top;\n    }\n\n    .dataframe thead th {\n        text-align: right;\n    }\n</style>\n<table border=\"1\" class=\"dataframe\">\n  <thead>\n    <tr style=\"text-align: right;\">\n      <th></th>\n      <th>sender_avg_rtt_value</th>\n      <th>sender_pacing_rate</th>\n      <th>sender_cwnd_rate</th>\n      <th>sender_avg_retransmission_timeout_value</th>\n      <th>sender_byte_ack</th>\n      <th>sender_seg_out</th>\n      <th>sender_retrans</th>\n      <th>sender_ssthresh_value</th>\n      <th>sender_segs_in</th>\n      <th>sender_avg_send_value</th>\n      <th>...</th>\n      <th>receiver_system_cpu_percent</th>\n      <th>receiver_system_memory_percent</th>\n      <th>receiver_nic_send_bytes</th>\n      <th>receiver_nic_receive_bytes</th>\n      <th>receiver_remote_ost_read_bytes</th>\n      <th>receiver_remote_ost_write_bytes</th>\n      <th>receiver_dtn_lustre_read_bytes</th>\n      <th>receiver_dtn_lustre_write_bytes</th>\n      <th>through_put</th>\n      <th>label_value</th>\n    </tr>\n  </thead>\n  <tbody>\n    <tr>\n      <th>1182</th>\n      <td>30.462</td>\n      <td>4901.8</td>\n      <td>1043.0</td>\n      <td>231.0</td>\n      <td>63.804531</td>\n      <td>6567.0</td>\n      <td>0.0</td>\n      <td>1018.0</td>\n      <td>180.0</td>\n      <td>2451.0</td>\n      <td>...</td>\n      <td>0.4</td>\n      <td>4.2</td>\n      <td>65843464</td>\n      <td>54796</td>\n      <td>0.0</td>\n      <td>62910360.0</td>\n      <td>0.0</td>\n      <td>83883236.0</td>\n      <td>0.437500</td>\n      <td>7</td>\n    </tr>\n    <tr>\n      <th>1183</th>\n      <td>30.307</td>\n      <td>4927.0</td>\n      <td>1043.0</td>\n      <td>231.0</td>\n      <td>72.195469</td>\n      <td>9382.0</td>\n      <td>0.0</td>\n      <td>1018.0</td>\n      <td>230.0</td>\n      <td>2463.5</td>\n      <td>...</td>\n      <td>0.5</td>\n      <td>4.2</td>\n      <td>87730860</td>\n      <td>61670</td>\n      <td>0.0</td>\n      <td>83879036.0</td>\n      <td>0.0</td>\n      <td>62920360.0</td>\n      <td>0.468750</td>\n      <td>7</td>\n    </tr>\n    <tr>\n      <th>1184</th>\n      <td>30.326</td>\n      <td>4923.9</td>\n      <td>1043.0</td>\n      <td>231.0</td>\n      <td>60.000000</td>\n      <td>7106.0</td>\n      <td>68.0</td>\n      <td>1018.0</td>\n      <td>309.0</td>\n      <td>2462.0</td>\n      <td>...</td>\n      <td>0.4</td>\n      <td>4.2</td>\n      <td>70187118</td>\n      <td>57048</td>\n      <td>0.0</td>\n      <td>67106344.0</td>\n      <td>0.0</td>\n      <td>50325008.0</td>\n      <td>0.625006</td>\n      <td>7</td>\n    </tr>\n    <tr>\n      <th>1185</th>\n      <td>30.305</td>\n      <td>4927.3</td>\n      <td>1043.0</td>\n      <td>231.0</td>\n      <td>56.000000</td>\n      <td>6567.0</td>\n      <td>0.0</td>\n      <td>1018.0</td>\n      <td>217.0</td>\n      <td>2463.7</td>\n      <td>...</td>\n      <td>0.4</td>\n      <td>4.2</td>\n      <td>48254844</td>\n      <td>47898</td>\n      <td>0.0</td>\n      <td>46136504.0</td>\n      <td>0.0</td>\n      <td>62914560.0</td>\n      <td>0.406244</td>\n      <td>7</td>\n    </tr>\n    <tr>\n      <th>1186</th>\n      <td>30.196</td>\n      <td>1137.9</td>\n      <td>240.0</td>\n      <td>231.0</td>\n      <td>12.000000</td>\n      <td>1407.0</td>\n      <td>0.0</td>\n      <td>212.0</td>\n      <td>111.0</td>\n      <td>569.0</td>\n      <td>...</td>\n      <td>0.2</td>\n      <td>4.2</td>\n      <td>13161648</td>\n      <td>15574</td>\n      <td>0.0</td>\n      <td>16777216.0</td>\n      <td>0.0</td>\n      <td>16777216.0</td>\n      <td>0.093750</td>\n      <td>7</td>\n    </tr>\n    <tr>\n      <th>...</th>\n      <td>...</td>\n      <td>...</td>\n      <td>...</td>\n      <td>...</td>\n      <td>...</td>\n      <td>...</td>\n      <td>...</td>\n      <td>...</td>\n      <td>...</td>\n      <td>...</td>\n      <td>...</td>\n      <td>...</td>\n      <td>...</td>\n      <td>...</td>\n      <td>...</td>\n      <td>...</td>\n      <td>...</td>\n      <td>...</td>\n      <td>...</td>\n      <td>...</td>\n      <td>...</td>\n    </tr>\n    <tr>\n      <th>1758</th>\n      <td>30.114</td>\n      <td>499.2</td>\n      <td>105.0</td>\n      <td>231.0</td>\n      <td>5.474621</td>\n      <td>544.0</td>\n      <td>0.0</td>\n      <td>64.0</td>\n      <td>118.0</td>\n      <td>249.6</td>\n      <td>...</td>\n      <td>0.3</td>\n      <td>4.2</td>\n      <td>17548122</td>\n      <td>14652</td>\n      <td>0.0</td>\n      <td>16777216.0</td>\n      <td>0.0</td>\n      <td>18813584.0</td>\n      <td>0.107172</td>\n      <td>7</td>\n    </tr>\n    <tr>\n      <th>1759</th>\n      <td>30.246</td>\n      <td>222.5</td>\n      <td>47.0</td>\n      <td>231.0</td>\n      <td>4.737469</td>\n      <td>505.0</td>\n      <td>0.0</td>\n      <td>75.0</td>\n      <td>88.0</td>\n      <td>111.2</td>\n      <td>...</td>\n      <td>0.3</td>\n      <td>4.2</td>\n      <td>26322258</td>\n      <td>22840</td>\n      <td>0.0</td>\n      <td>29360128.0</td>\n      <td>0.0</td>\n      <td>13180404.0</td>\n      <td>0.096212</td>\n      <td>7</td>\n    </tr>\n    <tr>\n      <th>1760</th>\n      <td>30.148</td>\n      <td>398.9</td>\n      <td>84.0</td>\n      <td>231.0</td>\n      <td>14.583714</td>\n      <td>1798.0</td>\n      <td>5.0</td>\n      <td>74.0</td>\n      <td>284.0</td>\n      <td>199.5</td>\n      <td>...</td>\n      <td>0.2</td>\n      <td>4.2</td>\n      <td>13161780</td>\n      <td>10756</td>\n      <td>0.0</td>\n      <td>12582912.0</td>\n      <td>0.0</td>\n      <td>20111956.0</td>\n      <td>0.062068</td>\n      <td>7</td>\n    </tr>\n    <tr>\n      <th>1761</th>\n      <td>30.277</td>\n      <td>463.4</td>\n      <td>98.0</td>\n      <td>231.0</td>\n      <td>24.977489</td>\n      <td>2941.0</td>\n      <td>0.0</td>\n      <td>74.0</td>\n      <td>507.0</td>\n      <td>231.7</td>\n      <td>...</td>\n      <td>0.2</td>\n      <td>4.2</td>\n      <td>8774514</td>\n      <td>8576</td>\n      <td>0.0</td>\n      <td>8388608.0</td>\n      <td>0.0</td>\n      <td>9248172.0</td>\n      <td>0.185470</td>\n      <td>7</td>\n    </tr>\n    <tr>\n      <th>1762</th>\n      <td>30.175</td>\n      <td>298.9</td>\n      <td>63.0</td>\n      <td>231.0</td>\n      <td>14.848251</td>\n      <td>1706.0</td>\n      <td>0.0</td>\n      <td>31.0</td>\n      <td>396.0</td>\n      <td>149.5</td>\n      <td>...</td>\n      <td>0.3</td>\n      <td>4.2</td>\n      <td>17548452</td>\n      <td>15362</td>\n      <td>0.0</td>\n      <td>12582912.0</td>\n      <td>0.0</td>\n      <td>23613772.0</td>\n      <td>0.104868</td>\n      <td>7</td>\n    </tr>\n  </tbody>\n</table>\n<p>581 rows × 146 columns</p>\n</div>"
     },
     "execution_count": 853,
     "metadata": {},
     "output_type": "execute_result"
    }
   ],
   "source": [
    "sender_lustre_nic_cogestions = df[(df.label_value > 6) & (df.label_value < 8)]\n",
    "sender_lustre_nic_cogestions"
   ],
   "metadata": {
    "collapsed": false
   }
  },
  {
   "cell_type": "code",
   "execution_count": 807,
   "outputs": [
    {
     "data": {
      "text/plain": "      sender_avg_rtt_value  sender_pacing_rate  sender_cwnd_rate  \\\n2574                30.205                85.3              18.0   \n2575                30.477                70.5              15.0   \n2576                30.138                57.0              12.0   \n2577                30.152                71.2              15.0   \n2578                30.200                47.4              10.0   \n...                    ...                 ...               ...   \n3282                30.162               104.4              22.0   \n3283                30.457                79.9              17.0   \n3284                31.209                64.2              14.0   \n3285                30.128               118.8              16.0   \n3286                30.334                70.8              15.0   \n\n      sender_avg_retransmission_timeout_value  sender_byte_ack  \\\n2574                                    231.0         4.736080   \n2575                                    231.0         4.121670   \n2576                                    231.0         2.807514   \n2577                                    231.0         3.114719   \n2578                                    231.0         3.951000   \n...                                       ...              ...   \n3282                                    231.0         4.471542   \n3283                                    231.0         4.335007   \n3284                                    232.0         4.616611   \n3285                                    231.0         4.787281   \n3286                                    231.0         3.635262   \n\n      sender_seg_out  sender_retrans  sender_ssthresh_value  sender_segs_in  \\\n2574           561.0             3.0                   16.0           102.0   \n2575           488.0             3.0                   14.0           100.0   \n2576           335.0             8.0                   10.0            70.0   \n2577           373.0             4.0                    9.0            83.0   \n2578           444.0             6.0                    9.0           111.0   \n...              ...             ...                    ...             ...   \n3282           532.0             4.0                   11.0           101.0   \n3283           515.0             4.0                   14.0            85.0   \n3284           540.0             8.0                   12.0           103.0   \n3285           579.0             3.0                   16.0           137.0   \n3286           433.0             6.0                    9.0           102.0   \n\n      sender_avg_send_value  ...  receiver_system_cpu_percent  \\\n2574                   42.7  ...                          0.2   \n2575                   35.2  ...                          0.2   \n2576                   28.5  ...                          0.2   \n2577                   35.6  ...                          0.2   \n2578                   23.7  ...                          0.2   \n...                     ...  ...                          ...   \n3282                   52.2  ...                          0.2   \n3283                   40.0  ...                          0.2   \n3284                   32.1  ...                          0.2   \n3285                   38.0  ...                          0.2   \n3286                   35.4  ...                          0.2   \n\n      receiver_system_memory_percent  receiver_nic_send_bytes  \\\n2574                             4.1                  4387602   \n2575                             4.1                  4387710   \n2576                             4.1                     1062   \n2577                             4.1                  4387710   \n2578                             4.1                  4387578   \n...                              ...                      ...   \n3282                             4.1                  4387842   \n3283                             4.1                  4387734   \n3284                             4.1                  4387512   \n3285                             4.1                  4387512   \n3286                             4.1                  4387512   \n\n      receiver_nic_receive_bytes  receiver_remote_ost_read_bytes  \\\n2574                        6025                             0.0   \n2575                        6001                             0.0   \n2576                        1511                             0.0   \n2577                        6001                             0.0   \n2578                        6001                             0.0   \n...                          ...                             ...   \n3282                        6661                             0.0   \n3283                        5869                             0.0   \n3284                        6133                             0.0   \n3285                        6067                             0.0   \n3286                        5737                             0.0   \n\n      receiver_remote_ost_write_bytes  receiver_dtn_lustre_read_bytes  \\\n2574                        4194304.0                             0.0   \n2575                        4194304.0                             0.0   \n2576                        4194304.0                             0.0   \n2577                        4194304.0                             0.0   \n2578                        4194304.0                             0.0   \n...                               ...                             ...   \n3282                        4194304.0                             0.0   \n3283                        4194304.0                             0.0   \n3284                        4194304.0                             0.0   \n3285                        4194304.0                             0.0   \n3286                        4194304.0                             0.0   \n\n      receiver_dtn_lustre_write_bytes  through_put  label_value  \n2574                        3677628.0     0.035601           13  \n2575                        2917048.0     0.028800           13  \n2576                        3749212.0     0.022067           13  \n2577                        4674004.0     0.026734           13  \n2578                        3871336.0     0.033601           13  \n...                               ...          ...          ...  \n3282                        5341956.0     0.034134           13  \n3283                        4787180.0     0.032134           13  \n3284                        3793952.0     0.040334           13  \n3285                        4500844.0     0.032867           13  \n3286                        5354052.0     0.031401           13  \n\n[713 rows x 146 columns]",
      "text/html": "<div>\n<style scoped>\n    .dataframe tbody tr th:only-of-type {\n        vertical-align: middle;\n    }\n\n    .dataframe tbody tr th {\n        vertical-align: top;\n    }\n\n    .dataframe thead th {\n        text-align: right;\n    }\n</style>\n<table border=\"1\" class=\"dataframe\">\n  <thead>\n    <tr style=\"text-align: right;\">\n      <th></th>\n      <th>sender_avg_rtt_value</th>\n      <th>sender_pacing_rate</th>\n      <th>sender_cwnd_rate</th>\n      <th>sender_avg_retransmission_timeout_value</th>\n      <th>sender_byte_ack</th>\n      <th>sender_seg_out</th>\n      <th>sender_retrans</th>\n      <th>sender_ssthresh_value</th>\n      <th>sender_segs_in</th>\n      <th>sender_avg_send_value</th>\n      <th>...</th>\n      <th>receiver_system_cpu_percent</th>\n      <th>receiver_system_memory_percent</th>\n      <th>receiver_nic_send_bytes</th>\n      <th>receiver_nic_receive_bytes</th>\n      <th>receiver_remote_ost_read_bytes</th>\n      <th>receiver_remote_ost_write_bytes</th>\n      <th>receiver_dtn_lustre_read_bytes</th>\n      <th>receiver_dtn_lustre_write_bytes</th>\n      <th>through_put</th>\n      <th>label_value</th>\n    </tr>\n  </thead>\n  <tbody>\n    <tr>\n      <th>2574</th>\n      <td>30.205</td>\n      <td>85.3</td>\n      <td>18.0</td>\n      <td>231.0</td>\n      <td>4.736080</td>\n      <td>561.0</td>\n      <td>3.0</td>\n      <td>16.0</td>\n      <td>102.0</td>\n      <td>42.7</td>\n      <td>...</td>\n      <td>0.2</td>\n      <td>4.1</td>\n      <td>4387602</td>\n      <td>6025</td>\n      <td>0.0</td>\n      <td>4194304.0</td>\n      <td>0.0</td>\n      <td>3677628.0</td>\n      <td>0.035601</td>\n      <td>13</td>\n    </tr>\n    <tr>\n      <th>2575</th>\n      <td>30.477</td>\n      <td>70.5</td>\n      <td>15.0</td>\n      <td>231.0</td>\n      <td>4.121670</td>\n      <td>488.0</td>\n      <td>3.0</td>\n      <td>14.0</td>\n      <td>100.0</td>\n      <td>35.2</td>\n      <td>...</td>\n      <td>0.2</td>\n      <td>4.1</td>\n      <td>4387710</td>\n      <td>6001</td>\n      <td>0.0</td>\n      <td>4194304.0</td>\n      <td>0.0</td>\n      <td>2917048.0</td>\n      <td>0.028800</td>\n      <td>13</td>\n    </tr>\n    <tr>\n      <th>2576</th>\n      <td>30.138</td>\n      <td>57.0</td>\n      <td>12.0</td>\n      <td>231.0</td>\n      <td>2.807514</td>\n      <td>335.0</td>\n      <td>8.0</td>\n      <td>10.0</td>\n      <td>70.0</td>\n      <td>28.5</td>\n      <td>...</td>\n      <td>0.2</td>\n      <td>4.1</td>\n      <td>1062</td>\n      <td>1511</td>\n      <td>0.0</td>\n      <td>4194304.0</td>\n      <td>0.0</td>\n      <td>3749212.0</td>\n      <td>0.022067</td>\n      <td>13</td>\n    </tr>\n    <tr>\n      <th>2577</th>\n      <td>30.152</td>\n      <td>71.2</td>\n      <td>15.0</td>\n      <td>231.0</td>\n      <td>3.114719</td>\n      <td>373.0</td>\n      <td>4.0</td>\n      <td>9.0</td>\n      <td>83.0</td>\n      <td>35.6</td>\n      <td>...</td>\n      <td>0.2</td>\n      <td>4.1</td>\n      <td>4387710</td>\n      <td>6001</td>\n      <td>0.0</td>\n      <td>4194304.0</td>\n      <td>0.0</td>\n      <td>4674004.0</td>\n      <td>0.026734</td>\n      <td>13</td>\n    </tr>\n    <tr>\n      <th>2578</th>\n      <td>30.200</td>\n      <td>47.4</td>\n      <td>10.0</td>\n      <td>231.0</td>\n      <td>3.951000</td>\n      <td>444.0</td>\n      <td>6.0</td>\n      <td>9.0</td>\n      <td>111.0</td>\n      <td>23.7</td>\n      <td>...</td>\n      <td>0.2</td>\n      <td>4.1</td>\n      <td>4387578</td>\n      <td>6001</td>\n      <td>0.0</td>\n      <td>4194304.0</td>\n      <td>0.0</td>\n      <td>3871336.0</td>\n      <td>0.033601</td>\n      <td>13</td>\n    </tr>\n    <tr>\n      <th>...</th>\n      <td>...</td>\n      <td>...</td>\n      <td>...</td>\n      <td>...</td>\n      <td>...</td>\n      <td>...</td>\n      <td>...</td>\n      <td>...</td>\n      <td>...</td>\n      <td>...</td>\n      <td>...</td>\n      <td>...</td>\n      <td>...</td>\n      <td>...</td>\n      <td>...</td>\n      <td>...</td>\n      <td>...</td>\n      <td>...</td>\n      <td>...</td>\n      <td>...</td>\n      <td>...</td>\n    </tr>\n    <tr>\n      <th>3282</th>\n      <td>30.162</td>\n      <td>104.4</td>\n      <td>22.0</td>\n      <td>231.0</td>\n      <td>4.471542</td>\n      <td>532.0</td>\n      <td>4.0</td>\n      <td>11.0</td>\n      <td>101.0</td>\n      <td>52.2</td>\n      <td>...</td>\n      <td>0.2</td>\n      <td>4.1</td>\n      <td>4387842</td>\n      <td>6661</td>\n      <td>0.0</td>\n      <td>4194304.0</td>\n      <td>0.0</td>\n      <td>5341956.0</td>\n      <td>0.034134</td>\n      <td>13</td>\n    </tr>\n    <tr>\n      <th>3283</th>\n      <td>30.457</td>\n      <td>79.9</td>\n      <td>17.0</td>\n      <td>231.0</td>\n      <td>4.335007</td>\n      <td>515.0</td>\n      <td>4.0</td>\n      <td>14.0</td>\n      <td>85.0</td>\n      <td>40.0</td>\n      <td>...</td>\n      <td>0.2</td>\n      <td>4.1</td>\n      <td>4387734</td>\n      <td>5869</td>\n      <td>0.0</td>\n      <td>4194304.0</td>\n      <td>0.0</td>\n      <td>4787180.0</td>\n      <td>0.032134</td>\n      <td>13</td>\n    </tr>\n    <tr>\n      <th>3284</th>\n      <td>31.209</td>\n      <td>64.2</td>\n      <td>14.0</td>\n      <td>232.0</td>\n      <td>4.616611</td>\n      <td>540.0</td>\n      <td>8.0</td>\n      <td>12.0</td>\n      <td>103.0</td>\n      <td>32.1</td>\n      <td>...</td>\n      <td>0.2</td>\n      <td>4.1</td>\n      <td>4387512</td>\n      <td>6133</td>\n      <td>0.0</td>\n      <td>4194304.0</td>\n      <td>0.0</td>\n      <td>3793952.0</td>\n      <td>0.040334</td>\n      <td>13</td>\n    </tr>\n    <tr>\n      <th>3285</th>\n      <td>30.128</td>\n      <td>118.8</td>\n      <td>16.0</td>\n      <td>231.0</td>\n      <td>4.787281</td>\n      <td>579.0</td>\n      <td>3.0</td>\n      <td>16.0</td>\n      <td>137.0</td>\n      <td>38.0</td>\n      <td>...</td>\n      <td>0.2</td>\n      <td>4.1</td>\n      <td>4387512</td>\n      <td>6067</td>\n      <td>0.0</td>\n      <td>4194304.0</td>\n      <td>0.0</td>\n      <td>4500844.0</td>\n      <td>0.032867</td>\n      <td>13</td>\n    </tr>\n    <tr>\n      <th>3286</th>\n      <td>30.334</td>\n      <td>70.8</td>\n      <td>15.0</td>\n      <td>231.0</td>\n      <td>3.635262</td>\n      <td>433.0</td>\n      <td>6.0</td>\n      <td>9.0</td>\n      <td>102.0</td>\n      <td>35.4</td>\n      <td>...</td>\n      <td>0.2</td>\n      <td>4.1</td>\n      <td>4387512</td>\n      <td>5737</td>\n      <td>0.0</td>\n      <td>4194304.0</td>\n      <td>0.0</td>\n      <td>5354052.0</td>\n      <td>0.031401</td>\n      <td>13</td>\n    </tr>\n  </tbody>\n</table>\n<p>713 rows × 146 columns</p>\n</div>"
     },
     "execution_count": 807,
     "metadata": {},
     "output_type": "execute_result"
    }
   ],
   "source": [
    "sender_lustre_nic_cogestions = df[(df.label_value > 12) & (df.label_value < 14)]\n",
    "sender_lustre_nic_cogestions"
   ],
   "metadata": {
    "collapsed": false
   }
  },
  {
   "cell_type": "code",
   "execution_count": 740,
   "outputs": [
    {
     "name": "stdout",
     "output_type": "stream",
     "text": [
      "0.07710734934568514\n"
     ]
    }
   ],
   "source": [
    "sender_lustre_nic_cogestions['sender_retrans'] * 100 /sender_lustre_nic_cogestions['sender_seg_out']\n",
    "print(np.min(sender_lustre_nic_cogestions['sender_retrans'] * 100 /sender_lustre_nic_cogestions['sender_seg_out']))"
   ],
   "metadata": {
    "collapsed": false
   }
  },
  {
   "cell_type": "code",
   "execution_count": 734,
   "outputs": [
    {
     "data": {
      "text/plain": "     sender_avg_rtt_value  sender_retrans  sender_seg_out  sender_cwnd_rate\n173                 0.466             0.0        176902.0             435.0\n174                 0.467             0.0        176858.0             423.0\n175                 0.309             0.0        176839.0             415.0\n176                 0.281             0.0        179796.0             401.0\n177                 0.477             0.0        177212.0             393.0\n..                    ...             ...             ...               ...\n688                 0.300             0.0         98715.0             348.0\n689                 0.362             0.0         93307.0             342.0\n690                 0.332             0.0        112700.0             318.0\n691                 0.453             0.0         98692.0             378.0\n692                 0.355             0.0         92536.0             370.0\n\n[520 rows x 4 columns]",
      "text/html": "<div>\n<style scoped>\n    .dataframe tbody tr th:only-of-type {\n        vertical-align: middle;\n    }\n\n    .dataframe tbody tr th {\n        vertical-align: top;\n    }\n\n    .dataframe thead th {\n        text-align: right;\n    }\n</style>\n<table border=\"1\" class=\"dataframe\">\n  <thead>\n    <tr style=\"text-align: right;\">\n      <th></th>\n      <th>sender_avg_rtt_value</th>\n      <th>sender_retrans</th>\n      <th>sender_seg_out</th>\n      <th>sender_cwnd_rate</th>\n    </tr>\n  </thead>\n  <tbody>\n    <tr>\n      <th>173</th>\n      <td>0.466</td>\n      <td>0.0</td>\n      <td>176902.0</td>\n      <td>435.0</td>\n    </tr>\n    <tr>\n      <th>174</th>\n      <td>0.467</td>\n      <td>0.0</td>\n      <td>176858.0</td>\n      <td>423.0</td>\n    </tr>\n    <tr>\n      <th>175</th>\n      <td>0.309</td>\n      <td>0.0</td>\n      <td>176839.0</td>\n      <td>415.0</td>\n    </tr>\n    <tr>\n      <th>176</th>\n      <td>0.281</td>\n      <td>0.0</td>\n      <td>179796.0</td>\n      <td>401.0</td>\n    </tr>\n    <tr>\n      <th>177</th>\n      <td>0.477</td>\n      <td>0.0</td>\n      <td>177212.0</td>\n      <td>393.0</td>\n    </tr>\n    <tr>\n      <th>...</th>\n      <td>...</td>\n      <td>...</td>\n      <td>...</td>\n      <td>...</td>\n    </tr>\n    <tr>\n      <th>688</th>\n      <td>0.300</td>\n      <td>0.0</td>\n      <td>98715.0</td>\n      <td>348.0</td>\n    </tr>\n    <tr>\n      <th>689</th>\n      <td>0.362</td>\n      <td>0.0</td>\n      <td>93307.0</td>\n      <td>342.0</td>\n    </tr>\n    <tr>\n      <th>690</th>\n      <td>0.332</td>\n      <td>0.0</td>\n      <td>112700.0</td>\n      <td>318.0</td>\n    </tr>\n    <tr>\n      <th>691</th>\n      <td>0.453</td>\n      <td>0.0</td>\n      <td>98692.0</td>\n      <td>378.0</td>\n    </tr>\n    <tr>\n      <th>692</th>\n      <td>0.355</td>\n      <td>0.0</td>\n      <td>92536.0</td>\n      <td>370.0</td>\n    </tr>\n  </tbody>\n</table>\n<p>520 rows × 4 columns</p>\n</div>"
     },
     "execution_count": 734,
     "metadata": {},
     "output_type": "execute_result"
    }
   ],
   "source": [
    "# sender_lustre_nic_cogestions = df[(df.label_value > 32) & (df.label_value < 37)]\n",
    "sender_lustre_nic_cogestions = df[(df.label_value > 0) & (df.label_value < 4)]\n",
    "sender_lustre_nic_cogestions[['sender_avg_rtt_value', 'sender_retrans', 'sender_seg_out', 'sender_cwnd_rate']]"
   ],
   "metadata": {
    "collapsed": false
   }
  },
  {
   "cell_type": "code",
   "execution_count": 721,
   "outputs": [
    {
     "data": {
      "text/plain": "0.3260813953488372"
     },
     "execution_count": 721,
     "metadata": {},
     "output_type": "execute_result"
    }
   ],
   "source": [
    "sender_lustre_nic_cogestions = df[(df.label_value > 36) & (df.label_value < 38)]\n",
    "np.average(sender_lustre_nic_cogestions['sender_avg_rtt_value'])"
   ],
   "metadata": {
    "collapsed": false
   }
  },
  {
   "cell_type": "code",
   "execution_count": 719,
   "outputs": [
    {
     "data": {
      "text/plain": "6334    331987.550208\n6335    444596.224000\n6336    305815.093248\n6337    272168.386560\n6338    315730.427904\n            ...      \n7364    101531.259808\n7365     59868.289728\n7366     81317.742768\n7367     80429.141040\n7368     80370.408976\nLength: 1035, dtype: float64"
     },
     "execution_count": 719,
     "metadata": {},
     "output_type": "execute_result"
    }
   ],
   "source": [
    "sender_lustre_nic_cogestions['receiver_write_bytes'] *  sender_lustre_nic_cogestions['sender_avg_rtt_value'] * 2 / 1000"
   ],
   "metadata": {
    "collapsed": false
   }
  },
  {
   "cell_type": "code",
   "execution_count": 722,
   "outputs": [
    {
     "name": "stdout",
     "output_type": "stream",
     "text": [
      "280732.5608773954\n"
     ]
    }
   ],
   "source": [
    "print(np.average(sender_lustre_nic_cogestions['receiver_write_bytes'] *  sender_lustre_nic_cogestions['sender_avg_rtt_value'] * 2 / 1000))"
   ],
   "metadata": {
    "collapsed": false
   }
  },
  {
   "cell_type": "code",
   "execution_count": 641,
   "outputs": [
    {
     "data": {
      "text/plain": "[0.5535568980207184,\n 0.7807499381204377,\n 1.2323311870773368,\n 2.2624438717740807,\n 2.344025607900102,\n 3.5103868205999755,\n 3.6488173599255314,\n 3.69013516252916,\n 3.8880099988396086,\n 3.982103332851678,\n 4.07621732821579,\n 4.187424535903631,\n 4.188563573177414,\n 4.326371690298959,\n 4.411369974149279,\n 4.454921881707556,\n 4.480384895447348,\n 4.517406307545368,\n 4.521242468355914,\n 4.5295607917489145,\n 4.543871127193044,\n 4.559031092202962,\n 4.5682907909261665,\n 4.609265482167726,\n 4.657757060812072,\n 4.682363106393964,\n 4.683117581693226,\n 4.684053274088456,\n 4.68799365761638,\n 4.7082560555808435,\n 4.709556315565778,\n 4.772069401813792,\n 4.801580030346223,\n 4.821897695415355,\n 4.877394829799761,\n 4.880363727062143,\n 4.890982980659527,\n 4.900097701750627,\n 4.915371519403527,\n 4.9212969176923735,\n 4.9359539869229065,\n 4.939856904971728,\n 4.952240887215049,\n 4.957289231407247,\n 4.960349057507631,\n 4.978485990766265,\n 5.020396842634125,\n 5.039332107264254,\n 5.051863633972364,\n 5.085482019996099,\n 5.107969605443579,\n 5.128641151225428,\n 5.12918069107832,\n 5.149247367709721,\n 5.172494163626502,\n 5.20047352542872,\n 5.207334049680991,\n 5.214979395644669,\n 5.21985154877228,\n 5.221358432456581,\n 5.221818516431624,\n 5.243261369305513,\n 5.342513134112627,\n 5.343613016298069,\n 5.347592090476306,\n 5.355653479964882,\n 5.3605902322761505,\n 5.370469093314557,\n 5.380134240132836,\n 5.405210508687169,\n 5.418467902116063,\n 5.435678784308588,\n 5.442586293483176,\n 5.448538203514396,\n 5.4708080964928385,\n 5.499917405239484,\n 5.530139335735663,\n 5.539553978116851,\n 5.547922039483685,\n 5.5812240352880345,\n 5.597697637198773,\n 5.6077164675127475,\n 5.6257835595211345,\n 5.645616590270396,\n 5.655110077008706,\n 5.6562790641734715,\n 5.656754031151665,\n 5.658122277559143,\n 5.67950957281538,\n 5.683600268594192,\n 5.6998579010537,\n 5.736128155913463,\n 5.741479468305427,\n 5.760420873583679,\n 5.765306810245495,\n 5.778731130942968,\n 5.779420084208568,\n 5.796559241112637,\n 5.797356017345824,\n 5.802713189193055,\n 5.805834569930122,\n 5.812073939976737,\n 5.824073388548958,\n 5.895411551072303,\n 5.902074750424007,\n 5.916454039755753,\n 5.91916301759694,\n 5.9383787870601195,\n 5.943296596090734,\n 5.9561885565761745,\n 5.984946560386777,\n 5.991277213223536,\n 6.009584608709417,\n 6.038643426027088,\n 6.054040911495137,\n 6.103483387225902,\n 6.104680600865295,\n 6.104725627006577,\n 6.111924257689564,\n 6.118481571622637,\n 6.142792634151406,\n 6.1623285563214765,\n 6.164284358963457,\n 6.171811213886812,\n 6.179048294050251,\n 6.229170186102618,\n 6.262936183666501,\n 6.272678440389584,\n 6.373611399055522,\n 6.38794433341156,\n 6.390172215366634,\n 6.408285900235939,\n 6.435413088488848,\n 6.443800204377133,\n 6.461522777154951,\n 6.477316582305945,\n 6.486183701820331,\n 6.4965882481046995,\n 6.510537542018401,\n 6.53908497776686,\n 6.590583326020132,\n 6.642013305075301,\n 6.644550732208235,\n 6.660348233215103,\n 6.674080141755252,\n 6.704462631513679,\n 6.714094546254147,\n 6.716185709966423,\n 6.745915808914517,\n 6.763078855615221,\n 6.767157643179705,\n 6.802635808815175,\n 6.817545840741768,\n 6.896370511296655,\n 6.898191547043005,\n 6.914224600675401,\n 6.945422899312919,\n 6.969595101210559,\n 7.032811806414725,\n 7.05989851051973,\n 7.188312053878863,\n 7.256753178962425,\n 7.280119959581165,\n 7.391956641746879,\n 7.621351148863627,\n 7.816976483734834,\n 7.8352963176420625,\n 8.163498510063395,\n 8.281080077342645,\n 8.517854804440958,\n 8.555016018134308,\n 8.576965925264657,\n 10.908798459470184]"
     },
     "execution_count": 641,
     "metadata": {},
     "output_type": "execute_result"
    }
   ],
   "source": [
    "lst = abs((df[df.label_value == 0]['through_put'] - df[df.label_value == 0]['sender_nic_receive_bytes'])) * 100 / df[df.label_value == 0]['sender_nic_receive_bytes']\n",
    "\n",
    "# sorted(lst)\n",
    "# for d in lst:\n",
    "#     if d > 10:\n",
    "#         print(d)"
   ],
   "metadata": {
    "collapsed": false
   }
  },
  {
   "cell_type": "code",
   "execution_count": 651,
   "outputs": [
    {
     "data": {
      "text/plain": "Counter({False: 503, True: 17})"
     },
     "execution_count": 651,
     "metadata": {},
     "output_type": "execute_result"
    }
   ],
   "source": [
    "ost_cogestions = df[(df.label_value > 0) & (df.label_value < 4 )]\n",
    "\n",
    "lst = abs((ost_cogestions['through_put'] - ost_cogestions['sender_nic_receive_bytes'])) * 100 / ost_cogestions['sender_nic_receive_bytes']\n",
    "\n",
    "sorted(lst)\n",
    "Counter(lst > 20)"
   ],
   "metadata": {
    "collapsed": false
   }
  },
  {
   "cell_type": "code",
   "execution_count": 657,
   "outputs": [
    {
     "data": {
      "text/plain": "     sender_remote_ost_read_bytes  sender_remote_ost_write_bytes  \\\n0                     507510784.0                            0.0   \n1                     503316480.0                            0.0   \n2                     511705088.0                            0.0   \n3                     507510784.0                            0.0   \n4                     507510784.0                            0.0   \n..                            ...                            ...   \n168                   511705088.0                            0.0   \n169                   511705088.0                            0.0   \n170                   511705088.0                            0.0   \n171                   511705088.0                            0.0   \n172                   511705088.0                            0.0   \n\n     sender_nic_send_bytes  sender_nic_receive_bytes  through_put  \\\n0                   593818                 533992710  504623552.0   \n1                   816068                 532803524  508734624.0   \n2                   641620                 533198684  495699824.0   \n3                   444392                 535205240  506462208.0   \n4                   777586                 535191862  506593280.0   \n..                     ...                       ...          ...   \n168                 750806                 538089790  504879904.0   \n169                 833064                 536702768  510403808.0   \n170                 945310                 537195972  500957184.0   \n171                 457626                 535914994  503840768.0   \n172                 743382                 537587898  508297216.0   \n\n     sender_read_bytes_io  sender_read_bytes  sender_dtn_lustre_read_bytes  \\\n0             22301278208        511705088.0                   510787584.0   \n1             19315240960        515899392.0                   509476864.0   \n2             19818557440        511705088.0                   515244032.0   \n3             20321873920        515899392.0                   505413632.0   \n4             20825190400        511705088.0                   521928704.0   \n..                    ...                ...                           ...   \n168            8124530688        515899392.0                   515899392.0   \n169            8627847168        515899392.0                   526254080.0   \n170            9131163648        515899392.0                   513933312.0   \n171            5574393856        515899392.0                   537919488.0   \n172            9634480128        515899392.0                   510787584.0   \n\n     sender_dtn_lustre_write_bytes  label_value  \n0                              0.0            0  \n1                              0.0            0  \n2                              0.0            0  \n3                              0.0            0  \n4                              0.0            0  \n..                             ...          ...  \n168                            0.0            0  \n169                            0.0            0  \n170                            0.0            0  \n171                            0.0            0  \n172                            0.0            0  \n\n[173 rows x 10 columns]",
      "text/html": "<div>\n<style scoped>\n    .dataframe tbody tr th:only-of-type {\n        vertical-align: middle;\n    }\n\n    .dataframe tbody tr th {\n        vertical-align: top;\n    }\n\n    .dataframe thead th {\n        text-align: right;\n    }\n</style>\n<table border=\"1\" class=\"dataframe\">\n  <thead>\n    <tr style=\"text-align: right;\">\n      <th></th>\n      <th>sender_remote_ost_read_bytes</th>\n      <th>sender_remote_ost_write_bytes</th>\n      <th>sender_nic_send_bytes</th>\n      <th>sender_nic_receive_bytes</th>\n      <th>through_put</th>\n      <th>sender_read_bytes_io</th>\n      <th>sender_read_bytes</th>\n      <th>sender_dtn_lustre_read_bytes</th>\n      <th>sender_dtn_lustre_write_bytes</th>\n      <th>label_value</th>\n    </tr>\n  </thead>\n  <tbody>\n    <tr>\n      <th>0</th>\n      <td>507510784.0</td>\n      <td>0.0</td>\n      <td>593818</td>\n      <td>533992710</td>\n      <td>504623552.0</td>\n      <td>22301278208</td>\n      <td>511705088.0</td>\n      <td>510787584.0</td>\n      <td>0.0</td>\n      <td>0</td>\n    </tr>\n    <tr>\n      <th>1</th>\n      <td>503316480.0</td>\n      <td>0.0</td>\n      <td>816068</td>\n      <td>532803524</td>\n      <td>508734624.0</td>\n      <td>19315240960</td>\n      <td>515899392.0</td>\n      <td>509476864.0</td>\n      <td>0.0</td>\n      <td>0</td>\n    </tr>\n    <tr>\n      <th>2</th>\n      <td>511705088.0</td>\n      <td>0.0</td>\n      <td>641620</td>\n      <td>533198684</td>\n      <td>495699824.0</td>\n      <td>19818557440</td>\n      <td>511705088.0</td>\n      <td>515244032.0</td>\n      <td>0.0</td>\n      <td>0</td>\n    </tr>\n    <tr>\n      <th>3</th>\n      <td>507510784.0</td>\n      <td>0.0</td>\n      <td>444392</td>\n      <td>535205240</td>\n      <td>506462208.0</td>\n      <td>20321873920</td>\n      <td>515899392.0</td>\n      <td>505413632.0</td>\n      <td>0.0</td>\n      <td>0</td>\n    </tr>\n    <tr>\n      <th>4</th>\n      <td>507510784.0</td>\n      <td>0.0</td>\n      <td>777586</td>\n      <td>535191862</td>\n      <td>506593280.0</td>\n      <td>20825190400</td>\n      <td>511705088.0</td>\n      <td>521928704.0</td>\n      <td>0.0</td>\n      <td>0</td>\n    </tr>\n    <tr>\n      <th>...</th>\n      <td>...</td>\n      <td>...</td>\n      <td>...</td>\n      <td>...</td>\n      <td>...</td>\n      <td>...</td>\n      <td>...</td>\n      <td>...</td>\n      <td>...</td>\n      <td>...</td>\n    </tr>\n    <tr>\n      <th>168</th>\n      <td>511705088.0</td>\n      <td>0.0</td>\n      <td>750806</td>\n      <td>538089790</td>\n      <td>504879904.0</td>\n      <td>8124530688</td>\n      <td>515899392.0</td>\n      <td>515899392.0</td>\n      <td>0.0</td>\n      <td>0</td>\n    </tr>\n    <tr>\n      <th>169</th>\n      <td>511705088.0</td>\n      <td>0.0</td>\n      <td>833064</td>\n      <td>536702768</td>\n      <td>510403808.0</td>\n      <td>8627847168</td>\n      <td>515899392.0</td>\n      <td>526254080.0</td>\n      <td>0.0</td>\n      <td>0</td>\n    </tr>\n    <tr>\n      <th>170</th>\n      <td>511705088.0</td>\n      <td>0.0</td>\n      <td>945310</td>\n      <td>537195972</td>\n      <td>500957184.0</td>\n      <td>9131163648</td>\n      <td>515899392.0</td>\n      <td>513933312.0</td>\n      <td>0.0</td>\n      <td>0</td>\n    </tr>\n    <tr>\n      <th>171</th>\n      <td>511705088.0</td>\n      <td>0.0</td>\n      <td>457626</td>\n      <td>535914994</td>\n      <td>503840768.0</td>\n      <td>5574393856</td>\n      <td>515899392.0</td>\n      <td>537919488.0</td>\n      <td>0.0</td>\n      <td>0</td>\n    </tr>\n    <tr>\n      <th>172</th>\n      <td>511705088.0</td>\n      <td>0.0</td>\n      <td>743382</td>\n      <td>537587898</td>\n      <td>508297216.0</td>\n      <td>9634480128</td>\n      <td>515899392.0</td>\n      <td>510787584.0</td>\n      <td>0.0</td>\n      <td>0</td>\n    </tr>\n  </tbody>\n</table>\n<p>173 rows × 10 columns</p>\n</div>"
     },
     "execution_count": 657,
     "metadata": {},
     "output_type": "execute_result"
    }
   ],
   "source": [
    "df[df.label_value == 0][['sender_remote_ost_read_bytes', 'sender_remote_ost_write_bytes', 'sender_nic_send_bytes', 'sender_nic_receive_bytes', 'through_put', 'sender_read_bytes_io', 'sender_read_bytes','sender_dtn_lustre_read_bytes', 'sender_dtn_lustre_write_bytes','label_value']]"
   ],
   "metadata": {
    "collapsed": false
   }
  },
  {
   "cell_type": "code",
   "execution_count": null,
   "outputs": [],
   "source": [
    "def"
   ],
   "metadata": {
    "collapsed": false
   }
  }
 ],
 "metadata": {
  "kernelspec": {
   "display_name": "Python 3 (ipykernel)",
   "language": "python",
   "name": "python3"
  },
  "language_info": {
   "codemirror_mode": {
    "name": "ipython",
    "version": 3
   },
   "file_extension": ".py",
   "mimetype": "text/x-python",
   "name": "python",
   "nbconvert_exporter": "python",
   "pygments_lexer": "ipython3",
   "version": "3.9.7"
  }
 },
 "nbformat": 4,
 "nbformat_minor": 1
}
