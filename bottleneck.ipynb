{
 "cells": [
  {
   "cell_type": "code",
   "execution_count": 46,
   "metadata": {},
   "outputs": [],
   "source": [
    "import sys\n",
    "\n",
    "if not sys.warnoptions:\n",
    "    import warnings\n",
    "    warnings.simplefilter(\"ignore\")"
   ]
  },
  {
   "cell_type": "code",
   "execution_count": 47,
   "metadata": {},
   "outputs": [],
   "source": [
    "import pandas as pd\n",
    "import numpy as np\n",
    "from imblearn.under_sampling import RandomUnderSampler\n",
    "from xgboost import XGBClassifier\n",
    "from sklearn.ensemble import RandomForestClassifier\n",
    "from sklearn.model_selection import train_test_split\n",
    "from sklearn.decomposition import PCA\n",
    "from sklearn.neural_network import MLPClassifier\n",
    "from sklearn.svm import SVC\n",
    "from sklearn import metrics\n",
    "from sklearn import tree\n",
    "from sklearn.feature_selection import SelectKBest, f_regression\n",
    "from sklearn.pipeline import make_pipeline\n",
    "from sklearn.preprocessing import StandardScaler, MinMaxScaler, PowerTransformer\n",
    "from sklearn.model_selection import cross_val_score\n",
    "import pickle\n",
    "import pprint\n",
    "import matplotlib.pyplot as plt\n",
    "import seaborn as sns\n",
    "sns.set()"
   ]
  },
  {
   "cell_type": "code",
   "execution_count": 16,
   "metadata": {},
   "outputs": [
    {
     "data": {
      "text/plain": [
       "['receiver_avg_waittime_md',\n",
       " 'receiver_ost_read',\n",
       " 'receiver_ost_write',\n",
       " 'receiver_req_active',\n",
       " 'receiver_seg_out',\n",
       " 'receiver_segs_in',\n",
       " 'receiver_system_cpu_percent',\n",
       " 'receiver_system_memory_percent',\n",
       " 'sender_avg_waittime_md',\n",
       " 'sender_cwnd_rate',\n",
       " 'sender_mds_close_md',\n",
       " 'sender_ost_read',\n",
       " 'sender_remote_ost_read_bytes',\n",
       " 'sender_req_active',\n",
       " 'sender_req_waittime',\n",
       " 'sender_req_waittime_md',\n",
       " 'sender_retrans',\n",
       " 'sender_segs_in',\n",
       " 'sender_send_buffer_value',\n",
       " 'sender_ssthresh_value',\n",
       " 'sender_system_cpu_percent',\n",
       " 'sender_system_memory_percent',\n",
       " 'sender_tcp_snd_buffer_max',\n",
       " 'sender_write_bytes_io']"
      ]
     },
     "execution_count": 16,
     "metadata": {},
     "output_type": "execute_result"
    }
   ],
   "source": [
    "root = \"prototype/\"\n",
    "feature_file = root+\"ss_features.csv\"\n",
    "features = pd.read_csv(feature_file)\n",
    "feature_list = list(features.feature.values)\n",
    "feature_list"
   ]
  },
  {
   "cell_type": "code",
   "execution_count": 7,
   "metadata": {},
   "outputs": [],
   "source": [
    "filenames = {\n",
    "    \"utah_ssd\": \"UTAH_25Gbps_ssd_merged.csv\",\n",
    "#     \"hpcn_ssd\": \"hpcn_1Gbps_ssd_merged.csv\",\n",
    "    \"wiscon_ssd\": \"WISCONSIN_10Gbps_ssd_merged.csv\",\n",
    "    \"wiscon_hdd\": \"WISCONSIN_10Gbps_hdd_merged.csv\"\n",
    "}\n",
    "\n",
    "data = {}"
   ]
  },
  {
   "cell_type": "code",
   "execution_count": 29,
   "metadata": {},
   "outputs": [],
   "source": [
    "def read_file(transform=False):\n",
    "    global data, filenames\n",
    "    \n",
    "    for key in filenames:      \n",
    "        df = pd.read_csv(root+filenames[key])\n",
    "        df = df.sort_values(by=['label_value']).reset_index().drop(columns=[\"index\"])\n",
    "        df.fillna(df.groupby(['label_value'], as_index=False).mean(), inplace=True)\n",
    "    \n",
    "        if transform:\n",
    "            for index, row in features.iterrows():\n",
    "                df[row['feature']] = df[row['feature']] / df[row['normalizer']]\n",
    "\n",
    "        df.replace([np.inf, -np.inf, np.nan], 0, inplace=True)\n",
    "        data[key] = df\n",
    "\n",
    "read_file()"
   ]
  },
  {
   "cell_type": "markdown",
   "metadata": {},
   "source": [
    "## Cross-Validations"
   ]
  },
  {
   "cell_type": "code",
   "execution_count": 85,
   "metadata": {},
   "outputs": [
    {
     "name": "stdout",
     "output_type": "stream",
     "text": [
      "utah_ssd ==>[0.9721 0.9754 0.9943 0.9861 0.9771 0.9896 0.986  0.9762 0.9861 0.9853]\n",
      "utah_ssd ==> mean: 98.28, std: 0.68\n",
      "wiscon_ssd ==>[0.9649 0.9835 0.9621 0.9802 0.9838 0.9859 0.9727 0.9657 0.9881 0.9804]\n",
      "wiscon_ssd ==> mean: 97.67, std: 0.91\n",
      "wiscon_hdd ==>[0.9463 0.945  0.9892 0.977  0.9704 0.9662 0.9502 0.962  0.9733 0.9794]\n",
      "wiscon_hdd ==> mean: 96.59, std: 1.42\n"
     ]
    }
   ],
   "source": [
    "for key in data:\n",
    "    df = data[key].copy()\n",
    "    y = df.label_value\n",
    "    X = df[feature_list]\n",
    "    clf = make_pipeline(StandardScaler(), tree.DecisionTreeClassifier()) #RandomForestClassifier(n_estimators=100)\n",
    "    cv_res = np.round(cross_val_score(clf, X, y, cv=10, scoring=\"f1_weighted\"),4)\n",
    "    print(f'{key} ==>{cv_res}')\n",
    "    print(f'{key} ==> mean: {np.round(np.mean(cv_res)*100, 2)}, std: {np.round(np.std(cv_res)*100, 2)}')"
   ]
  },
  {
   "cell_type": "markdown",
   "metadata": {},
   "source": [
    "## Evaluation"
   ]
  },
  {
   "cell_type": "code",
   "execution_count": 76,
   "metadata": {},
   "outputs": [
    {
     "name": "stdout",
     "output_type": "stream",
     "text": [
      "utah_ssd ==> 93.45\n",
      "wiscon_ssd ==> 95.49\n",
      "wiscon_hdd ==> 92.34\n"
     ]
    }
   ],
   "source": [
    "for key in data:\n",
    "    df = data[key].copy()\n",
    "    df = df.sample(frac=0.5)\n",
    "    y = df.label_value\n",
    "    X = df[feature_list] #.drop(columns=\"label_value\")\n",
    "    X_train, X_test, y_train, y_test = train_test_split(X,y)\n",
    "    X_train, y_train = RandomUnderSampler(sampling_strategy=\"all\").fit_resample(X_train, y_train)\n",
    "#     print(X_train.shape)\n",
    "    \n",
    "    clf = tree.DecisionTreeClassifier()#RandomForestClassifier(n_estimators=100)\n",
    "    clf.fit(X_train, y_train)\n",
    "    # pickle.dump(clf, open(f\"{root}{key}.model\", \"wb\"))\n",
    "    # clf = pickle.load(open(f\"{root}{key}.model\", \"rb\"))\n",
    "    y_pred = clf.predict(X_test)\n",
    "    np.round(metrics.accuracy_score(y_test, y_pred) * 100, 2)\n",
    "    print(f\"{key} ==> {np.round(metrics.f1_score(y_test, y_pred, average='weighted') * 100, 2)}\")"
   ]
  },
  {
   "cell_type": "markdown",
   "metadata": {},
   "source": [
    "## Features Importance List"
   ]
  },
  {
   "cell_type": "code",
   "execution_count": 82,
   "metadata": {},
   "outputs": [
    {
     "name": "stdout",
     "output_type": "stream",
     "text": [
      "receiver_avg_waittime_md,\n",
      "receiver_ost_read,\n",
      "receiver_ost_write,\n",
      "receiver_req_active,\n",
      "receiver_seg_out,\n",
      "receiver_segs_in,\n",
      "receiver_system_cpu_percent,\n",
      "receiver_system_memory_percent,\n",
      "sender_avg_waittime_md,\n",
      "sender_cwnd_rate,\n",
      "sender_ost_read,\n",
      "sender_read_bytes,\n",
      "sender_remote_ost_read_bytes,\n",
      "sender_req_active,\n",
      "sender_req_waittime,\n",
      "sender_req_waittime_md,\n",
      "sender_retrans,\n",
      "sender_segs_in,\n",
      "sender_send_buffer_value,\n",
      "sender_ssthresh_value,\n",
      "sender_system_cpu_percent,\n",
      "sender_system_memory_percent,\n",
      "sender_tcp_snd_buffer_max,\n",
      "sender_write_bytes_io,\n"
     ]
    }
   ],
   "source": [
    "features_set = set()\n",
    "for key in data:\n",
    "    df = data[key].copy()\n",
    "    y = df.label_value\n",
    "    X = df.drop(columns=\"label_value\")\n",
    "    X_train, y_train = RandomUnderSampler(sampling_strategy=\"all\").fit_resample(X, y)\n",
    "    \n",
    "    clf = RandomForestClassifier(n_estimators=100)\n",
    "    clf.fit(X_train, y_train)\n",
    "    score = np.round(clf.feature_importances_, 2)\n",
    "    \n",
    "    for i in range(len(score)):\n",
    "        if score[i] >= 0.02:\n",
    "            features_set.add(X.columns[i])\n",
    "\n",
    "for val in sorted(features_set):\n",
    "    print(f\"{val},\")"
   ]
  },
  {
   "cell_type": "markdown",
   "metadata": {},
   "source": [
    "## Transfer Learning"
   ]
  },
  {
   "cell_type": "code",
   "execution_count": 69,
   "metadata": {},
   "outputs": [
    {
     "name": "stdout",
     "output_type": "stream",
     "text": [
      "utah_ssd ==> wiscon_ssd - 31.56\n",
      "utah_ssd ==> wiscon_hdd - 32.58\n",
      "wiscon_ssd ==> utah_ssd - 58.79\n",
      "wiscon_ssd ==> wiscon_hdd - 78.93\n",
      "wiscon_hdd ==> utah_ssd - 61.63\n",
      "wiscon_hdd ==> wiscon_ssd - 82.52\n"
     ]
    }
   ],
   "source": [
    "for key1 in data:\n",
    "    df = data[key1].copy()\n",
    "    y = df.label_value\n",
    "    X = df[feature_list] #.drop(columns=\"label_value\")\n",
    "    X_train, X_test, y_train, y_test = train_test_split(X,y)\n",
    "    X_train, y_train = RandomUnderSampler(sampling_strategy=\"all\").fit_resample(X_train, y_train)\n",
    "    \n",
    "    clf = RandomForestClassifier(n_estimators=100)\n",
    "    clf.fit(X_train, y_train)\n",
    "    \n",
    "    for key2 in data:\n",
    "        if key1 == key2:\n",
    "            continue\n",
    "            \n",
    "        df_test = data[key2].copy()\n",
    "        y_test = df_test.label_value\n",
    "        X_test = df_test[feature_list]\n",
    "        \n",
    "        y_pred = clf.predict(X_test)\n",
    "        np.round(metrics.accuracy_score(y_test, y_pred) * 100, 2)\n",
    "        print(f\"{key1} ==> {key2} - {np.round(metrics.f1_score(y_test, y_pred, average='weighted') * 100, 2)}\")"
   ]
  },
  {
   "cell_type": "code",
   "execution_count": 51,
   "metadata": {},
   "outputs": [
    {
     "data": {
      "text/html": [
       "<div>\n",
       "<style scoped>\n",
       "    .dataframe tbody tr th:only-of-type {\n",
       "        vertical-align: middle;\n",
       "    }\n",
       "\n",
       "    .dataframe tbody tr th {\n",
       "        vertical-align: top;\n",
       "    }\n",
       "\n",
       "    .dataframe thead th {\n",
       "        text-align: right;\n",
       "    }\n",
       "</style>\n",
       "<table border=\"1\" class=\"dataframe\">\n",
       "  <thead>\n",
       "    <tr style=\"text-align: right;\">\n",
       "      <th></th>\n",
       "      <th>mean</th>\n",
       "      <th>std</th>\n",
       "    </tr>\n",
       "    <tr>\n",
       "      <th>label_value</th>\n",
       "      <th></th>\n",
       "      <th></th>\n",
       "    </tr>\n",
       "  </thead>\n",
       "  <tbody>\n",
       "    <tr>\n",
       "      <th>0</th>\n",
       "      <td>1.157957e+08</td>\n",
       "      <td>10140063.12</td>\n",
       "    </tr>\n",
       "    <tr>\n",
       "      <th>1</th>\n",
       "      <td>5.461730e+08</td>\n",
       "      <td>12309885.69</td>\n",
       "    </tr>\n",
       "    <tr>\n",
       "      <th>17</th>\n",
       "      <td>1.117545e+08</td>\n",
       "      <td>11425497.81</td>\n",
       "    </tr>\n",
       "    <tr>\n",
       "      <th>33</th>\n",
       "      <td>1.157628e+08</td>\n",
       "      <td>14963686.55</td>\n",
       "    </tr>\n",
       "    <tr>\n",
       "      <th>34</th>\n",
       "      <td>1.111079e+08</td>\n",
       "      <td>12641538.56</td>\n",
       "    </tr>\n",
       "    <tr>\n",
       "      <th>35</th>\n",
       "      <td>1.151220e+08</td>\n",
       "      <td>11359041.02</td>\n",
       "    </tr>\n",
       "    <tr>\n",
       "      <th>36</th>\n",
       "      <td>9.810677e+07</td>\n",
       "      <td>20922373.95</td>\n",
       "    </tr>\n",
       "    <tr>\n",
       "      <th>40</th>\n",
       "      <td>9.585837e+07</td>\n",
       "      <td>29320049.29</td>\n",
       "    </tr>\n",
       "    <tr>\n",
       "      <th>44</th>\n",
       "      <td>1.106628e+08</td>\n",
       "      <td>10064329.54</td>\n",
       "    </tr>\n",
       "    <tr>\n",
       "      <th>48</th>\n",
       "      <td>1.069171e+08</td>\n",
       "      <td>18872234.76</td>\n",
       "    </tr>\n",
       "    <tr>\n",
       "      <th>59</th>\n",
       "      <td>6.675934e+07</td>\n",
       "      <td>11757513.94</td>\n",
       "    </tr>\n",
       "    <tr>\n",
       "      <th>62</th>\n",
       "      <td>5.498752e+08</td>\n",
       "      <td>6996583.58</td>\n",
       "    </tr>\n",
       "    <tr>\n",
       "      <th>66</th>\n",
       "      <td>1.094014e+08</td>\n",
       "      <td>11639494.00</td>\n",
       "    </tr>\n",
       "    <tr>\n",
       "      <th>74</th>\n",
       "      <td>1.236565e+08</td>\n",
       "      <td>8663835.17</td>\n",
       "    </tr>\n",
       "    <tr>\n",
       "      <th>82</th>\n",
       "      <td>1.233497e+08</td>\n",
       "      <td>8279488.68</td>\n",
       "    </tr>\n",
       "    <tr>\n",
       "      <th>86</th>\n",
       "      <td>1.190694e+08</td>\n",
       "      <td>13109649.04</td>\n",
       "    </tr>\n",
       "    <tr>\n",
       "      <th>87</th>\n",
       "      <td>1.223956e+08</td>\n",
       "      <td>9002747.83</td>\n",
       "    </tr>\n",
       "    <tr>\n",
       "      <th>88</th>\n",
       "      <td>4.117183e+07</td>\n",
       "      <td>17332229.57</td>\n",
       "    </tr>\n",
       "  </tbody>\n",
       "</table>\n",
       "</div>"
      ],
      "text/plain": [
       "                     mean          std\n",
       "label_value                           \n",
       "0            1.157957e+08  10140063.12\n",
       "1            5.461730e+08  12309885.69\n",
       "17           1.117545e+08  11425497.81\n",
       "33           1.157628e+08  14963686.55\n",
       "34           1.111079e+08  12641538.56\n",
       "35           1.151220e+08  11359041.02\n",
       "36           9.810677e+07  20922373.95\n",
       "40           9.585837e+07  29320049.29\n",
       "44           1.106628e+08  10064329.54\n",
       "48           1.069171e+08  18872234.76\n",
       "59           6.675934e+07  11757513.94\n",
       "62           5.498752e+08   6996583.58\n",
       "66           1.094014e+08  11639494.00\n",
       "74           1.236565e+08   8663835.17\n",
       "82           1.233497e+08   8279488.68\n",
       "86           1.190694e+08  13109649.04\n",
       "87           1.223956e+08   9002747.83\n",
       "88           4.117183e+07  17332229.57"
      ]
     },
     "execution_count": 51,
     "metadata": {},
     "output_type": "execute_result"
    }
   ],
   "source": [
    "np.round(df.groupby(\"label_value\").sender_remote_ost_read_bytes.agg([\"mean\", \"std\"]),2)"
   ]
  },
  {
   "cell_type": "code",
   "execution_count": 106,
   "metadata": {},
   "outputs": [
    {
     "name": "stdout",
     "output_type": "stream",
     "text": [
      "testbed,samples,score\n",
      "utah_ssd,5,84.46\n",
      "utah_ssd,10,91.0\n",
      "utah_ssd,15,91.93\n",
      "utah_ssd,20,95.98\n",
      "utah_ssd,25,94.32\n",
      "utah_ssd,30,95.61\n",
      "utah_ssd,35,95.08\n",
      "utah_ssd,40,96.69\n",
      "wiscon_ssd,5,82.19\n",
      "wiscon_ssd,10,89.13\n",
      "wiscon_ssd,15,93.13\n",
      "wiscon_ssd,20,93.62\n",
      "wiscon_ssd,25,93.51\n",
      "wiscon_ssd,30,94.28\n",
      "wiscon_ssd,35,95.53\n",
      "wiscon_ssd,40,95.97\n",
      "wiscon_hdd,5,79.47\n",
      "wiscon_hdd,10,89.87\n",
      "wiscon_hdd,15,90.35\n",
      "wiscon_hdd,20,89.43\n",
      "wiscon_hdd,25,93.33\n",
      "wiscon_hdd,30,92.16\n",
      "wiscon_hdd,35,93.92\n",
      "wiscon_hdd,40,93.26\n"
     ]
    }
   ],
   "source": [
    "print(f\"testbed,samples,score\")\n",
    "for key in data:\n",
    "    df = data[key].copy()\n",
    "    for n in range(5,41,5):\n",
    "        train = df.groupby(\"label_value\").sample(n)\n",
    "        test = df.drop(train.index)\n",
    "        y_train = train.label_value\n",
    "        X_train = train[feature_list]\n",
    "        y_test = test.label_value\n",
    "        X_test = test[feature_list]\n",
    "\n",
    "#         clf = make_pipeline(StandardScaler(), tree.DecisionTreeClassifier())\n",
    "        clf = tree.DecisionTreeClassifier()\n",
    "        clf.fit(X_train, y_train)\n",
    "        # pickle.dump(clf, open(f\"{root}{key}.model\", \"wb\"))\n",
    "        # clf = pickle.load(open(f\"{root}{key}.model\", \"rb\"))\n",
    "        y_pred = clf.predict(X_test)\n",
    "        np.round(metrics.accuracy_score(y_test, y_pred) * 100, 2)\n",
    "        print(f\"{key},{n},{np.round(metrics.f1_score(y_test, y_pred, average='weighted') * 100, 2)}\")"
   ]
  },
  {
   "cell_type": "code",
   "execution_count": 77,
   "metadata": {},
   "outputs": [
    {
     "name": "stdout",
     "output_type": "stream",
     "text": [
      "Help on function cross_val_score in module sklearn.model_selection._validation:\n",
      "\n",
      "cross_val_score(estimator, X, y=None, *, groups=None, scoring=None, cv=None, n_jobs=None, verbose=0, fit_params=None, pre_dispatch='2*n_jobs', error_score=nan)\n",
      "    Evaluate a score by cross-validation.\n",
      "    \n",
      "    Read more in the :ref:`User Guide <cross_validation>`.\n",
      "    \n",
      "    Parameters\n",
      "    ----------\n",
      "    estimator : estimator object implementing 'fit'\n",
      "        The object to use to fit the data.\n",
      "    \n",
      "    X : array-like of shape (n_samples, n_features)\n",
      "        The data to fit. Can be for example a list, or an array.\n",
      "    \n",
      "    y : array-like of shape (n_samples,) or (n_samples, n_outputs),             default=None\n",
      "        The target variable to try to predict in the case of\n",
      "        supervised learning.\n",
      "    \n",
      "    groups : array-like of shape (n_samples,), default=None\n",
      "        Group labels for the samples used while splitting the dataset into\n",
      "        train/test set. Only used in conjunction with a \"Group\" :term:`cv`\n",
      "        instance (e.g., :class:`GroupKFold`).\n",
      "    \n",
      "    scoring : str or callable, default=None\n",
      "        A str (see model evaluation documentation) or\n",
      "        a scorer callable object / function with signature\n",
      "        ``scorer(estimator, X, y)`` which should return only\n",
      "        a single value.\n",
      "    \n",
      "        Similar to :func:`cross_validate`\n",
      "        but only a single metric is permitted.\n",
      "    \n",
      "        If `None`, the estimator's default scorer (if available) is used.\n",
      "    \n",
      "    cv : int, cross-validation generator or an iterable, default=None\n",
      "        Determines the cross-validation splitting strategy.\n",
      "        Possible inputs for cv are:\n",
      "    \n",
      "        - `None`, to use the default 5-fold cross validation,\n",
      "        - int, to specify the number of folds in a `(Stratified)KFold`,\n",
      "        - :term:`CV splitter`,\n",
      "        - An iterable that generates (train, test) splits as arrays of indices.\n",
      "    \n",
      "        For `int`/`None` inputs, if the estimator is a classifier and `y` is\n",
      "        either binary or multiclass, :class:`StratifiedKFold` is used. In all\n",
      "        other cases, :class:`KFold` is used. These splitters are instantiated\n",
      "        with `shuffle=False` so the splits will be the same across calls.\n",
      "    \n",
      "        Refer :ref:`User Guide <cross_validation>` for the various\n",
      "        cross-validation strategies that can be used here.\n",
      "    \n",
      "        .. versionchanged:: 0.22\n",
      "            `cv` default value if `None` changed from 3-fold to 5-fold.\n",
      "    \n",
      "    n_jobs : int, default=None\n",
      "        Number of jobs to run in parallel. Training the estimator and computing\n",
      "        the score are parallelized over the cross-validation splits.\n",
      "        ``None`` means 1 unless in a :obj:`joblib.parallel_backend` context.\n",
      "        ``-1`` means using all processors. See :term:`Glossary <n_jobs>`\n",
      "        for more details.\n",
      "    \n",
      "    verbose : int, default=0\n",
      "        The verbosity level.\n",
      "    \n",
      "    fit_params : dict, default=None\n",
      "        Parameters to pass to the fit method of the estimator.\n",
      "    \n",
      "    pre_dispatch : int or str, default='2*n_jobs'\n",
      "        Controls the number of jobs that get dispatched during parallel\n",
      "        execution. Reducing this number can be useful to avoid an\n",
      "        explosion of memory consumption when more jobs get dispatched\n",
      "        than CPUs can process. This parameter can be:\n",
      "    \n",
      "            - ``None``, in which case all the jobs are immediately\n",
      "              created and spawned. Use this for lightweight and\n",
      "              fast-running jobs, to avoid delays due to on-demand\n",
      "              spawning of the jobs\n",
      "    \n",
      "            - An int, giving the exact number of total jobs that are\n",
      "              spawned\n",
      "    \n",
      "            - A str, giving an expression as a function of n_jobs,\n",
      "              as in '2*n_jobs'\n",
      "    \n",
      "    error_score : 'raise' or numeric, default=np.nan\n",
      "        Value to assign to the score if an error occurs in estimator fitting.\n",
      "        If set to 'raise', the error is raised.\n",
      "        If a numeric value is given, FitFailedWarning is raised.\n",
      "    \n",
      "        .. versionadded:: 0.20\n",
      "    \n",
      "    Returns\n",
      "    -------\n",
      "    scores : ndarray of float of shape=(len(list(cv)),)\n",
      "        Array of scores of the estimator for each run of the cross validation.\n",
      "    \n",
      "    Examples\n",
      "    --------\n",
      "    >>> from sklearn import datasets, linear_model\n",
      "    >>> from sklearn.model_selection import cross_val_score\n",
      "    >>> diabetes = datasets.load_diabetes()\n",
      "    >>> X = diabetes.data[:150]\n",
      "    >>> y = diabetes.target[:150]\n",
      "    >>> lasso = linear_model.Lasso()\n",
      "    >>> print(cross_val_score(lasso, X, y, cv=3))\n",
      "    [0.33150734 0.08022311 0.03531764]\n",
      "    \n",
      "    See Also\n",
      "    ---------\n",
      "    cross_validate : To run cross-validation on multiple metrics and also to\n",
      "        return train scores, fit times and score times.\n",
      "    \n",
      "    cross_val_predict : Get predictions from each split of cross-validation for\n",
      "        diagnostic purposes.\n",
      "    \n",
      "    sklearn.metrics.make_scorer : Make a scorer from a performance metric or\n",
      "        loss function.\n",
      "\n"
     ]
    }
   ],
   "source": [
    "help(cross_val_score)"
   ]
  },
  {
   "cell_type": "code",
   "execution_count": 9,
   "metadata": {},
   "outputs": [],
   "source": [
    "df = data[\"utah_ssd\"].copy()"
   ]
  },
  {
   "cell_type": "code",
   "execution_count": 13,
   "metadata": {},
   "outputs": [
    {
     "data": {
      "text/plain": [
       "label_value\n",
       "0      109\n",
       "1      661\n",
       "17    1768\n",
       "33     410\n",
       "34     109\n",
       "35      51\n",
       "36     438\n",
       "40     440\n",
       "44     438\n",
       "48     879\n",
       "59     328\n",
       "62     439\n",
       "66     888\n",
       "74     881\n",
       "82     414\n",
       "86     111\n",
       "87      69\n",
       "88     331\n",
       "Name: sender_avg_rtt_value, dtype: int64"
      ]
     },
     "execution_count": 13,
     "metadata": {},
     "output_type": "execute_result"
    }
   ],
   "source": [
    "df.groupby(\"label_value\").sender_avg_rtt_value.count()"
   ]
  },
  {
   "cell_type": "code",
   "execution_count": 90,
   "metadata": {},
   "outputs": [
    {
     "data": {
      "text/plain": [
       "[Text(0.8461538461538461, 0.9722222222222222, 'X[21] <= 18.4\\ngini = 0.944\\nsamples = 720\\nvalue = [40, 40, 40, 40, 40, 40, 40, 40, 40, 40, 40, 40\\n40, 40, 40, 40, 40, 40]'),\n",
       " Text(0.7948717948717948, 0.9166666666666666, 'X[8] <= 409.5\\ngini = 0.941\\nsamples = 680\\nvalue = [40, 40, 40, 40, 40, 0, 40, 40, 40, 40, 40, 40\\n40, 40, 40, 40, 40, 40]'),\n",
       " Text(0.6923076923076923, 0.8611111111111112, 'X[4] <= 421.0\\ngini = 0.933\\nsamples = 600\\nvalue = [0, 0, 40, 40, 40, 0, 40, 40, 40, 40, 40, 40\\n40, 40, 40, 40, 40, 40]'),\n",
       " Text(0.6410256410256411, 0.8055555555555556, 'gini = 0.0\\nsamples = 40\\nvalue = [0, 0, 0, 0, 0, 0, 0, 0, 0, 0, 0, 0, 0, 0\\n0, 40, 0, 0]'),\n",
       " Text(0.7435897435897436, 0.8055555555555556, 'X[15] <= 96535.5\\ngini = 0.929\\nsamples = 560\\nvalue = [0, 0, 40, 40, 40, 0, 40, 40, 40, 40, 40, 40\\n40, 40, 40, 0, 40, 40]'),\n",
       " Text(0.6410256410256411, 0.75, 'X[12] <= 106430464.0\\ngini = 0.917\\nsamples = 480\\nvalue = [0, 0, 0, 40, 40, 0, 40, 40, 40, 40, 40, 40, 0\\n40, 40, 0, 40, 40]'),\n",
       " Text(0.5897435897435898, 0.6944444444444444, 'X[22] <= 2101248.0\\ngini = 0.909\\nsamples = 440\\nvalue = [0, 0, 0, 40, 40, 0, 40, 40, 40, 40, 40, 0, 0\\n40, 40, 0, 40, 40]'),\n",
       " Text(0.5384615384615384, 0.6388888888888888, 'gini = 0.0\\nsamples = 40\\nvalue = [0, 0, 0, 0, 0, 0, 0, 0, 0, 0, 40, 0, 0, 0\\n0, 0, 0, 0]'),\n",
       " Text(0.6410256410256411, 0.6388888888888888, 'X[8] <= 367.5\\ngini = 0.9\\nsamples = 400\\nvalue = [0, 0, 0, 40, 40, 0, 40, 40, 40, 40, 0, 0, 0\\n40, 40, 0, 40, 40]'),\n",
       " Text(0.4358974358974359, 0.5833333333333334, 'X[23] <= 917504.0\\ngini = 0.833\\nsamples = 240\\nvalue = [0, 0, 0, 40, 40, 0, 40, 40, 40, 40, 0, 0, 0\\n0, 0, 0, 0, 0]'),\n",
       " Text(0.38461538461538464, 0.5277777777777778, 'X[0] <= 395.5\\ngini = 0.8\\nsamples = 200\\nvalue = [0, 0, 0, 40, 0, 0, 40, 40, 40, 40, 0, 0, 0\\n0, 0, 0, 0, 0]'),\n",
       " Text(0.28205128205128205, 0.4722222222222222, 'X[23] <= 90112.0\\ngini = 0.048\\nsamples = 41\\nvalue = [0, 0, 0, 40, 0, 0, 1, 0, 0, 0, 0, 0, 0, 0\\n0, 0, 0, 0]'),\n",
       " Text(0.23076923076923078, 0.4166666666666667, 'gini = 0.0\\nsamples = 40\\nvalue = [0, 0, 0, 40, 0, 0, 0, 0, 0, 0, 0, 0, 0, 0\\n0, 0, 0, 0]'),\n",
       " Text(0.3333333333333333, 0.4166666666666667, 'gini = 0.0\\nsamples = 1\\nvalue = [0, 0, 0, 0, 0, 0, 1, 0, 0, 0, 0, 0, 0, 0\\n0, 0, 0, 0]'),\n",
       " Text(0.48717948717948717, 0.4722222222222222, 'X[5] <= 55968.0\\ngini = 0.75\\nsamples = 159\\nvalue = [0, 0, 0, 0, 0, 0, 39, 40, 40, 40, 0, 0, 0, 0\\n0, 0, 0, 0]'),\n",
       " Text(0.4358974358974359, 0.4166666666666667, 'X[17] <= 7833.5\\ngini = 0.696\\nsamples = 125\\nvalue = [0, 0, 0, 0, 0, 0, 39, 40, 6, 40, 0, 0, 0, 0\\n0, 0, 0, 0]'),\n",
       " Text(0.38461538461538464, 0.3611111111111111, 'X[16] <= 43.0\\ngini = 0.634\\nsamples = 94\\nvalue = [0, 0, 0, 0, 0, 0, 39, 9, 6, 40, 0, 0, 0, 0\\n0, 0, 0, 0]'),\n",
       " Text(0.15384615384615385, 0.3055555555555556, 'X[18] <= 685628.0\\ngini = 0.297\\nsamples = 41\\nvalue = [0, 0, 0, 0, 0, 0, 3, 0, 4, 34, 0, 0, 0, 0\\n0, 0, 0, 0]'),\n",
       " Text(0.10256410256410256, 0.25, 'gini = 0.0\\nsamples = 2\\nvalue = [0, 0, 0, 0, 0, 0, 0, 0, 2, 0, 0, 0, 0, 0\\n0, 0, 0, 0]'),\n",
       " Text(0.20512820512820512, 0.25, 'X[10] <= 845.0\\ngini = 0.231\\nsamples = 39\\nvalue = [0, 0, 0, 0, 0, 0, 3, 0, 2, 34, 0, 0, 0, 0\\n0, 0, 0, 0]'),\n",
       " Text(0.10256410256410256, 0.19444444444444445, 'X[11] <= 1401537.5\\ngini = 0.653\\nsamples = 7\\nvalue = [0, 0, 0, 0, 0, 0, 2, 0, 2, 3, 0, 0, 0, 0\\n0, 0, 0, 0]'),\n",
       " Text(0.05128205128205128, 0.1388888888888889, 'gini = 0.0\\nsamples = 2\\nvalue = [0, 0, 0, 0, 0, 0, 0, 0, 2, 0, 0, 0, 0, 0\\n0, 0, 0, 0]'),\n",
       " Text(0.15384615384615385, 0.1388888888888889, 'X[23] <= 59392.0\\ngini = 0.48\\nsamples = 5\\nvalue = [0, 0, 0, 0, 0, 0, 2, 0, 0, 3, 0, 0, 0, 0\\n0, 0, 0, 0]'),\n",
       " Text(0.10256410256410256, 0.08333333333333333, 'gini = 0.0\\nsamples = 3\\nvalue = [0, 0, 0, 0, 0, 0, 0, 0, 0, 3, 0, 0, 0, 0\\n0, 0, 0, 0]'),\n",
       " Text(0.20512820512820512, 0.08333333333333333, 'gini = 0.0\\nsamples = 2\\nvalue = [0, 0, 0, 0, 0, 0, 2, 0, 0, 0, 0, 0, 0, 0\\n0, 0, 0, 0]'),\n",
       " Text(0.3076923076923077, 0.19444444444444445, 'X[9] <= 297.5\\ngini = 0.061\\nsamples = 32\\nvalue = [0, 0, 0, 0, 0, 0, 1, 0, 0, 31, 0, 0, 0, 0\\n0, 0, 0, 0]'),\n",
       " Text(0.2564102564102564, 0.1388888888888889, 'gini = 0.0\\nsamples = 29\\nvalue = [0, 0, 0, 0, 0, 0, 0, 0, 0, 29, 0, 0, 0, 0\\n0, 0, 0, 0]'),\n",
       " Text(0.358974358974359, 0.1388888888888889, 'X[7] <= 1.55\\ngini = 0.444\\nsamples = 3\\nvalue = [0, 0, 0, 0, 0, 0, 1, 0, 0, 2, 0, 0, 0, 0\\n0, 0, 0, 0]'),\n",
       " Text(0.3076923076923077, 0.08333333333333333, 'gini = 0.0\\nsamples = 1\\nvalue = [0, 0, 0, 0, 0, 0, 1, 0, 0, 0, 0, 0, 0, 0\\n0, 0, 0, 0]'),\n",
       " Text(0.41025641025641024, 0.08333333333333333, 'gini = 0.0\\nsamples = 2\\nvalue = [0, 0, 0, 0, 0, 0, 0, 0, 0, 2, 0, 0, 0, 0\\n0, 0, 0, 0]'),\n",
       " Text(0.6153846153846154, 0.3055555555555556, 'X[4] <= 2970.0\\ngini = 0.496\\nsamples = 53\\nvalue = [0, 0, 0, 0, 0, 0, 36, 9, 2, 6, 0, 0, 0, 0\\n0, 0, 0, 0]'),\n",
       " Text(0.5641025641025641, 0.25, 'gini = 0.0\\nsamples = 30\\nvalue = [0, 0, 0, 0, 0, 0, 30, 0, 0, 0, 0, 0, 0, 0\\n0, 0, 0, 0]'),\n",
       " Text(0.6666666666666666, 0.25, 'X[16] <= 298.5\\ngini = 0.703\\nsamples = 23\\nvalue = [0, 0, 0, 0, 0, 0, 6, 9, 2, 6, 0, 0, 0, 0\\n0, 0, 0, 0]'),\n",
       " Text(0.6153846153846154, 0.19444444444444445, 'X[9] <= 152.0\\ngini = 0.581\\nsamples = 17\\nvalue = [0, 0, 0, 0, 0, 0, 0, 9, 2, 6, 0, 0, 0, 0\\n0, 0, 0, 0]'),\n",
       " Text(0.5641025641025641, 0.1388888888888889, 'X[17] <= 3663.0\\ngini = 0.403\\nsamples = 12\\nvalue = [0, 0, 0, 0, 0, 0, 0, 9, 2, 1, 0, 0, 0, 0\\n0, 0, 0, 0]'),\n",
       " Text(0.5128205128205128, 0.08333333333333333, 'gini = 0.0\\nsamples = 9\\nvalue = [0, 0, 0, 0, 0, 0, 0, 9, 0, 0, 0, 0, 0, 0\\n0, 0, 0, 0]'),\n",
       " Text(0.6153846153846154, 0.08333333333333333, 'X[10] <= 939.0\\ngini = 0.444\\nsamples = 3\\nvalue = [0, 0, 0, 0, 0, 0, 0, 0, 2, 1, 0, 0, 0, 0\\n0, 0, 0, 0]'),\n",
       " Text(0.5641025641025641, 0.027777777777777776, 'gini = 0.0\\nsamples = 1\\nvalue = [0, 0, 0, 0, 0, 0, 0, 0, 0, 1, 0, 0, 0, 0\\n0, 0, 0, 0]'),\n",
       " Text(0.6666666666666666, 0.027777777777777776, 'gini = 0.0\\nsamples = 2\\nvalue = [0, 0, 0, 0, 0, 0, 0, 0, 2, 0, 0, 0, 0, 0\\n0, 0, 0, 0]'),\n",
       " Text(0.6666666666666666, 0.1388888888888889, 'gini = 0.0\\nsamples = 5\\nvalue = [0, 0, 0, 0, 0, 0, 0, 0, 0, 5, 0, 0, 0, 0\\n0, 0, 0, 0]'),\n",
       " Text(0.717948717948718, 0.19444444444444445, 'gini = 0.0\\nsamples = 6\\nvalue = [0, 0, 0, 0, 0, 0, 6, 0, 0, 0, 0, 0, 0, 0\\n0, 0, 0, 0]'),\n",
       " Text(0.48717948717948717, 0.3611111111111111, 'gini = 0.0\\nsamples = 31\\nvalue = [0, 0, 0, 0, 0, 0, 0, 31, 0, 0, 0, 0, 0, 0\\n0, 0, 0, 0]'),\n",
       " Text(0.5384615384615384, 0.4166666666666667, 'gini = 0.0\\nsamples = 34\\nvalue = [0, 0, 0, 0, 0, 0, 0, 0, 34, 0, 0, 0, 0, 0\\n0, 0, 0, 0]'),\n",
       " Text(0.48717948717948717, 0.5277777777777778, 'gini = 0.0\\nsamples = 40\\nvalue = [0, 0, 0, 0, 40, 0, 0, 0, 0, 0, 0, 0, 0, 0\\n0, 0, 0, 0]'),\n",
       " Text(0.8461538461538461, 0.5833333333333334, 'X[4] <= 3614.0\\ngini = 0.75\\nsamples = 160\\nvalue = [0, 0, 0, 0, 0, 0, 0, 0, 0, 0, 0, 0, 0, 40\\n40, 0, 40, 40]'),\n",
       " Text(0.7948717948717948, 0.5277777777777778, 'X[7] <= 16.4\\ngini = 0.667\\nsamples = 120\\nvalue = [0, 0, 0, 0, 0, 0, 0, 0, 0, 0, 0, 0, 0, 40\\n40, 0, 40, 0]'),\n",
       " Text(0.7435897435897436, 0.4722222222222222, 'X[3] <= 1327.0\\ngini = 0.5\\nsamples = 80\\nvalue = [0, 0, 0, 0, 0, 0, 0, 0, 0, 0, 0, 0, 0, 40\\n40, 0, 0, 0]'),\n",
       " Text(0.6410256410256411, 0.4166666666666667, 'X[0] <= 318.0\\ngini = 0.049\\nsamples = 40\\nvalue = [0, 0, 0, 0, 0, 0, 0, 0, 0, 0, 0, 0, 0, 1\\n39, 0, 0, 0]'),\n",
       " Text(0.5897435897435898, 0.3611111111111111, 'gini = 0.0\\nsamples = 39\\nvalue = [0, 0, 0, 0, 0, 0, 0, 0, 0, 0, 0, 0, 0, 0\\n39, 0, 0, 0]'),\n",
       " Text(0.6923076923076923, 0.3611111111111111, 'gini = 0.0\\nsamples = 1\\nvalue = [0, 0, 0, 0, 0, 0, 0, 0, 0, 0, 0, 0, 0, 1\\n0, 0, 0, 0]'),\n",
       " Text(0.8461538461538461, 0.4166666666666667, 'X[8] <= 368.5\\ngini = 0.049\\nsamples = 40\\nvalue = [0, 0, 0, 0, 0, 0, 0, 0, 0, 0, 0, 0, 0, 39\\n1, 0, 0, 0]'),\n",
       " Text(0.7948717948717948, 0.3611111111111111, 'gini = 0.0\\nsamples = 39\\nvalue = [0, 0, 0, 0, 0, 0, 0, 0, 0, 0, 0, 0, 0, 39\\n0, 0, 0, 0]'),\n",
       " Text(0.8974358974358975, 0.3611111111111111, 'gini = 0.0\\nsamples = 1\\nvalue = [0, 0, 0, 0, 0, 0, 0, 0, 0, 0, 0, 0, 0, 0\\n1, 0, 0, 0]'),\n",
       " Text(0.8461538461538461, 0.4722222222222222, 'gini = 0.0\\nsamples = 40\\nvalue = [0, 0, 0, 0, 0, 0, 0, 0, 0, 0, 0, 0, 0, 0\\n0, 0, 40, 0]'),\n",
       " Text(0.8974358974358975, 0.5277777777777778, 'gini = 0.0\\nsamples = 40\\nvalue = [0, 0, 0, 0, 0, 0, 0, 0, 0, 0, 0, 0, 0, 0\\n0, 0, 0, 40]'),\n",
       " Text(0.6923076923076923, 0.6944444444444444, 'gini = 0.0\\nsamples = 40\\nvalue = [0, 0, 0, 0, 0, 0, 0, 0, 0, 0, 0, 40, 0, 0\\n0, 0, 0, 0]'),\n",
       " Text(0.8461538461538461, 0.75, 'X[13] <= 281.5\\ngini = 0.5\\nsamples = 80\\nvalue = [0, 0, 40, 0, 0, 0, 0, 0, 0, 0, 0, 0, 40, 0\\n0, 0, 0, 0]'),\n",
       " Text(0.7948717948717948, 0.6944444444444444, 'gini = 0.0\\nsamples = 40\\nvalue = [0, 0, 0, 0, 0, 0, 0, 0, 0, 0, 0, 0, 40, 0\\n0, 0, 0, 0]'),\n",
       " Text(0.8974358974358975, 0.6944444444444444, 'gini = 0.0\\nsamples = 40\\nvalue = [0, 0, 40, 0, 0, 0, 0, 0, 0, 0, 0, 0, 0, 0\\n0, 0, 0, 0]'),\n",
       " Text(0.8974358974358975, 0.8611111111111112, 'X[6] <= 1.25\\ngini = 0.5\\nsamples = 80\\nvalue = [40, 40, 0, 0, 0, 0, 0, 0, 0, 0, 0, 0, 0, 0\\n0, 0, 0, 0]'),\n",
       " Text(0.8461538461538461, 0.8055555555555556, 'gini = 0.0\\nsamples = 40\\nvalue = [0, 40, 0, 0, 0, 0, 0, 0, 0, 0, 0, 0, 0, 0\\n0, 0, 0, 0]'),\n",
       " Text(0.9487179487179487, 0.8055555555555556, 'gini = 0.0\\nsamples = 40\\nvalue = [40, 0, 0, 0, 0, 0, 0, 0, 0, 0, 0, 0, 0, 0\\n0, 0, 0, 0]'),\n",
       " Text(0.8974358974358975, 0.9166666666666666, 'gini = 0.0\\nsamples = 40\\nvalue = [0, 0, 0, 0, 0, 40, 0, 0, 0, 0, 0, 0, 0, 0\\n0, 0, 0, 0]')]"
      ]
     },
     "execution_count": 90,
     "metadata": {},
     "output_type": "execute_result"
    },
    {
     "data": {
      "image/png": "[encoded data removed]",
      "text/plain": [
       "<Figure size 432x288 with 1 Axes>"
      ]
     },
     "metadata": {},
     "output_type": "display_data"
    }
   ],
   "source": [
    "tree.plot_tree(clf)"
   ]
  },
  {
   "cell_type": "code",
   "execution_count": 111,
   "metadata": {},
   "outputs": [
    {
     "data": {
      "image/png": "[encoded data removed]",
      "text/plain": [
       "<Figure size 864x432 with 1 Axes>"
      ]
     },
     "metadata": {},
     "output_type": "display_data"
    }
   ],
   "source": [
    "sns.set_style(\"whitegrid\")\n",
    "df = pd.read_csv(\"prototype/sample_vs_score.csv\")\n",
    "df = df.replace({\n",
    "    \"wiscon_hdd\": \"Testbed #1\", \n",
    "    \"wiscon_ssd\": \"Testbed #2\",\n",
    "    \"utah_ssd\": \"Testbed #3\"\n",
    "})\n",
    "\n",
    "df = df.sort_values(by=['testbed'])\n",
    "ax = sns.lineplot(x=\"samples\", y=\"score\", hue=\"testbed\", data=df, style=\"testbed\", ms=18, lw=7)\n",
    "\n",
    "ax.set_ylabel(\"F-measure (%)\", fontsize=42, labelpad=12);\n",
    "plt.xlabel(\"Training Sample Size Per Label\", fontsize=42, labelpad=12)\n",
    "plt.rcParams[\"figure.figsize\"] = (12, 6)\n",
    "\n",
    "plt.xlim(0, 41)\n",
    "plt.ylim(75,100)\n",
    "# plt.legend(loc=\"lower right\", handlelength=4, ncol=2)\n",
    "plt.xticks(range(0,41,10))\n",
    "plt.legend(loc=\"lower right\", handlelength=4, ncol=1)\n",
    "plt.setp(ax.get_legend().get_texts(), fontsize='35')\n",
    "plt.setp(ax.get_legend().get_lines(), lw=6)\n",
    "# ax.legend(loc=\"lower right\", handlelength=4, ncol=2)\n",
    "# plt.legend(loc=\"upper center\",fontsize=25)\n",
    "# plt.xticks(rotation = 30)\n",
    "ax.tick_params(axis='both', which='major', pad=12)\n",
    "ax.tick_params(axis='y', which='major', labelsize=35)\n",
    "ax.tick_params(axis='x', which='major', labelsize=35)\n",
    "plt.tight_layout()\n",
    "plt.savefig(\"size_vs_score.pdf\")\n",
    "plt.show()"
   ]
  },
  {
   "cell_type": "code",
   "execution_count": null,
   "metadata": {},
   "outputs": [],
   "source": []
  }
 ],
 "metadata": {
  "kernelspec": {
   "display_name": "Python 3 (ipykernel)",
   "language": "python",
   "name": "python3"
  },
  "language_info": {
   "codemirror_mode": {
    "name": "ipython",
    "version": 3
   },
   "file_extension": ".py",
   "mimetype": "text/x-python",
   "name": "python",
   "nbconvert_exporter": "python",
   "pygments_lexer": "ipython3",
   "version": "3.8.9"
  }
 },
 "nbformat": 4,
 "nbformat_minor": 4
}
