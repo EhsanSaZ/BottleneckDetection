{
 "cells": [
  {
   "cell_type": "code",
   "execution_count": 1,
   "metadata": {},
   "outputs": [],
   "source": [
    "import sys\n",
    "\n",
    "if not sys.warnoptions:\n",
    "    import warnings\n",
    "    warnings.simplefilter(\"ignore\")"
   ]
  },
  {
   "cell_type": "code",
   "execution_count": 2,
   "metadata": {},
   "outputs": [],
   "source": [
    "import pandas as pd\n",
    "import numpy as np\n",
    "from imblearn.under_sampling import RandomUnderSampler\n",
    "# from lightgbm import LGBMClassifier\n",
    "from sklearn.ensemble import RandomForestClassifier\n",
    "from sklearn.model_selection import train_test_split\n",
    "from sklearn.decomposition import PCA\n",
    "from sklearn.neural_network import MLPClassifier\n",
    "from sklearn.svm import SVC\n",
    "from sklearn import metrics\n",
    "from sklearn.feature_selection import SelectKBest, f_regression\n",
    "from sklearn.pipeline import make_pipeline\n",
    "from sklearn.preprocessing import StandardScaler, MinMaxScaler, PowerTransformer\n",
    "from sklearn.model_selection import cross_val_score\n",
    "import pickle\n",
    "import pprint\n",
    "import matplotlib.pyplot as plt\n",
    "import seaborn as sns\n",
    "sns.set()"
   ]
  },
  {
   "cell_type": "code",
   "execution_count": 3,
   "metadata": {},
   "outputs": [
    {
     "data": {
      "text/plain": [
       "['receiver_avg_waittime_md',\n",
       " 'receiver_ost_read',\n",
       " 'receiver_ost_write',\n",
       " 'receiver_req_active',\n",
       " 'receiver_seg_out',\n",
       " 'receiver_segs_in',\n",
       " 'receiver_system_cpu_percent',\n",
       " 'receiver_system_memory_percent',\n",
       " 'sender_avg_waittime_md',\n",
       " 'sender_cwnd_rate',\n",
       " 'sender_mds_close_md',\n",
       " 'sender_ost_read',\n",
       " 'sender_remote_ost_read_bytes',\n",
       " 'sender_req_active',\n",
       " 'sender_req_waittime',\n",
       " 'sender_req_waittime_md',\n",
       " 'sender_retrans',\n",
       " 'sender_segs_in',\n",
       " 'sender_send_buffer_value',\n",
       " 'sender_ssthresh_value',\n",
       " 'sender_system_cpu_percent',\n",
       " 'sender_system_memory_percent',\n",
       " 'sender_tcp_snd_buffer_max',\n",
       " 'sender_write_bytes_io']"
      ]
     },
     "execution_count": 3,
     "metadata": {},
     "output_type": "execute_result"
    }
   ],
   "source": [
    "root = \"prototype/\"\n",
    "feature_file = root+\"ss_features.csv\"\n",
    "features = pd.read_csv(feature_file)\n",
    "feature_list = list(features.feature.values)\n",
    "feature_list"
   ]
  },
  {
   "cell_type": "code",
   "execution_count": 4,
   "metadata": {},
   "outputs": [],
   "source": [
    "filenames = {\n",
    "    \"utah_ssd\": \"UTAH_25Gbps_ssd_merged.csv\",\n",
    "#     \"hpcn_ssd\": \"hpcn_1Gbps_ssd_merged.csv\",\n",
    "    \"wiscon_ssd\": \"WISCONSIN_10Gbps_ssd_merged.csv\",\n",
    "    \"wiscon_hdd\": \"WISCONSIN_10Gbps_hdd_merged.csv\"\n",
    "}\n",
    "\n",
    "data = {}"
   ]
  },
  {
   "cell_type": "code",
   "execution_count": 5,
   "metadata": {},
   "outputs": [],
   "source": [
    "def read_file(transform=False):\n",
    "    global data, filenames\n",
    "    \n",
    "    for key in filenames:      \n",
    "        df = pd.read_csv(root+filenames[key])\n",
    "        df = df.sort_values(by=['label_value']).reset_index().drop(columns=[\"index\"])\n",
    "        df.fillna(df.groupby(['label_value'], as_index=False).mean(), inplace=True)\n",
    "    \n",
    "        if transform:\n",
    "            for index, row in features.iterrows():\n",
    "                df[row['feature']] = df[row['feature']] / df[row['normalizer']]\n",
    "\n",
    "        df.replace([np.inf, -np.inf, np.nan], 0, inplace=True)\n",
    "        data[key] = df\n",
    "\n",
    "read_file()"
   ]
  },
  {
   "cell_type": "markdown",
   "metadata": {},
   "source": [
    "## Cross-Validations"
   ]
  },
  {
   "cell_type": "code",
   "execution_count": 21,
   "metadata": {},
   "outputs": [
    {
     "name": "stdout",
     "output_type": "stream",
     "text": [
      "utah_ssd ==>[0.9424 0.992  0.9909 0.9789 0.9914]\n",
      "utah_ssd ==> mean: 97.91, std: 1.9\n",
      "wiscon_ssd ==>[0.9479 0.9789 0.9865 0.9772 0.9924]\n",
      "wiscon_ssd ==> mean: 97.66, std: 1.53\n",
      "wiscon_hdd ==>[0.95   0.9916 0.9777 0.971  0.9753]\n",
      "wiscon_hdd ==> mean: 97.31, std: 1.35\n"
     ]
    }
   ],
   "source": [
    "for key in data:\n",
    "    df = data[key].copy()\n",
    "    y = df.label_value\n",
    "    X = df[feature_list]\n",
    "    clf = make_pipeline(RandomForestClassifier(n_estimators=100)) #RandomForestClassifier(n_estimators=100)\n",
    "    cv_res = np.round(cross_val_score(clf, X, y, cv=5),4)\n",
    "    print(f'{key} ==>{cv_res}')\n",
    "    print(f'{key} ==> mean: {np.round(np.mean(cv_res)*100, 2)}, std: {np.round(np.std(cv_res)*100, 2)}')"
   ]
  },
  {
   "cell_type": "markdown",
   "metadata": {},
   "source": [
    "## Evaluation"
   ]
  },
  {
   "cell_type": "code",
   "execution_count": 18,
   "metadata": {},
   "outputs": [
    {
     "name": "stdout",
     "output_type": "stream",
     "text": [
      "(342, 24)\n",
      "utah_ssd ==> 96.99\n",
      "(630, 24)\n",
      "wiscon_ssd ==> 96.82\n",
      "(558, 24)\n",
      "wiscon_hdd ==> 96.05\n"
     ]
    }
   ],
   "source": [
    "for key in data:\n",
    "    df = data[key].copy()\n",
    "    df = df.sample(frac=0.5)\n",
    "    y = df.label_value\n",
    "    X = df[feature_list] #.drop(columns=\"label_value\")\n",
    "    X_train, X_test, y_train, y_test = train_test_split(X,y)\n",
    "    X_train, y_train = RandomUnderSampler(sampling_strategy=\"all\").fit_resample(X_train, y_train)\n",
    "    print(X_train.shape)\n",
    "    \n",
    "    clf = RandomForestClassifier(n_estimators=100)\n",
    "    clf.fit(X_train, y_train)\n",
    "    # pickle.dump(clf, open(f\"{root}{key}.model\", \"wb\"))\n",
    "    # clf = pickle.load(open(f\"{root}{key}.model\", \"rb\"))\n",
    "    y_pred = clf.predict(X_test)\n",
    "    np.round(metrics.accuracy_score(y_test, y_pred) * 100, 2)\n",
    "    print(f\"{key} ==> {np.round(metrics.accuracy_score(y_test, y_pred) * 100, 2)}\")"
   ]
  },
  {
   "cell_type": "markdown",
   "metadata": {},
   "source": [
    "## Features Importance List"
   ]
  },
  {
   "cell_type": "code",
   "execution_count": 82,
   "metadata": {},
   "outputs": [
    {
     "name": "stdout",
     "output_type": "stream",
     "text": [
      "receiver_avg_waittime_md,\n",
      "receiver_ost_read,\n",
      "receiver_ost_write,\n",
      "receiver_req_active,\n",
      "receiver_seg_out,\n",
      "receiver_segs_in,\n",
      "receiver_system_cpu_percent,\n",
      "receiver_system_memory_percent,\n",
      "sender_avg_waittime_md,\n",
      "sender_cwnd_rate,\n",
      "sender_ost_read,\n",
      "sender_read_bytes,\n",
      "sender_remote_ost_read_bytes,\n",
      "sender_req_active,\n",
      "sender_req_waittime,\n",
      "sender_req_waittime_md,\n",
      "sender_retrans,\n",
      "sender_segs_in,\n",
      "sender_send_buffer_value,\n",
      "sender_ssthresh_value,\n",
      "sender_system_cpu_percent,\n",
      "sender_system_memory_percent,\n",
      "sender_tcp_snd_buffer_max,\n",
      "sender_write_bytes_io,\n"
     ]
    }
   ],
   "source": [
    "features_set = set()\n",
    "for key in data:\n",
    "    df = data[key].copy()\n",
    "    y = df.label_value\n",
    "    X = df.drop(columns=\"label_value\")\n",
    "    X_train, y_train = RandomUnderSampler(sampling_strategy=\"all\").fit_resample(X, y)\n",
    "    \n",
    "    clf = RandomForestClassifier(n_estimators=100)\n",
    "    clf.fit(X_train, y_train)\n",
    "    score = np.round(clf.feature_importances_, 2)\n",
    "    \n",
    "    for i in range(len(score)):\n",
    "        if score[i] >= 0.02:\n",
    "            features_set.add(X.columns[i])\n",
    "\n",
    "for val in sorted(features_set):\n",
    "    print(f\"{val},\")"
   ]
  },
  {
   "cell_type": "markdown",
   "metadata": {},
   "source": [
    "## Transfer Learning"
   ]
  },
  {
   "cell_type": "code",
   "execution_count": 85,
   "metadata": {},
   "outputs": [
    {
     "name": "stdout",
     "output_type": "stream",
     "text": [
      "utah_ssd ==> wiscon_ssd - 43.87\n",
      "utah_ssd ==> wiscon_hdd - 43.74\n",
      "wiscon_ssd ==> utah_ssd - 55.51\n",
      "wiscon_ssd ==> wiscon_hdd - 80.03\n",
      "wiscon_hdd ==> utah_ssd - 63.43\n",
      "wiscon_hdd ==> wiscon_ssd - 80.88\n"
     ]
    }
   ],
   "source": [
    "for key1 in data:\n",
    "    df = data[key1].copy()\n",
    "    y = df.label_value\n",
    "    X = df[feature_list] #.drop(columns=\"label_value\")\n",
    "    X_train, X_test, y_train, y_test = train_test_split(X,y)\n",
    "    X_train, y_train = RandomUnderSampler(sampling_strategy=\"all\").fit_resample(X_train, y_train)\n",
    "    \n",
    "    clf = RandomForestClassifier(n_estimators=100)\n",
    "    clf.fit(X_train, y_train)\n",
    "    \n",
    "    for key2 in data:\n",
    "        if key1 == key2:\n",
    "            continue\n",
    "            \n",
    "        df_test = data[key2].copy()\n",
    "        y_test = df_test.label_value\n",
    "        X_test = df_test[feature_list]\n",
    "        \n",
    "        y_pred = clf.predict(X_test)\n",
    "        np.round(metrics.accuracy_score(y_test, y_pred) * 100, 2)\n",
    "        print(f\"{key1} ==> {key2} - {np.round(metrics.accuracy_score(y_test, y_pred) * 100, 2)}\")"
   ]
  },
  {
   "cell_type": "code",
   "execution_count": 51,
   "metadata": {},
   "outputs": [
    {
     "data": {
      "text/html": [
       "<div>\n",
       "<style scoped>\n",
       "    .dataframe tbody tr th:only-of-type {\n",
       "        vertical-align: middle;\n",
       "    }\n",
       "\n",
       "    .dataframe tbody tr th {\n",
       "        vertical-align: top;\n",
       "    }\n",
       "\n",
       "    .dataframe thead th {\n",
       "        text-align: right;\n",
       "    }\n",
       "</style>\n",
       "<table border=\"1\" class=\"dataframe\">\n",
       "  <thead>\n",
       "    <tr style=\"text-align: right;\">\n",
       "      <th></th>\n",
       "      <th>mean</th>\n",
       "      <th>std</th>\n",
       "    </tr>\n",
       "    <tr>\n",
       "      <th>label_value</th>\n",
       "      <th></th>\n",
       "      <th></th>\n",
       "    </tr>\n",
       "  </thead>\n",
       "  <tbody>\n",
       "    <tr>\n",
       "      <th>0</th>\n",
       "      <td>1.157957e+08</td>\n",
       "      <td>10140063.12</td>\n",
       "    </tr>\n",
       "    <tr>\n",
       "      <th>1</th>\n",
       "      <td>5.461730e+08</td>\n",
       "      <td>12309885.69</td>\n",
       "    </tr>\n",
       "    <tr>\n",
       "      <th>17</th>\n",
       "      <td>1.117545e+08</td>\n",
       "      <td>11425497.81</td>\n",
       "    </tr>\n",
       "    <tr>\n",
       "      <th>33</th>\n",
       "      <td>1.157628e+08</td>\n",
       "      <td>14963686.55</td>\n",
       "    </tr>\n",
       "    <tr>\n",
       "      <th>34</th>\n",
       "      <td>1.111079e+08</td>\n",
       "      <td>12641538.56</td>\n",
       "    </tr>\n",
       "    <tr>\n",
       "      <th>35</th>\n",
       "      <td>1.151220e+08</td>\n",
       "      <td>11359041.02</td>\n",
       "    </tr>\n",
       "    <tr>\n",
       "      <th>36</th>\n",
       "      <td>9.810677e+07</td>\n",
       "      <td>20922373.95</td>\n",
       "    </tr>\n",
       "    <tr>\n",
       "      <th>40</th>\n",
       "      <td>9.585837e+07</td>\n",
       "      <td>29320049.29</td>\n",
       "    </tr>\n",
       "    <tr>\n",
       "      <th>44</th>\n",
       "      <td>1.106628e+08</td>\n",
       "      <td>10064329.54</td>\n",
       "    </tr>\n",
       "    <tr>\n",
       "      <th>48</th>\n",
       "      <td>1.069171e+08</td>\n",
       "      <td>18872234.76</td>\n",
       "    </tr>\n",
       "    <tr>\n",
       "      <th>59</th>\n",
       "      <td>6.675934e+07</td>\n",
       "      <td>11757513.94</td>\n",
       "    </tr>\n",
       "    <tr>\n",
       "      <th>62</th>\n",
       "      <td>5.498752e+08</td>\n",
       "      <td>6996583.58</td>\n",
       "    </tr>\n",
       "    <tr>\n",
       "      <th>66</th>\n",
       "      <td>1.094014e+08</td>\n",
       "      <td>11639494.00</td>\n",
       "    </tr>\n",
       "    <tr>\n",
       "      <th>74</th>\n",
       "      <td>1.236565e+08</td>\n",
       "      <td>8663835.17</td>\n",
       "    </tr>\n",
       "    <tr>\n",
       "      <th>82</th>\n",
       "      <td>1.233497e+08</td>\n",
       "      <td>8279488.68</td>\n",
       "    </tr>\n",
       "    <tr>\n",
       "      <th>86</th>\n",
       "      <td>1.190694e+08</td>\n",
       "      <td>13109649.04</td>\n",
       "    </tr>\n",
       "    <tr>\n",
       "      <th>87</th>\n",
       "      <td>1.223956e+08</td>\n",
       "      <td>9002747.83</td>\n",
       "    </tr>\n",
       "    <tr>\n",
       "      <th>88</th>\n",
       "      <td>4.117183e+07</td>\n",
       "      <td>17332229.57</td>\n",
       "    </tr>\n",
       "  </tbody>\n",
       "</table>\n",
       "</div>"
      ],
      "text/plain": [
       "                     mean          std\n",
       "label_value                           \n",
       "0            1.157957e+08  10140063.12\n",
       "1            5.461730e+08  12309885.69\n",
       "17           1.117545e+08  11425497.81\n",
       "33           1.157628e+08  14963686.55\n",
       "34           1.111079e+08  12641538.56\n",
       "35           1.151220e+08  11359041.02\n",
       "36           9.810677e+07  20922373.95\n",
       "40           9.585837e+07  29320049.29\n",
       "44           1.106628e+08  10064329.54\n",
       "48           1.069171e+08  18872234.76\n",
       "59           6.675934e+07  11757513.94\n",
       "62           5.498752e+08   6996583.58\n",
       "66           1.094014e+08  11639494.00\n",
       "74           1.236565e+08   8663835.17\n",
       "82           1.233497e+08   8279488.68\n",
       "86           1.190694e+08  13109649.04\n",
       "87           1.223956e+08   9002747.83\n",
       "88           4.117183e+07  17332229.57"
      ]
     },
     "execution_count": 51,
     "metadata": {},
     "output_type": "execute_result"
    }
   ],
   "source": [
    "np.round(df.groupby(\"label_value\").sender_remote_ost_read_bytes.agg([\"mean\", \"std\"]),2)"
   ]
  },
  {
   "cell_type": "code",
   "execution_count": 8,
   "metadata": {},
   "outputs": [
    {
     "name": "stdout",
     "output_type": "stream",
     "text": [
      "utah_ssd\n",
      "wiscon_ssd\n",
      "wiscon_hdd\n"
     ]
    }
   ],
   "source": [
    "for key in data:\n",
    "    print(key)"
   ]
  },
  {
   "cell_type": "code",
   "execution_count": 9,
   "metadata": {},
   "outputs": [],
   "source": [
    "df = data[\"utah_ssd\"].copy()"
   ]
  },
  {
   "cell_type": "code",
   "execution_count": 13,
   "metadata": {},
   "outputs": [
    {
     "data": {
      "text/plain": [
       "label_value\n",
       "0      109\n",
       "1      661\n",
       "17    1768\n",
       "33     410\n",
       "34     109\n",
       "35      51\n",
       "36     438\n",
       "40     440\n",
       "44     438\n",
       "48     879\n",
       "59     328\n",
       "62     439\n",
       "66     888\n",
       "74     881\n",
       "82     414\n",
       "86     111\n",
       "87      69\n",
       "88     331\n",
       "Name: sender_avg_rtt_value, dtype: int64"
      ]
     },
     "execution_count": 13,
     "metadata": {},
     "output_type": "execute_result"
    }
   ],
   "source": [
    "df.groupby(\"label_value\").sender_avg_rtt_value.count()"
   ]
  },
  {
   "cell_type": "code",
   "execution_count": 11,
   "metadata": {},
   "outputs": [
    {
     "data": {
      "text/plain": [
       "Index(['sender_avg_rtt_value', 'sender_pacing_rate', 'sender_cwnd_rate',\n",
       "       'sender_avg_retransmission_timeout_value', 'sender_byte_ack',\n",
       "       'sender_seg_out', 'sender_retrans', 'sender_ssthresh_value',\n",
       "       'sender_segs_in', 'sender_avg_send_value',\n",
       "       ...\n",
       "       'receiver_setattr_md', 'receiver_read_page_md', 'receiver_unlink_md',\n",
       "       'receiver_avg_dsack_dups_value', 'receiver_avg_reord_seen',\n",
       "       'receiver_system_cpu_percent', 'receiver_system_memory_percent',\n",
       "       'receiver_remote_ost_read_bytes', 'receiver_remote_ost_write_bytes',\n",
       "       'label_value'],\n",
       "      dtype='object', length=117)"
      ]
     },
     "execution_count": 11,
     "metadata": {},
     "output_type": "execute_result"
    }
   ],
   "source": [
    "df.columns"
   ]
  },
  {
   "cell_type": "code",
   "execution_count": null,
   "metadata": {},
   "outputs": [],
   "source": []
  }
 ],
 "metadata": {
  "kernelspec": {
   "display_name": "Python 3",
   "language": "python",
   "name": "python3"
  },
  "language_info": {
   "codemirror_mode": {
    "name": "ipython",
    "version": 3
   },
   "file_extension": ".py",
   "mimetype": "text/x-python",
   "name": "python",
   "nbconvert_exporter": "python",
   "pygments_lexer": "ipython3",
   "version": "3.8.10"
  }
 },
 "nbformat": 4,
 "nbformat_minor": 4
}
