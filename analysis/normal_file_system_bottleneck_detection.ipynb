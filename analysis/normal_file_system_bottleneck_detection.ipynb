{
 "cells": [
  {
   "cell_type": "code",
   "execution_count": 23,
   "metadata": {
    "collapsed": true,
    "pycharm": {
     "name": "#%%\n"
    }
   },
   "outputs": [
    {
     "name": "stdout",
     "output_type": "stream",
     "text": [
      "Data in directory ../csv_to_protobuf_bin/binary_logs/DTNS/ is\t1\n",
      "Dataframe shape for dtns dataset: (5373, 95)\n"
     ]
    }
   ],
   "source": [
    "from analysis_classes import *\n",
    "import os\n",
    "\n",
    "dataset_directory = \"../csv_to_protobuf_bin/binary_logs/DTNS/\"\n",
    "\n",
    "dtns_data_tmp = os.listdir(dataset_directory)\n",
    "\n",
    "labels_ = \"89\"\n",
    "dtns_data = []\n",
    "\n",
    "for i in dtns_data_tmp:\n",
    "    # if labels_ in i:\n",
    "    #     dtns_data.append(i)\n",
    "    dtns_data.append(i)\n",
    "\n",
    "print(\"Data in directory {} is\\t{}\".format(dataset_directory, len(dtns_data)))\n",
    "dtns_df = TransferAnalysis(dataset_directory+dtns_data[0]).df\n",
    "print(\"Dataframe shape for dtns dataset: {}\".format(dtns_df.shape))"
   ]
  },
  {
   "cell_type": "code",
   "execution_count": 25,
   "outputs": [],
   "source": [
    "def train_test_split_df(df):\n",
    "    df = df.sample(frac=1).reset_index(drop=True)\n",
    "    x = df.drop(df.columns[len(df.columns)-1],axis=1)\n",
    "    y = df[df.columns[len(df.columns)-1]]\n",
    "    # total_labels = len(dict(Counter(y)))\n",
    "\n",
    "    x_train, x_test, y_train, y_test = train_test_split(x, y, test_size=0.2, random_state=42)\n",
    "    return x_train, x_test, y_train, y_test\n",
    "\n",
    "# a, b, c, d = train_test_split_df(dtns_df)"
   ],
   "metadata": {
    "collapsed": false,
    "pycharm": {
     "name": "#%%\n"
    }
   }
  },
  {
   "cell_type": "code",
   "execution_count": 26,
   "outputs": [
    {
     "name": "stdout",
     "output_type": "stream",
     "text": [
      "Accuracy of the model Random Forest is 1.0\n"
     ]
    }
   ],
   "source": [
    "# Running a model with a data set default model is random forest\n",
    "a = Model_Run()\n",
    "x_dtns_train, x_dtns_test, y_dtns_train, y_dtns_test = train_test_split_df(dtns_df)\n",
    "print(\"Accuracy of the model {} is\".format(a.model_to_name[a.model_name]), a.run_model(dtns_df))"
   ],
   "metadata": {
    "collapsed": false,
    "pycharm": {
     "name": "#%%\n"
    }
   }
  },
  {
   "cell_type": "code",
   "execution_count": 5,
   "outputs": [
    {
     "name": "stdout",
     "output_type": "stream",
     "text": [
      "\n"
     ]
    },
    {
     "data": {
      "text/plain": "<IPython.core.display.HTML object>",
      "text/html": "<b>Running Accuracy for Random Forest</b>"
     },
     "metadata": {},
     "output_type": "display_data"
    },
    {
     "data": {
      "text/plain": "<IPython.core.display.HTML object>",
      "text/html": "<i>Run model with A and test with B</i>"
     },
     "metadata": {},
     "output_type": "display_data"
    },
    {
     "name": "stdout",
     "output_type": "stream",
     "text": [
      "\tAccuracy: 1.0\n"
     ]
    },
    {
     "data": {
      "text/plain": "<IPython.core.display.HTML object>",
      "text/html": "<i>Run model with B and test with A</i>"
     },
     "metadata": {},
     "output_type": "display_data"
    },
    {
     "name": "stdout",
     "output_type": "stream",
     "text": [
      "\tAccuracy: 1.0\n"
     ]
    }
   ],
   "source": [
    "# Creating a model (classifier) with train dataset\n",
    "# self.model_to_name = {\"RF\": \"Random Forest\", \"DT\": \"Decision Tree\", \"MLP\": \"MLP Classifier\",\n",
    "#                       \"KN\": \"KNeighborsClassifier\", \"QDA\": \"QuadraticDiscriminantAnalysis\", \"NB\": \"GaussianNB\",\n",
    "#                       \"ADA\": \"AdaBoostClassifier\", \"svm\": \"SVM\", \"sdg\": \"SGDClassifier\"}\n",
    "data_set_1_classifier = a.generate_with_all(x_dtns_train, y_dtns_train, model_name=\"RF\")\n",
    "data_set_2_classifier = a.generate_with_all(x_dtns_train, y_dtns_train)\n",
    "\n",
    "#Comparing the accuracy of model on different dataset\n",
    "a.compare_two_dataset(dtns_df, dtns_df, model_name=\"RF\")\n"
   ],
   "metadata": {
    "collapsed": false,
    "pycharm": {
     "name": "#%%\n"
    }
   }
  },
  {
   "cell_type": "code",
   "execution_count": 22,
   "outputs": [
    {
     "data": {
      "text/plain": "          read_req    write_req          rkB          wkB         rrqm  \\\ncount  5373.000000  5373.000000  5373.000000  5373.000000  5373.000000   \nmean     61.527147  1451.181843    86.328708    58.361646     0.306162   \nstd       1.123427    35.008080     4.009687     1.038267     0.007912   \nmin      59.450001  1363.800049    76.269997    56.049999     0.290000   \n25%      60.740002  1422.329956    83.029999    57.570000     0.300000   \n50%      61.259998  1459.569946    87.019997    58.759998     0.310000   \n75%      62.290001  1480.520020    89.260002    58.889999     0.310000   \nmax      63.970001  1510.989990    93.529999    60.209999     0.320000   \n\n              wrqm    rrqm_perc    wrqm_perc      r_await      w_await  \\\ncount  5373.000000  5373.000000  5373.000000  5373.000000  5373.000000   \nmean     23.585621   291.536951  1263.431471   199.741528    40.723247   \nstd       0.419975    21.408326    43.701571     7.939522     1.484883   \nmin      22.940001   199.520004  1095.729980   168.639999    39.279999   \n25%      23.250000   285.420013  1239.449951   195.759995    39.930000   \n50%      23.680000   292.750000  1269.660034   200.750000    39.939999   \n75%      23.850000   306.019989  1293.780029   204.669998    42.299999   \nmax      24.389999   312.839996  1326.859985   211.279999    45.889999   \n\n            aqu_sz     rareq_sz     wareq_sz         svctm    util  \\\ncount  5373.000000  5373.000000  5373.000000   5373.000000  5373.0   \nmean      0.198599     4.353920     2.020726  21081.993120     0.0   \nstd       0.011892     0.295217     0.194773   2029.641485     0.0   \nmin       0.190000     4.090000     1.190000  12436.030273     0.0   \n25%       0.190000     4.200000     1.960000  20403.509766     0.0   \n50%       0.190000     4.220000     2.050000  21425.330078     0.0   \n75%       0.210000     4.610000     2.130000  22225.720703     0.0   \nmax       0.240000     5.510000     2.240000  23343.529297     0.0   \n\n              rchar  \ncount  5.373000e+03  \nmean   1.977448e+06  \nstd    1.516616e+05  \nmin    4.407170e+05  \n25%    1.865149e+06  \n50%    1.990969e+06  \n75%    2.102524e+06  \nmax    2.280813e+06  ",
      "text/html": "<div>\n<style scoped>\n    .dataframe tbody tr th:only-of-type {\n        vertical-align: middle;\n    }\n\n    .dataframe tbody tr th {\n        vertical-align: top;\n    }\n\n    .dataframe thead th {\n        text-align: right;\n    }\n</style>\n<table border=\"1\" class=\"dataframe\">\n  <thead>\n    <tr style=\"text-align: right;\">\n      <th></th>\n      <th>read_req</th>\n      <th>write_req</th>\n      <th>rkB</th>\n      <th>wkB</th>\n      <th>rrqm</th>\n      <th>wrqm</th>\n      <th>rrqm_perc</th>\n      <th>wrqm_perc</th>\n      <th>r_await</th>\n      <th>w_await</th>\n      <th>aqu_sz</th>\n      <th>rareq_sz</th>\n      <th>wareq_sz</th>\n      <th>svctm</th>\n      <th>util</th>\n      <th>rchar</th>\n    </tr>\n  </thead>\n  <tbody>\n    <tr>\n      <th>count</th>\n      <td>5373.000000</td>\n      <td>5373.000000</td>\n      <td>5373.000000</td>\n      <td>5373.000000</td>\n      <td>5373.000000</td>\n      <td>5373.000000</td>\n      <td>5373.000000</td>\n      <td>5373.000000</td>\n      <td>5373.000000</td>\n      <td>5373.000000</td>\n      <td>5373.000000</td>\n      <td>5373.000000</td>\n      <td>5373.000000</td>\n      <td>5373.000000</td>\n      <td>5373.0</td>\n      <td>5.373000e+03</td>\n    </tr>\n    <tr>\n      <th>mean</th>\n      <td>61.527147</td>\n      <td>1451.181843</td>\n      <td>86.328708</td>\n      <td>58.361646</td>\n      <td>0.306162</td>\n      <td>23.585621</td>\n      <td>291.536951</td>\n      <td>1263.431471</td>\n      <td>199.741528</td>\n      <td>40.723247</td>\n      <td>0.198599</td>\n      <td>4.353920</td>\n      <td>2.020726</td>\n      <td>21081.993120</td>\n      <td>0.0</td>\n      <td>1.977448e+06</td>\n    </tr>\n    <tr>\n      <th>std</th>\n      <td>1.123427</td>\n      <td>35.008080</td>\n      <td>4.009687</td>\n      <td>1.038267</td>\n      <td>0.007912</td>\n      <td>0.419975</td>\n      <td>21.408326</td>\n      <td>43.701571</td>\n      <td>7.939522</td>\n      <td>1.484883</td>\n      <td>0.011892</td>\n      <td>0.295217</td>\n      <td>0.194773</td>\n      <td>2029.641485</td>\n      <td>0.0</td>\n      <td>1.516616e+05</td>\n    </tr>\n    <tr>\n      <th>min</th>\n      <td>59.450001</td>\n      <td>1363.800049</td>\n      <td>76.269997</td>\n      <td>56.049999</td>\n      <td>0.290000</td>\n      <td>22.940001</td>\n      <td>199.520004</td>\n      <td>1095.729980</td>\n      <td>168.639999</td>\n      <td>39.279999</td>\n      <td>0.190000</td>\n      <td>4.090000</td>\n      <td>1.190000</td>\n      <td>12436.030273</td>\n      <td>0.0</td>\n      <td>4.407170e+05</td>\n    </tr>\n    <tr>\n      <th>25%</th>\n      <td>60.740002</td>\n      <td>1422.329956</td>\n      <td>83.029999</td>\n      <td>57.570000</td>\n      <td>0.300000</td>\n      <td>23.250000</td>\n      <td>285.420013</td>\n      <td>1239.449951</td>\n      <td>195.759995</td>\n      <td>39.930000</td>\n      <td>0.190000</td>\n      <td>4.200000</td>\n      <td>1.960000</td>\n      <td>20403.509766</td>\n      <td>0.0</td>\n      <td>1.865149e+06</td>\n    </tr>\n    <tr>\n      <th>50%</th>\n      <td>61.259998</td>\n      <td>1459.569946</td>\n      <td>87.019997</td>\n      <td>58.759998</td>\n      <td>0.310000</td>\n      <td>23.680000</td>\n      <td>292.750000</td>\n      <td>1269.660034</td>\n      <td>200.750000</td>\n      <td>39.939999</td>\n      <td>0.190000</td>\n      <td>4.220000</td>\n      <td>2.050000</td>\n      <td>21425.330078</td>\n      <td>0.0</td>\n      <td>1.990969e+06</td>\n    </tr>\n    <tr>\n      <th>75%</th>\n      <td>62.290001</td>\n      <td>1480.520020</td>\n      <td>89.260002</td>\n      <td>58.889999</td>\n      <td>0.310000</td>\n      <td>23.850000</td>\n      <td>306.019989</td>\n      <td>1293.780029</td>\n      <td>204.669998</td>\n      <td>42.299999</td>\n      <td>0.210000</td>\n      <td>4.610000</td>\n      <td>2.130000</td>\n      <td>22225.720703</td>\n      <td>0.0</td>\n      <td>2.102524e+06</td>\n    </tr>\n    <tr>\n      <th>max</th>\n      <td>63.970001</td>\n      <td>1510.989990</td>\n      <td>93.529999</td>\n      <td>60.209999</td>\n      <td>0.320000</td>\n      <td>24.389999</td>\n      <td>312.839996</td>\n      <td>1326.859985</td>\n      <td>211.279999</td>\n      <td>45.889999</td>\n      <td>0.240000</td>\n      <td>5.510000</td>\n      <td>2.240000</td>\n      <td>23343.529297</td>\n      <td>0.0</td>\n      <td>2.280813e+06</td>\n    </tr>\n  </tbody>\n</table>\n</div>"
     },
     "execution_count": 22,
     "metadata": {},
     "output_type": "execute_result"
    }
   ],
   "source": [
    "# dtns_df.describe()\n",
    "dtns_df.iloc[:,14:30].describe()"
   ],
   "metadata": {
    "collapsed": false,
    "pycharm": {
     "name": "#%%\n"
    }
   }
  },
  {
   "cell_type": "code",
   "execution_count": null,
   "outputs": [],
   "source": [
    "# Get the correlation of the data\n",
    "correlation = dtns_df.corr()\n",
    "f, axes = plt.subplots(figsize=(40,20))\n",
    "#diverging color map generate\n",
    "cmap = sns.diverging_palette(150, 275, as_cmap = True)\n",
    "\n",
    "sns.heatmap(correlation, cmap= cmap, center = 0, linewidth = 1, cbar_kws={\"shrink\": 0.5})\n",
    "\n",
    "plt.title('Correlation Matrix Heatmap')"
   ],
   "metadata": {
    "collapsed": false,
    "pycharm": {
     "name": "#%%\n"
    }
   }
  },
  {
   "cell_type": "code",
   "execution_count": 7,
   "outputs": [
    {
     "data": {
      "text/plain": "Index(['avg_rtt_value', 'pacing_rate', 'cwnd_rate',\n       'avg_retransmission_timeout_value', 'byte_ack', 'seg_out', 'retrans',\n       'mss_value', 'ssthresh_value', 'segs_in', 'avg_send_value',\n       'unacked_value', 'rcv_space', 'send_buffer_value', 'read_req',\n       'write_req', 'rkB', 'wkB', 'rrqm', 'wrqm', 'rrqm_perc', 'wrqm_perc',\n       'r_await', 'w_await', 'aqu_sz', 'rareq_sz', 'wareq_sz', 'svctm', 'util',\n       'rchar', 'wchar', 'syscr', 'syscw', 'read_bytes_io', 'write_bytes_io',\n       'cancelled_write_bytes', 'pid', 'ppid', 'pgrp', 'session', 'tty_nr',\n       'tpgid', 'flags', 'minflt', 'cminflt', 'majflt', 'cmajflt', 'utime',\n       'stime', 'cutime', 'cstime', 'priority', 'nice', 'num_threads',\n       'itrealvalue', 'starttime', 'vsize', 'rss', 'rsslim', 'startcode',\n       'endcode', 'startstack', 'kstkesp', 'kstkeip', 'signal', 'blocked',\n       'sigignore', 'sigcatch', 'wchan', 'nswap', 'cnswap', 'exit_signal',\n       'processor', 'rt_priority', 'policy', 'delayacct_blkio_ticks',\n       'guest_time', 'cguest_time', 'start_data', 'end_data', 'start_brk',\n       'arg_start', 'arg_end', 'env_start', 'env_end', 'exit_code',\n       'cpu_usage_percentage', 'mem_usage_percentage', 'tcp_rcv_buffer_min',\n       'tcp_rcv_buffer_default', 'tcp_rcv_buffer_max', 'tcp_snd_buffer_min',\n       'tcp_snd_buffer_default', 'tcp_snd_buffer_max', 'label_value'],\n      dtype='object')"
     },
     "execution_count": 7,
     "metadata": {},
     "output_type": "execute_result"
    }
   ],
   "source": [
    "#Get the columns name in the dataset\n",
    "dtns_df.columns"
   ],
   "metadata": {
    "collapsed": false,
    "pycharm": {
     "name": "#%%\n"
    }
   }
  },
  {
   "cell_type": "code",
   "execution_count": null,
   "outputs": [],
   "source": [
    "#Cahnge Nans in correlation with false and true, get the name of the columns that have correlation true.\n",
    "nan_corr = list(correlation.cwnd_rate[~correlation.loc[ ['cwnd_rate'] , : ].isna().any()].index.values)\n"
   ],
   "metadata": {
    "collapsed": false,
    "pycharm": {
     "name": "#%%\n"
    }
   }
  },
  {
   "cell_type": "code",
   "execution_count": null,
   "outputs": [],
   "source": [
    "sns.pairplot(x_vars = nan_corr, y_vars = 'cwnd_rate', data = dtns_df.loc[dtns_df['label_value'] == 0], height=5)\n",
    "plt.show()"
   ],
   "metadata": {
    "collapsed": false,
    "pycharm": {
     "name": "#%%\n"
    }
   }
  }
 ],
 "metadata": {
  "kernelspec": {
   "display_name": "Python 3",
   "language": "python",
   "name": "python3"
  },
  "language_info": {
   "codemirror_mode": {
    "name": "ipython",
    "version": 2
   },
   "file_extension": ".py",
   "mimetype": "text/x-python",
   "name": "python",
   "nbconvert_exporter": "python",
   "pygments_lexer": "ipython2",
   "version": "2.7.6"
  }
 },
 "nbformat": 4,
 "nbformat_minor": 0
}