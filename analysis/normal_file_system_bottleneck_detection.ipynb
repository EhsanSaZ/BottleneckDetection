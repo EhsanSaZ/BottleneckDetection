{
 "cells": [
  {
   "cell_type": "code",
   "execution_count": 1,
   "metadata": {
    "collapsed": true,
    "pycharm": {
     "name": "#%%\n"
    }
   },
   "outputs": [
    {
     "name": "stdout",
     "output_type": "stream",
     "text": [
      "Data in directory ../csv_to_protobuf_bin/binary_logs/DTNS/ is\t1\n",
      "Dataframe shape for dtns dataset: (9, 95)\n"
     ]
    }
   ],
   "source": [
    "from analysis_classes import *\n",
    "import os\n",
    "\n",
    "dataset_directory = \"../csv_to_protobuf_bin/binary_logs/DTNS/\"\n",
    "\n",
    "dtns_data_tmp = os.listdir(dataset_directory)\n",
    "\n",
    "labels_ = \"89\"\n",
    "dtns_data = []\n",
    "\n",
    "for i in dtns_data_tmp:\n",
    "    # if labels_ in i:\n",
    "    #     dtns_data.append(i)\n",
    "    dtns_data.append(i)\n",
    "\n",
    "print(\"Data in directory {} is\\t{}\".format(dataset_directory, len(dtns_data)))\n",
    "\n",
    "\n",
    "dtns_df = TransferAnalysis(dataset_directory+dtns_data[0]).df\n",
    "print(\"Dataframe shape for dtns dataset: {}\".format(dtns_df.shape))"
   ]
  },
  {
   "cell_type": "code",
   "execution_count": 2,
   "outputs": [],
   "source": [
    "def train_test_split_df(df):\n",
    "    df = df.sample(frac=1).reset_index(drop=True)\n",
    "    x = df.drop(df.columns[len(df.columns)-1],axis=1)\n",
    "    y = df[df.columns[len(df.columns)-1]]\n",
    "    # total_labels = len(dict(Counter(y)))\n",
    "\n",
    "    x_train, x_test, y_train, y_test = train_test_split(x, y, test_size=0.2, random_state=42)\n",
    "    return x_train, x_test, y_train, y_test\n",
    "\n",
    "# a, b, c, d = train_test_split_df(dtns_df)"
   ],
   "metadata": {
    "collapsed": false,
    "pycharm": {
     "name": "#%%\n"
    }
   }
  },
  {
   "cell_type": "code",
   "execution_count": 8,
   "outputs": [
    {
     "name": "stdout",
     "output_type": "stream",
     "text": [
      "RF\n",
      "Accuracy of the model Random Forest is 1.0\n"
     ]
    }
   ],
   "source": [
    "# Running a model with a data set default model is random forest\n",
    "a = Model_Run()\n",
    "x_dtns_train, x_dtns_test, y_dtns_train, y_dtns_test = train_test_split_df(dtns_df)\n",
    "print(\"Accuracy of the model {} is\".format(a.model_to_name[a.model_name]), a.run_model(dtns_df))"
   ],
   "metadata": {
    "collapsed": false,
    "pycharm": {
     "name": "#%%\n"
    }
   }
  },
  {
   "cell_type": "code",
   "execution_count": 11,
   "outputs": [
    {
     "name": "stdout",
     "output_type": "stream",
     "text": [
      "\n"
     ]
    },
    {
     "data": {
      "text/plain": "<IPython.core.display.HTML object>",
      "text/html": "<b>Running Accuracy for Random Forest</b>"
     },
     "metadata": {},
     "output_type": "display_data"
    },
    {
     "data": {
      "text/plain": "<IPython.core.display.HTML object>",
      "text/html": "<i>Run model with A and test with B</i>"
     },
     "metadata": {},
     "output_type": "display_data"
    },
    {
     "name": "stdout",
     "output_type": "stream",
     "text": [
      "\tAccuracy: 1.0\n"
     ]
    },
    {
     "data": {
      "text/plain": "<IPython.core.display.HTML object>",
      "text/html": "<i>Run model with B and test with A</i>"
     },
     "metadata": {},
     "output_type": "display_data"
    },
    {
     "name": "stdout",
     "output_type": "stream",
     "text": [
      "\tAccuracy: 1.0\n"
     ]
    }
   ],
   "source": [
    "# Creating a model (classifier) with train dataset\n",
    "# self.model_to_name = {\"RF\": \"Random Forest\", \"DT\": \"Decision Tree\", \"MLP\": \"MLP Classifier\",\n",
    "#                       \"KN\": \"KNeighborsClassifier\", \"QDA\": \"QuadraticDiscriminantAnalysis\", \"NB\": \"GaussianNB\",\n",
    "#                       \"ADA\": \"AdaBoostClassifier\", \"svm\": \"SVM\", \"sdg\": \"SGDClassifier\"}\n",
    "data_set_1_classifier = a.generate_with_all(x_dtns_train, y_dtns_train, model_name=\"RF\")\n",
    "data_set_2_classifier = a.generate_with_all(x_dtns_train, y_dtns_train)\n",
    "\n",
    "#Comparing the accuracy of model on different dataset\n",
    "a.compare_two_dataset(dtns_df, dtns_df, model_name=\"RF\")\n"
   ],
   "metadata": {
    "collapsed": false,
    "pycharm": {
     "name": "#%%\n"
    }
   }
  }
 ],
 "metadata": {
  "kernelspec": {
   "display_name": "Python 3",
   "language": "python",
   "name": "python3"
  },
  "language_info": {
   "codemirror_mode": {
    "name": "ipython",
    "version": 2
   },
   "file_extension": ".py",
   "mimetype": "text/x-python",
   "name": "python",
   "nbconvert_exporter": "python",
   "pygments_lexer": "ipython2",
   "version": "2.7.6"
  }
 },
 "nbformat": 4,
 "nbformat_minor": 0
}